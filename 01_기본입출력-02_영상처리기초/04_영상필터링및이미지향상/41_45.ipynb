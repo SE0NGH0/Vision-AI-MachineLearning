{
 "cells": [
  {
   "cell_type": "markdown",
   "id": "a75bddea",
   "metadata": {},
   "source": [
    "41. 블러링 (GaussianBlur, MedianBlur 등)\n",
    "Blurring은 노이즈 제거, 에지 부드럽게 만들기, 디테일 약화에 사용돼.\n",
    "\n",
    "주요 함수:\n",
    "\n",
    "cv2.GaussianBlur(src, ksize, sigmaX)\n",
    "→ 가우시안 커널을 사용해서 블러. 자연스러운 흐림 효과.\n",
    "\n",
    "cv2.MedianBlur(src, ksize)\n",
    "→ 주변 픽셀들의 중간값을 사용해 노이즈 제거. 특히 소금-후추 노이즈(salt & pepper noise)에 효과적."
   ]
  },
  {
   "cell_type": "code",
   "execution_count": 11,
   "id": "8ae9c79e",
   "metadata": {},
   "outputs": [],
   "source": [
    "\n",
    "import cv2\n",
    "\n",
    "\n",
    "img = cv2.imread('../cv_images/Tralalero_Tralala.webp')\n",
    "\n",
    "# 가우시안 블러\n",
    "blurred_gaussian = cv2.GaussianBlur(img, (5, 5), 0)\n",
    "\n",
    "# 미디언 블러\n",
    "blurred_median = cv2.medianBlur(img, 5)\n",
    "\n",
    "cv2.imshow('Gaussian Blur', blurred_gaussian)\n",
    "cv2.imshow('Median Blur', blurred_median)\n",
    "cv2.waitKey(0)\n",
    "cv2.destroyAllWindows()\n"
   ]
  },
  {
   "cell_type": "markdown",
   "id": "1bea78c3",
   "metadata": {},
   "source": [
    "목적 : 노이즈 제거 및 이미지 부드럽게 처리\n",
    "GaussianBlur \n",
    "    커널 크기 (5, 5)\n",
    "    표준편차 0 - OpenCV가 자동계산\n",
    "medianBlur\n",
    "    커널 크기 5 - 주변 5x5 영역의 중간값으로 픽셀 대체"
   ]
  },
  {
   "cell_type": "markdown",
   "id": "8c4298bf",
   "metadata": {},
   "source": [
    "42. 샤프닝 (커널 기반 필터)\n",
    "Sharpening은 흐릿한 이미지를 선명하게 만드는 기법이야.\n",
    "\n",
    "커널을 직접 만들어서 필터링을 적용해."
   ]
  },
  {
   "cell_type": "code",
   "execution_count": 2,
   "id": "291f3db0",
   "metadata": {},
   "outputs": [],
   "source": [
    "import numpy as np\n",
    "import cv2\n",
    "\n",
    "img = cv2.imread('../cv_images/Tralalero_Tralala.webp')\n",
    "\n",
    "# 샤프닝 커널 (기본 예시)\n",
    "kernel = np.array([[0, -1, 0],\n",
    "                   [-1, 5,-1],\n",
    "                   [0, -1, 0]])\n",
    "\n",
    "sharpened = cv2.filter2D(img, -1, kernel)\n",
    "\n",
    "cv2.imshow('Sharpened Image', sharpened)\n",
    "cv2.waitKey(0)\n",
    "cv2.destroyAllWindows()\n"
   ]
  },
  {
   "cell_type": "markdown",
   "id": "289e007f",
   "metadata": {},
   "source": [
    "목적 : 엣지를 강조해 이미지 선명도 향상\n",
    "filter2D에 사용자 정의 커널을 넣어 컨볼루션 적용용"
   ]
  },
  {
   "cell_type": "markdown",
   "id": "ee96bfea",
   "metadata": {},
   "source": [
    "43. 에지 검출: Canny Edge Detection\n",
    "Canny 알고리즘은 에지(경계)를 깨끗하게 뽑아내는 강력한 방법이야.\n",
    "\n",
    "4단계 과정: 노이즈 제거 → 그래디언트 계산 → 비최대 억제 → 히스테리시스 임계값 처리"
   ]
  },
  {
   "cell_type": "code",
   "execution_count": 3,
   "id": "de32226a",
   "metadata": {},
   "outputs": [],
   "source": [
    "img = cv2.imread('../cv_images/Tralalero_Tralala.webp', cv2.IMREAD_GRAYSCALE)\n",
    "\n",
    "edges = cv2.Canny(img, 100, 200)\n",
    "\n",
    "cv2.imshow('Canny Edges', edges)\n",
    "cv2.waitKey(0)\n",
    "cv2.destroyAllWindows()\n"
   ]
  },
  {
   "cell_type": "markdown",
   "id": "3567c948",
   "metadata": {},
   "source": [
    "목적 : 강한 에지와 약한 에지를 구분해 최종 경계만 남김\n",
    "임계산 100(하한), 200(상한)"
   ]
  },
  {
   "cell_type": "markdown",
   "id": "2bf41f53",
   "metadata": {},
   "source": [
    "44. 컨투어 검출 및 외곽선 그리기: cv2.findContours(), cv2.drawContours()\n",
    "**컨투어(Contour)**는 경계선을 따라 연결된 곡선 집합이야.\n",
    "\n",
    "객체 검출, 윤곽 그리기에 사용돼."
   ]
  },
  {
   "cell_type": "code",
   "execution_count": 8,
   "id": "9a4c0592",
   "metadata": {},
   "outputs": [],
   "source": [
    "img = cv2.imread('../cv_images/Tralalero_Tralala.webp')\n",
    "gray = cv2.cvtColor(img, cv2.COLOR_BGR2GRAY)\n",
    "ret, thresh = cv2.threshold(gray, 127, 255, cv2.THRESH_BINARY)\n",
    "\n",
    "# 컨투어 찾기\n",
    "contours, hierarchy = cv2.findContours(thresh, cv2.RETR_TREE, cv2.CHAIN_APPROX_SIMPLE)\n",
    "\n",
    "# 컨투어 그리기\n",
    "cv2.drawContours(img, contours, -1, (0,255,0), 2)\n",
    "\n",
    "cv2.imshow('Contours', img)\n",
    "cv2.waitKey(0)\n",
    "cv2.destroyAllWindows()\n"
   ]
  },
  {
   "cell_type": "markdown",
   "id": "e196dea4",
   "metadata": {},
   "source": [
    "이진화 : 픽셀 값을 127 기준으로 0 또는 255로 분리\n",
    "컨투어 찾기\n",
    "    RETR_TREE - 계층적 컨투어 구조까지 추출\n",
    "    CHAIN_APPROX_SIMPLE - 꼭지점만 저장\n",
    "컨투어 그리기\n",
    "    초록색 두께 2px 선으로 표시"
   ]
  }
 ],
 "metadata": {
  "kernelspec": {
   "display_name": "pshgpu",
   "language": "python",
   "name": "python3"
  },
  "language_info": {
   "codemirror_mode": {
    "name": "ipython",
    "version": 3
   },
   "file_extension": ".py",
   "mimetype": "text/x-python",
   "name": "python",
   "nbconvert_exporter": "python",
   "pygments_lexer": "ipython3",
   "version": "3.10.16"
  }
 },
 "nbformat": 4,
 "nbformat_minor": 5
}
