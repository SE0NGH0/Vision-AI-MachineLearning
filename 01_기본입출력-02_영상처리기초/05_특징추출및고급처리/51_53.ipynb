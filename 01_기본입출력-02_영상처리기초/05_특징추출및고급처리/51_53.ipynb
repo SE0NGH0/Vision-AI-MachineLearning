{
 "cells": [
  {
   "cell_type": "markdown",
   "id": "db4a74b5",
   "metadata": {},
   "source": [
    "51. SIFT (Scale-Invariant Feature Transform)\n",
    "SIFT는 크기 변화(scale), 회전(rotation)에 강한 특징점 검출 알고리즘.\n",
    "\n",
    "OpenCV에서는 cv2.SIFT_create()를 사용."
   ]
  },
  {
   "cell_type": "code",
   "execution_count": 11,
   "id": "176ba50a",
   "metadata": {},
   "outputs": [],
   "source": [
    "import cv2\n",
    "\n",
    "img = cv2.imread('../cv_images/Tralalero_Tralala.webp')\n",
    "gray = cv2.cvtColor(img, cv2.COLOR_BGR2GRAY)\n",
    "\n",
    "sift = cv2.SIFT_create()\n",
    "keypoints, descriptors = sift.detectAndCompute(gray, None)\n",
    "\n",
    "# 특징점 그리기\n",
    "img_sift = cv2.drawKeypoints(img, keypoints, None)\n",
    "\n",
    "cv2.imshow('SIFT Keypoints', img_sift)\n",
    "cv2.waitKey(0)\n",
    "cv2.destroyAllWindows()\n"
   ]
  },
  {
   "cell_type": "markdown",
   "id": "fca9b9ef",
   "metadata": {},
   "source": [
    "detectAndCompute\n",
    "    keypoints : 이미지에서 검출된 특징점 좌표와 방향 정보\n",
    "    descriptors : 각 특징점 주변 픽셀의 고유 서술자(128차원 벡터)\n",
    "drawKeypoints : 원과 화살표로 키포인트 시각화화"
   ]
  },
  {
   "cell_type": "markdown",
   "id": "fa850156",
   "metadata": {},
   "source": [
    "52. HOG (Histogram of Oriented Gradients)\n",
    "HOG는 이미지의 국지적 그래디언트 방향 분포를 분석해 사람이나 물체를 검출하는 데 사용돼.\n",
    "\n",
    "특히 보행자 인식에 강력해."
   ]
  },
  {
   "cell_type": "code",
   "execution_count": 12,
   "id": "59f0d985",
   "metadata": {},
   "outputs": [
    {
     "name": "stdout",
     "output_type": "stream",
     "text": [
      "현재 작업 디렉토리: c:\\Users\\intel09\\Documents\\01_기본입출력-02_영상처리기초\\05_특징추출및고급처리\n"
     ]
    }
   ],
   "source": [
    "import cv2\n",
    "import os\n",
    "\n",
    "print('현재 작업 디렉토리:', os.getcwd())\n",
    "\n",
    "hog = cv2.HOGDescriptor()\n",
    "hog.setSVMDetector(cv2.HOGDescriptor_getDefaultPeopleDetector())\n",
    "\n",
    "img = cv2.imread('../cv_images/person.jpg')\n",
    "\n",
    "if img is None:\n",
    "    print(\"이미지를 불러올 수 없습니다.\")\n",
    "    exit()\n",
    "\n",
    "rects, weights = hog.detectMultiScale(img, winStride=(8, 8))\n",
    "\n",
    "for (x, y, w, h) in rects:\n",
    "    cv2.rectangle(img, (x, y), (x + w, y + h), (0, 255, 0), 2)\n",
    "\n",
    "cv2.imshow('HOG Detection', img)\n",
    "cv2.waitKey(0)\n",
    "cv2.destroyAllWindows()\n"
   ]
  },
  {
   "cell_type": "markdown",
   "id": "8cac65a0",
   "metadata": {},
   "source": [
    "HOGDescriptor : 기울기 히스토그램 기반 객체 검출\n",
    "detectMultiScale 파라미터\n",
    "    winStride : 윈도우 이동 간격\n",
    "검출된 박스를 초록색 사각형으로 표시시"
   ]
  },
  {
   "cell_type": "markdown",
   "id": "738ed2c0",
   "metadata": {},
   "source": [
    "53. Haar (Haar Cascades)\n",
    "Haar Cascade는 빠르고 간단한 객체 검출 방법.\n",
    "\n",
    "얼굴 인식 같은 데 많이 사용됐었어."
   ]
  },
  {
   "cell_type": "code",
   "execution_count": 13,
   "id": "f4c108dc",
   "metadata": {},
   "outputs": [],
   "source": [
    "import cv2\n",
    "face_cascade = cv2.CascadeClassifier(cv2.data.haarcascades + 'haarcascade_frontalface_default.xml')\n",
    "\n",
    "img = cv2.imread('../cv_images/face.jpg')\n",
    "gray = cv2.cvtColor(img, cv2.COLOR_BGR2GRAY)\n",
    "\n",
    "faces = face_cascade.detectMultiScale(gray, 1.1, 4)\n",
    "\n",
    "for (x, y, w, h) in faces:\n",
    "    cv2.rectangle(img, (x, y), (x+w, y+h), (255, 0, 0), 2)\n",
    "\n",
    "cv2.imshow('Haar Cascade Faces', img)\n",
    "cv2.waitKey(0)\n",
    "cv2.destroyAllWindows()\n"
   ]
  },
  {
   "cell_type": "markdown",
   "id": "d4f07df8",
   "metadata": {},
   "source": [
    "CascadeClassifier : Viola-Jones 알고리즘 기반\n",
    "detectMultiScale\n",
    "    1.1 : 스케일링 인자\n",
    "    4 : 최소 이웃 윈도우 수\n",
    "얼굴 영역을 파란색 사각형으로 표시"
   ]
  }
 ],
 "metadata": {
  "kernelspec": {
   "display_name": "pshgpu",
   "language": "python",
   "name": "python3"
  },
  "language_info": {
   "codemirror_mode": {
    "name": "ipython",
    "version": 3
   },
   "file_extension": ".py",
   "mimetype": "text/x-python",
   "name": "python",
   "nbconvert_exporter": "python",
   "pygments_lexer": "ipython3",
   "version": "3.10.16"
  }
 },
 "nbformat": 4,
 "nbformat_minor": 5
}
