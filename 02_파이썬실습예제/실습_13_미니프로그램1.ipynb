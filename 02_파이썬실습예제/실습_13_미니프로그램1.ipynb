{
 "cells": [
  {
   "cell_type": "markdown",
   "metadata": {},
   "source": [
    "### 1.거스름돈 계산하기"
   ]
  },
  {
   "cell_type": "markdown",
   "metadata": {},
   "source": [
    "저금한 금액이 34200원 입니다. \n",
    "\n",
    "이 금액이 1만원권 몇장인지 계산하고 1만원권을 제외한 나머지 금액을 계산하여 표시하는 프로그램을 작성하세요"
   ]
  },
  {
   "cell_type": "code",
   "execution_count": 13,
   "metadata": {},
   "outputs": [
    {
     "name": "stdout",
     "output_type": "stream",
     "text": [
      "1만원 : 3장, 남은금액 : 4200\n"
     ]
    }
   ],
   "source": [
    "a = 34200\n",
    "\n",
    "num = int(a / 10000)\n",
    "rest = a - num * 10000\n",
    "\n",
    "print(f'1만원 : {num}장, 남은금액 : {rest}')"
   ]
  },
  {
   "cell_type": "markdown",
   "metadata": {},
   "source": [
    "### 2.이등변삼각형의 넓이 구하기"
   ]
  },
  {
   "cell_type": "markdown",
   "metadata": {},
   "source": [
    "[조건] 밑변과 높이는 키보드로부터 입력을 받아서 계산합니다."
   ]
  },
  {
   "cell_type": "code",
   "execution_count": 35,
   "metadata": {},
   "outputs": [
    {
     "name": "stdin",
     "output_type": "stream",
     "text": [
      "밑변의 길이를 입력하세요 10\n",
      "높이를 입력하세요 20\n"
     ]
    },
    {
     "name": "stdout",
     "output_type": "stream",
     "text": [
      "이등변 삼각형 넓이는 = 20 * 10 * 1/2 = 100.0\n"
     ]
    }
   ],
   "source": [
    "a = int(input('밑변의 길이를 입력하세요'))\n",
    "b = int(input('높이를 입력하세요'))\n",
    "\n",
    "area = (a * b) / 2\n",
    "\n",
    "print(f'이등변 삼각형 넓이는 = {b} * {a} * 1/2 = {area}')"
   ]
  },
  {
   "cell_type": "markdown",
   "metadata": {},
   "source": [
    "### 3. 자동판매기 프로그램"
   ]
  },
  {
   "cell_type": "markdown",
   "metadata": {},
   "source": [
    "자동판매기(투입한 돈과 물건 값을 입력 받고 거스름돈 계산) 프로그램을 작성하세요.\n",
    "\n",
    "자동판매기에 거스름돈은 500원과 100원만 있다고 가정합니다."
   ]
  },
  {
   "cell_type": "code",
   "execution_count": 43,
   "metadata": {},
   "outputs": [
    {
     "name": "stdin",
     "output_type": "stream",
     "text": [
      "투입할 돈:  5000\n",
      "물건값:  3400\n"
     ]
    },
    {
     "name": "stdout",
     "output_type": "stream",
     "text": [
      "거스름돈: 1600\n",
      "거스름돈 500원: 3\n",
      "거스름돈 100원: 1\n"
     ]
    }
   ],
   "source": [
    "money = int(input('투입할 돈: '))\n",
    "price = int(input('물건값: '))\n",
    "\n",
    "change = money - price\n",
    "\n",
    "num_500 = int(change / 500)\n",
    "num_100 = int((change % 500) / 100)\n",
    "\n",
    "print(f'거스름돈: {change}\\n거스름돈 500원: {num_500}\\n거스름돈 100원: {num_100}')"
   ]
  },
  {
   "cell_type": "code",
   "execution_count": null,
   "metadata": {},
   "outputs": [],
   "source": []
  }
 ],
 "metadata": {
  "kernelspec": {
   "display_name": "Python [conda env:base] *",
   "language": "python",
   "name": "conda-base-py"
  },
  "language_info": {
   "codemirror_mode": {
    "name": "ipython",
    "version": 3
   },
   "file_extension": ".py",
   "mimetype": "text/x-python",
   "name": "python",
   "nbconvert_exporter": "python",
   "pygments_lexer": "ipython3",
   "version": "3.11.7"
  }
 },
 "nbformat": 4,
 "nbformat_minor": 4
}
