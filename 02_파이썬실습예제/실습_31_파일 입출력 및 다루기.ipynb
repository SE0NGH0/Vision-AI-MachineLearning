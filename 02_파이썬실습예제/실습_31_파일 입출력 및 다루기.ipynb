{
 "cells": [
  {
   "cell_type": "markdown",
   "metadata": {
    "id": "TM0fumvXi6D8"
   },
   "source": [
    "# 1.파일 열고 읽기"
   ]
  },
  {
   "cell_type": "code",
   "execution_count": 37,
   "metadata": {
    "id": "pDAbPxG8i6EA"
   },
   "outputs": [],
   "source": [
    "# '31_readfile.txt' 파일을 읽기 모드로 연다. \n",
    "# 상대 경로\n",
    "f = open('datafile/31_readfile.txt','r')\n",
    "# 절대 경로 : \\n \\t \\\\\n",
    "# f = open('C:\\\\Users\\\\intel09\\\\Documents\\\\02_파이썬실습예제\\\\datafile\\\\31_readfile.txt', 'r')\n",
    "# f = open(r'C:\\Users\\intel09\\Documents\\02_파이썬실습예제\\datafile\\31_readfile.txt', 'r')"
   ]
  },
  {
   "cell_type": "markdown",
   "metadata": {
    "id": "-jMgRUIrlXgs"
   },
   "source": [
    "- **read()**: 파일 내용을 모두 읽어서 문자열(str)로 반환 \n",
    "- **read(n**): 파일에서 n 바이트 읽어서 문자열(str)로 반환"
   ]
  },
  {
   "cell_type": "code",
   "execution_count": 38,
   "metadata": {
    "id": "nERx7k59i6ED"
   },
   "outputs": [
    {
     "data": {
      "text/plain": [
       "'Hell'"
      ]
     },
     "execution_count": 38,
     "metadata": {},
     "output_type": "execute_result"
    }
   ],
   "source": [
    "#파일 내용을 n바이트 읽어서 문자열 반환\n",
    "f.read(4)"
   ]
  },
  {
   "cell_type": "code",
   "execution_count": 39,
   "metadata": {
    "id": "O7DUQYufi6EE"
   },
   "outputs": [
    {
     "data": {
      "text/plain": [
       "'o Pyth'"
      ]
     },
     "execution_count": 39,
     "metadata": {},
     "output_type": "execute_result"
    }
   ],
   "source": [
    "f.read(6)"
   ]
  },
  {
   "cell_type": "code",
   "execution_count": 40,
   "metadata": {
    "id": "YoANaLRPi6EE"
   },
   "outputs": [
    {
     "name": "stdout",
     "output_type": "stream",
     "text": [
      "on.\n",
      "Life is short, You need Python!\n",
      "Now I am studying Python.\n"
     ]
    }
   ],
   "source": [
    "#파일 내용을 모두 읽어서 문자열 반환\n",
    "print(f.read())"
   ]
  },
  {
   "cell_type": "code",
   "execution_count": 41,
   "metadata": {
    "id": "iP7Cy2W2i6EE"
   },
   "outputs": [
    {
     "data": {
      "text/plain": [
       "<function TextIOWrapper.close()>"
      ]
     },
     "execution_count": 41,
     "metadata": {},
     "output_type": "execute_result"
    }
   ],
   "source": [
    "# 연 파일을 닫는다\n",
    "f.close"
   ]
  },
  {
   "cell_type": "code",
   "execution_count": 42,
   "metadata": {
    "id": "x6T58o4Ei6EF"
   },
   "outputs": [],
   "source": [
    "f = open('datafile/31_readfile.txt','r')"
   ]
  },
  {
   "cell_type": "markdown",
   "metadata": {
    "id": "ffqW35JHlxPU"
   },
   "source": [
    "- **readline()**: 한 줄씩 읽어서 문자열로 반환환"
   ]
  },
  {
   "cell_type": "code",
   "execution_count": 43,
   "metadata": {
    "id": "JF73UXtMi6EF"
   },
   "outputs": [
    {
     "name": "stdout",
     "output_type": "stream",
     "text": [
      "Hello Python.\n",
      "\n"
     ]
    }
   ],
   "source": [
    "a = f.readline()\n",
    "print(a)"
   ]
  },
  {
   "cell_type": "code",
   "execution_count": 44,
   "metadata": {
    "id": "_6xrIq-ri6EG"
   },
   "outputs": [
    {
     "name": "stdout",
     "output_type": "stream",
     "text": [
      "Life is short, You need Python!\n",
      "\n"
     ]
    }
   ],
   "source": [
    "b = f.readline()\n",
    "print(b)"
   ]
  },
  {
   "cell_type": "code",
   "execution_count": 45,
   "metadata": {
    "id": "MQJNy5Ewi6EG"
   },
   "outputs": [],
   "source": [
    "f.close()"
   ]
  },
  {
   "cell_type": "code",
   "execution_count": 46,
   "metadata": {
    "id": "NeI1ja3Ci6EH"
   },
   "outputs": [
    {
     "name": "stdout",
     "output_type": "stream",
     "text": [
      "Hello Python.\n",
      "\n",
      "Life is short, You need Python!\n",
      "\n",
      "Now I am studying Python.\n"
     ]
    }
   ],
   "source": [
    "#for문을 사용하여 한줄씩 읽어오기\n",
    "f = open('datafile/31_readfile.txt','r')\n",
    "for line in f :\n",
    "     print(line)\n",
    "f.close()"
   ]
  },
  {
   "cell_type": "markdown",
   "metadata": {
    "id": "oSHF1QfXmOqq"
   },
   "source": [
    "- **readlines()** : 파일 전체를 리스트로 반환"
   ]
  },
  {
   "cell_type": "code",
   "execution_count": 47,
   "metadata": {
    "id": "rHaGh4k_i6EH"
   },
   "outputs": [
    {
     "name": "stdout",
     "output_type": "stream",
     "text": [
      "['Hello Python.\\n', 'Life is short, You need Python!\\n', 'Now I am studying Python.']\n"
     ]
    }
   ],
   "source": [
    "f = open('datafile/31_readfile.txt','r')\n",
    "a = f.readlines()\n",
    "print(a)\n",
    "\n",
    "f.close()"
   ]
  },
  {
   "cell_type": "code",
   "execution_count": 48,
   "metadata": {
    "id": "G6BjaoB9i6EI"
   },
   "outputs": [
    {
     "name": "stdout",
     "output_type": "stream",
     "text": [
      "[90, 30, 65, 70, 55]\n"
     ]
    }
   ],
   "source": [
    "# 읽은 것을 리스트로 저장하기\n",
    "f = open('datafile/31_scoredata1.txt','r')\n",
    "score = []\n",
    "for line in f :\n",
    "     score.append(int(line))\n",
    "\n",
    "f.close()        \n",
    "print(score)"
   ]
  },
  {
   "cell_type": "code",
   "execution_count": 49,
   "metadata": {
    "id": "CttST_-Di6EJ"
   },
   "outputs": [
    {
     "name": "stdout",
     "output_type": "stream",
     "text": [
      "[90, 30, 65, 70, 55]\n"
     ]
    }
   ],
   "source": [
    "# with 구문으로 파일 open하면 close() 함수 안써도 됨\n",
    "\n",
    "I_score = []\n",
    "with open('datafile/31_scoredata1.txt') as f :\n",
    "    for line in f :\n",
    "        I_score.append(int(line))\n",
    "\n",
    "print(I_score)"
   ]
  },
  {
   "cell_type": "code",
   "execution_count": 53,
   "metadata": {
    "id": "yCXAGDaLi6EJ"
   },
   "outputs": [
    {
     "name": "stdout",
     "output_type": "stream",
     "text": [
      "1 90\n",
      "2 30\n",
      "3 65\n",
      "4 70\n",
      "5 55\n"
     ]
    }
   ],
   "source": [
    "# datafile/31_scoredata2.txt 파일을 읽어 딕셔너리로 저장하기\n",
    "\n",
    "d_score = {}\n",
    "# code here\n",
    "with open('datafile/31_scoredata2.txt') as f:\n",
    "    for line in f:\n",
    "        (key, value) = line.split()\n",
    "        d_score[int(key)] = int(value)\n",
    "\n",
    "# 딕셔너리로 저장된 내용 출력하기\n",
    "for key, value in d_score.items() : \n",
    "    print(key,value)"
   ]
  },
  {
   "cell_type": "code",
   "execution_count": 55,
   "metadata": {
    "id": "f2c-kLu-i6EK"
   },
   "outputs": [
    {
     "name": "stdout",
     "output_type": "stream",
     "text": [
      "1 ['Kang', 'Kim', 'Jung']\n",
      "3 ['Lee', 'Kang', 'Bae']\n",
      "2 ['Park', 'Kim', 'Lee']\n"
     ]
    }
   ],
   "source": [
    "# datafile/31_scoredata3.txt 파일을 딕셔너리 저장- 딕셔너리 값이 여러개 있을때\n",
    "\n",
    "d_score = {}\n",
    "# code here\n",
    "with open('datafile/31_scoredata3.txt') as f:\n",
    "    for line in f:\n",
    "        items = line.split()\n",
    "        key, value = items[0], items[1:]\n",
    "\n",
    "        d_score[int(key)] = value\n",
    "\n",
    "for key, val in d_score.items() : \n",
    "    print(key,val)"
   ]
  },
  {
   "cell_type": "code",
   "execution_count": null,
   "metadata": {
    "id": "rDlSTfJ7i6EK"
   },
   "outputs": [],
   "source": [
    "#이번엔 있는 파일 열기시도!! \n",
    "import os \n",
    "\n",
    "fileName = input('파일명을 입력하세요: ')\n",
    "\n",
    "if os.path.exists(fileName) : \n",
    "    rfile = open(fileName, 'r')\n",
    "    \n",
    "    inList = rfile.readlines()\n",
    "    for line in inList :\n",
    "        print(line,end = '')\n",
    "        \n",
    "    rfile.close()\n",
    "else : \n",
    "    print('%s 파일이 없습니다' %fileName)"
   ]
  },
  {
   "cell_type": "code",
   "execution_count": 58,
   "metadata": {
    "id": "wPrpRo9Hi6EL"
   },
   "outputs": [
    {
     "name": "stdout",
     "output_type": "stream",
     "text": [
      "1 Kang Kim Jung\n",
      "3 Lee Kang Bae\n",
      "2 Park Kim Lee\n"
     ]
    }
   ],
   "source": [
    "# 예외처리 구문 적용하기\n",
    "\n",
    "fileName = input('파일명을 입력하세요: ')\n",
    "\n",
    "try:\n",
    "    rfile = open(fileName, 'r')\n",
    "    \n",
    "    inList = rfile.readlines()\n",
    "    for line in inList :\n",
    "        print(line,end = '')\n",
    "        \n",
    "    rfile.close()\n",
    "except Exception as err : \n",
    "    #print('%s 파일이 없습니다.'%fileName)\n",
    "    #print('예외가 발생했습니다.({0})'.format(err))\n",
    "    print(f'예외가 발생했습니다.({err})')"
   ]
  },
  {
   "cell_type": "markdown",
   "metadata": {
    "id": "mXFSMaMvp0u5"
   },
   "source": [
    "### 2. 파일 쓰기"
   ]
  },
  {
   "cell_type": "code",
   "execution_count": 59,
   "metadata": {
    "id": "iKNGnM83i6EL"
   },
   "outputs": [],
   "source": [
    "f = open('31_writefile.txt','w')\n",
    "f.write('hello world')\n",
    "f.write('python prgramming')\n",
    "f.write('it is easy')\n",
    "f.close()"
   ]
  },
  {
   "cell_type": "code",
   "execution_count": 60,
   "metadata": {
    "id": "Ap0ThWsRi6EL"
   },
   "outputs": [],
   "source": [
    "f = open('31_writefile2.txt','w')\n",
    "f.writelines(['hello\\n','world\\n','python\\n'])\n",
    "f.close()"
   ]
  },
  {
   "cell_type": "markdown",
   "metadata": {},
   "source": [
    "### 3.파일 다루기"
   ]
  },
  {
   "cell_type": "code",
   "execution_count": null,
   "metadata": {},
   "outputs": [],
   "source": [
    "# 메모장 열어서 다음 내용을 my_favorite.txt 파일로 저장하기     \n",
    "Raindrops         \n",
    "  roses          \n",
    "whiskers               \n",
    "kittens        "
   ]
  },
  {
   "cell_type": "code",
   "execution_count": 61,
   "metadata": {},
   "outputs": [
    {
     "name": "stdout",
     "output_type": "stream",
     "text": [
      "Raindrops         \n",
      "  roses          \n",
      "whiskers               \n",
      "kittens        \n"
     ]
    }
   ],
   "source": [
    "from pathlib import Path\n",
    "\n",
    "path = Path('./datafile/my_favorite.txt')\n",
    "contents = path.read_text()\n",
    "print(contents)"
   ]
  },
  {
   "cell_type": "code",
   "execution_count": 62,
   "metadata": {},
   "outputs": [
    {
     "name": "stdout",
     "output_type": "stream",
     "text": [
      "['Raindrops         ', '  roses          ', 'whiskers               ', 'kittens        ']\n"
     ]
    }
   ],
   "source": [
    "contents_list = contents.splitlines()\n",
    "print(contents_list)"
   ]
  },
  {
   "cell_type": "code",
   "execution_count": 63,
   "metadata": {},
   "outputs": [
    {
     "name": "stdout",
     "output_type": "stream",
     "text": [
      "Raindrops         \n",
      "roses          \n",
      "whiskers               \n",
      "kittens        \n"
     ]
    }
   ],
   "source": [
    "for contents in contents_list:\n",
    "    print(contents.lstrip())"
   ]
  },
  {
   "cell_type": "code",
   "execution_count": 64,
   "metadata": {},
   "outputs": [],
   "source": [
    "# 새로운 줄에 추가할 단어\n",
    "new_word = \"Python\"\n",
    "\n",
    "# 파일에 단어 추가하기\n",
    "with path.open(mode='a') as file:  # 'a' 모드는 파일 끝에 내용을 추가합니다.\n",
    "    file.write(\"\\n\" + new_word)  # 단어를 새로운 줄에 추가"
   ]
  },
  {
   "cell_type": "code",
   "execution_count": 67,
   "metadata": {},
   "outputs": [
    {
     "name": "stdout",
     "output_type": "stream",
     "text": [
      "['Raindrops', 'roses', 'whiskers', 'kittens', 'Robot', 'Robot', 'Robot']\n"
     ]
    }
   ],
   "source": [
    "new_word = \"Robot\"\n",
    "contents_list.append(new_word)\n",
    "contents_list = [content.strip() for content in contents_list]\n",
    "print(contents_list)\n",
    "with path.open(mode='w') as file:\n",
    "    file.write(\"\\n\".join(contents_list))"
   ]
  }
 ],
 "metadata": {
  "colab": {
   "provenance": []
  },
  "kernelspec": {
   "display_name": "base",
   "language": "python",
   "name": "python3"
  },
  "language_info": {
   "codemirror_mode": {
    "name": "ipython",
    "version": 3
   },
   "file_extension": ".py",
   "mimetype": "text/x-python",
   "name": "python",
   "nbconvert_exporter": "python",
   "pygments_lexer": "ipython3",
   "version": "3.11.7"
  }
 },
 "nbformat": 4,
 "nbformat_minor": 4
}
