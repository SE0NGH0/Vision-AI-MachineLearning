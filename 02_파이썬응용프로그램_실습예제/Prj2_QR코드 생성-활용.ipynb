{
 "cells": [
  {
   "cell_type": "markdown",
   "metadata": {
    "id": "20hwYpdpk6o1"
   },
   "source": [
    "# QR 코드 생성하기"
   ]
  },
  {
   "cell_type": "markdown",
   "metadata": {
    "id": "ehSglC8hTD2X"
   },
   "source": [
    "## 1.qrcode 모듈 설치\n",
    "- https://pypi.org/project/qrcode/"
   ]
  },
  {
   "cell_type": "code",
   "execution_count": 1,
   "metadata": {
    "id": "UnX-A2wEAzYU"
   },
   "outputs": [
    {
     "name": "stdout",
     "output_type": "stream",
     "text": [
      "Requirement already satisfied: qrcode in c:\\users\\intel09\\anaconda3\\envs\\envtest\\lib\\site-packages (8.1)\n",
      "Requirement already satisfied: pillow in c:\\users\\intel09\\anaconda3\\envs\\envtest\\lib\\site-packages (11.2.1)\n",
      "Requirement already satisfied: colorama in c:\\users\\intel09\\anaconda3\\envs\\envtest\\lib\\site-packages (from qrcode) (0.4.6)\n"
     ]
    }
   ],
   "source": [
    "!pip install qrcode pillow"
   ]
  },
  {
   "cell_type": "markdown",
   "metadata": {
    "id": "3RtgGDP4THn3"
   },
   "source": [
    "## 2.관련 모듈 가져오기"
   ]
  },
  {
   "cell_type": "code",
   "execution_count": 2,
   "metadata": {
    "id": "b_HueRTLAmbe"
   },
   "outputs": [],
   "source": [
    "import qrcode"
   ]
  },
  {
   "cell_type": "markdown",
   "metadata": {
    "id": "0VmsF_L8TL9R"
   },
   "source": [
    "## 3.QR 코드 생성"
   ]
  },
  {
   "cell_type": "code",
   "execution_count": 3,
   "metadata": {
    "id": "M9smwMSWAwc8"
   },
   "outputs": [],
   "source": [
    "qr_data = 'https://www.kccistc.net/'\n",
    "qr_img = qrcode.make(qr_data)\n",
    "\n",
    "save_path = 'kccistc' + '.png'\n",
    "qr_img.save(save_path)"
   ]
  },
  {
   "cell_type": "code",
   "execution_count": 4,
   "metadata": {},
   "outputs": [],
   "source": [
    "qr_data = 'https://hotari.tistory.com/'\n",
    "qr_img = qrcode.make(qr_data)\n",
    "\n",
    "save_path = 'hotari' + '.png'\n",
    "qr_img.save(save_path)"
   ]
  },
  {
   "cell_type": "markdown",
   "metadata": {
    "id": "c-sm2PS3TQgv"
   },
   "source": [
    "## 4.QR코드 생성 목록 텍스트 파일 읽어 오기"
   ]
  },
  {
   "cell_type": "code",
   "execution_count": null,
   "metadata": {
    "id": "MCt14QHeMhiN"
   },
   "outputs": [],
   "source": [
    "# 'qr_코드모음.txt' 파일 다운로드하기\n",
    "#!gdown 1v9yQUOBU_E8_N4jI4lMQM7oH3VlF2K8a"
   ]
  },
  {
   "cell_type": "code",
   "execution_count": 6,
   "metadata": {
    "id": "iRQgrvGUBYrB"
   },
   "outputs": [
    {
     "name": "stdout",
     "output_type": "stream",
     "text": [
      "www.naver.com\n",
      "www.google.com\n",
      "www.daum.net\n",
      "www.daduino.co.kr\n",
      "www.nate.com\n"
     ]
    }
   ],
   "source": [
    "file_list = 'qr코드모음.txt'\n",
    "\n",
    "# 코드 작성 : file_list 를 읽어서 각 행을 출력합니다.\n",
    "\n",
    "with open(file_list, 'r', encoding='utf-8') as f:\n",
    "    read_lines = f.readlines()\n",
    "    for line in read_lines:\n",
    "        print(line.strip())"
   ]
  },
  {
   "cell_type": "markdown",
   "metadata": {
    "id": "SMN7j4CNTVmr"
   },
   "source": [
    "## 5.텍스트 파일 읽어서 QR코드 생성"
   ]
  },
  {
   "cell_type": "code",
   "execution_count": 7,
   "metadata": {
    "id": "2gMilK35Buc6"
   },
   "outputs": [
    {
     "name": "stdout",
     "output_type": "stream",
     "text": [
      "QR code for www.naver.com saved sas www.naver.com.png.\n",
      "QR code for www.google.com saved sas www.google.com.png.\n",
      "QR code for www.daum.net saved sas www.daum.net.png.\n",
      "QR code for www.daduino.co.kr saved sas www.daduino.co.kr.png.\n",
      "QR code for www.nate.com saved sas www.nate.com.png.\n"
     ]
    }
   ],
   "source": [
    "# 코드 작성 : 4번 단계에서 파일에서 읽은 각 라인의 URL 주소를 읽어 QR코드를 생성합니다.(4번단계에 3번단계 추가)\n",
    "file_list = 'qr코드모음.txt'\n",
    "\n",
    "with open(file_list, 'r', encoding='utf-8') as f:\n",
    "    read_lines = f.readlines()\n",
    "    for line in read_lines:\n",
    "        line = line.strip()\n",
    "        qr_img = qrcode.make(line)\n",
    "        \n",
    "        save_path = line + '.png'\n",
    "        qr_img.save(save_path)\n",
    "        print(f'QR code for {line} saved sas {save_path}.')"
   ]
  },
  {
   "cell_type": "markdown",
   "metadata": {
    "id": "wp4yTcKVNFs6"
   },
   "source": [
    "# QR 읽어 정보 가져오기"
   ]
  },
  {
   "cell_type": "markdown",
   "metadata": {
    "id": "Lx7VqdBsOU25"
   },
   "source": [
    "## 1.관련 모듈 설치하기"
   ]
  },
  {
   "cell_type": "code",
   "execution_count": 8,
   "metadata": {
    "id": "w4oVW0IcOy5E"
   },
   "outputs": [
    {
     "name": "stdout",
     "output_type": "stream",
     "text": [
      "Collecting pyzbar\n",
      "  Downloading pyzbar-0.1.9-py2.py3-none-win_amd64.whl.metadata (10 kB)\n",
      "Downloading pyzbar-0.1.9-py2.py3-none-win_amd64.whl (817 kB)\n",
      "   ---------------------------------------- 0.0/817.4 kB ? eta -:--:--\n",
      "   ---------------------------------------- 817.4/817.4 kB 9.0 MB/s eta 0:00:00\n",
      "Installing collected packages: pyzbar\n",
      "Successfully installed pyzbar-0.1.9\n",
      "Collecting opencv-python\n",
      "  Downloading opencv_python-4.11.0.86-cp37-abi3-win_amd64.whl.metadata (20 kB)\n",
      "Collecting numpy>=1.21.2 (from opencv-python)\n",
      "  Downloading numpy-2.2.4-cp310-cp310-win_amd64.whl.metadata (60 kB)\n",
      "Downloading opencv_python-4.11.0.86-cp37-abi3-win_amd64.whl (39.5 MB)\n",
      "   ---------------------------------------- 0.0/39.5 MB ? eta -:--:--\n",
      "   ---- ----------------------------------- 4.5/39.5 MB 22.4 MB/s eta 0:00:02\n",
      "   ------ --------------------------------- 6.6/39.5 MB 16.8 MB/s eta 0:00:02\n",
      "   -------- ------------------------------- 8.4/39.5 MB 13.7 MB/s eta 0:00:03\n",
      "   ---------- ----------------------------- 10.0/39.5 MB 11.9 MB/s eta 0:00:03\n",
      "   ----------- ---------------------------- 11.3/39.5 MB 11.0 MB/s eta 0:00:03\n",
      "   ------------- -------------------------- 13.1/39.5 MB 10.4 MB/s eta 0:00:03\n",
      "   -------------- ------------------------- 14.7/39.5 MB 10.0 MB/s eta 0:00:03\n",
      "   --------------- ------------------------ 15.2/39.5 MB 9.1 MB/s eta 0:00:03\n",
      "   --------------- ------------------------ 15.5/39.5 MB 8.3 MB/s eta 0:00:03\n",
      "   ---------------- ----------------------- 16.0/39.5 MB 7.6 MB/s eta 0:00:04\n",
      "   ---------------- ----------------------- 16.3/39.5 MB 7.3 MB/s eta 0:00:04\n",
      "   ----------------- ---------------------- 17.0/39.5 MB 6.8 MB/s eta 0:00:04\n",
      "   ----------------- ---------------------- 17.6/39.5 MB 6.4 MB/s eta 0:00:04\n",
      "   ------------------ --------------------- 18.1/39.5 MB 6.2 MB/s eta 0:00:04\n",
      "   ------------------- -------------------- 18.9/39.5 MB 6.0 MB/s eta 0:00:04\n",
      "   ------------------- -------------------- 19.4/39.5 MB 5.9 MB/s eta 0:00:04\n",
      "   -------------------- ------------------- 19.9/39.5 MB 5.7 MB/s eta 0:00:04\n",
      "   -------------------- ------------------- 20.4/39.5 MB 5.4 MB/s eta 0:00:04\n",
      "   -------------------- ------------------- 20.7/39.5 MB 5.3 MB/s eta 0:00:04\n",
      "   --------------------- ------------------ 21.2/39.5 MB 5.1 MB/s eta 0:00:04\n",
      "   --------------------- ------------------ 21.5/39.5 MB 4.9 MB/s eta 0:00:04\n",
      "   ---------------------- ----------------- 21.8/39.5 MB 4.8 MB/s eta 0:00:04\n",
      "   ---------------------- ----------------- 22.3/39.5 MB 4.7 MB/s eta 0:00:04\n",
      "   ---------------------- ----------------- 22.5/39.5 MB 4.6 MB/s eta 0:00:04\n",
      "   ----------------------- ---------------- 22.8/39.5 MB 4.4 MB/s eta 0:00:04\n",
      "   ----------------------- ---------------- 23.1/39.5 MB 4.3 MB/s eta 0:00:04\n",
      "   ----------------------- ---------------- 23.3/39.5 MB 4.2 MB/s eta 0:00:04\n",
      "   ------------------------ --------------- 24.1/39.5 MB 4.1 MB/s eta 0:00:04\n",
      "   ------------------------- -------------- 24.9/39.5 MB 4.1 MB/s eta 0:00:04\n",
      "   ------------------------- -------------- 25.4/39.5 MB 4.1 MB/s eta 0:00:04\n",
      "   -------------------------- ------------- 26.2/39.5 MB 4.1 MB/s eta 0:00:04\n",
      "   --------------------------- ------------ 26.7/39.5 MB 4.0 MB/s eta 0:00:04\n",
      "   --------------------------- ------------ 27.3/39.5 MB 4.0 MB/s eta 0:00:04\n",
      "   --------------------------- ------------ 27.5/39.5 MB 3.9 MB/s eta 0:00:04\n",
      "   ---------------------------- ----------- 27.8/39.5 MB 3.9 MB/s eta 0:00:04\n",
      "   ---------------------------- ----------- 28.0/39.5 MB 3.8 MB/s eta 0:00:04\n",
      "   ---------------------------- ----------- 28.3/39.5 MB 3.8 MB/s eta 0:00:03\n",
      "   ---------------------------- ----------- 28.6/39.5 MB 3.7 MB/s eta 0:00:03\n",
      "   ----------------------------- ---------- 28.8/39.5 MB 3.6 MB/s eta 0:00:03\n",
      "   ----------------------------- ---------- 29.1/39.5 MB 3.5 MB/s eta 0:00:03\n",
      "   ----------------------------- ---------- 29.4/39.5 MB 3.5 MB/s eta 0:00:03\n",
      "   ------------------------------ --------- 29.6/39.5 MB 3.4 MB/s eta 0:00:03\n",
      "   ------------------------------ --------- 29.9/39.5 MB 3.4 MB/s eta 0:00:03\n",
      "   ------------------------------ --------- 30.4/39.5 MB 3.3 MB/s eta 0:00:03\n",
      "   ------------------------------- -------- 30.7/39.5 MB 3.3 MB/s eta 0:00:03\n",
      "   ------------------------------- -------- 30.9/39.5 MB 3.3 MB/s eta 0:00:03\n",
      "   ------------------------------- -------- 31.5/39.5 MB 3.2 MB/s eta 0:00:03\n",
      "   -------------------------------- ------- 31.7/39.5 MB 3.2 MB/s eta 0:00:03\n",
      "   -------------------------------- ------- 32.0/39.5 MB 3.2 MB/s eta 0:00:03\n",
      "   -------------------------------- ------- 32.5/39.5 MB 3.2 MB/s eta 0:00:03\n",
      "   --------------------------------- ------ 32.8/39.5 MB 3.1 MB/s eta 0:00:03\n",
      "   --------------------------------- ------ 33.3/39.5 MB 3.1 MB/s eta 0:00:03\n",
      "   --------------------------------- ------ 33.3/39.5 MB 3.1 MB/s eta 0:00:03\n",
      "   --------------------------------- ------ 33.6/39.5 MB 3.0 MB/s eta 0:00:02\n",
      "   ---------------------------------- ----- 33.8/39.5 MB 3.0 MB/s eta 0:00:02\n",
      "   ---------------------------------- ----- 34.1/39.5 MB 3.0 MB/s eta 0:00:02\n",
      "   ---------------------------------- ----- 34.3/39.5 MB 2.9 MB/s eta 0:00:02\n",
      "   ----------------------------------- ---- 34.9/39.5 MB 2.9 MB/s eta 0:00:02\n",
      "   ----------------------------------- ---- 35.1/39.5 MB 2.9 MB/s eta 0:00:02\n",
      "   ----------------------------------- ---- 35.4/39.5 MB 2.9 MB/s eta 0:00:02\n",
      "   ------------------------------------ --- 35.7/39.5 MB 2.8 MB/s eta 0:00:02\n",
      "   ------------------------------------ --- 35.9/39.5 MB 2.8 MB/s eta 0:00:02\n",
      "   ------------------------------------ --- 35.9/39.5 MB 2.8 MB/s eta 0:00:02\n",
      "   ------------------------------------ --- 36.2/39.5 MB 2.8 MB/s eta 0:00:02\n",
      "   ------------------------------------ --- 36.4/39.5 MB 2.7 MB/s eta 0:00:02\n",
      "   ------------------------------------- -- 36.7/39.5 MB 2.7 MB/s eta 0:00:02\n",
      "   ------------------------------------- -- 37.0/39.5 MB 2.7 MB/s eta 0:00:01\n",
      "   ------------------------------------- -- 37.2/39.5 MB 2.7 MB/s eta 0:00:01\n",
      "   ------------------------------------- -- 37.5/39.5 MB 2.6 MB/s eta 0:00:01\n",
      "   -------------------------------------- - 38.0/39.5 MB 2.6 MB/s eta 0:00:01\n",
      "   -------------------------------------- - 38.3/39.5 MB 2.6 MB/s eta 0:00:01\n",
      "   ---------------------------------------  38.5/39.5 MB 2.6 MB/s eta 0:00:01\n",
      "   ---------------------------------------  39.1/39.5 MB 2.6 MB/s eta 0:00:01\n",
      "   ---------------------------------------  39.3/39.5 MB 2.6 MB/s eta 0:00:01\n",
      "   ---------------------------------------- 39.5/39.5 MB 2.5 MB/s eta 0:00:00\n",
      "Downloading numpy-2.2.4-cp310-cp310-win_amd64.whl (12.9 MB)\n",
      "   ---------------------------------------- 0.0/12.9 MB ? eta -:--:--\n",
      "   - -------------------------------------- 0.5/12.9 MB 2.8 MB/s eta 0:00:05\n",
      "   --- ------------------------------------ 1.0/12.9 MB 2.8 MB/s eta 0:00:05\n",
      "   ----- ---------------------------------- 1.8/12.9 MB 3.5 MB/s eta 0:00:04\n",
      "   -------- ------------------------------- 2.6/12.9 MB 3.4 MB/s eta 0:00:04\n",
      "   --------- ------------------------------ 3.1/12.9 MB 3.4 MB/s eta 0:00:03\n",
      "   ----------- ---------------------------- 3.7/12.9 MB 3.2 MB/s eta 0:00:03\n",
      "   ------------ --------------------------- 4.2/12.9 MB 3.0 MB/s eta 0:00:03\n",
      "   ------------- -------------------------- 4.5/12.9 MB 2.8 MB/s eta 0:00:04\n",
      "   ------------- -------------------------- 4.5/12.9 MB 2.8 MB/s eta 0:00:04\n",
      "   -------------- ------------------------- 4.7/12.9 MB 2.2 MB/s eta 0:00:04\n",
      "   -------------- ------------------------- 4.7/12.9 MB 2.2 MB/s eta 0:00:04\n",
      "   --------------- ------------------------ 5.0/12.9 MB 2.0 MB/s eta 0:00:05\n",
      "   ---------------- ----------------------- 5.2/12.9 MB 2.0 MB/s eta 0:00:04\n",
      "   ----------------- ---------------------- 5.5/12.9 MB 1.9 MB/s eta 0:00:04\n",
      "   ----------------- ---------------------- 5.8/12.9 MB 1.9 MB/s eta 0:00:04\n",
      "   ------------------ --------------------- 6.0/12.9 MB 1.8 MB/s eta 0:00:04\n",
      "   -------------------- ------------------- 6.6/12.9 MB 1.8 MB/s eta 0:00:04\n",
      "   --------------------- ------------------ 7.1/12.9 MB 1.9 MB/s eta 0:00:04\n",
      "   ----------------------- ---------------- 7.6/12.9 MB 1.9 MB/s eta 0:00:03\n",
      "   ------------------------- -------------- 8.1/12.9 MB 2.0 MB/s eta 0:00:03\n",
      "   --------------------------- ------------ 8.9/12.9 MB 2.0 MB/s eta 0:00:02\n",
      "   ---------------------------- ----------- 9.2/12.9 MB 2.0 MB/s eta 0:00:02\n",
      "   ----------------------------- ---------- 9.7/12.9 MB 2.0 MB/s eta 0:00:02\n",
      "   ------------------------------ --------- 10.0/12.9 MB 2.0 MB/s eta 0:00:02\n",
      "   ------------------------------- -------- 10.2/12.9 MB 2.0 MB/s eta 0:00:02\n",
      "   --------------------------------- ------ 10.7/12.9 MB 2.0 MB/s eta 0:00:02\n",
      "   ---------------------------------- ----- 11.0/12.9 MB 2.0 MB/s eta 0:00:01\n",
      "   ----------------------------------- ---- 11.5/12.9 MB 2.0 MB/s eta 0:00:01\n",
      "   ------------------------------------- -- 12.1/12.9 MB 2.0 MB/s eta 0:00:01\n",
      "   ---------------------------------------- 12.9/12.9 MB 2.1 MB/s eta 0:00:00\n",
      "Installing collected packages: numpy, opencv-python\n",
      "Successfully installed numpy-2.2.4 opencv-python-4.11.0.86\n",
      "Collecting requests\n",
      "  Downloading requests-2.32.3-py3-none-any.whl.metadata (4.6 kB)\n",
      "Collecting charset-normalizer<4,>=2 (from requests)\n",
      "  Downloading charset_normalizer-3.4.1-cp310-cp310-win_amd64.whl.metadata (36 kB)\n",
      "Collecting idna<4,>=2.5 (from requests)\n",
      "  Downloading idna-3.10-py3-none-any.whl.metadata (10 kB)\n",
      "Collecting urllib3<3,>=1.21.1 (from requests)\n",
      "  Downloading urllib3-2.4.0-py3-none-any.whl.metadata (6.5 kB)\n",
      "Collecting certifi>=2017.4.17 (from requests)\n",
      "  Downloading certifi-2025.1.31-py3-none-any.whl.metadata (2.5 kB)\n",
      "Downloading requests-2.32.3-py3-none-any.whl (64 kB)\n",
      "Downloading certifi-2025.1.31-py3-none-any.whl (166 kB)\n",
      "Downloading charset_normalizer-3.4.1-cp310-cp310-win_amd64.whl (102 kB)\n",
      "Downloading idna-3.10-py3-none-any.whl (70 kB)\n",
      "Downloading urllib3-2.4.0-py3-none-any.whl (128 kB)\n",
      "Installing collected packages: urllib3, idna, charset-normalizer, certifi, requests\n",
      "Successfully installed certifi-2025.1.31 charset-normalizer-3.4.1 idna-3.10 requests-2.32.3 urllib3-2.4.0\n",
      "Collecting beautifulsoup4\n",
      "  Downloading beautifulsoup4-4.13.4-py3-none-any.whl.metadata (3.8 kB)\n",
      "Collecting soupsieve>1.2 (from beautifulsoup4)\n",
      "  Downloading soupsieve-2.6-py3-none-any.whl.metadata (4.6 kB)\n",
      "Requirement already satisfied: typing-extensions>=4.0.0 in c:\\users\\intel09\\anaconda3\\envs\\envtest\\lib\\site-packages (from beautifulsoup4) (4.13.2)\n",
      "Downloading beautifulsoup4-4.13.4-py3-none-any.whl (187 kB)\n",
      "Downloading soupsieve-2.6-py3-none-any.whl (36 kB)\n",
      "Installing collected packages: soupsieve, beautifulsoup4\n",
      "Successfully installed beautifulsoup4-4.13.4 soupsieve-2.6\n"
     ]
    }
   ],
   "source": [
    "# colab 에서 decoding 을 위한 zbar 공유 라이브러리\n",
    "#!apt-get install libzbar0  #  QR 코드를 디코딩하기 위해 필수적으로 사용하는 zbar 공유 라이브러리\n",
    "\n",
    "# window 에서 https://www.microsoft.com/ko-KR/download/details.aspx?id=40784 에서 OS 에 따른 파일 다운받아 설치\n",
    "#            (windows :vcredist_x64.exe)\n",
    "# QR / Bar 코드 인식\n",
    "!pip install pyzbar     \n",
    "\n",
    "!pip install opencv-python\n",
    "!pip install requests\n",
    "!pip install beautifulsoup4"
   ]
  },
  {
   "cell_type": "markdown",
   "metadata": {
    "id": "e4yBm7yxO1tm"
   },
   "source": [
    "## 2.qr 코드 읽어 디코딩하기"
   ]
  },
  {
   "cell_type": "code",
   "execution_count": null,
   "metadata": {
    "id": "HPHfZT_RO3OQ"
   },
   "outputs": [
    {
     "name": "stdout",
     "output_type": "stream",
     "text": [
      "QR Code:  https://www.kccistc.net/\n"
     ]
    }
   ],
   "source": [
    "import cv2\n",
    "from pyzbar.pyzbar import decode\n",
    "\n",
    "# 이미지 읽기\n",
    "image = cv2.imread(\"kccistc.png\")\n",
    "\n",
    "# QR 코드 디코딩\n",
    "barcodes = decode(image)\n",
    "\n",
    "# 디코딩 결과 출력\n",
    "if barcodes:\n",
    "    for barcode in barcodes:\n",
    "        print(\"QR Code: \", barcode.data.decode(\"utf-8\"))  # 출력: We_Great\n",
    "else:\n",
    "    print(\"QR 코드를 찾지 못했습니다.\")"
   ]
  },
  {
   "cell_type": "markdown",
   "metadata": {
    "id": "0KwkrMmSO34D"
   },
   "source": [
    "## 3.qr 코드를 읽어 해당 웹사이트의 정보 가져오기"
   ]
  },
  {
   "cell_type": "code",
   "execution_count": 10,
   "metadata": {
    "id": "XefKJltkO7qc"
   },
   "outputs": [
    {
     "name": "stdout",
     "output_type": "stream",
     "text": [
      "QR Code Link: https://www.kccistc.net/\n",
      "Status Code: 200\n",
      "Titles found on the page:\n",
      "1. [Intel] 엣지 AI SW 아카데미(8기)\n",
      "2. [취업 최우수과정][Intel] 엣지 AI SW 아카데미(8기)\n",
      "3. [HARMAN] 세미콘아카데미-시스템반도체 설계/검증 엔지니어(2기)\n",
      "4. [HARMAN] 세미콘아카데미-시스템반도체 설계/검증 엔지니어(2기)\n",
      "5. [Intel]엣지 AI SW아카데미(7기)\n",
      "6. [Intel]엣지 AI SW아카데미(7기)\n",
      "7. AI 시스템반도체 설계(2기)\n",
      "8. [한국팹리스산업협회,넥스트칩]AI 시스템반도체 설계(2기)\n",
      "9. 반도체장비 제어 전문가\n",
      "10. [취업요청 최다과정]반도체장비 제어 전문가[PLC,영상비전제어]\n",
      "11. AI시스템반도체 SW 개발자\n",
      "12. [Telechips]AI시스템반도체 SW 개발자\n",
      "13. [HARMAN] 세미콘아카데미-시스템반도체 설계/검증 엔지니어\n",
      "14. [HARMAN] 세미콘아카데미-시스템반도체 설계/검증 엔지니어\n",
      "15. [Intel] 엣지 AI SW 아카데미(6기)\n",
      "16. [취업우수과정][Intel] 엣지 AI SW 아카데미(6기)\n",
      "17. [에이텍 맞춤과정] 인공지능을 활용한 업무효율화\n",
      "18. [에이텍 맞춤과정] 인공지능을 활용한 업무효율화\n",
      "19. 미디어파사드 영상콘텐츠 제작\n",
      "20. 미디어파사드 영상콘텐츠 제작\n",
      "21. [에이텍 맞춤과정] 기술과 품질을 위한 전략 실무\n",
      "22. [에이텍 맞춤과정] 기술과 품질을 위한 전략 실무\n",
      "23. 프로젝션 맵핑 및 매드맵퍼 활용\n",
      "24. 프로젝션 맵핑 및 매드맵퍼 활용\n",
      "25. [투비소프트 맞춤과정] 디지털 전환을 위한 UI/UX 플랫폼 기본 컴포넌트 활용[25년]\n",
      "26. [투비소프트 맞춤과정] 디지털 전환을 위한 UI/UX 플랫폼 기본 컴포넌트 활용[25년]\n",
      "27. [투비소프트 맞춤과정] UI/UX 플랫폼을 활용한 사례중심 실무 활용[25년]\n",
      "28. [투비소프트 맞춤과정] UI/UX 플랫폼을 활용한 사례중심 실무 활용[25년]\n",
      "29. SoC 반도체 설계\n",
      "30. SoC 반도체 설계\n",
      "31. 반도체 System Verilog 실무\n",
      "32. 반도체 System Verilog 실무\n",
      "33. SoC 반도체 검증\n",
      "34. SoC 반도체 검증\n",
      "35. SoC 반도체 검증\n",
      "36. SoC 반도체 검증\n",
      "37. SoC 반도체 설계\n",
      "38. SoC 반도체 설계\n",
      "39. 미디어파사드 영상콘텐츠 제작\n",
      "40. 미디어파사드 영상콘텐츠 제작\n",
      "41. 🎉 취업을 축하합니다 🎉\n",
      "42. [채용공고] 국가인적자원개발컨소시엄 사업전담자 채용\n",
      "43. [입학안내] [FAQ] 자주하는 질문 (위치, 면접, 취업 등)\n",
      "44. [일반공지] 5/2(목) 기관 체육행사 안내\n",
      "45. [일반공지] 2022 서울기술교육센터 UCC 공모전 결과안내\n",
      "46. [일반공지] 2022 서울기술교육센터 UCC 공모전\n",
      "47. QUICK MENU\n"
     ]
    }
   ],
   "source": [
    "import cv2\n",
    "from pyzbar.pyzbar import decode\n",
    "import requests\n",
    "from bs4 import BeautifulSoup\n",
    "\n",
    "# 이미지 읽기\n",
    "image = cv2.imread(\"kccistc.png\")\n",
    "\n",
    "# QR 코드 디코딩\n",
    "barcodes = decode(image)\n",
    "\n",
    "# 디코딩 결과 출력\n",
    "if barcodes:\n",
    "    for barcode in barcodes:\n",
    "        qr_link = barcode.data.decode('utf-8')  # QR 코드에서 URL 추출\n",
    "        print(\"QR Code Link:\", qr_link)\n",
    "        try:\n",
    "            # User-Agent 헤더 추가\n",
    "            headers = {\n",
    "                'User-Agent': 'Mozilla/5.0 (Windows NT 10.0; Win64; x64) AppleWebKit/537.36 (KHTML, like Gecko) Chrome/117.0 Safari/537.36'\n",
    "            }\n",
    "            response = requests.get(qr_link, headers=headers)  # 웹 요청\n",
    "            print(\"Status Code:\", response.status_code)\n",
    "            soup = BeautifulSoup(response.text, 'html.parser')  # HTML 파싱\n",
    "\n",
    "            # 강좌 제목 추출\n",
    "            titles = soup.find_all(\"div\", class_=\"title\")\n",
    "            if titles:\n",
    "                print(\"Titles found on the page:\")\n",
    "                for idx, title_div in enumerate(titles, 1):\n",
    "                    title_text = title_div.get_text(strip=True)\n",
    "                    print(f\"{idx}. {title_text}\")\n",
    "            else:\n",
    "                print(\"No course titles found on the page.\")\n",
    "        except requests.RequestException as e:\n",
    "            print(\"Error fetching QR Code content:\", e)\n",
    "else:\n",
    "    print(\"QR 코드를 찾지 못했습니다.\")"
   ]
  },
  {
   "cell_type": "code",
   "execution_count": 11,
   "metadata": {},
   "outputs": [
    {
     "name": "stdout",
     "output_type": "stream",
     "text": [
      "QR Code Link: https://www.kccistc.net/\n",
      "Status Code: 200\n",
      "Category & Title found in each contents_box:\n",
      "1. [#인텔현업엔지니어직강 #임베디드] [취업 최우수과정][Intel] 엣지 AI SW 아카데미(8기)\n",
      "2. [#K- Digital Training] [HARMAN] 세미콘아카데미-시스템반도체 설계/검증 엔지니어(2기)\n",
      "3. [#인텔현업엔지니어직강 #임베디드] [Intel]엣지 AI SW아카데미(7기)\n",
      "4. [#KDT #반도체설계] [한국팹리스산업협회,넥스트칩]AI 시스템반도체 설계(2기)\n",
      "5. [#내일배움카드발급무관 #PLC] [취업요청 최다과정]반도체장비 제어 전문가[PLC,영상비전제어]\n",
      "6. [#내일배움카드발급무관 #임베디드] [Telechips]AI시스템반도체 SW 개발자\n",
      "7. [#K- Digital Training] [HARMAN] 세미콘아카데미-시스템반도체 설계/검증 엔지니어\n",
      "8. [#인텔현업엔지니어직강 #임베디드] [취업우수과정][Intel] 엣지 AI SW 아카데미(6기)\n",
      "9. [#IT.정보통신 #주간] [에이텍 맞춤과정] 인공지능을 활용한 업무효율화\n",
      "10. [#IT.정보통신 #주말] 미디어파사드 영상콘텐츠 제작\n",
      "11. [#IT.정보통신 #주간] [에이텍 맞춤과정] 기술과 품질을 위한 전략 실무\n",
      "12. [#IT.정보통신 #주말] 프로젝션 맵핑 및 매드맵퍼 활용\n",
      "13. [#IT.정보통신 #주간] [투비소프트 맞춤과정] 디지털 전환을 위한 UI/UX 플랫폼 기본 컴포넌트 활용[25년]\n",
      "14. [#IT.정보통신 #주간] [투비소프트 맞춤과정] UI/UX 플랫폼을 활용한 사례중심 실무 활용[25년]\n",
      "15. [#전기전자 #주간] SoC 반도체 설계\n",
      "16. [#전기전자 #주간] 반도체 System Verilog 실무\n",
      "17. [#전기전자 #주간] SoC 반도체 검증\n",
      "18. [#전기전자 #주간] SoC 반도체 검증\n",
      "19. [#전기전자 #주간] SoC 반도체 설계\n",
      "20. [#IT.정보통신 #주말] 미디어파사드 영상콘텐츠 제작\n"
     ]
    }
   ],
   "source": [
    "# category, title 추출하기\n",
    "import cv2\n",
    "from pyzbar.pyzbar import decode\n",
    "import requests\n",
    "from bs4 import BeautifulSoup\n",
    "\n",
    "# 이미지 읽기\n",
    "image = cv2.imread(\"kccistc.png\")\n",
    "\n",
    "# QR 코드 디코딩\n",
    "barcodes = decode(image)\n",
    "\n",
    "# 디코딩 결과 출력\n",
    "if barcodes:\n",
    "    for barcode in barcodes:\n",
    "        qr_link = barcode.data.decode('utf-8')  # QR 코드에서 URL 추출\n",
    "        print(\"QR Code Link:\", qr_link)\n",
    "        try:\n",
    "            headers = {\n",
    "                'User-Agent': 'Mozilla/5.0 (Windows NT 10.0; Win64; x64) AppleWebKit/537.36 (KHTML, like Gecko) Chrome/117.0 Safari/537.36'\n",
    "            }\n",
    "            response = requests.get(qr_link, headers=headers)\n",
    "            print(\"Status Code:\", response.status_code)\n",
    "            soup = BeautifulSoup(response.text, 'html.parser')\n",
    "\n",
    "            # 모든 contents_box를 찾기\n",
    "            content_boxes = soup.find_all(\"div\", class_=\"contents_box\")\n",
    "            if content_boxes:\n",
    "                print(\"Category & Title found in each contents_box:\")\n",
    "                for idx, box in enumerate(content_boxes, 1):\n",
    "                    category = box.find(\"div\", class_=\"category\")\n",
    "                    title = box.find(\"div\", class_=\"title\")\n",
    "\n",
    "                    category_text = category.get_text(strip=True) if category else \"No category\"\n",
    "                    title_text = title.get_text(strip=True) if title else \"No title\"\n",
    "\n",
    "                    print(f\"{idx}. [{category_text}] {title_text}\")\n",
    "            else:\n",
    "                print(\"No contents_box found on the page.\")\n",
    "        except requests.RequestException as e:\n",
    "            print(\"Error fetching QR Code content:\", e)\n",
    "else:\n",
    "    print(\"QR 코드를 찾지 못했습니다.\")"
   ]
  }
 ],
 "metadata": {
  "colab": {
   "private_outputs": true,
   "provenance": [],
   "toc_visible": true
  },
  "kernelspec": {
   "display_name": "envtest",
   "language": "python",
   "name": "python3"
  },
  "language_info": {
   "codemirror_mode": {
    "name": "ipython",
    "version": 3
   },
   "file_extension": ".py",
   "mimetype": "text/x-python",
   "name": "python",
   "nbconvert_exporter": "python",
   "pygments_lexer": "ipython3",
   "version": "3.10.16"
  }
 },
 "nbformat": 4,
 "nbformat_minor": 4
}
