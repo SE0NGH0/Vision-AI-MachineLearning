{
 "cells": [
  {
   "cell_type": "markdown",
   "metadata": {
    "id": "XBU7yo59wW3H"
   },
   "source": [
    "# 타이핑 연습게임-기록 저장\n",
    "- 타이핑 게임을 수행\n",
    "- 게임 결과(정답 개수, 소요 시간 등)를 SQLite 데이터베이스에 저장\n",
    "- 정답 여부에 따라 소리를 출력하여 사용자에게 피드백을 제공"
   ]
  },
  {
   "cell_type": "code",
   "execution_count": null,
   "metadata": {
    "id": "vZUU84t8zNW3"
   },
   "outputs": [],
   "source": [
    "############################################################################################################\n",
    "# 미션 : 타자 연습 게임 프로그램 개발\n",
    "# - Python을 사용하여 영어 단어 타자 연습 게임을 개발하세요.\n",
    "# - 게임 결과를 SQLite 데이터베이스에 저장하고, 정답 여부에 따라 피드백(소리와 메시지)을 제공합니다.\n",
    "\n",
    "# 요구사항:\n",
    "# 1. 데이터베이스 생성:\n",
    "#    - 데이터베이스 파일 이름: `records.db`\n",
    "#    - 테이블 이름: `records`\n",
    "#    - 테이블 스키마:\n",
    "#      - id: INTEGER, PRIMARY KEY, AUTOINCREMENT (자동으로 증가하는 고유 식별자)\n",
    "#      - cor_cnt: INTEGER (정답 개수)\n",
    "#      - record: TEXT (총 소요 시간)\n",
    "#      - regdate: TEXT (기록된 날짜와 시간)\n",
    "\n",
    "# 2. 단어 로드:\n",
    "#    - `data/word.txt` 파일에서 영어 단어를 읽어 리스트에 저장하세요.\n",
    "#    - 단어가 총 몇 개인지 출력하여 확인하세요.\n",
    "\n",
    "# 3. 게임 시작:\n",
    "#    - 사용자가 Enter 키를 누르면 게임이 시작됩니다.\n",
    "\n",
    "# 4. 게임 진행:\n",
    "#    - 랜덤으로 단어를 선택하여 출력하고, 사용자는 해당 단어를 정확히 입력해야 합니다.\n",
    "#    - 총 5개의 문제를 출제하며, 정답 여부를 확인합니다.\n",
    "#    - 정답이면 \"Pass!\" 메시지와 함께 정답 소리를 재생하고, 정답 개수를 증가시킵니다.\n",
    "#    - 오답이면 \"Wrong!\" 메시지와 함께 오답 소리를 재생합니다.\n",
    "\n",
    "# 5. 게임 종료:\n",
    "#    - 게임이 종료되면 사용자의 정답 개수와 총 소요 시간을 계산합니다.\n",
    "#    - 정답이 3개 이상이면 \"합격\", 그렇지 않으면 \"불합격\" 메시지를 출력하세요.\n",
    "\n",
    "# 6. 결과 저장:\n",
    "#    - SQLite 데이터베이스에 게임 결과(정답 개수, 소요 시간, 기록 시각)를 저장하세요.\n",
    "\n",
    "# 7. 최종 결과 출력:\n",
    "#    - 게임의 총 소요 시간과 정답 개수를 출력하세요.\n",
    "\n",
    "# 결과:\n",
    "# - Python 코드를 실행하면 단어 타자 연습 게임이 시작됩니다.\n",
    "# - 정답 여부에 따라 소리가 출력되고, 정답 개수를 기록합니다.\n",
    "# - 게임 결과가 콘솔에 출력되며, SQLite 데이터베이스(`records.db`)에 저장됩니다.\n",
    "\n",
    "# 조건:\n",
    "# - Python의 `sqlite3` 모듈과 `winsound` 모듈을 사용합니다.\n",
    "# - 단어 파일(`word.txt`)은 영어 단어로 구성되어야 합니다.\n",
    "# - 커서와 데이터베이스 연결을 적절히 종료하여 리소스 누수를 방지하세요.\n",
    "\n",
    "# 주의:\n",
    "# - `word.txt`, `good.wav`, `bad.wav` 파일의 경로를 정확히 설정하세요.\n",
    "# - 소리가 제대로 재생되지 않을 경우 파일 경로를 다시 확인하세요.\n",
    "# - 데이터베이스에 기록된 데이터가 올바르게 저장되었는지 확인하세요.\n",
    "############################################################################################################\n"
   ]
  },
  {
   "cell_type": "code",
   "execution_count": null,
   "metadata": {
    "id": "G5TgCBsMuqvw"
   },
   "outputs": [],
   "source": [
    "# code here\n",
    "\n",
    "\n",
    "\n",
    "\n",
    "\n",
    "\n",
    "\n",
    "\n",
    "\n",
    "\n",
    "\n",
    "\n",
    "\n",
    "\n",
    "\n",
    "\n",
    "\n",
    "\n",
    "\n",
    "\n",
    "\n"
   ]
  }
 ],
 "metadata": {
  "colab": {
   "authorship_tag": "ABX9TyPKHwyPEqoiPpN6RDss5Wyb",
   "private_outputs": true,
   "provenance": []
  },
  "kernelspec": {
   "display_name": "Python 3 (ipykernel)",
   "language": "python",
   "name": "python3"
  },
  "language_info": {
   "codemirror_mode": {
    "name": "ipython",
    "version": 3
   },
   "file_extension": ".py",
   "mimetype": "text/x-python",
   "name": "python",
   "nbconvert_exporter": "python",
   "pygments_lexer": "ipython3",
   "version": "3.11.7"
  }
 },
 "nbformat": 4,
 "nbformat_minor": 4
}
