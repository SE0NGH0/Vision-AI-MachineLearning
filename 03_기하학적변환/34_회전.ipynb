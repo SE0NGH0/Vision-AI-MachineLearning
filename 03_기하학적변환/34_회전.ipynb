{
 "cells": [
  {
   "cell_type": "markdown",
   "metadata": {},
   "source": [
    "# 회전"
   ]
  },
  {
   "cell_type": "markdown",
   "metadata": {},
   "source": [
    "## 방법1 : cv2.rotate() 사용\n",
    "`cv2.rotate(img, cv2.ROTATE_90_CLOCKWISE)`\n",
    "- cv2.ROTATE_90_CLOCKWISE : 시계 방향으로 회전\n",
    "- v2.ROTATE_180 : 시계 방향으로 회전\n",
    "- cv2.ROTATE_90_COUNTERCLOCKWISE : 시계 반대방향으로 회전\n",
    "\n",
    "- 정해진 각도(90도 단위)로만 회전이 가능\n"
   ]
  },
  {
   "cell_type": "code",
   "execution_count": null,
   "metadata": {},
   "outputs": [],
   "source": [
    "import cv2\n",
    "import matplotlib.pyplot as plt\n",
    "\n",
    "img_file = '../cv_images/img.jpg'\n",
    "img = cv2.imread(img_file)\n",
    "img_rgb = cv2.cvtColor(img, cv2.COLOR_BGR2RGB) # BGR -> RGB 변환\n",
    "\n",
    "rotate_90 = cv2.rotate(img, cv2.ROTATE_90_CLOCKWISE) # 시계 방향으로 회전\n",
    "rotate_180 = ...   # 코드입력 # 시계 방향으로 회전\n",
    "rotate_270 = cv2.rotate(img, cv2.ROTATE_90_COUNTERCLOCKWISE) # 시계 반대방향으로 회전\n",
    "\n",
    "plt.subplot(221), plt.imshow(img_rgb), plt.title('img')\n",
    "plt.subplot(222), plt.imshow(rotate_90), plt.title('rotate_90')     \n",
    "plt.subplot(223), plt.imshow(rotate_180), plt.title('rotate_180')   \n",
    "plt.subplot(224), plt.imshow(rotate_270), plt.title('rotate_270')\n",
    "plt.show()\n",
    "\n",
    "# cv2.imshow('img', img)\n",
    "# cv2.imshow('rotate_90', rotate_90)\n",
    "# cv2.imshow('rotate_180', rotate_180)\n",
    "# cv2.imshow('rotate_270', rotate_270)\n",
    "\n",
    "# cv2.waitKey(0)\n",
    "# cv2.destroyAllWindows()"
   ]
  },
  {
   "cell_type": "markdown",
   "metadata": {},
   "source": [
    "## 방법2 : 회전변환행렬 (cv2.getRotationMatrix2D()) 사용\n",
    "- 회전의 중심, 각도, 스케일링을 정확하게 제어, 복잡한 변환 요구사항이 있을 때 적합"
   ]
  },
  {
   "cell_type": "markdown",
   "metadata": {},
   "source": [
    "회전(Rotate)은 선형 변환 중 하나에 포함되며, 회전 변환 행렬(Rotation matrix)을 통해 변환이 진행\n",
    "\n",
    "`matrix = cv2.getRotationMatrix2D(center, angle, scale)` : 중심점(center), 각도(angle), 비율(scale)로 매핑 변환 행렬(matrix)을 생성\n",
    "\n",
    "- 중심점(center) :튜플(Tuple) 형태로 사용하며 회전의 기준점을 설정\n",
    "- 각도(angle) : 중심점을 기준으로 회전할 각도를 설정\n",
    "- 비율(scale) : 이미지의 확대 및 축소 비율을 설정\n",
    "\n",
    "`dst = cv2.warpAffine(src, M, dsize)` : 원본 이미지(src)에 M(아핀 맵 행렬)을 적용하고 출력 이미지 크기(dsize)로 변형해서 출력 이미지(dst)를 반환\n",
    "\n",
    "- 아핀 맵 행렬(M)은 회전 행렬 생성 함수에서 반환된 매핑 변환 행렬을 사용\n",
    "- 출력 이미지 크기(dsize)는 튜플(Tuple) 형태로 사용하며 출력 이미지의 너비와 높이를 의미\n",
    "- 아핀 맵 행렬에 따라 회전된 이미지를 반환"
   ]
  },
  {
   "cell_type": "code",
   "execution_count": null,
   "metadata": {},
   "outputs": [],
   "source": [
    "import cv2\n",
    "import matplotlib.pyplot as plt\n",
    "\n",
    "img_file = '../cv_images/img.jpg'\n",
    "img = cv2.imread(img_file)\n",
    "\n",
    "height, width, channel = img.shape\n",
    "matrix = cv2.getRotationMatrix2D((width/2, height/2), 90, 1)\n",
    "dst = cv2.warpAffine(img, matrix, (width, height))\n",
    "\n",
    "plt.subplot(121), plt.imshow(img), plt.title('Input')\n",
    "plt.subplot(122), plt.imshow(dst), plt.title('Output')\n",
    "plt.show()\n",
    "\n",
    "# cv2.imshow(\"img\", img)\n",
    "# cv2.imshow(\"dst\", dst)\n",
    "# cv2.waitKey(0)\n",
    "# cv2.destroyAllWindows()"
   ]
  }
 ],
 "metadata": {
  "kernelspec": {
   "display_name": "Python 3 (ipykernel)",
   "language": "python",
   "name": "python3"
  },
  "language_info": {
   "codemirror_mode": {
    "name": "ipython",
    "version": 3
   },
   "file_extension": ".py",
   "mimetype": "text/x-python",
   "name": "python",
   "nbconvert_exporter": "python",
   "pygments_lexer": "ipython3",
   "version": "3.10.9"
  }
 },
 "nbformat": 4,
 "nbformat_minor": 2
}
