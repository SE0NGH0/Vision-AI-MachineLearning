{
 "cells": [
  {
   "cell_type": "markdown",
   "metadata": {
    "id": "iX3F9k21wdhq"
   },
   "source": [
    "# 미세먼지농도 데이터 분석\n",
    "\n",
    "### 0. 분석 목적  \n",
    "- 미세먼지 농도 값을 분석하여 서울시 각 구별로 1년동안 가장 미세먼지 나쁨일 수가 많은 구를 찾는다.  \n",
    "\n",
    "### 1. 데이터 가져와 살펴보기\n",
    "### 2. 데이터 전처리하기\n",
    "### 3. 분석단계\n",
    "### 4. 정보표현 - 가시화"
   ]
  },
  {
   "cell_type": "markdown",
   "metadata": {
    "id": "XTBmgaUXkTjJ"
   },
   "source": [
    "### **Colab에서 한글 폰트 사용 방법1**"
   ]
  },
  {
   "cell_type": "code",
   "execution_count": 1,
   "metadata": {
    "id": "NRGpYzRZkVRD"
   },
   "outputs": [],
   "source": [
    "# !pip install koreanize-matplotlib\n",
    "\n",
    "import koreanize_matplotlib"
   ]
  },
  {
   "cell_type": "markdown",
   "metadata": {
    "id": "d4loXYZmYl3o"
   },
   "source": [
    "### **Colab에서 한글 폰트 사용 방법2**\n",
    "- colab에서 한글표시를 위해서 폰트 설치위해 코드 실행하기 :\n",
    "- 이 셀 실행후 런타임 >세션 다시 시작하기"
   ]
  },
  {
   "cell_type": "code",
   "execution_count": null,
   "metadata": {
    "id": "5MakZXwmwdhw"
   },
   "outputs": [],
   "source": [
    "# colab에서 한글표시를 위해서 폰트 설치위해 코드 실행하기\n",
    "\n",
    "# !sudo apt-get install -y fonts-nanum\n",
    "# !sudo fc-cache -fv\n",
    "# !rm ~/.cache/matplotlib -rf"
   ]
  },
  {
   "cell_type": "markdown",
   "metadata": {
    "id": "4sP7tLGq9qMs"
   },
   "source": [
    "### **1. 데이터 가져와 살펴보기**"
   ]
  },
  {
   "cell_type": "code",
   "execution_count": null,
   "metadata": {
    "colab": {
     "base_uri": "https://localhost:8080/"
    },
    "executionInfo": {
     "elapsed": 23421,
     "status": "ok",
     "timestamp": 1735208286838,
     "user": {
      "displayName": "강희숙",
      "userId": "05520711596090317319"
     },
     "user_tz": -540
    },
    "id": "SlCiwtuDwdhy",
    "outputId": "711d56b5-1b94-40bf-dd1c-e64b56a47923"
   },
   "outputs": [
    {
     "name": "stdout",
     "output_type": "stream",
     "text": [
      "Downloading...\n",
      "From: https://drive.google.com/uc?id=1V_4X6ERt6U5E0NeCAdyucBFO83yseT6n\n",
      "To: /content/2018_PM.xlsx\n",
      "100% 17.8M/17.8M [00:00<00:00, 38.7MB/s]\n"
     ]
    }
   ],
   "source": [
    "# 구글 Colab에서 공유된 파일 다운로드해서 가져오기 - 미세먼지데이터 (2018_PM.xlsx)\n",
    "#!gdown 1V_4X6ERt6U5E0NeCAdyucBFO83yseT6n"
   ]
  },
  {
   "cell_type": "markdown",
   "metadata": {
    "id": "AWf67DW1CnMJ"
   },
   "source": [
    "**1) 데이터 처리와 연산을 위한 패키지 불러오기**"
   ]
  },
  {
   "cell_type": "code",
   "execution_count": 3,
   "metadata": {
    "id": "CUDcNoJt1vvp"
   },
   "outputs": [],
   "source": [
    "# numpy와 pandas 가져와 as np, pd 로 사용하기\n",
    "import numpy as np              #... 코드 작성\n",
    "import pandas as pd              #... 코드 작성"
   ]
  },
  {
   "cell_type": "markdown",
   "metadata": {
    "id": "Gf7issdCIsDR"
   },
   "source": [
    "**2) 판다스 데이터프레임 df 에 엑셀 파일 읽어서 저장하기**"
   ]
  },
  {
   "cell_type": "code",
   "execution_count": 4,
   "metadata": {
    "id": "X1VLYCzyGTRW"
   },
   "outputs": [],
   "source": [
    "# 판다스 read_excel()를 사용하여 \"2018_PM.xlsx\" 읽어 df에 저장하기 : 필요시 경로지정\n",
    "df = pd.read_excel('2018_PM.xlsx')              #... 코드 작성"
   ]
  },
  {
   "cell_type": "markdown",
   "metadata": {
    "id": "1rSltEbj_SWR"
   },
   "source": [
    "**3) 상위/하위 데이터 5개 출력하기**"
   ]
  },
  {
   "cell_type": "code",
   "execution_count": 5,
   "metadata": {
    "colab": {
     "base_uri": "https://localhost:8080/",
     "height": 206
    },
    "id": "0neQv_onHpfk",
    "outputId": "5aa290c2-cc67-454a-aed1-57fffb76c6f6"
   },
   "outputs": [
    {
     "data": {
      "text/html": [
       "<div>\n",
       "<style scoped>\n",
       "    .dataframe tbody tr th:only-of-type {\n",
       "        vertical-align: middle;\n",
       "    }\n",
       "\n",
       "    .dataframe tbody tr th {\n",
       "        vertical-align: top;\n",
       "    }\n",
       "\n",
       "    .dataframe thead th {\n",
       "        text-align: right;\n",
       "    }\n",
       "</style>\n",
       "<table border=\"1\" class=\"dataframe\">\n",
       "  <thead>\n",
       "    <tr style=\"text-align: right;\">\n",
       "      <th></th>\n",
       "      <th>지역</th>\n",
       "      <th>측정소코드</th>\n",
       "      <th>측정소명</th>\n",
       "      <th>측정일시</th>\n",
       "      <th>SO2</th>\n",
       "      <th>CO</th>\n",
       "      <th>O3</th>\n",
       "      <th>NO2</th>\n",
       "      <th>PM10</th>\n",
       "      <th>PM25</th>\n",
       "      <th>주소</th>\n",
       "    </tr>\n",
       "  </thead>\n",
       "  <tbody>\n",
       "    <tr>\n",
       "      <th>0</th>\n",
       "      <td>서울 중구</td>\n",
       "      <td>111121</td>\n",
       "      <td>중구</td>\n",
       "      <td>2018010101</td>\n",
       "      <td>0.004</td>\n",
       "      <td>0.5</td>\n",
       "      <td>0.020</td>\n",
       "      <td>0.020</td>\n",
       "      <td>34.0</td>\n",
       "      <td>19.0</td>\n",
       "      <td>서울 중구 덕수궁길 15</td>\n",
       "    </tr>\n",
       "    <tr>\n",
       "      <th>1</th>\n",
       "      <td>서울 중구</td>\n",
       "      <td>111121</td>\n",
       "      <td>중구</td>\n",
       "      <td>2018010102</td>\n",
       "      <td>0.004</td>\n",
       "      <td>0.4</td>\n",
       "      <td>0.024</td>\n",
       "      <td>0.016</td>\n",
       "      <td>27.0</td>\n",
       "      <td>14.0</td>\n",
       "      <td>서울 중구 덕수궁길 15</td>\n",
       "    </tr>\n",
       "    <tr>\n",
       "      <th>2</th>\n",
       "      <td>서울 중구</td>\n",
       "      <td>111121</td>\n",
       "      <td>중구</td>\n",
       "      <td>2018010103</td>\n",
       "      <td>0.004</td>\n",
       "      <td>0.4</td>\n",
       "      <td>0.018</td>\n",
       "      <td>0.022</td>\n",
       "      <td>26.0</td>\n",
       "      <td>14.0</td>\n",
       "      <td>서울 중구 덕수궁길 15</td>\n",
       "    </tr>\n",
       "    <tr>\n",
       "      <th>3</th>\n",
       "      <td>서울 중구</td>\n",
       "      <td>111121</td>\n",
       "      <td>중구</td>\n",
       "      <td>2018010104</td>\n",
       "      <td>0.004</td>\n",
       "      <td>0.5</td>\n",
       "      <td>0.010</td>\n",
       "      <td>0.030</td>\n",
       "      <td>26.0</td>\n",
       "      <td>15.0</td>\n",
       "      <td>서울 중구 덕수궁길 15</td>\n",
       "    </tr>\n",
       "    <tr>\n",
       "      <th>4</th>\n",
       "      <td>서울 중구</td>\n",
       "      <td>111121</td>\n",
       "      <td>중구</td>\n",
       "      <td>2018010105</td>\n",
       "      <td>0.004</td>\n",
       "      <td>0.6</td>\n",
       "      <td>0.011</td>\n",
       "      <td>0.029</td>\n",
       "      <td>28.0</td>\n",
       "      <td>16.0</td>\n",
       "      <td>서울 중구 덕수궁길 15</td>\n",
       "    </tr>\n",
       "  </tbody>\n",
       "</table>\n",
       "</div>"
      ],
      "text/plain": [
       "      지역   측정소코드 측정소명        측정일시    SO2   CO     O3    NO2  PM10  PM25  \\\n",
       "0  서울 중구  111121   중구  2018010101  0.004  0.5  0.020  0.020  34.0  19.0   \n",
       "1  서울 중구  111121   중구  2018010102  0.004  0.4  0.024  0.016  27.0  14.0   \n",
       "2  서울 중구  111121   중구  2018010103  0.004  0.4  0.018  0.022  26.0  14.0   \n",
       "3  서울 중구  111121   중구  2018010104  0.004  0.5  0.010  0.030  26.0  15.0   \n",
       "4  서울 중구  111121   중구  2018010105  0.004  0.6  0.011  0.029  28.0  16.0   \n",
       "\n",
       "              주소  \n",
       "0  서울 중구 덕수궁길 15  \n",
       "1  서울 중구 덕수궁길 15  \n",
       "2  서울 중구 덕수궁길 15  \n",
       "3  서울 중구 덕수궁길 15  \n",
       "4  서울 중구 덕수궁길 15  "
      ]
     },
     "execution_count": 5,
     "metadata": {},
     "output_type": "execute_result"
    }
   ],
   "source": [
    "# .head()를 사용하여 저장한 df 자료의 위에서 5개까지 읽어오기\n",
    "df.head()              #... 코드 작성"
   ]
  },
  {
   "cell_type": "code",
   "execution_count": 6,
   "metadata": {
    "colab": {
     "base_uri": "https://localhost:8080/",
     "height": 363
    },
    "id": "cXgdZpxMwdh2",
    "outputId": "18de26fa-1e28-49dc-9e0e-7659b18e5346"
   },
   "outputs": [
    {
     "data": {
      "text/html": [
       "<div>\n",
       "<style scoped>\n",
       "    .dataframe tbody tr th:only-of-type {\n",
       "        vertical-align: middle;\n",
       "    }\n",
       "\n",
       "    .dataframe tbody tr th {\n",
       "        vertical-align: top;\n",
       "    }\n",
       "\n",
       "    .dataframe thead th {\n",
       "        text-align: right;\n",
       "    }\n",
       "</style>\n",
       "<table border=\"1\" class=\"dataframe\">\n",
       "  <thead>\n",
       "    <tr style=\"text-align: right;\">\n",
       "      <th></th>\n",
       "      <th>지역</th>\n",
       "      <th>측정소코드</th>\n",
       "      <th>측정소명</th>\n",
       "      <th>측정일시</th>\n",
       "      <th>SO2</th>\n",
       "      <th>CO</th>\n",
       "      <th>O3</th>\n",
       "      <th>NO2</th>\n",
       "      <th>PM10</th>\n",
       "      <th>PM25</th>\n",
       "      <th>주소</th>\n",
       "    </tr>\n",
       "  </thead>\n",
       "  <tbody>\n",
       "    <tr>\n",
       "      <th>343099</th>\n",
       "      <td>서울 노원구</td>\n",
       "      <td>111312</td>\n",
       "      <td>화랑로</td>\n",
       "      <td>2018123120</td>\n",
       "      <td>0.004</td>\n",
       "      <td>0.5</td>\n",
       "      <td>0.005</td>\n",
       "      <td>0.036</td>\n",
       "      <td>35.0</td>\n",
       "      <td>22.0</td>\n",
       "      <td>서울 노원구 화랑로 429</td>\n",
       "    </tr>\n",
       "    <tr>\n",
       "      <th>343100</th>\n",
       "      <td>서울 노원구</td>\n",
       "      <td>111312</td>\n",
       "      <td>화랑로</td>\n",
       "      <td>2018123121</td>\n",
       "      <td>0.005</td>\n",
       "      <td>0.9</td>\n",
       "      <td>0.004</td>\n",
       "      <td>0.041</td>\n",
       "      <td>40.0</td>\n",
       "      <td>22.0</td>\n",
       "      <td>서울 노원구 화랑로 429</td>\n",
       "    </tr>\n",
       "    <tr>\n",
       "      <th>343101</th>\n",
       "      <td>서울 노원구</td>\n",
       "      <td>111312</td>\n",
       "      <td>화랑로</td>\n",
       "      <td>2018123122</td>\n",
       "      <td>0.005</td>\n",
       "      <td>1.1</td>\n",
       "      <td>0.004</td>\n",
       "      <td>0.044</td>\n",
       "      <td>45.0</td>\n",
       "      <td>23.0</td>\n",
       "      <td>서울 노원구 화랑로 429</td>\n",
       "    </tr>\n",
       "    <tr>\n",
       "      <th>343102</th>\n",
       "      <td>서울 노원구</td>\n",
       "      <td>111312</td>\n",
       "      <td>화랑로</td>\n",
       "      <td>2018123123</td>\n",
       "      <td>0.005</td>\n",
       "      <td>1.0</td>\n",
       "      <td>0.004</td>\n",
       "      <td>0.040</td>\n",
       "      <td>51.0</td>\n",
       "      <td>23.0</td>\n",
       "      <td>서울 노원구 화랑로 429</td>\n",
       "    </tr>\n",
       "    <tr>\n",
       "      <th>343103</th>\n",
       "      <td>서울 노원구</td>\n",
       "      <td>111312</td>\n",
       "      <td>화랑로</td>\n",
       "      <td>2018123124</td>\n",
       "      <td>0.005</td>\n",
       "      <td>1.0</td>\n",
       "      <td>0.004</td>\n",
       "      <td>0.037</td>\n",
       "      <td>43.0</td>\n",
       "      <td>26.0</td>\n",
       "      <td>서울 노원구 화랑로 429</td>\n",
       "    </tr>\n",
       "  </tbody>\n",
       "</table>\n",
       "</div>"
      ],
      "text/plain": [
       "             지역   측정소코드 측정소명        측정일시    SO2   CO     O3    NO2  PM10  \\\n",
       "343099  서울 노원구   111312  화랑로  2018123120  0.004  0.5  0.005  0.036  35.0   \n",
       "343100  서울 노원구   111312  화랑로  2018123121  0.005  0.9  0.004  0.041  40.0   \n",
       "343101  서울 노원구   111312  화랑로  2018123122  0.005  1.1  0.004  0.044  45.0   \n",
       "343102  서울 노원구   111312  화랑로  2018123123  0.005  1.0  0.004  0.040  51.0   \n",
       "343103  서울 노원구   111312  화랑로  2018123124  0.005  1.0  0.004  0.037  43.0   \n",
       "\n",
       "        PM25              주소  \n",
       "343099  22.0  서울 노원구 화랑로 429  \n",
       "343100  22.0  서울 노원구 화랑로 429  \n",
       "343101  23.0  서울 노원구 화랑로 429  \n",
       "343102  23.0  서울 노원구 화랑로 429  \n",
       "343103  26.0  서울 노원구 화랑로 429  "
      ]
     },
     "execution_count": 6,
     "metadata": {},
     "output_type": "execute_result"
    }
   ],
   "source": [
    "# .tail()를 사용하여 저장한 df 자료의 끝에서 10개까지 읽어오기\n",
    "df.tail()              #... 코드 작성"
   ]
  },
  {
   "cell_type": "markdown",
   "metadata": {
    "id": "NPQrdW-mMCAe"
   },
   "source": [
    "**4) 데이터 형태 확인하기**"
   ]
  },
  {
   "cell_type": "code",
   "execution_count": 7,
   "metadata": {
    "colab": {
     "base_uri": "https://localhost:8080/"
    },
    "id": "xbHsuP5pIO9S",
    "outputId": "264eebda-4b0c-4fcd-fbf4-cb8d83addd95"
   },
   "outputs": [
    {
     "data": {
      "text/plain": [
       "(343104, 11)"
      ]
     },
     "execution_count": 7,
     "metadata": {},
     "output_type": "execute_result"
    }
   ],
   "source": [
    "# .shape 사용하여 데이터 형태 확인하기\n",
    "df.shape             #... 코드 작성"
   ]
  },
  {
   "cell_type": "code",
   "execution_count": 8,
   "metadata": {
    "colab": {
     "base_uri": "https://localhost:8080/"
    },
    "id": "aU-roMgcMJs1",
    "outputId": "9e1ec6b6-dcf6-4ce0-eaaa-42520b902bbf"
   },
   "outputs": [
    {
     "name": "stdout",
     "output_type": "stream",
     "text": [
      "<class 'pandas.core.frame.DataFrame'>\n",
      "RangeIndex: 343104 entries, 0 to 343103\n",
      "Data columns (total 11 columns):\n",
      " #   Column  Non-Null Count   Dtype  \n",
      "---  ------  --------------   -----  \n",
      " 0   지역      343104 non-null  object \n",
      " 1   측정소코드   343104 non-null  int64  \n",
      " 2   측정소명    343104 non-null  object \n",
      " 3   측정일시    343104 non-null  int64  \n",
      " 4   SO2     330883 non-null  float64\n",
      " 5   CO      331084 non-null  float64\n",
      " 6   O3      331687 non-null  float64\n",
      " 7   NO2     332877 non-null  float64\n",
      " 8   PM10    325985 non-null  float64\n",
      " 9   PM25    298218 non-null  float64\n",
      " 10  주소      343104 non-null  object \n",
      "dtypes: float64(6), int64(2), object(3)\n",
      "memory usage: 28.8+ MB\n"
     ]
    }
   ],
   "source": [
    "# 데이터 정보 확인하기 info()\n",
    "df.info()              #... 코드 작성"
   ]
  },
  {
   "cell_type": "markdown",
   "metadata": {
    "id": "x1JQUcPwd2ts"
   },
   "source": [
    "## 2.데이터 전처리하기\n",
    "\n",
    "**1) 필요한 데이터만 가져와 새로운 데이터프레임 생성하기**"
   ]
  },
  {
   "cell_type": "code",
   "execution_count": 9,
   "metadata": {
    "id": "oUj3-EkRaZqP"
   },
   "outputs": [],
   "source": [
    "# \"지역\",\"측정일시\",\"PM10\" 세 항목을 갖은 새 데이터프레임을 df1 에 저장하기\n",
    "# 방법1 : 필요한 항목으로 새로운 df1 생성하기\n",
    "df1 = df[['지역', '측정일시', 'PM10']].copy()            #... 코드 작성\n",
    "\n",
    "# 방법2 :  불필요한 항목 삭제\n",
    "# df1 = df.drop(columns=['측정소코드','측정소명','SO2','CO','O3','NO2','PM25','주소'])"
   ]
  },
  {
   "cell_type": "code",
   "execution_count": 10,
   "metadata": {
    "colab": {
     "base_uri": "https://localhost:8080/"
    },
    "id": "2wHh3TCEbl07",
    "outputId": "e7ba3047-5818-43af-8ead-77206708ffe6"
   },
   "outputs": [
    {
     "name": "stdout",
     "output_type": "stream",
     "text": [
      "<class 'pandas.core.frame.DataFrame'>\n",
      "RangeIndex: 343104 entries, 0 to 343103\n",
      "Data columns (total 3 columns):\n",
      " #   Column  Non-Null Count   Dtype  \n",
      "---  ------  --------------   -----  \n",
      " 0   지역      343104 non-null  object \n",
      " 1   측정일시    343104 non-null  int64  \n",
      " 2   PM10    325985 non-null  float64\n",
      "dtypes: float64(1), int64(1), object(1)\n",
      "memory usage: 7.9+ MB\n"
     ]
    }
   ],
   "source": [
    "df1.info()"
   ]
  },
  {
   "cell_type": "markdown",
   "metadata": {
    "id": "M2J-6MIFM_vL"
   },
   "source": [
    "**2)결측치 처리하기**"
   ]
  },
  {
   "cell_type": "code",
   "execution_count": 11,
   "metadata": {
    "colab": {
     "base_uri": "https://localhost:8080/",
     "height": 423
    },
    "id": "fTrZa6dxM-z3",
    "outputId": "dfaad601-e9a6-4af3-feab-965314eb9386"
   },
   "outputs": [
    {
     "data": {
      "text/html": [
       "<div>\n",
       "<style scoped>\n",
       "    .dataframe tbody tr th:only-of-type {\n",
       "        vertical-align: middle;\n",
       "    }\n",
       "\n",
       "    .dataframe tbody tr th {\n",
       "        vertical-align: top;\n",
       "    }\n",
       "\n",
       "    .dataframe thead th {\n",
       "        text-align: right;\n",
       "    }\n",
       "</style>\n",
       "<table border=\"1\" class=\"dataframe\">\n",
       "  <thead>\n",
       "    <tr style=\"text-align: right;\">\n",
       "      <th></th>\n",
       "      <th>지역</th>\n",
       "      <th>측정일시</th>\n",
       "      <th>PM10</th>\n",
       "    </tr>\n",
       "  </thead>\n",
       "  <tbody>\n",
       "    <tr>\n",
       "      <th>0</th>\n",
       "      <td>False</td>\n",
       "      <td>False</td>\n",
       "      <td>False</td>\n",
       "    </tr>\n",
       "    <tr>\n",
       "      <th>1</th>\n",
       "      <td>False</td>\n",
       "      <td>False</td>\n",
       "      <td>False</td>\n",
       "    </tr>\n",
       "    <tr>\n",
       "      <th>2</th>\n",
       "      <td>False</td>\n",
       "      <td>False</td>\n",
       "      <td>False</td>\n",
       "    </tr>\n",
       "    <tr>\n",
       "      <th>3</th>\n",
       "      <td>False</td>\n",
       "      <td>False</td>\n",
       "      <td>False</td>\n",
       "    </tr>\n",
       "    <tr>\n",
       "      <th>4</th>\n",
       "      <td>False</td>\n",
       "      <td>False</td>\n",
       "      <td>False</td>\n",
       "    </tr>\n",
       "    <tr>\n",
       "      <th>...</th>\n",
       "      <td>...</td>\n",
       "      <td>...</td>\n",
       "      <td>...</td>\n",
       "    </tr>\n",
       "    <tr>\n",
       "      <th>343099</th>\n",
       "      <td>False</td>\n",
       "      <td>False</td>\n",
       "      <td>False</td>\n",
       "    </tr>\n",
       "    <tr>\n",
       "      <th>343100</th>\n",
       "      <td>False</td>\n",
       "      <td>False</td>\n",
       "      <td>False</td>\n",
       "    </tr>\n",
       "    <tr>\n",
       "      <th>343101</th>\n",
       "      <td>False</td>\n",
       "      <td>False</td>\n",
       "      <td>False</td>\n",
       "    </tr>\n",
       "    <tr>\n",
       "      <th>343102</th>\n",
       "      <td>False</td>\n",
       "      <td>False</td>\n",
       "      <td>False</td>\n",
       "    </tr>\n",
       "    <tr>\n",
       "      <th>343103</th>\n",
       "      <td>False</td>\n",
       "      <td>False</td>\n",
       "      <td>False</td>\n",
       "    </tr>\n",
       "  </tbody>\n",
       "</table>\n",
       "<p>343104 rows × 3 columns</p>\n",
       "</div>"
      ],
      "text/plain": [
       "           지역   측정일시   PM10\n",
       "0       False  False  False\n",
       "1       False  False  False\n",
       "2       False  False  False\n",
       "3       False  False  False\n",
       "4       False  False  False\n",
       "...       ...    ...    ...\n",
       "343099  False  False  False\n",
       "343100  False  False  False\n",
       "343101  False  False  False\n",
       "343102  False  False  False\n",
       "343103  False  False  False\n",
       "\n",
       "[343104 rows x 3 columns]"
      ]
     },
     "execution_count": 11,
     "metadata": {},
     "output_type": "execute_result"
    }
   ],
   "source": [
    "# isnull() 사용하여 NaN 값이 있는지 확인\n",
    "df1.isnull()    # df1.isna()"
   ]
  },
  {
   "cell_type": "code",
   "execution_count": 12,
   "metadata": {
    "colab": {
     "base_uri": "https://localhost:8080/"
    },
    "id": "NZfU0bWXMPRk",
    "outputId": "117cba19-7678-4e55-b2f9-93a51ecc02de"
   },
   "outputs": [
    {
     "data": {
      "text/plain": [
       "지역          0\n",
       "측정일시        0\n",
       "PM10    17119\n",
       "dtype: int64"
      ]
     },
     "execution_count": 12,
     "metadata": {},
     "output_type": "execute_result"
    }
   ],
   "source": [
    "# NaN 갯수 합계 구하기\n",
    "df1.isnull().sum()              #... 코드 작성\n",
    "# df1.isna().sum()"
   ]
  },
  {
   "cell_type": "code",
   "execution_count": 13,
   "metadata": {
    "colab": {
     "base_uri": "https://localhost:8080/"
    },
    "id": "TC7oIKpfNQD_",
    "outputId": "400d8c14-e19b-4d75-9201-2f108d1ad82b"
   },
   "outputs": [
    {
     "data": {
      "text/plain": [
       "np.float64(42.12807951286102)"
      ]
     },
     "execution_count": 13,
     "metadata": {},
     "output_type": "execute_result"
    }
   ],
   "source": [
    "# .mean() 사용하여 PM10 컬럼 평균구하기\n",
    "PM10_mean =  df1['PM10'].mean()              #... 코드 작성\n",
    "PM10_mean"
   ]
  },
  {
   "cell_type": "code",
   "execution_count": 14,
   "metadata": {
    "colab": {
     "base_uri": "https://localhost:8080/"
    },
    "id": "NvelHPfo6NLH",
    "outputId": "e6c4d7b1-f5d0-46f0-8496-75e41249a3a8"
   },
   "outputs": [
    {
     "name": "stderr",
     "output_type": "stream",
     "text": [
      "C:\\Users\\intel09\\AppData\\Local\\Temp\\ipykernel_10804\\3619433714.py:2: FutureWarning: A value is trying to be set on a copy of a DataFrame or Series through chained assignment using an inplace method.\n",
      "The behavior will change in pandas 3.0. This inplace method will never work because the intermediate object on which we are setting values always behaves as a copy.\n",
      "\n",
      "For example, when doing 'df[col].method(value, inplace=True)', try using 'df.method({col: value}, inplace=True)' or df[col] = df[col].method(value) instead, to perform the operation inplace on the original object.\n",
      "\n",
      "\n",
      "  df1['PM10'].fillna(PM10_mean, inplace=True)              #... 코드 작성\n"
     ]
    }
   ],
   "source": [
    "# PM10 컬럼 평균값으로 null 값 채우기\n",
    "df1['PM10'].fillna(PM10_mean, inplace=True)              #... 코드 작성"
   ]
  },
  {
   "cell_type": "code",
   "execution_count": null,
   "metadata": {
    "colab": {
     "base_uri": "https://localhost:8080/"
    },
    "id": "JXO-iEk96SdH",
    "outputId": "ad3a5862-667d-4e15-b861-cfde6e50fadf"
   },
   "outputs": [
    {
     "data": {
      "text/plain": [
       "지역      0\n",
       "측정일시    0\n",
       "PM10    0\n",
       "dtype: int64"
      ]
     },
     "execution_count": 37,
     "metadata": {},
     "output_type": "execute_result"
    }
   ],
   "source": [
    "# null이 제거되었는지 다시한 번 null 갯수합계로 확인해보기\n",
    "...              #... 코드 작성"
   ]
  },
  {
   "cell_type": "markdown",
   "metadata": {
    "id": "jMTXaVkG991o"
   },
   "source": [
    "## **3.분석 단계**\n",
    "- 데이터 형 변환\n",
    "- groupby()"
   ]
  },
  {
   "cell_type": "markdown",
   "metadata": {
    "id": "lWO3k59m7tfF"
   },
   "source": [
    "### astype() 알아보기\n",
    "\n",
    "- Pandas Series(열 전체)에 적용되어 벡터화된 연산을 수행.\n",
    "- 데이터프레임의 한 열에 있는 모든 값들을 한 번에 문자열로 변환.\n",
    "빠르고 간결하며, Pandas에서 권장되는 방식.\n",
    "- 열의 데이터를 int, float, str, category 등으로 변환할 때 사용.\n",
    "\n",
    "```\n",
    "astype('str')\n",
    "```"
   ]
  },
  {
   "cell_type": "markdown",
   "metadata": {
    "id": "iEn4aAmt-QfF"
   },
   "source": [
    "**1) 지역별, 측정 일자별 최대값을 구하기 위해 측정일자 항목의 데이터 타입 변환**"
   ]
  },
  {
   "cell_type": "code",
   "execution_count": 15,
   "metadata": {
    "colab": {
     "base_uri": "https://localhost:8080/"
    },
    "id": "teA6a1J0-sKX",
    "outputId": "72a31669-7bdb-42e4-bdf0-d602258d3990"
   },
   "outputs": [
    {
     "name": "stdout",
     "output_type": "stream",
     "text": [
      "<class 'pandas.core.frame.DataFrame'>\n",
      "RangeIndex: 343104 entries, 0 to 343103\n",
      "Data columns (total 3 columns):\n",
      " #   Column  Non-Null Count   Dtype  \n",
      "---  ------  --------------   -----  \n",
      " 0   지역      343104 non-null  object \n",
      " 1   측정일시    343104 non-null  int64  \n",
      " 2   PM10    343104 non-null  float64\n",
      "dtypes: float64(1), int64(1), object(1)\n",
      "memory usage: 7.9+ MB\n"
     ]
    }
   ],
   "source": [
    "# 데이터 정보확인하기\n",
    "df1.info()\n",
    "# print(df1.dtypes)"
   ]
  },
  {
   "cell_type": "code",
   "execution_count": 16,
   "metadata": {
    "colab": {
     "base_uri": "https://localhost:8080/"
    },
    "id": "ucpRguqO6c_j",
    "outputId": "dd2b43ae-a310-43f7-ef82-76d5eba8f5b1"
   },
   "outputs": [],
   "source": [
    "# 날짜기준으로 데이터 처리하기위해 측정일시 데이터형 변환하기\n",
    "df1['측정일시'] = df1['측정일시'].astype('str')              #... 코드 작성                                     # str로 변형\n",
    "df1['측정일시'] = df1['측정일시'].str[0:8]              #... 코드 작성                                          # 년[:4], 월[4:6], 일[6:8]만으로 자르기"
   ]
  },
  {
   "cell_type": "code",
   "execution_count": 17,
   "metadata": {
    "colab": {
     "base_uri": "https://localhost:8080/"
    },
    "id": "VbXvl7FR-496",
    "outputId": "e62876d5-6617-44e6-cc9d-8cc1753d8cf6"
   },
   "outputs": [
    {
     "name": "stdout",
     "output_type": "stream",
     "text": [
      "<class 'pandas.core.frame.DataFrame'>\n",
      "RangeIndex: 343104 entries, 0 to 343103\n",
      "Data columns (total 3 columns):\n",
      " #   Column  Non-Null Count   Dtype  \n",
      "---  ------  --------------   -----  \n",
      " 0   지역      343104 non-null  object \n",
      " 1   측정일시    343104 non-null  object \n",
      " 2   PM10    343104 non-null  float64\n",
      "dtypes: float64(1), object(2)\n",
      "memory usage: 7.9+ MB\n"
     ]
    }
   ],
   "source": [
    "# 데이터 정보 확인하기 info()\n",
    "df1.info()"
   ]
  },
  {
   "cell_type": "code",
   "execution_count": 18,
   "metadata": {
    "colab": {
     "base_uri": "https://localhost:8080/",
     "height": 206
    },
    "id": "z0BbOTHywdh8",
    "outputId": "12b7dc3c-4fb6-4e60-c329-25748861052b"
   },
   "outputs": [
    {
     "data": {
      "text/html": [
       "<div>\n",
       "<style scoped>\n",
       "    .dataframe tbody tr th:only-of-type {\n",
       "        vertical-align: middle;\n",
       "    }\n",
       "\n",
       "    .dataframe tbody tr th {\n",
       "        vertical-align: top;\n",
       "    }\n",
       "\n",
       "    .dataframe thead th {\n",
       "        text-align: right;\n",
       "    }\n",
       "</style>\n",
       "<table border=\"1\" class=\"dataframe\">\n",
       "  <thead>\n",
       "    <tr style=\"text-align: right;\">\n",
       "      <th></th>\n",
       "      <th>지역</th>\n",
       "      <th>측정일시</th>\n",
       "      <th>PM10</th>\n",
       "    </tr>\n",
       "  </thead>\n",
       "  <tbody>\n",
       "    <tr>\n",
       "      <th>0</th>\n",
       "      <td>서울 중구</td>\n",
       "      <td>20180101</td>\n",
       "      <td>34.0</td>\n",
       "    </tr>\n",
       "    <tr>\n",
       "      <th>1</th>\n",
       "      <td>서울 중구</td>\n",
       "      <td>20180101</td>\n",
       "      <td>27.0</td>\n",
       "    </tr>\n",
       "    <tr>\n",
       "      <th>2</th>\n",
       "      <td>서울 중구</td>\n",
       "      <td>20180101</td>\n",
       "      <td>26.0</td>\n",
       "    </tr>\n",
       "    <tr>\n",
       "      <th>3</th>\n",
       "      <td>서울 중구</td>\n",
       "      <td>20180101</td>\n",
       "      <td>26.0</td>\n",
       "    </tr>\n",
       "    <tr>\n",
       "      <th>4</th>\n",
       "      <td>서울 중구</td>\n",
       "      <td>20180101</td>\n",
       "      <td>28.0</td>\n",
       "    </tr>\n",
       "  </tbody>\n",
       "</table>\n",
       "</div>"
      ],
      "text/plain": [
       "      지역      측정일시  PM10\n",
       "0  서울 중구  20180101  34.0\n",
       "1  서울 중구  20180101  27.0\n",
       "2  서울 중구  20180101  26.0\n",
       "3  서울 중구  20180101  26.0\n",
       "4  서울 중구  20180101  28.0"
      ]
     },
     "execution_count": 18,
     "metadata": {},
     "output_type": "execute_result"
    }
   ],
   "source": [
    "# 데이터 위에서부터 5개 보여주기\n",
    "df1.head()"
   ]
  },
  {
   "cell_type": "markdown",
   "metadata": {
    "id": "yEYLSv5F51n2"
   },
   "source": [
    "### groupby() 알아보기\n",
    "Pandas의 groupby()는 데이터를 특정 기준으로 그룹화하여 집계(sum, mean 등)하거나 변환하는 데 사용\n",
    "\n",
    "```\n",
    "import pandas as pd\n",
    "\n",
    "data = {\n",
    "    \"지역\": [\"서울\", \"서울\", \"부산\", \"부산\", \"대구\"],\n",
    "    \"매출\": [100, 200, 150, 300, 250]\n",
    "}\n",
    "df = pd.DataFrame(data)\n",
    "\n",
    "# '지역'별로 그룹화하여 '매출' 합계 계산\n",
    "grouped = df.groupby(\"지역\")[\"매출\"].sum()\n",
    "\n",
    "print(grouped)\n",
    "```\n",
    "<출력>\n",
    "```\n",
    "지역\n",
    "대구    250\n",
    "부산    450\n",
    "서울    300\n",
    "Name: 매출, dtype: int64\n",
    "```"
   ]
  },
  {
   "cell_type": "markdown",
   "metadata": {
    "id": "E_djRX6wBBBD"
   },
   "source": [
    "**2) 지역별, 일자별 최대값을 구한 후 PM10 값이 70 이상인 데이터 추출하기**"
   ]
  },
  {
   "cell_type": "code",
   "execution_count": 19,
   "metadata": {
    "colab": {
     "base_uri": "https://localhost:8080/"
    },
    "id": "AiTKYmDf_7ja",
    "outputId": "b0d80142-d6b9-43dd-f845-c9aa8fff710c"
   },
   "outputs": [
    {
     "data": {
      "text/plain": [
       "측정일시      지역     \n",
       "20180101  서울 강남구      72.00000\n",
       "          서울 강동구      71.00000\n",
       "          서울 강북구      57.00000\n",
       "          서울 강서구      71.00000\n",
       "          서울 강서로      42.12808\n",
       "          서울 관악구      52.00000\n",
       "          서울 광진구      58.00000\n",
       "          서울 구로구      67.00000\n",
       "          서울 금천구      57.00000\n",
       "          서울 노원구      63.00000\n",
       "          서울 도봉구      65.00000\n",
       "          서울 동대문구     76.00000\n",
       "          서울 동작구      65.00000\n",
       "          서울 마포구      88.00000\n",
       "          서울 서대문구     42.12808\n",
       "          서울 서초구      88.00000\n",
       "          서울 성동구      79.00000\n",
       "          서울 성북구      79.00000\n",
       "          서울 송파구      78.00000\n",
       "          서울 양천구      49.00000\n",
       "          서울 영등포구     70.00000\n",
       "          서울 용산구      80.00000\n",
       "          서울 은평구      60.00000\n",
       "          서울 종로구      44.00000\n",
       "          서울 중구       42.00000\n",
       "          서울 중구 청     49.00000\n",
       "          서울 중랑구      71.00000\n",
       "20180102  서울 강남구      83.00000\n",
       "          서울 강동구     104.00000\n",
       "          서울 강북구      67.00000\n",
       "          서울 강서구     109.00000\n",
       "          서울 강서로      42.12808\n",
       "          서울 관악구      50.00000\n",
       "          서울 광진구      69.00000\n",
       "          서울 구로구      80.00000\n",
       "          서울 금천구      67.00000\n",
       "          서울 노원구      71.00000\n",
       "          서울 도봉구      57.00000\n",
       "          서울 동대문구     78.00000\n",
       "          서울 동작구      77.00000\n",
       "Name: PM10, dtype: float64"
      ]
     },
     "execution_count": 19,
     "metadata": {},
     "output_type": "execute_result"
    }
   ],
   "source": [
    "# df1의 '측정일시','지역'을 기준(goupby 사용)으로 'PM10'의 최댓값 구해 df2 시리즈 생성하기\n",
    "df2 = df1.groupby(['측정일시', '지역'])['PM10'].max()                   # ...[코드 입력]\n",
    "\n",
    "df2.head(40)"
   ]
  },
  {
   "cell_type": "code",
   "execution_count": 20,
   "metadata": {
    "colab": {
     "base_uri": "https://localhost:8080/"
    },
    "id": "PzHeFzWaAP-m",
    "outputId": "50be9d78-8a54-47e5-ae52-9f53519fdb8d"
   },
   "outputs": [
    {
     "data": {
      "text/plain": [
       "측정일시      지역     \n",
       "20180101  서울 강남구      True\n",
       "          서울 강동구      True\n",
       "          서울 강북구     False\n",
       "          서울 강서구      True\n",
       "          서울 강서로     False\n",
       "Name: PM10, dtype: bool"
      ]
     },
     "execution_count": 20,
     "metadata": {},
     "output_type": "execute_result"
    }
   ],
   "source": [
    "# 각 일자에서 PM10 값이 70 이상인 것 파악하여 df3 에 시리즈 생성하기\n",
    "df3 = (df2 >= 70)              #... 코드 작성\n",
    "\n",
    "df3.head()\n",
    "# df3.count()  전체 개수 파악하기"
   ]
  },
  {
   "cell_type": "markdown",
   "metadata": {
    "id": "tDQDZOTaBZRt"
   },
   "source": [
    "**3) 추출한 데이터에서 지역별로 합계 구하기**"
   ]
  },
  {
   "cell_type": "code",
   "execution_count": 24,
   "metadata": {
    "colab": {
     "base_uri": "https://localhost:8080/"
    },
    "id": "byM-daHZAk6X",
    "outputId": "9aa5280a-0557-4fb3-dc71-6ed2f06acc8d"
   },
   "outputs": [
    {
     "data": {
      "text/plain": [
       "<pandas.core.groupby.generic.SeriesGroupBy object at 0x000001A27DE95F60>"
      ]
     },
     "execution_count": 24,
     "metadata": {},
     "output_type": "execute_result"
    }
   ],
   "source": [
    "# df3 을 사용하여(지역별로 70 이상인 경우) 합계 구하기\n",
    "result = df3.groupby(level='지역')          #... 코드 작성\n",
    "\n",
    "result"
   ]
  },
  {
   "cell_type": "markdown",
   "metadata": {
    "id": "wVAH-d2f8uWP"
   },
   "source": [
    "**4) 내림차순으로 정렬하기**"
   ]
  },
  {
   "cell_type": "code",
   "execution_count": 25,
   "metadata": {
    "id": "9EOlHSnD85Fr"
   },
   "outputs": [
    {
     "ename": "AttributeError",
     "evalue": "'SeriesGroupBy' object has no attribute 'sort_values'",
     "output_type": "error",
     "traceback": [
      "\u001b[1;31m---------------------------------------------------------------------------\u001b[0m",
      "\u001b[1;31mAttributeError\u001b[0m                            Traceback (most recent call last)",
      "Cell \u001b[1;32mIn[25], line 1\u001b[0m\n\u001b[1;32m----> 1\u001b[0m result_sort \u001b[38;5;241m=\u001b[39m \u001b[43mresult\u001b[49m\u001b[38;5;241;43m.\u001b[39;49m\u001b[43msort_values\u001b[49m(ascending\u001b[38;5;241m=\u001b[39m\u001b[38;5;28;01mFalse\u001b[39;00m)     \u001b[38;5;66;03m#... 코드 작성\u001b[39;00m\n\u001b[0;32m      2\u001b[0m result_sort\n",
      "File \u001b[1;32mc:\\Users\\intel09\\anaconda3\\envs\\envtest\\lib\\site-packages\\pandas\\core\\groupby\\groupby.py:1363\u001b[0m, in \u001b[0;36mGroupBy.__getattr__\u001b[1;34m(self, attr)\u001b[0m\n\u001b[0;32m   1360\u001b[0m \u001b[38;5;28;01mif\u001b[39;00m attr \u001b[38;5;129;01min\u001b[39;00m \u001b[38;5;28mself\u001b[39m\u001b[38;5;241m.\u001b[39mobj:\n\u001b[0;32m   1361\u001b[0m     \u001b[38;5;28;01mreturn\u001b[39;00m \u001b[38;5;28mself\u001b[39m[attr]\n\u001b[1;32m-> 1363\u001b[0m \u001b[38;5;28;01mraise\u001b[39;00m \u001b[38;5;167;01mAttributeError\u001b[39;00m(\n\u001b[0;32m   1364\u001b[0m     \u001b[38;5;124mf\u001b[39m\u001b[38;5;124m\"\u001b[39m\u001b[38;5;124m'\u001b[39m\u001b[38;5;132;01m{\u001b[39;00m\u001b[38;5;28mtype\u001b[39m(\u001b[38;5;28mself\u001b[39m)\u001b[38;5;241m.\u001b[39m\u001b[38;5;18m__name__\u001b[39m\u001b[38;5;132;01m}\u001b[39;00m\u001b[38;5;124m'\u001b[39m\u001b[38;5;124m object has no attribute \u001b[39m\u001b[38;5;124m'\u001b[39m\u001b[38;5;132;01m{\u001b[39;00mattr\u001b[38;5;132;01m}\u001b[39;00m\u001b[38;5;124m'\u001b[39m\u001b[38;5;124m\"\u001b[39m\n\u001b[0;32m   1365\u001b[0m )\n",
      "\u001b[1;31mAttributeError\u001b[0m: 'SeriesGroupBy' object has no attribute 'sort_values'"
     ]
    }
   ],
   "source": [
    "result_sort = result.sort_values(ascending=False)     #... 코드 작성\n",
    "result_sort"
   ]
  },
  {
   "cell_type": "markdown",
   "metadata": {
    "id": "4ay-nJimEDbw"
   },
   "source": [
    "## **4.정보 표현 - 가시화**"
   ]
  },
  {
   "cell_type": "markdown",
   "metadata": {
    "id": "qa5aMjvbEIBJ"
   },
   "source": [
    "**1) 필요한 패키지 가져오기**"
   ]
  },
  {
   "cell_type": "code",
   "execution_count": null,
   "metadata": {
    "id": "6R7vYKWnYa-a"
   },
   "outputs": [],
   "source": [
    "import platform\n",
    "import matplotlib.pyplot as plt\n",
    "from matplotlib import font_manager, rc\n",
    "%matplotlib inline"
   ]
  },
  {
   "cell_type": "markdown",
   "metadata": {
    "id": "TsgRlQs_wdh9"
   },
   "source": [
    "**2) 그래프에서 폰트 지정 - 한글지원부분**"
   ]
  },
  {
   "cell_type": "code",
   "execution_count": null,
   "metadata": {
    "id": "7hAXArxnwdh-"
   },
   "outputs": [],
   "source": [
    "# 2-2. colab에서 한글 지원 처리\n",
    "# plt.rc('font', family='NanumBarunGothic')"
   ]
  },
  {
   "cell_type": "code",
   "execution_count": null,
   "metadata": {
    "colab": {
     "base_uri": "https://localhost:8080/",
     "height": 395
    },
    "id": "bRwxsEDtAtE8",
    "outputId": "347eac45-1351-4ede-867d-1d9806f73ce5"
   },
   "outputs": [
    {
     "data": {
      "image/png": "[encoded data removed]",
      "text/plain": [
       "<Figure size 2000x300 with 1 Axes>"
      ]
     },
     "metadata": {},
     "output_type": "display_data"
    }
   ],
   "source": [
    "# 결과 시각화1 - Pandas plot-barh 사용\n",
    "\n",
    "result_sort.plot(kind='bar', figsize=(7, 10))     # ... 코드 작성\n",
    "plt.title('각 지역별 미세먼지 PM10 지수가 70이상인 나쁨 일수')\n",
    "plt.xlabel(\"미세먼지 나쁨 일수\")\n",
    "plt.ylabel(\"지역\")\n",
    "plt.grid(True)     # 그리드 나타내기\n",
    "plt.show()"
   ]
  },
  {
   "cell_type": "code",
   "execution_count": null,
   "metadata": {
    "id": "vOmfpvGAjrKD"
   },
   "outputs": [],
   "source": [
    "# 결과 시각화2 - matplotlib을 이용한 가로 막대 그래프\n",
    "plt.figure(figsize=(7, 10))\n",
    "...     # ... 코드 작성\n",
    "plt.title('각 지역별 미세먼지 PM10 지수가 70이상인 나쁨 일수')\n",
    "plt.xlabel(\"미세먼지 나쁨 일수\")\n",
    "plt.ylabel(\"지역\")\n",
    "plt.grid(True)  # 그리드 추가\n",
    "plt.show()"
   ]
  },
  {
   "cell_type": "code",
   "execution_count": null,
   "metadata": {
    "id": "l9xZ4yN-j7T6"
   },
   "outputs": [],
   "source": [
    "# 결과 시각화3 - seaborn을 사용한 가로 막대 그래프\n",
    "\n",
    "import seaborn as sns\n",
    "plt.figure(figsize=(7, 10))\n",
    "...     # ... 코드 작성\n",
    "plt.title('각 지역별 미세먼지 PM10 지수가 70이상인 나쁨 일수')\n",
    "plt.xlabel(\"미세먼지 나쁨 일수\")\n",
    "plt.ylabel(\"지역\")\n",
    "plt.grid(True)  # 그리드 표시\n",
    "plt.show()"
   ]
  }
 ],
 "metadata": {
  "colab": {
   "provenance": [],
   "toc_visible": true
  },
  "kernelspec": {
   "display_name": "envtest",
   "language": "python",
   "name": "python3"
  },
  "language_info": {
   "codemirror_mode": {
    "name": "ipython",
    "version": 3
   },
   "file_extension": ".py",
   "mimetype": "text/x-python",
   "name": "python",
   "nbconvert_exporter": "python",
   "pygments_lexer": "ipython3",
   "version": "3.10.16"
  }
 },
 "nbformat": 4,
 "nbformat_minor": 0
}
