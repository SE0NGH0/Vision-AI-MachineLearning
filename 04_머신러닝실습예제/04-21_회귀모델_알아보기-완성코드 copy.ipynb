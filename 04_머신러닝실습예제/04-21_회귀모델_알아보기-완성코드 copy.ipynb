{
 "cells": [
  {
   "cell_type": "markdown",
   "metadata": {
    "id": "qboj-6CYSEFB"
   },
   "source": [
    "## **회귀모델 알아보기**\n",
    "### <b> <font color=green> [데이터 준비하기]     \n",
    "### [회귀모델 구현하기] </font> </b>     \n",
    "1) 사용 라이브러리 파악하고 가져오기    \n",
    "2) 모델 객체 생성하고 학습하기   \n",
    "3) 모델 예측하고 정확도 확인하기\n"
   ]
  },
  {
   "cell_type": "markdown",
   "metadata": {
    "id": "OwfIKMQQSap0"
   },
   "source": [
    "## <font color=green>**[ 데이터 준비 ]**"
   ]
  },
  {
   "cell_type": "markdown",
   "metadata": {
    "id": "sEeajsY6JTSW"
   },
   "source": [
    "### **Step 0 : 파일 다운로드하기**\n",
    "- 아래 셀을 실행시켜 프로젝트에 사용할 데이터 파일을 colab 작업환경으로 다운로드한다.\n",
    "> abalone.csv"
   ]
  },
  {
   "cell_type": "code",
   "execution_count": null,
   "metadata": {
    "colab": {
     "base_uri": "https://localhost:8080/"
    },
    "executionInfo": {
     "elapsed": 7710,
     "status": "ok",
     "timestamp": 1735473525322,
     "user": {
      "displayName": "강희숙",
      "userId": "05520711596090317319"
     },
     "user_tz": -540
    },
    "id": "STRnh4mOTsrg",
    "outputId": "c78cc6f8-fbc9-4775-b0c9-5bc0effd719e"
   },
   "outputs": [
    {
     "name": "stdout",
     "output_type": "stream",
     "text": [
      "Downloading...\n",
      "From: https://drive.google.com/uc?id=1Xkp9r_OE0TZKn1bTbSfCLD611K3pv7Cw\n",
      "To: /content/abalone.csv\n",
      "\r  0% 0.00/196k [00:00<?, ?B/s]\r100% 196k/196k [00:00<00:00, 43.0MB/s]\n"
     ]
    }
   ],
   "source": [
    "#colab 에서 사용시시\n",
    "#!gdown 1Xkp9r_OE0TZKn1bTbSfCLD611K3pv7Cw"
   ]
  },
  {
   "cell_type": "markdown",
   "metadata": {
    "id": "jBS05EN1tPdK"
   },
   "source": [
    "### **Step 1 : 데이터 확인하기**\n",
    "* 데이터 전처리에 사용되는 라이브러리를 가져온다."
   ]
  },
  {
   "cell_type": "code",
   "execution_count": 1,
   "metadata": {
    "executionInfo": {
     "elapsed": 3109,
     "status": "ok",
     "timestamp": 1735473553155,
     "user": {
      "displayName": "강희숙",
      "userId": "05520711596090317319"
     },
     "user_tz": -540
    },
    "id": "yHu6Tuw5Tsro"
   },
   "outputs": [],
   "source": [
    "import pandas as pd\n",
    "from sklearn.model_selection import train_test_split"
   ]
  },
  {
   "cell_type": "markdown",
   "metadata": {
    "id": "Hcjsz7kFKbjX"
   },
   "source": [
    "* 'abalone.csv'파일을 읽어 'df'에 저장한 후 내용을 출력한다."
   ]
  },
  {
   "cell_type": "code",
   "execution_count": 2,
   "metadata": {
    "colab": {
     "base_uri": "https://localhost:8080/",
     "height": 163
    },
    "executionInfo": {
     "elapsed": 519,
     "status": "ok",
     "timestamp": 1735473555518,
     "user": {
      "displayName": "강희숙",
      "userId": "05520711596090317319"
     },
     "user_tz": -540
    },
    "id": "AiHGbK2ATsrp",
    "outputId": "34190d20-12b8-46ed-8350-f49388619531"
   },
   "outputs": [
    {
     "data": {
      "text/html": [
       "<div>\n",
       "<style scoped>\n",
       "    .dataframe tbody tr th:only-of-type {\n",
       "        vertical-align: middle;\n",
       "    }\n",
       "\n",
       "    .dataframe tbody tr th {\n",
       "        vertical-align: top;\n",
       "    }\n",
       "\n",
       "    .dataframe thead th {\n",
       "        text-align: right;\n",
       "    }\n",
       "</style>\n",
       "<table border=\"1\" class=\"dataframe\">\n",
       "  <thead>\n",
       "    <tr style=\"text-align: right;\">\n",
       "      <th></th>\n",
       "      <th>Gender</th>\n",
       "      <th>Length</th>\n",
       "      <th>Diameter</th>\n",
       "      <th>Height</th>\n",
       "      <th>Whole_weight</th>\n",
       "      <th>Shucked_weight</th>\n",
       "      <th>Viscera_weight</th>\n",
       "      <th>Shell_weight</th>\n",
       "      <th>Rings</th>\n",
       "    </tr>\n",
       "  </thead>\n",
       "  <tbody>\n",
       "    <tr>\n",
       "      <th>0</th>\n",
       "      <td>M</td>\n",
       "      <td>0.455</td>\n",
       "      <td>0.365</td>\n",
       "      <td>0.095</td>\n",
       "      <td>0.5140</td>\n",
       "      <td>0.2245</td>\n",
       "      <td>0.1010</td>\n",
       "      <td>0.15</td>\n",
       "      <td>15</td>\n",
       "    </tr>\n",
       "    <tr>\n",
       "      <th>1</th>\n",
       "      <td>M</td>\n",
       "      <td>0.350</td>\n",
       "      <td>0.265</td>\n",
       "      <td>0.090</td>\n",
       "      <td>0.2255</td>\n",
       "      <td>0.0995</td>\n",
       "      <td>0.0485</td>\n",
       "      <td>0.07</td>\n",
       "      <td>7</td>\n",
       "    </tr>\n",
       "    <tr>\n",
       "      <th>2</th>\n",
       "      <td>F</td>\n",
       "      <td>0.530</td>\n",
       "      <td>0.420</td>\n",
       "      <td>0.135</td>\n",
       "      <td>0.6770</td>\n",
       "      <td>0.2565</td>\n",
       "      <td>0.1415</td>\n",
       "      <td>0.21</td>\n",
       "      <td>9</td>\n",
       "    </tr>\n",
       "  </tbody>\n",
       "</table>\n",
       "</div>"
      ],
      "text/plain": [
       "  Gender  Length  Diameter  Height  Whole_weight  Shucked_weight  \\\n",
       "0      M   0.455     0.365   0.095        0.5140          0.2245   \n",
       "1      M   0.350     0.265   0.090        0.2255          0.0995   \n",
       "2      F   0.530     0.420   0.135        0.6770          0.2565   \n",
       "\n",
       "   Viscera_weight  Shell_weight  Rings  \n",
       "0          0.1010          0.15     15  \n",
       "1          0.0485          0.07      7  \n",
       "2          0.1415          0.21      9  "
      ]
     },
     "execution_count": 2,
     "metadata": {},
     "output_type": "execute_result"
    }
   ],
   "source": [
    "df = pd.read_csv('data/abalone.csv')\n",
    "df.head(3)"
   ]
  },
  {
   "cell_type": "markdown",
   "metadata": {
    "id": "r2uXzqDUKzTP"
   },
   "source": [
    "* 데이터 정보를 파악한다."
   ]
  },
  {
   "cell_type": "code",
   "execution_count": null,
   "metadata": {
    "colab": {
     "base_uri": "https://localhost:8080/"
    },
    "executionInfo": {
     "elapsed": 331,
     "status": "ok",
     "timestamp": 1674101807486,
     "user": {
      "displayName": "강희숙",
      "userId": "05520711596090317319"
     },
     "user_tz": -540
    },
    "id": "C4qiUQTuRqLL",
    "outputId": "31495703-170e-4e50-d719-273c3f377e08"
   },
   "outputs": [
    {
     "name": "stdout",
     "output_type": "stream",
     "text": [
      "<class 'pandas.core.frame.DataFrame'>\n",
      "RangeIndex: 4177 entries, 0 to 4176\n",
      "Data columns (total 9 columns):\n",
      " #   Column          Non-Null Count  Dtype  \n",
      "---  ------          --------------  -----  \n",
      " 0   Gender          4177 non-null   object \n",
      " 1   Length          4177 non-null   float64\n",
      " 2   Diameter        4177 non-null   float64\n",
      " 3   Height          4177 non-null   float64\n",
      " 4   Whole_weight    4177 non-null   float64\n",
      " 5   Shucked_weight  4177 non-null   float64\n",
      " 6   Viscera_weight  4177 non-null   float64\n",
      " 7   Shell_weight    4177 non-null   float64\n",
      " 8   Rings           4177 non-null   int64  \n",
      "dtypes: float64(7), int64(1), object(1)\n",
      "memory usage: 293.8+ KB\n"
     ]
    }
   ],
   "source": [
    "df.info()"
   ]
  },
  {
   "cell_type": "markdown",
   "metadata": {
    "id": "JFigbUOckp2j"
   },
   "source": [
    "- Gender : 성별 (female, male, infant)\n",
    "- Length : 길이\n",
    "- Diameter : 직경\n",
    "- Height : 높이\n",
    "- Whole Weight : 전체 무게\n",
    "- Shell Weight : 껍질 무게\n",
    "- Shucked Weight : 껍질 벗긴 무게\n",
    "- Viscera Weight : 내장 무게\n",
    "- Rings : 전복 수명 (target)"
   ]
  },
  {
   "cell_type": "markdown",
   "metadata": {
    "id": "KXN6ytRYtzTe"
   },
   "source": [
    "### **step2. 데이터 준비하기**\n",
    "- 특성 항목으로 'X'에 'Whole_weight'를, 타겟 항목으로 'y'에 'Rings'를 지정한다."
   ]
  },
  {
   "cell_type": "code",
   "execution_count": 29,
   "metadata": {},
   "outputs": [
    {
     "data": {
      "text/plain": [
       "Gender\n",
       "M    1528\n",
       "I    1342\n",
       "F    1307\n",
       "Name: count, dtype: int64"
      ]
     },
     "execution_count": 29,
     "metadata": {},
     "output_type": "execute_result"
    }
   ],
   "source": [
    "df['Gender'].value_counts()"
   ]
  },
  {
   "cell_type": "code",
   "execution_count": 32,
   "metadata": {},
   "outputs": [
    {
     "data": {
      "text/html": [
       "<div>\n",
       "<style scoped>\n",
       "    .dataframe tbody tr th:only-of-type {\n",
       "        vertical-align: middle;\n",
       "    }\n",
       "\n",
       "    .dataframe tbody tr th {\n",
       "        vertical-align: top;\n",
       "    }\n",
       "\n",
       "    .dataframe thead th {\n",
       "        text-align: right;\n",
       "    }\n",
       "</style>\n",
       "<table border=\"1\" class=\"dataframe\">\n",
       "  <thead>\n",
       "    <tr style=\"text-align: right;\">\n",
       "      <th></th>\n",
       "      <th>Length</th>\n",
       "      <th>Diameter</th>\n",
       "      <th>Height</th>\n",
       "      <th>Whole_weight</th>\n",
       "      <th>Shucked_weight</th>\n",
       "      <th>Viscera_weight</th>\n",
       "      <th>Shell_weight</th>\n",
       "      <th>Rings</th>\n",
       "      <th>Gender_I</th>\n",
       "      <th>Gender_M</th>\n",
       "    </tr>\n",
       "  </thead>\n",
       "  <tbody>\n",
       "    <tr>\n",
       "      <th>0</th>\n",
       "      <td>0.455</td>\n",
       "      <td>0.365</td>\n",
       "      <td>0.095</td>\n",
       "      <td>0.5140</td>\n",
       "      <td>0.2245</td>\n",
       "      <td>0.1010</td>\n",
       "      <td>0.15</td>\n",
       "      <td>15</td>\n",
       "      <td>0</td>\n",
       "      <td>1</td>\n",
       "    </tr>\n",
       "    <tr>\n",
       "      <th>1</th>\n",
       "      <td>0.350</td>\n",
       "      <td>0.265</td>\n",
       "      <td>0.090</td>\n",
       "      <td>0.2255</td>\n",
       "      <td>0.0995</td>\n",
       "      <td>0.0485</td>\n",
       "      <td>0.07</td>\n",
       "      <td>7</td>\n",
       "      <td>0</td>\n",
       "      <td>1</td>\n",
       "    </tr>\n",
       "    <tr>\n",
       "      <th>2</th>\n",
       "      <td>0.530</td>\n",
       "      <td>0.420</td>\n",
       "      <td>0.135</td>\n",
       "      <td>0.6770</td>\n",
       "      <td>0.2565</td>\n",
       "      <td>0.1415</td>\n",
       "      <td>0.21</td>\n",
       "      <td>9</td>\n",
       "      <td>0</td>\n",
       "      <td>0</td>\n",
       "    </tr>\n",
       "  </tbody>\n",
       "</table>\n",
       "</div>"
      ],
      "text/plain": [
       "   Length  Diameter  Height  Whole_weight  Shucked_weight  Viscera_weight  \\\n",
       "0   0.455     0.365   0.095        0.5140          0.2245          0.1010   \n",
       "1   0.350     0.265   0.090        0.2255          0.0995          0.0485   \n",
       "2   0.530     0.420   0.135        0.6770          0.2565          0.1415   \n",
       "\n",
       "   Shell_weight  Rings  Gender_I  Gender_M  \n",
       "0          0.15     15         0         1  \n",
       "1          0.07      7         0         1  \n",
       "2          0.21      9         0         0  "
      ]
     },
     "execution_count": 32,
     "metadata": {},
     "output_type": "execute_result"
    }
   ],
   "source": [
    "df_1 = pd.get_dummies(df, columns=['Gender'], drop_first=True, dtype='int')\n",
    "df_1.head(3)"
   ]
  },
  {
   "cell_type": "code",
   "execution_count": 41,
   "metadata": {
    "id": "D5HD9W9ETsr5"
   },
   "outputs": [],
   "source": [
    "#코드작성\n",
    "\n",
    "# 단순선형회귀귀\n",
    "# X = df[['Shell_weight']].values\n",
    "# y = df['Rings'].values\n",
    "\n",
    "# 다중선형회귀\n",
    "X1 = df_1.drop(['Rings'], axis=1).values\n",
    "y1 = df_1['Rings'].values"
   ]
  },
  {
   "cell_type": "markdown",
   "metadata": {
    "id": "avCw2Z7duJ7k"
   },
   "source": [
    "- 학습 데이터와 테스트 데이터를 7:3의 비율로 나눈다."
   ]
  },
  {
   "cell_type": "code",
   "execution_count": 42,
   "metadata": {
    "id": "eXfkiiVtTsr6"
   },
   "outputs": [],
   "source": [
    "#코드작성\n",
    "X_train, X_test, y_train, y_test = train_test_split(X1, y1, test_size=0.2, random_state=42)"
   ]
  },
  {
   "cell_type": "code",
   "execution_count": 35,
   "metadata": {},
   "outputs": [
    {
     "name": "stdout",
     "output_type": "stream",
     "text": [
      "(3341, 1)\n",
      "(836, 1)\n",
      "(3341,)\n",
      "(836,)\n"
     ]
    }
   ],
   "source": [
    "print(X_train.shape)\n",
    "print(X_test.shape)\n",
    "print(y_train.shape)\n",
    "print(y_test.shape)"
   ]
  },
  {
   "cell_type": "markdown",
   "metadata": {
    "id": "-Ol5ah-1thRf"
   },
   "source": [
    "## <font color=green> **[기계학습 회귀 모델 구현]** </font>"
   ]
  },
  {
   "cell_type": "markdown",
   "metadata": {
    "id": "2PoOohuHtpHx"
   },
   "source": [
    "### **step1. 라이브러리 가져오기**\n",
    "- 선형회귀모델을 구현하기 위한 라이브러리를 가져온다."
   ]
  },
  {
   "cell_type": "code",
   "execution_count": 43,
   "metadata": {
    "id": "RimwuNxrTsr4"
   },
   "outputs": [],
   "source": [
    "import matplotlib.pyplot as plt\n",
    "from sklearn.linear_model import LinearRegression\n",
    "from sklearn.metrics import mean_absolute_error, mean_squared_error, r2_score"
   ]
  },
  {
   "cell_type": "markdown",
   "metadata": {
    "id": "cQNv9t_GuPtz"
   },
   "source": [
    "### **Step 2 : 모델 객체 생성하기**  "
   ]
  },
  {
   "cell_type": "markdown",
   "metadata": {
    "id": "8SL9urcLuiXG"
   },
   "source": [
    "- LinearRegression() 모델 객체 ‘model_lr‘을 생성한다."
   ]
  },
  {
   "cell_type": "code",
   "execution_count": 44,
   "metadata": {
    "id": "ZBFqyoHMTsr8"
   },
   "outputs": [],
   "source": [
    "#코드작성\n",
    "model_lr = LinearRegression()"
   ]
  },
  {
   "cell_type": "markdown",
   "metadata": {
    "id": "ik_PXEFTul84"
   },
   "source": [
    "### **step3. 모델 학습하기**\n",
    "- 선형 모델(model_ln)이 학습 데이터셋(X_train, y_train)으로 학습한다."
   ]
  },
  {
   "cell_type": "code",
   "execution_count": 45,
   "metadata": {
    "colab": {
     "base_uri": "https://localhost:8080/"
    },
    "executionInfo": {
     "elapsed": 339,
     "status": "ok",
     "timestamp": 1674101930031,
     "user": {
      "displayName": "강희숙",
      "userId": "05520711596090317319"
     },
     "user_tz": -540
    },
    "id": "xxMLWZPGR7BA",
    "outputId": "44f16874-6be8-4c4c-c995-6701cce98bb0"
   },
   "outputs": [
    {
     "data": {
      "text/html": [
       "<style>#sk-container-id-4 {\n",
       "  /* Definition of color scheme common for light and dark mode */\n",
       "  --sklearn-color-text: #000;\n",
       "  --sklearn-color-text-muted: #666;\n",
       "  --sklearn-color-line: gray;\n",
       "  /* Definition of color scheme for unfitted estimators */\n",
       "  --sklearn-color-unfitted-level-0: #fff5e6;\n",
       "  --sklearn-color-unfitted-level-1: #f6e4d2;\n",
       "  --sklearn-color-unfitted-level-2: #ffe0b3;\n",
       "  --sklearn-color-unfitted-level-3: chocolate;\n",
       "  /* Definition of color scheme for fitted estimators */\n",
       "  --sklearn-color-fitted-level-0: #f0f8ff;\n",
       "  --sklearn-color-fitted-level-1: #d4ebff;\n",
       "  --sklearn-color-fitted-level-2: #b3dbfd;\n",
       "  --sklearn-color-fitted-level-3: cornflowerblue;\n",
       "\n",
       "  /* Specific color for light theme */\n",
       "  --sklearn-color-text-on-default-background: var(--sg-text-color, var(--theme-code-foreground, var(--jp-content-font-color1, black)));\n",
       "  --sklearn-color-background: var(--sg-background-color, var(--theme-background, var(--jp-layout-color0, white)));\n",
       "  --sklearn-color-border-box: var(--sg-text-color, var(--theme-code-foreground, var(--jp-content-font-color1, black)));\n",
       "  --sklearn-color-icon: #696969;\n",
       "\n",
       "  @media (prefers-color-scheme: dark) {\n",
       "    /* Redefinition of color scheme for dark theme */\n",
       "    --sklearn-color-text-on-default-background: var(--sg-text-color, var(--theme-code-foreground, var(--jp-content-font-color1, white)));\n",
       "    --sklearn-color-background: var(--sg-background-color, var(--theme-background, var(--jp-layout-color0, #111)));\n",
       "    --sklearn-color-border-box: var(--sg-text-color, var(--theme-code-foreground, var(--jp-content-font-color1, white)));\n",
       "    --sklearn-color-icon: #878787;\n",
       "  }\n",
       "}\n",
       "\n",
       "#sk-container-id-4 {\n",
       "  color: var(--sklearn-color-text);\n",
       "}\n",
       "\n",
       "#sk-container-id-4 pre {\n",
       "  padding: 0;\n",
       "}\n",
       "\n",
       "#sk-container-id-4 input.sk-hidden--visually {\n",
       "  border: 0;\n",
       "  clip: rect(1px 1px 1px 1px);\n",
       "  clip: rect(1px, 1px, 1px, 1px);\n",
       "  height: 1px;\n",
       "  margin: -1px;\n",
       "  overflow: hidden;\n",
       "  padding: 0;\n",
       "  position: absolute;\n",
       "  width: 1px;\n",
       "}\n",
       "\n",
       "#sk-container-id-4 div.sk-dashed-wrapped {\n",
       "  border: 1px dashed var(--sklearn-color-line);\n",
       "  margin: 0 0.4em 0.5em 0.4em;\n",
       "  box-sizing: border-box;\n",
       "  padding-bottom: 0.4em;\n",
       "  background-color: var(--sklearn-color-background);\n",
       "}\n",
       "\n",
       "#sk-container-id-4 div.sk-container {\n",
       "  /* jupyter's `normalize.less` sets `[hidden] { display: none; }`\n",
       "     but bootstrap.min.css set `[hidden] { display: none !important; }`\n",
       "     so we also need the `!important` here to be able to override the\n",
       "     default hidden behavior on the sphinx rendered scikit-learn.org.\n",
       "     See: https://github.com/scikit-learn/scikit-learn/issues/21755 */\n",
       "  display: inline-block !important;\n",
       "  position: relative;\n",
       "}\n",
       "\n",
       "#sk-container-id-4 div.sk-text-repr-fallback {\n",
       "  display: none;\n",
       "}\n",
       "\n",
       "div.sk-parallel-item,\n",
       "div.sk-serial,\n",
       "div.sk-item {\n",
       "  /* draw centered vertical line to link estimators */\n",
       "  background-image: linear-gradient(var(--sklearn-color-text-on-default-background), var(--sklearn-color-text-on-default-background));\n",
       "  background-size: 2px 100%;\n",
       "  background-repeat: no-repeat;\n",
       "  background-position: center center;\n",
       "}\n",
       "\n",
       "/* Parallel-specific style estimator block */\n",
       "\n",
       "#sk-container-id-4 div.sk-parallel-item::after {\n",
       "  content: \"\";\n",
       "  width: 100%;\n",
       "  border-bottom: 2px solid var(--sklearn-color-text-on-default-background);\n",
       "  flex-grow: 1;\n",
       "}\n",
       "\n",
       "#sk-container-id-4 div.sk-parallel {\n",
       "  display: flex;\n",
       "  align-items: stretch;\n",
       "  justify-content: center;\n",
       "  background-color: var(--sklearn-color-background);\n",
       "  position: relative;\n",
       "}\n",
       "\n",
       "#sk-container-id-4 div.sk-parallel-item {\n",
       "  display: flex;\n",
       "  flex-direction: column;\n",
       "}\n",
       "\n",
       "#sk-container-id-4 div.sk-parallel-item:first-child::after {\n",
       "  align-self: flex-end;\n",
       "  width: 50%;\n",
       "}\n",
       "\n",
       "#sk-container-id-4 div.sk-parallel-item:last-child::after {\n",
       "  align-self: flex-start;\n",
       "  width: 50%;\n",
       "}\n",
       "\n",
       "#sk-container-id-4 div.sk-parallel-item:only-child::after {\n",
       "  width: 0;\n",
       "}\n",
       "\n",
       "/* Serial-specific style estimator block */\n",
       "\n",
       "#sk-container-id-4 div.sk-serial {\n",
       "  display: flex;\n",
       "  flex-direction: column;\n",
       "  align-items: center;\n",
       "  background-color: var(--sklearn-color-background);\n",
       "  padding-right: 1em;\n",
       "  padding-left: 1em;\n",
       "}\n",
       "\n",
       "\n",
       "/* Toggleable style: style used for estimator/Pipeline/ColumnTransformer box that is\n",
       "clickable and can be expanded/collapsed.\n",
       "- Pipeline and ColumnTransformer use this feature and define the default style\n",
       "- Estimators will overwrite some part of the style using the `sk-estimator` class\n",
       "*/\n",
       "\n",
       "/* Pipeline and ColumnTransformer style (default) */\n",
       "\n",
       "#sk-container-id-4 div.sk-toggleable {\n",
       "  /* Default theme specific background. It is overwritten whether we have a\n",
       "  specific estimator or a Pipeline/ColumnTransformer */\n",
       "  background-color: var(--sklearn-color-background);\n",
       "}\n",
       "\n",
       "/* Toggleable label */\n",
       "#sk-container-id-4 label.sk-toggleable__label {\n",
       "  cursor: pointer;\n",
       "  display: flex;\n",
       "  width: 100%;\n",
       "  margin-bottom: 0;\n",
       "  padding: 0.5em;\n",
       "  box-sizing: border-box;\n",
       "  text-align: center;\n",
       "  align-items: start;\n",
       "  justify-content: space-between;\n",
       "  gap: 0.5em;\n",
       "}\n",
       "\n",
       "#sk-container-id-4 label.sk-toggleable__label .caption {\n",
       "  font-size: 0.6rem;\n",
       "  font-weight: lighter;\n",
       "  color: var(--sklearn-color-text-muted);\n",
       "}\n",
       "\n",
       "#sk-container-id-4 label.sk-toggleable__label-arrow:before {\n",
       "  /* Arrow on the left of the label */\n",
       "  content: \"▸\";\n",
       "  float: left;\n",
       "  margin-right: 0.25em;\n",
       "  color: var(--sklearn-color-icon);\n",
       "}\n",
       "\n",
       "#sk-container-id-4 label.sk-toggleable__label-arrow:hover:before {\n",
       "  color: var(--sklearn-color-text);\n",
       "}\n",
       "\n",
       "/* Toggleable content - dropdown */\n",
       "\n",
       "#sk-container-id-4 div.sk-toggleable__content {\n",
       "  max-height: 0;\n",
       "  max-width: 0;\n",
       "  overflow: hidden;\n",
       "  text-align: left;\n",
       "  /* unfitted */\n",
       "  background-color: var(--sklearn-color-unfitted-level-0);\n",
       "}\n",
       "\n",
       "#sk-container-id-4 div.sk-toggleable__content.fitted {\n",
       "  /* fitted */\n",
       "  background-color: var(--sklearn-color-fitted-level-0);\n",
       "}\n",
       "\n",
       "#sk-container-id-4 div.sk-toggleable__content pre {\n",
       "  margin: 0.2em;\n",
       "  border-radius: 0.25em;\n",
       "  color: var(--sklearn-color-text);\n",
       "  /* unfitted */\n",
       "  background-color: var(--sklearn-color-unfitted-level-0);\n",
       "}\n",
       "\n",
       "#sk-container-id-4 div.sk-toggleable__content.fitted pre {\n",
       "  /* unfitted */\n",
       "  background-color: var(--sklearn-color-fitted-level-0);\n",
       "}\n",
       "\n",
       "#sk-container-id-4 input.sk-toggleable__control:checked~div.sk-toggleable__content {\n",
       "  /* Expand drop-down */\n",
       "  max-height: 200px;\n",
       "  max-width: 100%;\n",
       "  overflow: auto;\n",
       "}\n",
       "\n",
       "#sk-container-id-4 input.sk-toggleable__control:checked~label.sk-toggleable__label-arrow:before {\n",
       "  content: \"▾\";\n",
       "}\n",
       "\n",
       "/* Pipeline/ColumnTransformer-specific style */\n",
       "\n",
       "#sk-container-id-4 div.sk-label input.sk-toggleable__control:checked~label.sk-toggleable__label {\n",
       "  color: var(--sklearn-color-text);\n",
       "  background-color: var(--sklearn-color-unfitted-level-2);\n",
       "}\n",
       "\n",
       "#sk-container-id-4 div.sk-label.fitted input.sk-toggleable__control:checked~label.sk-toggleable__label {\n",
       "  background-color: var(--sklearn-color-fitted-level-2);\n",
       "}\n",
       "\n",
       "/* Estimator-specific style */\n",
       "\n",
       "/* Colorize estimator box */\n",
       "#sk-container-id-4 div.sk-estimator input.sk-toggleable__control:checked~label.sk-toggleable__label {\n",
       "  /* unfitted */\n",
       "  background-color: var(--sklearn-color-unfitted-level-2);\n",
       "}\n",
       "\n",
       "#sk-container-id-4 div.sk-estimator.fitted input.sk-toggleable__control:checked~label.sk-toggleable__label {\n",
       "  /* fitted */\n",
       "  background-color: var(--sklearn-color-fitted-level-2);\n",
       "}\n",
       "\n",
       "#sk-container-id-4 div.sk-label label.sk-toggleable__label,\n",
       "#sk-container-id-4 div.sk-label label {\n",
       "  /* The background is the default theme color */\n",
       "  color: var(--sklearn-color-text-on-default-background);\n",
       "}\n",
       "\n",
       "/* On hover, darken the color of the background */\n",
       "#sk-container-id-4 div.sk-label:hover label.sk-toggleable__label {\n",
       "  color: var(--sklearn-color-text);\n",
       "  background-color: var(--sklearn-color-unfitted-level-2);\n",
       "}\n",
       "\n",
       "/* Label box, darken color on hover, fitted */\n",
       "#sk-container-id-4 div.sk-label.fitted:hover label.sk-toggleable__label.fitted {\n",
       "  color: var(--sklearn-color-text);\n",
       "  background-color: var(--sklearn-color-fitted-level-2);\n",
       "}\n",
       "\n",
       "/* Estimator label */\n",
       "\n",
       "#sk-container-id-4 div.sk-label label {\n",
       "  font-family: monospace;\n",
       "  font-weight: bold;\n",
       "  display: inline-block;\n",
       "  line-height: 1.2em;\n",
       "}\n",
       "\n",
       "#sk-container-id-4 div.sk-label-container {\n",
       "  text-align: center;\n",
       "}\n",
       "\n",
       "/* Estimator-specific */\n",
       "#sk-container-id-4 div.sk-estimator {\n",
       "  font-family: monospace;\n",
       "  border: 1px dotted var(--sklearn-color-border-box);\n",
       "  border-radius: 0.25em;\n",
       "  box-sizing: border-box;\n",
       "  margin-bottom: 0.5em;\n",
       "  /* unfitted */\n",
       "  background-color: var(--sklearn-color-unfitted-level-0);\n",
       "}\n",
       "\n",
       "#sk-container-id-4 div.sk-estimator.fitted {\n",
       "  /* fitted */\n",
       "  background-color: var(--sklearn-color-fitted-level-0);\n",
       "}\n",
       "\n",
       "/* on hover */\n",
       "#sk-container-id-4 div.sk-estimator:hover {\n",
       "  /* unfitted */\n",
       "  background-color: var(--sklearn-color-unfitted-level-2);\n",
       "}\n",
       "\n",
       "#sk-container-id-4 div.sk-estimator.fitted:hover {\n",
       "  /* fitted */\n",
       "  background-color: var(--sklearn-color-fitted-level-2);\n",
       "}\n",
       "\n",
       "/* Specification for estimator info (e.g. \"i\" and \"?\") */\n",
       "\n",
       "/* Common style for \"i\" and \"?\" */\n",
       "\n",
       ".sk-estimator-doc-link,\n",
       "a:link.sk-estimator-doc-link,\n",
       "a:visited.sk-estimator-doc-link {\n",
       "  float: right;\n",
       "  font-size: smaller;\n",
       "  line-height: 1em;\n",
       "  font-family: monospace;\n",
       "  background-color: var(--sklearn-color-background);\n",
       "  border-radius: 1em;\n",
       "  height: 1em;\n",
       "  width: 1em;\n",
       "  text-decoration: none !important;\n",
       "  margin-left: 0.5em;\n",
       "  text-align: center;\n",
       "  /* unfitted */\n",
       "  border: var(--sklearn-color-unfitted-level-1) 1pt solid;\n",
       "  color: var(--sklearn-color-unfitted-level-1);\n",
       "}\n",
       "\n",
       ".sk-estimator-doc-link.fitted,\n",
       "a:link.sk-estimator-doc-link.fitted,\n",
       "a:visited.sk-estimator-doc-link.fitted {\n",
       "  /* fitted */\n",
       "  border: var(--sklearn-color-fitted-level-1) 1pt solid;\n",
       "  color: var(--sklearn-color-fitted-level-1);\n",
       "}\n",
       "\n",
       "/* On hover */\n",
       "div.sk-estimator:hover .sk-estimator-doc-link:hover,\n",
       ".sk-estimator-doc-link:hover,\n",
       "div.sk-label-container:hover .sk-estimator-doc-link:hover,\n",
       ".sk-estimator-doc-link:hover {\n",
       "  /* unfitted */\n",
       "  background-color: var(--sklearn-color-unfitted-level-3);\n",
       "  color: var(--sklearn-color-background);\n",
       "  text-decoration: none;\n",
       "}\n",
       "\n",
       "div.sk-estimator.fitted:hover .sk-estimator-doc-link.fitted:hover,\n",
       ".sk-estimator-doc-link.fitted:hover,\n",
       "div.sk-label-container:hover .sk-estimator-doc-link.fitted:hover,\n",
       ".sk-estimator-doc-link.fitted:hover {\n",
       "  /* fitted */\n",
       "  background-color: var(--sklearn-color-fitted-level-3);\n",
       "  color: var(--sklearn-color-background);\n",
       "  text-decoration: none;\n",
       "}\n",
       "\n",
       "/* Span, style for the box shown on hovering the info icon */\n",
       ".sk-estimator-doc-link span {\n",
       "  display: none;\n",
       "  z-index: 9999;\n",
       "  position: relative;\n",
       "  font-weight: normal;\n",
       "  right: .2ex;\n",
       "  padding: .5ex;\n",
       "  margin: .5ex;\n",
       "  width: min-content;\n",
       "  min-width: 20ex;\n",
       "  max-width: 50ex;\n",
       "  color: var(--sklearn-color-text);\n",
       "  box-shadow: 2pt 2pt 4pt #999;\n",
       "  /* unfitted */\n",
       "  background: var(--sklearn-color-unfitted-level-0);\n",
       "  border: .5pt solid var(--sklearn-color-unfitted-level-3);\n",
       "}\n",
       "\n",
       ".sk-estimator-doc-link.fitted span {\n",
       "  /* fitted */\n",
       "  background: var(--sklearn-color-fitted-level-0);\n",
       "  border: var(--sklearn-color-fitted-level-3);\n",
       "}\n",
       "\n",
       ".sk-estimator-doc-link:hover span {\n",
       "  display: block;\n",
       "}\n",
       "\n",
       "/* \"?\"-specific style due to the `<a>` HTML tag */\n",
       "\n",
       "#sk-container-id-4 a.estimator_doc_link {\n",
       "  float: right;\n",
       "  font-size: 1rem;\n",
       "  line-height: 1em;\n",
       "  font-family: monospace;\n",
       "  background-color: var(--sklearn-color-background);\n",
       "  border-radius: 1rem;\n",
       "  height: 1rem;\n",
       "  width: 1rem;\n",
       "  text-decoration: none;\n",
       "  /* unfitted */\n",
       "  color: var(--sklearn-color-unfitted-level-1);\n",
       "  border: var(--sklearn-color-unfitted-level-1) 1pt solid;\n",
       "}\n",
       "\n",
       "#sk-container-id-4 a.estimator_doc_link.fitted {\n",
       "  /* fitted */\n",
       "  border: var(--sklearn-color-fitted-level-1) 1pt solid;\n",
       "  color: var(--sklearn-color-fitted-level-1);\n",
       "}\n",
       "\n",
       "/* On hover */\n",
       "#sk-container-id-4 a.estimator_doc_link:hover {\n",
       "  /* unfitted */\n",
       "  background-color: var(--sklearn-color-unfitted-level-3);\n",
       "  color: var(--sklearn-color-background);\n",
       "  text-decoration: none;\n",
       "}\n",
       "\n",
       "#sk-container-id-4 a.estimator_doc_link.fitted:hover {\n",
       "  /* fitted */\n",
       "  background-color: var(--sklearn-color-fitted-level-3);\n",
       "}\n",
       "</style><div id=\"sk-container-id-4\" class=\"sk-top-container\"><div class=\"sk-text-repr-fallback\"><pre>LinearRegression()</pre><b>In a Jupyter environment, please rerun this cell to show the HTML representation or trust the notebook. <br />On GitHub, the HTML representation is unable to render, please try loading this page with nbviewer.org.</b></div><div class=\"sk-container\" hidden><div class=\"sk-item\"><div class=\"sk-estimator fitted sk-toggleable\"><input class=\"sk-toggleable__control sk-hidden--visually\" id=\"sk-estimator-id-4\" type=\"checkbox\" checked><label for=\"sk-estimator-id-4\" class=\"sk-toggleable__label fitted sk-toggleable__label-arrow\"><div><div>LinearRegression</div></div><div><a class=\"sk-estimator-doc-link fitted\" rel=\"noreferrer\" target=\"_blank\" href=\"https://scikit-learn.org/1.6/modules/generated/sklearn.linear_model.LinearRegression.html\">?<span>Documentation for LinearRegression</span></a><span class=\"sk-estimator-doc-link fitted\">i<span>Fitted</span></span></div></label><div class=\"sk-toggleable__content fitted\"><pre>LinearRegression()</pre></div> </div></div></div></div>"
      ],
      "text/plain": [
       "LinearRegression()"
      ]
     },
     "execution_count": 45,
     "metadata": {},
     "output_type": "execute_result"
    }
   ],
   "source": [
    "#코드작성\n",
    "model_lr.fit(X_train, y_train)"
   ]
  },
  {
   "cell_type": "markdown",
   "metadata": {
    "id": "mF2Wzkjtuwnw"
   },
   "source": [
    "### **step4.모델 예측하기**"
   ]
  },
  {
   "cell_type": "markdown",
   "metadata": {
    "id": "6a8TtQ7wwdID"
   },
   "source": [
    "1) 모델 예측하기\n",
    "- 학습된 모델을 사용하여 테스트 데이터셋(X_test)에 대한 예측값을 ‘y_pred’ 에 저장한다."
   ]
  },
  {
   "cell_type": "code",
   "execution_count": 47,
   "metadata": {
    "colab": {
     "base_uri": "https://localhost:8080/"
    },
    "executionInfo": {
     "elapsed": 25,
     "status": "ok",
     "timestamp": 1666350864913,
     "user": {
      "displayName": "강희숙",
      "userId": "05520711596090317319"
     },
     "user_tz": -540
    },
    "id": "_HGAtqkETsr8",
    "outputId": "f97476de-ad59-480b-889d-dfc8705fd72d"
   },
   "outputs": [
    {
     "data": {
      "text/plain": [
       "array([11.76136132, 10.24192648, 14.00103561, 11.99509311, 11.16141477,\n",
       "       10.23009202,  9.417632  ,  9.14955846,  7.1918906 , 10.80525772,\n",
       "       12.24014517,  7.37769203, 12.27587673,  7.46252956,  8.16133041,\n",
       "       13.06136562, 12.45352226, 11.47243375, 14.08449208,  8.83010072,\n",
       "       18.45458041,  5.85276391, 11.33779801, 11.37572002,  9.68904778,\n",
       "        7.57672965,  9.68124094,  8.62731815,  9.94207607,  9.13842355,\n",
       "       10.40817374, 11.25374069,  7.21166687, 10.31437845,  8.80333009,\n",
       "        9.44653895,  6.41616157,  4.34486515,  8.36519735,  7.07407238,\n",
       "       11.80471967, 16.7341456 , 12.67358067,  8.98884017, 11.51254496,\n",
       "       11.31183715,  9.76262737,  9.30005816, 12.60648749,  5.44466101,\n",
       "        6.83298062, 20.51073572,  9.61821176,  4.98665059,  6.67788912,\n",
       "       10.21708309, 11.20553158, 14.35284682,  9.79222536,  8.02501033,\n",
       "       12.02241839, 13.36363198, 10.47375563,  7.65705195,  7.51695517,\n",
       "       10.87120593,  5.38146945,  6.9421309 ,  8.94054944, 12.04539037,\n",
       "       11.74517125, 10.20863705,  9.03388942,  8.40525314,  8.63122088,\n",
       "       10.68538959, 15.00255325, 10.99985837, 11.34141573,  9.26635717,\n",
       "       10.96017307, 11.71987035, 11.54369497,  8.73676208,  6.9835198 ,\n",
       "       12.13100831,  9.81683531,  8.82063671, 11.35183575, 12.19045686,\n",
       "       10.52326899, 11.25564953, 11.64920038, 12.44249963, 12.43362973,\n",
       "        9.96870554,  7.09733838, 10.35748525,  9.41060182,  6.51238846,\n",
       "       13.55303575, 10.12837339, 10.87927398, 13.23064733,  9.8310134 ,\n",
       "        9.84448405, 11.54137439,  9.28653135,  8.58319919, 10.2317844 ,\n",
       "       13.79894183,  8.60282797, 11.57252678,  9.70292615,  9.60331669,\n",
       "        5.72322973,  9.71309448,  9.41975757, 12.14289144, 11.4835686 ,\n",
       "       10.23894093,  9.70979097,  9.87136874, 11.57879925,  9.80631444,\n",
       "       12.13960152, 10.26659091,  8.2178548 , 10.43678068, 14.08830618,\n",
       "        9.89051949,  8.28276614,  9.69418054,  5.42438659,  6.28407631,\n",
       "        9.14390369, 10.401862  , 12.48505198,  7.05839121, 12.50394278,\n",
       "        8.91589512, 10.12110463,  9.61328229,  9.36526241, 11.4377001 ,\n",
       "       13.34691507, 10.63478205, 11.70491482,  9.51722134, 11.36803539,\n",
       "        9.01283625,  9.19933457, 10.16460549, 10.47963925,  8.06274655,\n",
       "       10.67795445, 12.87277503,  7.15049791,  8.79682603,  6.9239594 ,\n",
       "       10.73776077,  6.38830087, 11.41432571, 13.19709585,  7.53490633,\n",
       "       12.18404065, 16.1707653 , 11.08591549, 11.12306751, 10.31797816,\n",
       "       11.03269123, 10.91903985, 10.46958999,  9.24471587,  7.41955898,\n",
       "        9.86450526,  8.85835906, 10.52409921,  9.45326574, 10.88981892,\n",
       "       10.81907073,  8.64535639,  7.51403452,  9.08394024,  7.3671098 ,\n",
       "       10.35345173,  8.97228643, 10.36934502,  9.48685855,  5.79875489,\n",
       "        8.55448443, 10.97108939, 14.91476812, 10.49801411, 10.18281845,\n",
       "       10.64130916, 13.10630074, 13.27788111, 13.20590953, 11.2467903 ,\n",
       "        8.20796861, 12.18485564, 12.60991781, 11.05623883,  7.80615716,\n",
       "       11.65719122, 11.49742029,  9.07084143,  8.84395752, 10.66833781,\n",
       "        6.48594477, 10.38336452, 12.36703766,  6.47029915, 11.10313465,\n",
       "       11.24338913, 10.55788831,  7.19536398,  9.52538022, 14.21731873,\n",
       "       12.24773809,  9.47158949, 13.3337051 , 12.75337925,  9.52996301,\n",
       "        7.08484542,  8.65283562, 13.20285019, 10.09539931, 10.80571184,\n",
       "        5.50243478, 12.46551762, 10.88100141, 14.1437093 ,  7.71835518,\n",
       "       11.27625756,  9.4676811 ,  7.69983796,  5.96592656, 10.07103306,\n",
       "        9.45597582, 16.09357912,  9.84362857,  7.80439185,  9.37714568,\n",
       "        8.42597557, 10.38639206,  8.18242244,  8.46957916,  7.51395962,\n",
       "        7.12303152, 11.46127328, 11.73270188,  7.02933558, 12.30285043,\n",
       "       12.97339643, 10.11348088,  5.67132906, 14.26235681, 11.5029349 ,\n",
       "       11.69263111,  9.5000471 ,  8.96143188,  9.70346141,  8.89630802,\n",
       "        6.14352805,  5.98556251, 10.44532977,  9.90771322,  7.44031995,\n",
       "        9.34346466, 10.11331179,  7.46458624, 11.28497465,  9.32196353,\n",
       "       11.71575831, 11.90912386, 12.42102571, 10.92932035,  5.71293963,\n",
       "       13.14456424,  8.22915093, 10.84268216,  8.39956243,  6.57941064,\n",
       "       12.49166203, 11.46440693,  4.9880116 , 10.89035471, 12.84836852,\n",
       "        9.28152277,  5.17621323, 12.30627335,  8.00813275, 11.61652751,\n",
       "       10.85639344,  5.39025713, 15.12941924,  7.47659705, 10.44606471,\n",
       "       10.19075952, 10.07249001,  7.13117403, 11.76934658,  9.97199586,\n",
       "        8.53944094, 12.88734175,  6.13302713,  5.98044466,  5.96757732,\n",
       "        9.1508019 ,  6.93890486,  7.48965717, 10.95554402, 10.92636399,\n",
       "        9.70165279,  5.04691307, 15.55920626, 10.69335467,  8.77318034,\n",
       "       11.68913186,  7.95019704,  7.55723053,  9.20301891, 10.44406132,\n",
       "        6.89853585, 12.83738427, 16.83498331,  9.00609491, 10.20996705,\n",
       "        8.95602247, 11.06873232,  7.42581491,  9.8105343 , 11.29144533,\n",
       "        9.13970044,  8.64866714, 14.19789005,  9.63396425,  9.58206965,\n",
       "        9.79273069,  9.79995635, 13.1613723 ,  9.62098246,  9.07320085,\n",
       "       11.3143961 , 10.38927834, 10.28260624,  9.14654567,  9.60947231,\n",
       "       10.68456356, 10.23925899,  7.55637509, 11.60919682,  9.9030197 ,\n",
       "        4.49745278,  7.24295569,  6.94679861,  4.55473237,  9.71081615,\n",
       "       10.72733418,  8.42286779, 13.32988288,  8.07204002, 10.57403952,\n",
       "        7.67422783, 11.73818885, 10.24705946, 10.70103254,  6.49631319,\n",
       "       17.03709376, 11.26241513,  7.86093311,  6.92572965, 12.23868582,\n",
       "       14.29914133,  8.40105494,  8.38340622,  8.42032204,  9.78817986,\n",
       "        9.13153372,  8.48213144,  8.83974386,  8.7948301 , 11.04653335,\n",
       "        5.18850974, 14.03529304, 12.44578931,  8.78770455,  8.16293228,\n",
       "        9.53717797,  8.91058178, 10.17876775, 12.22929096,  9.25033678,\n",
       "        8.6879837 ,  9.96003713, 14.22679151, 13.21379268,  9.68568651,\n",
       "       12.11449322,  9.2210526 , 11.2640546 ,  8.83014366,  7.42425281,\n",
       "        8.85663438,  7.52265602,  9.50128497, 12.03833801, 10.22320001,\n",
       "       12.33833683, 12.63905332,  6.67018441, 11.8184749 , 12.00751956,\n",
       "        5.72504134,  5.30698638, 10.55733917, 11.54404533, 12.5964365 ,\n",
       "        9.44142683, 11.43867542, 11.57371818,  9.90853648, 11.11637411,\n",
       "       10.90356396, 11.79975557,  7.02008112,  9.94332638,  8.63112417,\n",
       "        8.54804422,  9.78017376, 10.59468522,  9.10661149, 12.58501715,\n",
       "        7.02813097, 12.82523462,  6.93223389,  8.38882175,  9.66960447,\n",
       "        7.17134696, 12.36685468,  9.29705219,  8.17170122,  9.94335876,\n",
       "       10.70209807,  8.90742226, 11.11747334, 12.44882741, 13.1506191 ,\n",
       "        8.04960693,  8.83953528,  6.7678305 ,  7.76125252,  7.72859575,\n",
       "       10.91975539,  7.91356886,  8.62581919, 11.29884011,  7.25570271,\n",
       "        8.25286766, 12.72827271, 10.82641196, 11.07114963,  8.01040828,\n",
       "        6.16183799, 10.19759928, 10.65945338,  8.16765438,  8.21289024,\n",
       "       10.35844488, 13.21064375,  7.649093  ,  9.1075807 , 10.89330375,\n",
       "        7.49069276, 15.90469886, 16.90407766,  8.967405  ,  7.49946364,\n",
       "       10.48988712, 12.81129421,  9.18063008, 12.30345821,  9.17844804,\n",
       "        9.75175921, 11.37105659, 11.5639284 ,  9.00863928,  6.6069542 ,\n",
       "       11.78952388, 11.43511678,  7.48159289,  9.23050732, 10.14092979,\n",
       "       10.77235939, 12.34311248,  9.49055635,  8.06258689, 10.47909052,\n",
       "        8.28982795, 12.48262105,  5.09184767,  8.79449789,  9.1691465 ,\n",
       "        6.08522719,  7.20915779,  9.47917349, 12.72120539, 11.40937757,\n",
       "       10.0804306 , 11.7661389 ,  9.56370713,  9.35776789,  7.90376535,\n",
       "        8.81819809,  5.20600546, 10.94854348,  9.47174292, 12.55651247,\n",
       "       10.00907843,  8.53513456, 13.63044978,  7.420966  , -1.46499122,\n",
       "        8.34187225,  9.23129085, 12.07936898, 14.45366467,  9.10794959,\n",
       "        8.27828478, 10.56080923,  4.81065301, 16.90958809, 11.18065   ,\n",
       "        7.24509159, 13.14817292, 10.95722233,  8.44133456,  9.11022096,\n",
       "        7.70743009,  5.71244469,  9.07039981, 10.78075305,  5.91257855,\n",
       "        8.23296496,  9.24100646,  9.97139864, 10.61946453,  8.93461229,\n",
       "        7.03069738,  8.75228844, 14.69903511, 10.51194237,  8.27420812,\n",
       "        7.22228467, 10.58500183,  6.74257392,  8.6341343 ,  8.7586895 ,\n",
       "       10.5784219 ,  9.27318053,  8.80813293, 10.57821871,  8.23859176,\n",
       "       11.96005468, 11.35086055, 10.50366031,  6.36866248, 10.26308054,\n",
       "        9.72510125,  8.10495513,  9.58384241,  8.35570268,  9.48798986,\n",
       "       11.98516006,  6.99224215, 12.31748859,  7.19445953,  7.24504141,\n",
       "        8.64681842,  8.00966613,  8.84788603,  7.28632435, 14.36654646,\n",
       "       12.37089103,  8.87826682, 11.79979559,  9.9711877 , 12.07837859,\n",
       "       10.92992577, 10.11825204,  9.62301475,  8.51250545,  8.51828316,\n",
       "       11.2740698 ,  7.18505011,  8.8566323 ,  8.41010607, 10.56442811,\n",
       "        7.49541994, 13.75284644, 10.99394292, 16.10163504, 13.24227168,\n",
       "       11.95574901, 13.59082884,  6.34327123, 10.9661301 ,  9.55559927,\n",
       "        7.59827182,  7.56253067,  4.95722895, 11.40245844,  9.59867702,\n",
       "       10.02700117, 10.65972916, 17.64619172,  7.27307302,  8.34062364,\n",
       "       10.31277126,  7.71460838, 10.17617331,  7.11911741,  7.5383375 ,\n",
       "       10.14816022, 13.25289199, 12.95631605,  9.52576092, 11.93340351,\n",
       "       10.36812046,  7.968941  ,  8.78645841,  9.29080018, 10.18968555,\n",
       "       12.47386659,  8.85097312, 10.60715778, 10.11438581, 12.45912806,\n",
       "        9.03374366,  7.26052411,  5.71865576, 12.52471835, 11.99280729,\n",
       "        8.83579452, 14.28543539,  8.04265273, 12.61081257, 14.20832497,\n",
       "        9.83336982,  7.20013893,  5.86621451, 13.89934101, 12.87453321,\n",
       "        8.129311  ,  6.12283926,  6.96166982, 11.1435819 , 13.45641717,\n",
       "       10.76882063,  7.29244644, 13.14282631, 13.8736867 , 10.08880266,\n",
       "        8.55003443, 12.9721414 , 10.25009409,  5.79678651, 12.8057756 ,\n",
       "        7.67726516,  9.83708441, 12.56056958,  8.47212889,  9.60717058,\n",
       "       12.20843945,  7.8822878 , 12.42490966,  7.43902395,  9.18210289,\n",
       "       10.75989412,  7.95896076,  6.07100417,  9.17617646,  8.32656062,\n",
       "        9.66715997, 17.23785286, 10.00939078,  8.36142497,  7.41821095,\n",
       "        8.94921609, 11.20140915, 10.55191939, 10.75159794, 14.42180316,\n",
       "        7.96204271, 11.95540668, 11.27063705, 13.51251634,  9.30818928,\n",
       "       12.07054276, 11.38849981,  9.81760908, 10.69757831, 10.69118828,\n",
       "        9.03804753,  6.88307884,  8.05044432,  8.19954929,  5.44424921,\n",
       "       11.89110983,  8.10794962,  9.35145523, -3.00876823, 13.41827373,\n",
       "        7.36606939, 15.57587615,  9.37409979,  8.81329137,  9.2613528 ,\n",
       "       10.73748967, 11.29587117,  8.55787403,  9.05604183, 11.49535823,\n",
       "       10.97000475, 12.62160642,  8.23816618,  6.95166607,  6.83394563,\n",
       "       11.83931351,  7.69979896,  9.99356035,  7.57579959, 10.3608744 ,\n",
       "        5.58852237,  9.19328335, 11.59528254, 10.01846764,  7.04616415,\n",
       "       12.41105397,  9.49296182,  6.82751536, 12.99924154, 10.75334797,\n",
       "       13.08542711,  6.42185889,  9.00674132,  8.85221688, 13.52097667,\n",
       "        6.51503954, 11.00649112, 13.12076308, 16.01827722, 11.34710087,\n",
       "        8.05014142,  9.87187878,  8.07776519, 10.96512522, 10.99903529,\n",
       "        9.83518392, 11.68866254, 10.63055465, 11.78056286, 10.9588959 ,\n",
       "       11.78127178,  9.5540274 , 11.98724999,  8.29199234,  7.94487036,\n",
       "        9.01077039,  8.72459902, 10.5283998 ,  8.10472291, 10.33423827,\n",
       "       10.84176482,  5.3133346 ,  8.87710318, 11.05254612, 10.7834311 ,\n",
       "       16.07999568, 10.9378478 , 12.94552766, 10.86981964, 14.13282609,\n",
       "       11.99930383, 13.54133892,  5.35101611,  7.13245569,  9.53901931,\n",
       "        4.3817478 ,  6.72827409, 14.36028134, 12.79377304,  9.87331145,\n",
       "       12.34899441, 13.11367731, 14.28387232, 10.72113718,  4.72923884,\n",
       "       12.23715563,  6.4358588 , 10.41562021,  8.94823789,  8.27300393,\n",
       "        5.20793932,  9.25436317, 13.78496555,  5.66884581, 10.17887699,\n",
       "        9.88694709,  9.24165855, 12.24123887,  6.27166781, 11.97233959,\n",
       "       11.19995172, 11.28137836, 11.07095179,  8.24776355,  7.99546234,\n",
       "        9.58918022,  9.21363878, 11.73279106,  8.48934693,  7.47387016,\n",
       "        6.62968184,  5.11409782,  6.84238623,  8.93284606, 10.40102597,\n",
       "       10.86047342, 10.93434605, 10.31583463,  9.07025404,  8.89588187,\n",
       "        7.2054166 ])"
      ]
     },
     "execution_count": 47,
     "metadata": {},
     "output_type": "execute_result"
    }
   ],
   "source": [
    "y_pred = model_lr.predict(X_test) #코드작성\n",
    "y_pred"
   ]
  },
  {
   "cell_type": "markdown",
   "metadata": {
    "id": "nd3bqbrVu8Rx"
   },
   "source": [
    "- 테스트 데이터의 실제값인 y_test와 학습모델이 예측한 y_pred를 출력해본다."
   ]
  },
  {
   "cell_type": "code",
   "execution_count": 48,
   "metadata": {
    "colab": {
     "base_uri": "https://localhost:8080/",
     "height": 424
    },
    "executionInfo": {
     "elapsed": 23,
     "status": "ok",
     "timestamp": 1666350864914,
     "user": {
      "displayName": "강희숙",
      "userId": "05520711596090317319"
     },
     "user_tz": -540
    },
    "id": "KOCFiuX3TssD",
    "outputId": "025a7444-cfa2-401b-da2c-af68a871c829"
   },
   "outputs": [
    {
     "data": {
      "text/html": [
       "<div>\n",
       "<style scoped>\n",
       "    .dataframe tbody tr th:only-of-type {\n",
       "        vertical-align: middle;\n",
       "    }\n",
       "\n",
       "    .dataframe tbody tr th {\n",
       "        vertical-align: top;\n",
       "    }\n",
       "\n",
       "    .dataframe thead th {\n",
       "        text-align: right;\n",
       "    }\n",
       "</style>\n",
       "<table border=\"1\" class=\"dataframe\">\n",
       "  <thead>\n",
       "    <tr style=\"text-align: right;\">\n",
       "      <th></th>\n",
       "      <th>Actual</th>\n",
       "      <th>Predicted</th>\n",
       "    </tr>\n",
       "  </thead>\n",
       "  <tbody>\n",
       "    <tr>\n",
       "      <th>0</th>\n",
       "      <td>9</td>\n",
       "      <td>11.761361</td>\n",
       "    </tr>\n",
       "    <tr>\n",
       "      <th>1</th>\n",
       "      <td>8</td>\n",
       "      <td>10.241926</td>\n",
       "    </tr>\n",
       "    <tr>\n",
       "      <th>2</th>\n",
       "      <td>16</td>\n",
       "      <td>14.001036</td>\n",
       "    </tr>\n",
       "    <tr>\n",
       "      <th>3</th>\n",
       "      <td>9</td>\n",
       "      <td>11.995093</td>\n",
       "    </tr>\n",
       "    <tr>\n",
       "      <th>4</th>\n",
       "      <td>14</td>\n",
       "      <td>11.161415</td>\n",
       "    </tr>\n",
       "    <tr>\n",
       "      <th>...</th>\n",
       "      <td>...</td>\n",
       "      <td>...</td>\n",
       "    </tr>\n",
       "    <tr>\n",
       "      <th>831</th>\n",
       "      <td>11</td>\n",
       "      <td>10.934346</td>\n",
       "    </tr>\n",
       "    <tr>\n",
       "      <th>832</th>\n",
       "      <td>8</td>\n",
       "      <td>10.315835</td>\n",
       "    </tr>\n",
       "    <tr>\n",
       "      <th>833</th>\n",
       "      <td>10</td>\n",
       "      <td>9.070254</td>\n",
       "    </tr>\n",
       "    <tr>\n",
       "      <th>834</th>\n",
       "      <td>8</td>\n",
       "      <td>8.895882</td>\n",
       "    </tr>\n",
       "    <tr>\n",
       "      <th>835</th>\n",
       "      <td>7</td>\n",
       "      <td>7.205417</td>\n",
       "    </tr>\n",
       "  </tbody>\n",
       "</table>\n",
       "<p>836 rows × 2 columns</p>\n",
       "</div>"
      ],
      "text/plain": [
       "     Actual  Predicted\n",
       "0         9  11.761361\n",
       "1         8  10.241926\n",
       "2        16  14.001036\n",
       "3         9  11.995093\n",
       "4        14  11.161415\n",
       "..      ...        ...\n",
       "831      11  10.934346\n",
       "832       8  10.315835\n",
       "833      10   9.070254\n",
       "834       8   8.895882\n",
       "835       7   7.205417\n",
       "\n",
       "[836 rows x 2 columns]"
      ]
     },
     "execution_count": 48,
     "metadata": {},
     "output_type": "execute_result"
    }
   ],
   "source": [
    "df_result = pd.DataFrame(columns=['Actual', 'Predicted'])\n",
    "#코드작성\n",
    "df_result['Actual'] = y_test\n",
    "df_result['Predicted'] = y_pred\n",
    "\n",
    "#df_result = pd.DataFrame({'Actual': y_test, 'Predicted': y_pred}) #코드작성\n",
    "\n",
    "df_result  \n"
   ]
  },
  {
   "cell_type": "markdown",
   "metadata": {
    "id": "pUPkUxngvBKU"
   },
   "source": [
    "2) 모델의 기울기와 절편 확인하기\n",
    "- LinearRegression() 모델이 학습한 선형 회귀식의 기울기(coef_)와 절편 (intercept_)를 확인한다"
   ]
  },
  {
   "cell_type": "code",
   "execution_count": 26,
   "metadata": {
    "colab": {
     "base_uri": "https://localhost:8080/"
    },
    "executionInfo": {
     "elapsed": 22,
     "status": "ok",
     "timestamp": 1666350864914,
     "user": {
      "displayName": "강희숙",
      "userId": "05520711596090317319"
     },
     "user_tz": -540
    },
    "id": "ca5JfzLRi1r-",
    "outputId": "aa7a0a38-d1d8-4ff6-d210-2cdae8b67a52"
   },
   "outputs": [
    {
     "name": "stdout",
     "output_type": "stream",
     "text": [
      "기울기: [14.34765032]\n",
      "절편: 6.505760541811178\n"
     ]
    }
   ],
   "source": [
    "#코드작성\n",
    "print(f'기울기: {model_lr.coef_}')\n",
    "print(f'절편: {model_lr.intercept_}')\n"
   ]
  },
  {
   "cell_type": "markdown",
   "metadata": {
    "id": "jikmLVuYvIWv"
   },
   "source": [
    "3) 모델로 예측한 최적합선 시각화하기"
   ]
  },
  {
   "cell_type": "code",
   "execution_count": 27,
   "metadata": {
    "colab": {
     "base_uri": "https://localhost:8080/",
     "height": 299
    },
    "executionInfo": {
     "elapsed": 19,
     "status": "ok",
     "timestamp": 1666350864914,
     "user": {
      "displayName": "강희숙",
      "userId": "05520711596090317319"
     },
     "user_tz": -540
    },
    "id": "ccC_p-z6Tsr-",
    "outputId": "4eef0d15-1a7d-421c-d87a-3d3f514fc175"
   },
   "outputs": [
    {
     "data": {
      "image/png": "[encoded data removed]",
      "text/plain": [
       "<Figure size 640x480 with 1 Axes>"
      ]
     },
     "metadata": {},
     "output_type": "display_data"
    }
   ],
   "source": [
    "plt.figure()\n",
    "\n",
    "#코드작성 : X_test, y_test 산점도를 그린다.\n",
    "plt.scatter(X_test, y_test, color='gray')\n",
    "#코드작성 : X_test, y_pred 선을 그린다.\n",
    "plt.plot(X_test, y_pred, color='red', linewidth=2)\n",
    "#코드작성 :  x축 label -'Whole_weight', y축 label - 'Rings' 로 표시한다.\n",
    "plt.xlabel('Whole_weight')\n",
    "plt.ylabel('Rings')\n",
    "plt.show()"
   ]
  },
  {
   "cell_type": "code",
   "execution_count": null,
   "metadata": {},
   "outputs": [],
   "source": []
  },
  {
   "cell_type": "markdown",
   "metadata": {
    "id": "p0BwOZgnvMFW"
   },
   "source": [
    "### **step5. 모델 평가하기**"
   ]
  },
  {
   "cell_type": "markdown",
   "metadata": {
    "id": "T3ZVVJCvvRIM"
   },
   "source": [
    "- 평균 제곱 오차(MSE)와 평균 절대 오차(MAE) 그리고 결정계수(R2)을 이용하여 모델의 성능을 평가한다."
   ]
  },
  {
   "cell_type": "code",
   "execution_count": 49,
   "metadata": {
    "colab": {
     "base_uri": "https://localhost:8080/"
    },
    "executionInfo": {
     "elapsed": 17,
     "status": "ok",
     "timestamp": 1666350864915,
     "user": {
      "displayName": "강희숙",
      "userId": "05520711596090317319"
     },
     "user_tz": -540
    },
    "id": "aPJ8BFVpTssB",
    "outputId": "df6bc4a7-320e-480a-ae34-4fa1b25acf46"
   },
   "outputs": [
    {
     "name": "stdout",
     "output_type": "stream",
     "text": [
      "Linear Regression Score\n",
      "MSE : 4.891232447128577\n",
      "MAE : 1.5931067816608318\n",
      "R2:  0.5481628137889265\n"
     ]
    }
   ],
   "source": [
    "print (\"Linear Regression Score\")\n",
    "#코드작성 : mean_squared_error(), mean_absolute_error()를 출력한다.\n",
    "print(f'MSE : {mean_squared_error(y_test, y_pred)}')\n",
    "print(f'MAE : {mean_absolute_error(y_test, y_pred)}')\n",
    "\n",
    "print (\"R2: \", r2_score(y_test,y_pred))"
   ]
  },
  {
   "cell_type": "markdown",
   "metadata": {
    "id": "a-g4wpF3uy5E"
   },
   "source": [
    "## **선형회귀 모델 평가**\n",
    "Sklearn.metrics\n",
    "- 손실, 점수, 회기 성능 평가 함수 등 다양한 함수를 가지고 있음\n",
    "- 예: mean_squared_error, explacined_evariance_score, r2_score\n",
    "\n",
    "RMSE(Root Mean Square of Errors)\n",
    "- RMSE는 평균 제곱근 오차를 나타냅니다.\n",
    "- MSE의 Root를 씌운 평가지표\n",
    "- 기계 학습 모델을 사용하여 예측을 수행할 때 예측이 정확한지 확인해야 합니다.\n",
    "- RMSE는 예측 오류를 측정하는 방법입니다.\n",
    "- RMSE가 높으면 예측이 나쁘고, 낮으면 예측이 좋은 것입니다.\n",
    "- RMSE는 MSE와 같은 정보를 제공하지만, 그 해석이 더 직관적이라는 점에서 다릅니다. RMSE는 원래 데이터의 스케일에 맞춰진 오차의 평균 크기를 나타내므로, 모델의 성능을 평가하고 해석할 때 실제 값과 비교가 용이함\n",
    "\n",
    "MSE(Mean Square of Errors)\n",
    "- MSE는 평균제곱오차를 나타냅니다.\n",
    "- 예측값 - 관측값(데이터값)의 제곱된 값의 평균을 구하는 것\n",
    "\n",
    "MAE(Mean Absolute of Errors)\n",
    "- MAE는 평균 절대 오차를 나타냅니다.\n",
    "- RMSE와 마찬가지로 MAE는 예측의 오류를 측정하는 방법입니다.\n",
    "- 모델의 예측값과 실제값의 차이를 모두 더하는 방식\n",
    "- MAE가 높으면 예측이 나쁘고 그 반대의 경우 좋은 것입니다.\n",
    "\n",
    "R2(R Squared Score) 결정계수\n",
    "- 적합도를 측정하는 방법\n",
    "- 실제 값과 실제 값의 평균 거리까지의 거리를 취한 뒤 이를 추정값과 비교하는 과정\n",
    "- 실제 관측값의 분산대비 예측값의 분산을 계산하여 데이터 예측의 정확도 성능을 측정하는 지표\n",
    "- 0~1까지 수로 나타내어지며 1에 가까울수록 100%의 설명력을 가진 모델이라고 평가를 하게된다\n",
    "- 0과 1 사이에서 1에 가까울 수록 선형회귀 모델이 데이터에 대하여 높은 연관성을 가지고 있다고 해석할 수 있다.\n",
    "- 다중선형회귀에서 특성이 많이 늘어날수록 R2 값이 오르는 경향도 있기 때문에, R2값에 대한 맹신은 하지 않도록 해야한다.\n",
    "\n",
    "Explained variance score\n",
    "- 설명 분산 점수\n",
    "- 기존 SSR에서 Mean Error를 빼는 것으로 모델에서 나오는 오차가 0을 기준으로 왔다갔다 한다면 R2와 비슷\n",
    "- 가장 좋은 최적의 값은 1.0이고 더 낮은 값일수록 더 나빠진다.\n",
    "\n",
    "https://velog.io/@woooa/TIL-%EB%8B%A4%EC%A4%91%EC%84%A0%ED%98%95%ED%9A%8C%EA%B7%80%EC%99%80-%ED%8F%89%EA%B0%80%EC%A7%80%ED%91%9C"
   ]
  }
 ],
 "metadata": {
  "colab": {
   "provenance": []
  },
  "kernelspec": {
   "display_name": "base",
   "language": "python",
   "name": "python3"
  },
  "language_info": {
   "codemirror_mode": {
    "name": "ipython",
    "version": 3
   },
   "file_extension": ".py",
   "mimetype": "text/x-python",
   "name": "python",
   "nbconvert_exporter": "python",
   "pygments_lexer": "ipython3",
   "version": "3.11.7"
  }
 },
 "nbformat": 4,
 "nbformat_minor": 0
}
