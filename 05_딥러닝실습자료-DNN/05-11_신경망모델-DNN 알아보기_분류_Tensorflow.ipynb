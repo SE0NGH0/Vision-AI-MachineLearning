{
 "cells": [
  {
   "cell_type": "markdown",
   "metadata": {
    "id": "Wu9gkO2kvLE3"
   },
   "source": [
    "##  **기계학습-신경망(DNN) 알아보기**\n",
    "### <b> <font color=green> [데이터 준비하기]     \n",
    "### [신경망모델 구현하기-딥러닝] </font> </b>   \n",
    "1) 라이브러리 가져오기 : import tensorflow as tf      \n",
    "2) 모델 구성 선언하기 :model_dnn = tf.keras.Sequential()  \n",
    "3) 모델 컴파일하기:model_dnn.compile()   \n",
    "4) 모델 학습하기 : model_dnn.fit((X_train, y_train)     \n",
    "5) 모델 예측하기 : model_dnn.predict(X_test)    \n",
    "6) 모델 평가하기 : model_dnn.evaluate(X_test,y_test)   \n",
    "\n",
    "- 이 사람은 심장병에 걸렸는가?  \n",
    "- 입력 : 키, 몸무게, 혈압, 혈중 산소농도, 염증수치  \n",
    "- 출력 : True/False\n",
    "- 모델 구현 : 로지스틱 회귀는 sigmoid를 사용하므로 결과값이 0~1사이 값으로 나옴   \n",
    "- 오차 함수 : 이진분류  - Binary Cross Entropy (BCE) Loss Function     \n",
    "- 평가 척도 :**심장병과 같은 중요한 질병 예측에서 한 건의 양성도 놓치지 않기 위해서는 ???**\n"
   ]
  },
  {
   "cell_type": "markdown",
   "metadata": {},
   "source": [
    "#### 가상환경 생성하기 \n",
    "- 필요한 라이브러리 설치하기 \n",
    "> pip install ipykernel pandas scikit-learn tensorflow matplotlib"
   ]
  },
  {
   "cell_type": "markdown",
   "metadata": {
    "id": "o3X32FCoWlCL"
   },
   "source": [
    "## <font color=green>**[ 데이터 준비하기 ]**"
   ]
  },
  {
   "cell_type": "markdown",
   "metadata": {
    "id": "C7jjxkvxvikM"
   },
   "source": [
    "### **Step 0 : 파일 다운로드하기**\n",
    "- 아래 셀을 실행시켜 프로젝트에 사용할 데이터 파일을 colab 작업환경으로 다운로드한다.\n",
    "> 'heart_disease.csv'"
   ]
  },
  {
   "cell_type": "code",
   "execution_count": null,
   "metadata": {
    "colab": {
     "base_uri": "https://localhost:8080/"
    },
    "executionInfo": {
     "elapsed": 4835,
     "status": "ok",
     "timestamp": 1723467627143,
     "user": {
      "displayName": "강희숙",
      "userId": "05520711596090317319"
     },
     "user_tz": -540
    },
    "id": "fLTrw1k8vxSx",
    "outputId": "5160f8b1-f55b-44c9-e022-2b2657084518"
   },
   "outputs": [],
   "source": [
    "# colab에서\n",
    "#!gdown 1NbkxEWchJohsa3n-oDqTy5pyoNPeZX2l"
   ]
  },
  {
   "cell_type": "markdown",
   "metadata": {
    "id": "Dmi9nvUZvwUp"
   },
   "source": [
    "### **Step 1 : 라이브러리 가져오기**\n",
    "* 데이터 전처리에 사용되는 라이브러리를 가져온다."
   ]
  },
  {
   "cell_type": "code",
   "execution_count": 1,
   "metadata": {
    "_cell_guid": "e7906e7e-6afd-490c-a6a2-7c87ae3c4d53",
    "_uuid": "f763aa48515675ec9925c733ad683e39b33d6ee2",
    "id": "V09t-LC5vHPB"
   },
   "outputs": [],
   "source": [
    "import pandas as pd\n",
    "from sklearn.model_selection import train_test_split"
   ]
  },
  {
   "cell_type": "markdown",
   "metadata": {
    "id": "cwnRNv8rw4Hl"
   },
   "source": [
    "### **Step 2 : 데이터 확인하기**"
   ]
  },
  {
   "cell_type": "markdown",
   "metadata": {
    "id": "KrNCs6SUxMT5"
   },
   "source": [
    "1) 데이터 읽어 저장하기"
   ]
  },
  {
   "cell_type": "code",
   "execution_count": 2,
   "metadata": {
    "colab": {
     "base_uri": "https://localhost:8080/",
     "height": 206
    },
    "executionInfo": {
     "elapsed": 20,
     "status": "ok",
     "timestamp": 1667050427594,
     "user": {
      "displayName": "강희숙",
      "userId": "05520711596090317319"
     },
     "user_tz": -540
    },
    "id": "GwrvlJZdvHPH",
    "outputId": "0b0ee4cf-489f-4476-bb18-7d278ab8033e"
   },
   "outputs": [
    {
     "data": {
      "text/html": [
       "<div>\n",
       "<style scoped>\n",
       "    .dataframe tbody tr th:only-of-type {\n",
       "        vertical-align: middle;\n",
       "    }\n",
       "\n",
       "    .dataframe tbody tr th {\n",
       "        vertical-align: top;\n",
       "    }\n",
       "\n",
       "    .dataframe thead th {\n",
       "        text-align: right;\n",
       "    }\n",
       "</style>\n",
       "<table border=\"1\" class=\"dataframe\">\n",
       "  <thead>\n",
       "    <tr style=\"text-align: right;\">\n",
       "      <th></th>\n",
       "      <th>Age</th>\n",
       "      <th>Sex</th>\n",
       "      <th>ChestPain</th>\n",
       "      <th>RestBP</th>\n",
       "      <th>Chol</th>\n",
       "      <th>Fbs</th>\n",
       "      <th>RestECG</th>\n",
       "      <th>MaxHR</th>\n",
       "      <th>ExAng</th>\n",
       "      <th>Oldpeak</th>\n",
       "      <th>Slope</th>\n",
       "      <th>Ca</th>\n",
       "      <th>Thal</th>\n",
       "      <th>AHD</th>\n",
       "    </tr>\n",
       "  </thead>\n",
       "  <tbody>\n",
       "    <tr>\n",
       "      <th>0</th>\n",
       "      <td>63</td>\n",
       "      <td>1</td>\n",
       "      <td>typical</td>\n",
       "      <td>145</td>\n",
       "      <td>233</td>\n",
       "      <td>1</td>\n",
       "      <td>2</td>\n",
       "      <td>150</td>\n",
       "      <td>0</td>\n",
       "      <td>2.3</td>\n",
       "      <td>3</td>\n",
       "      <td>0.0</td>\n",
       "      <td>fixed</td>\n",
       "      <td>No</td>\n",
       "    </tr>\n",
       "    <tr>\n",
       "      <th>1</th>\n",
       "      <td>67</td>\n",
       "      <td>1</td>\n",
       "      <td>asymptomatic</td>\n",
       "      <td>160</td>\n",
       "      <td>286</td>\n",
       "      <td>0</td>\n",
       "      <td>2</td>\n",
       "      <td>108</td>\n",
       "      <td>1</td>\n",
       "      <td>1.5</td>\n",
       "      <td>2</td>\n",
       "      <td>3.0</td>\n",
       "      <td>normal</td>\n",
       "      <td>Yes</td>\n",
       "    </tr>\n",
       "    <tr>\n",
       "      <th>2</th>\n",
       "      <td>67</td>\n",
       "      <td>1</td>\n",
       "      <td>asymptomatic</td>\n",
       "      <td>120</td>\n",
       "      <td>229</td>\n",
       "      <td>0</td>\n",
       "      <td>2</td>\n",
       "      <td>129</td>\n",
       "      <td>1</td>\n",
       "      <td>2.6</td>\n",
       "      <td>2</td>\n",
       "      <td>2.0</td>\n",
       "      <td>reversable</td>\n",
       "      <td>Yes</td>\n",
       "    </tr>\n",
       "    <tr>\n",
       "      <th>3</th>\n",
       "      <td>37</td>\n",
       "      <td>1</td>\n",
       "      <td>nonanginal</td>\n",
       "      <td>130</td>\n",
       "      <td>250</td>\n",
       "      <td>0</td>\n",
       "      <td>0</td>\n",
       "      <td>187</td>\n",
       "      <td>0</td>\n",
       "      <td>3.5</td>\n",
       "      <td>3</td>\n",
       "      <td>0.0</td>\n",
       "      <td>normal</td>\n",
       "      <td>No</td>\n",
       "    </tr>\n",
       "    <tr>\n",
       "      <th>4</th>\n",
       "      <td>41</td>\n",
       "      <td>0</td>\n",
       "      <td>nontypical</td>\n",
       "      <td>130</td>\n",
       "      <td>204</td>\n",
       "      <td>0</td>\n",
       "      <td>2</td>\n",
       "      <td>172</td>\n",
       "      <td>0</td>\n",
       "      <td>1.4</td>\n",
       "      <td>1</td>\n",
       "      <td>0.0</td>\n",
       "      <td>normal</td>\n",
       "      <td>No</td>\n",
       "    </tr>\n",
       "  </tbody>\n",
       "</table>\n",
       "</div>"
      ],
      "text/plain": [
       "   Age  Sex     ChestPain  RestBP  Chol  Fbs  RestECG  MaxHR  ExAng  Oldpeak  \\\n",
       "0   63    1       typical     145   233    1        2    150      0      2.3   \n",
       "1   67    1  asymptomatic     160   286    0        2    108      1      1.5   \n",
       "2   67    1  asymptomatic     120   229    0        2    129      1      2.6   \n",
       "3   37    1    nonanginal     130   250    0        0    187      0      3.5   \n",
       "4   41    0    nontypical     130   204    0        2    172      0      1.4   \n",
       "\n",
       "   Slope   Ca        Thal  AHD  \n",
       "0      3  0.0       fixed   No  \n",
       "1      2  3.0      normal  Yes  \n",
       "2      2  2.0  reversable  Yes  \n",
       "3      3  0.0      normal   No  \n",
       "4      1  0.0      normal   No  "
      ]
     },
     "execution_count": 2,
     "metadata": {},
     "output_type": "execute_result"
    }
   ],
   "source": [
    "df = pd.read_csv(\"data/heart_disease.csv\")\n",
    "df.head()"
   ]
  },
  {
   "cell_type": "markdown",
   "metadata": {
    "id": "e1Jribxzz6Ph"
   },
   "source": [
    "**[ 데이터 특성 ]**\n",
    "\n",
    "| 열인덱스 |  컬럼명   | 설명 및 단위 |\n",
    "|----------|-----------|--------------|\n",
    "|    0     | Age       | 나이 |\n",
    "|   1      | Sex       | 성별(1,0)  |\n",
    "|   2      | ChestPain | 가슴통증 유형(0~3) |\n",
    "|   3      | RestBP    | 휴식 혈압(resting blood pressure) |\n",
    "|   4      | Chol      | 혈청 콜레스테롤(serum cholestoral in mg/dl)  |\n",
    "|   5      | Fbs       | 공복 혈당(fasting blood sugar)  |\n",
    "|   6      | RestECG   | 휴식심전도(resting electrocardiographic results)|\n",
    "|   7      | MaxHR     | 최대 심박수(maximum heart rate achieved) |\n",
    "|   8      | ExAng     | 운동으로 인한 흉통(exercise induced angina)  |\n",
    "|   9      | Oldpeak   | 심전도의 비정상 측정(oldpeak_eq_st_depression)  |\n",
    "|   10      | Slope     | ST분절(the slope of the peak exercise ST segment)  |\n",
    "|   11      | Ca        | 혈관의수(number of major vessels colored by flourosopy)   |\n",
    "|   12      | Thal       | 심장에 혈류를 측정하는 Thallium stress test 결과  |\n",
    "|   13      | AHD       | 심장병 진단  |"
   ]
  },
  {
   "cell_type": "markdown",
   "metadata": {
    "id": "YXdKfZk1xSqE"
   },
   "source": [
    "2) 데이터 정보 파악하기"
   ]
  },
  {
   "cell_type": "code",
   "execution_count": 3,
   "metadata": {
    "colab": {
     "base_uri": "https://localhost:8080/"
    },
    "executionInfo": {
     "elapsed": 19,
     "status": "ok",
     "timestamp": 1667050427595,
     "user": {
      "displayName": "강희숙",
      "userId": "05520711596090317319"
     },
     "user_tz": -540
    },
    "id": "S5SaLizUvHPK",
    "outputId": "926f7c01-7698-46de-b61f-81fcdef3aa53"
   },
   "outputs": [
    {
     "name": "stdout",
     "output_type": "stream",
     "text": [
      "<class 'pandas.core.frame.DataFrame'>\n",
      "RangeIndex: 303 entries, 0 to 302\n",
      "Data columns (total 14 columns):\n",
      " #   Column     Non-Null Count  Dtype  \n",
      "---  ------     --------------  -----  \n",
      " 0   Age        303 non-null    int64  \n",
      " 1   Sex        303 non-null    int64  \n",
      " 2   ChestPain  303 non-null    object \n",
      " 3   RestBP     303 non-null    int64  \n",
      " 4   Chol       303 non-null    int64  \n",
      " 5   Fbs        303 non-null    int64  \n",
      " 6   RestECG    303 non-null    int64  \n",
      " 7   MaxHR      303 non-null    int64  \n",
      " 8   ExAng      303 non-null    int64  \n",
      " 9   Oldpeak    303 non-null    float64\n",
      " 10  Slope      303 non-null    int64  \n",
      " 11  Ca         299 non-null    float64\n",
      " 12  Thal       301 non-null    object \n",
      " 13  AHD        303 non-null    object \n",
      "dtypes: float64(2), int64(9), object(3)\n",
      "memory usage: 33.3+ KB\n"
     ]
    }
   ],
   "source": [
    "df.info()"
   ]
  },
  {
   "cell_type": "code",
   "execution_count": 4,
   "metadata": {
    "colab": {
     "base_uri": "https://localhost:8080/"
    },
    "executionInfo": {
     "elapsed": 17,
     "status": "ok",
     "timestamp": 1667050427596,
     "user": {
      "displayName": "강희숙",
      "userId": "05520711596090317319"
     },
     "user_tz": -540
    },
    "id": "NCls2_3uvHPJ",
    "outputId": "420e288b-cb49-44a1-a9b2-23c9e7e7a2d3"
   },
   "outputs": [
    {
     "data": {
      "text/plain": [
       "(303, 14)"
      ]
     },
     "execution_count": 4,
     "metadata": {},
     "output_type": "execute_result"
    }
   ],
   "source": [
    "# 데이터 형태\n",
    "df.shape"
   ]
  },
  {
   "cell_type": "markdown",
   "metadata": {
    "id": "ijR2oeCDRSqf"
   },
   "source": [
    "3) 데이터 처리하기\n",
    "- 데이터에 결측치 데이터가 있는지 확인한다."
   ]
  },
  {
   "cell_type": "code",
   "execution_count": 5,
   "metadata": {
    "colab": {
     "base_uri": "https://localhost:8080/"
    },
    "executionInfo": {
     "elapsed": 16,
     "status": "ok",
     "timestamp": 1667050427596,
     "user": {
      "displayName": "강희숙",
      "userId": "05520711596090317319"
     },
     "user_tz": -540
    },
    "id": "OIiTrhS8vHPL",
    "outputId": "17b2f549-57c4-4685-bc5b-edd620096329"
   },
   "outputs": [
    {
     "data": {
      "text/plain": [
       "Age          0\n",
       "Sex          0\n",
       "ChestPain    0\n",
       "RestBP       0\n",
       "Chol         0\n",
       "Fbs          0\n",
       "RestECG      0\n",
       "MaxHR        0\n",
       "ExAng        0\n",
       "Oldpeak      0\n",
       "Slope        0\n",
       "Ca           4\n",
       "Thal         2\n",
       "AHD          0\n",
       "dtype: int64"
      ]
     },
     "execution_count": 5,
     "metadata": {},
     "output_type": "execute_result"
    }
   ],
   "source": [
    "df.isnull().sum()"
   ]
  },
  {
   "cell_type": "markdown",
   "metadata": {
    "id": "LYxy-FXDUwF3"
   },
   "source": [
    "- 데이터에 있는 결측치를 처리한다.\n",
    "    - dropna() 사용"
   ]
  },
  {
   "cell_type": "code",
   "execution_count": 6,
   "metadata": {
    "id": "OdKaQrgxGa1a"
   },
   "outputs": [],
   "source": [
    "#코드작성\n",
    "df = df.dropna(axis=0, how='any') # 결측치 제거"
   ]
  },
  {
   "cell_type": "markdown",
   "metadata": {
    "id": "EDfROGEOGgCB"
   },
   "source": [
    "- 결측치가 처리되었는지 확인한다."
   ]
  },
  {
   "cell_type": "code",
   "execution_count": 7,
   "metadata": {
    "colab": {
     "base_uri": "https://localhost:8080/"
    },
    "executionInfo": {
     "elapsed": 15,
     "status": "ok",
     "timestamp": 1667050427597,
     "user": {
      "displayName": "강희숙",
      "userId": "05520711596090317319"
     },
     "user_tz": -540
    },
    "id": "kuVBclRm71J4",
    "outputId": "53da5627-b2f7-43a9-9c3f-5ca7bb7d0b47"
   },
   "outputs": [
    {
     "data": {
      "text/plain": [
       "Age          0\n",
       "Sex          0\n",
       "ChestPain    0\n",
       "RestBP       0\n",
       "Chol         0\n",
       "Fbs          0\n",
       "RestECG      0\n",
       "MaxHR        0\n",
       "ExAng        0\n",
       "Oldpeak      0\n",
       "Slope        0\n",
       "Ca           0\n",
       "Thal         0\n",
       "AHD          0\n",
       "dtype: int64"
      ]
     },
     "execution_count": 7,
     "metadata": {},
     "output_type": "execute_result"
    }
   ],
   "source": [
    "df.isnull().sum()"
   ]
  },
  {
   "cell_type": "markdown",
   "metadata": {
    "id": "mX6UWJ2CU37m"
   },
   "source": [
    "- 문자열 데이터 항목 ‘ChestPain’의 값의 분포를 파악한다.\n",
    "- value_counts() 사용"
   ]
  },
  {
   "cell_type": "code",
   "execution_count": 8,
   "metadata": {
    "colab": {
     "base_uri": "https://localhost:8080/"
    },
    "executionInfo": {
     "elapsed": 13,
     "status": "ok",
     "timestamp": 1667050427597,
     "user": {
      "displayName": "강희숙",
      "userId": "05520711596090317319"
     },
     "user_tz": -540
    },
    "id": "DC-V0cQ-SAB6",
    "outputId": "fe5e1bf0-b1a8-4605-ea7c-013e9c87c5ff"
   },
   "outputs": [
    {
     "data": {
      "text/plain": [
       "ChestPain\n",
       "asymptomatic    142\n",
       "nonanginal       83\n",
       "nontypical       49\n",
       "typical          23\n",
       "Name: count, dtype: int64"
      ]
     },
     "execution_count": 8,
     "metadata": {},
     "output_type": "execute_result"
    }
   ],
   "source": [
    "df['ChestPain'].value_counts()"
   ]
  },
  {
   "cell_type": "markdown",
   "metadata": {
    "id": "Y23B2W8mU71d"
   },
   "source": [
    "- 문자열 데이터 항목 ‘Thal’의 값의 분포를 파악한다."
   ]
  },
  {
   "cell_type": "code",
   "execution_count": 9,
   "metadata": {
    "colab": {
     "base_uri": "https://localhost:8080/"
    },
    "executionInfo": {
     "elapsed": 38,
     "status": "ok",
     "timestamp": 1667050428192,
     "user": {
      "displayName": "강희숙",
      "userId": "05520711596090317319"
     },
     "user_tz": -540
    },
    "id": "3z_7gUwyJQEl",
    "outputId": "64e2bc08-0839-4bb6-c773-361bc19e7d17"
   },
   "outputs": [
    {
     "data": {
      "text/plain": [
       "Thal\n",
       "normal        164\n",
       "reversable    115\n",
       "fixed          18\n",
       "Name: count, dtype: int64"
      ]
     },
     "execution_count": 9,
     "metadata": {},
     "output_type": "execute_result"
    }
   ],
   "source": [
    "df['Thal'].value_counts()"
   ]
  },
  {
   "cell_type": "markdown",
   "metadata": {
    "id": "0WgtlBjgVCal"
   },
   "source": [
    "- 문자열 데이터 항목 ‘AHD’의 값의 분포를 파악한다."
   ]
  },
  {
   "cell_type": "code",
   "execution_count": 10,
   "metadata": {
    "colab": {
     "base_uri": "https://localhost:8080/"
    },
    "executionInfo": {
     "elapsed": 31,
     "status": "ok",
     "timestamp": 1667050428192,
     "user": {
      "displayName": "강희숙",
      "userId": "05520711596090317319"
     },
     "user_tz": -540
    },
    "id": "yRfiYeeZ7qcW",
    "outputId": "aeb40a0b-e175-451e-804d-73123ba20ad0"
   },
   "outputs": [
    {
     "data": {
      "text/plain": [
       "AHD\n",
       "No     160\n",
       "Yes    137\n",
       "Name: count, dtype: int64"
      ]
     },
     "execution_count": 10,
     "metadata": {},
     "output_type": "execute_result"
    }
   ],
   "source": [
    "df['AHD'].value_counts()         #...코드작성"
   ]
  },
  {
   "cell_type": "markdown",
   "metadata": {
    "id": "HMWvBeSPVFa3"
   },
   "source": [
    "- 문자열 데이터 항목 값을 숫자형으로 변환하도록 한다.\n",
    "- 'AHD'은 replace() 를 사용하여 'Yes':1, 'No':0 으로 변경\n",
    "- 'ChestPain','Thal'은 판다스의 get_dummies() 사용하여 변경"
   ]
  },
  {
   "cell_type": "code",
   "execution_count": 11,
   "metadata": {
    "colab": {
     "base_uri": "https://localhost:8080/",
     "height": 270
    },
    "executionInfo": {
     "elapsed": 28,
     "status": "ok",
     "timestamp": 1667050428193,
     "user": {
      "displayName": "강희숙",
      "userId": "05520711596090317319"
     },
     "user_tz": -540
    },
    "id": "Iwji43VnM_c8",
    "outputId": "67a61a29-122a-465e-e578-e09e3d2d76fb"
   },
   "outputs": [
    {
     "name": "stderr",
     "output_type": "stream",
     "text": [
      "C:\\Users\\intel09\\AppData\\Local\\Temp\\ipykernel_7468\\2348715154.py:3: FutureWarning: Downcasting behavior in `replace` is deprecated and will be removed in a future version. To retain the old behavior, explicitly call `result.infer_objects(copy=False)`. To opt-in to the future behavior, set `pd.set_option('future.no_silent_downcasting', True)`\n",
      "  df['AHD'] = df['AHD'].replace({'Yes':1, 'No':0}).astype(int)    #...코드작성\n"
     ]
    },
    {
     "data": {
      "text/html": [
       "<div>\n",
       "<style scoped>\n",
       "    .dataframe tbody tr th:only-of-type {\n",
       "        vertical-align: middle;\n",
       "    }\n",
       "\n",
       "    .dataframe tbody tr th {\n",
       "        vertical-align: top;\n",
       "    }\n",
       "\n",
       "    .dataframe thead th {\n",
       "        text-align: right;\n",
       "    }\n",
       "</style>\n",
       "<table border=\"1\" class=\"dataframe\">\n",
       "  <thead>\n",
       "    <tr style=\"text-align: right;\">\n",
       "      <th></th>\n",
       "      <th>Age</th>\n",
       "      <th>Sex</th>\n",
       "      <th>RestBP</th>\n",
       "      <th>Chol</th>\n",
       "      <th>Fbs</th>\n",
       "      <th>RestECG</th>\n",
       "      <th>MaxHR</th>\n",
       "      <th>ExAng</th>\n",
       "      <th>Oldpeak</th>\n",
       "      <th>Slope</th>\n",
       "      <th>Ca</th>\n",
       "      <th>AHD</th>\n",
       "      <th>ChestPain_asymptomatic</th>\n",
       "      <th>ChestPain_nonanginal</th>\n",
       "      <th>ChestPain_nontypical</th>\n",
       "      <th>ChestPain_typical</th>\n",
       "      <th>Thal_fixed</th>\n",
       "      <th>Thal_normal</th>\n",
       "      <th>Thal_reversable</th>\n",
       "    </tr>\n",
       "  </thead>\n",
       "  <tbody>\n",
       "    <tr>\n",
       "      <th>0</th>\n",
       "      <td>63</td>\n",
       "      <td>1</td>\n",
       "      <td>145</td>\n",
       "      <td>233</td>\n",
       "      <td>1</td>\n",
       "      <td>2</td>\n",
       "      <td>150</td>\n",
       "      <td>0</td>\n",
       "      <td>2.3</td>\n",
       "      <td>3</td>\n",
       "      <td>0.0</td>\n",
       "      <td>0</td>\n",
       "      <td>0</td>\n",
       "      <td>0</td>\n",
       "      <td>0</td>\n",
       "      <td>1</td>\n",
       "      <td>1</td>\n",
       "      <td>0</td>\n",
       "      <td>0</td>\n",
       "    </tr>\n",
       "    <tr>\n",
       "      <th>1</th>\n",
       "      <td>67</td>\n",
       "      <td>1</td>\n",
       "      <td>160</td>\n",
       "      <td>286</td>\n",
       "      <td>0</td>\n",
       "      <td>2</td>\n",
       "      <td>108</td>\n",
       "      <td>1</td>\n",
       "      <td>1.5</td>\n",
       "      <td>2</td>\n",
       "      <td>3.0</td>\n",
       "      <td>1</td>\n",
       "      <td>1</td>\n",
       "      <td>0</td>\n",
       "      <td>0</td>\n",
       "      <td>0</td>\n",
       "      <td>0</td>\n",
       "      <td>1</td>\n",
       "      <td>0</td>\n",
       "    </tr>\n",
       "    <tr>\n",
       "      <th>2</th>\n",
       "      <td>67</td>\n",
       "      <td>1</td>\n",
       "      <td>120</td>\n",
       "      <td>229</td>\n",
       "      <td>0</td>\n",
       "      <td>2</td>\n",
       "      <td>129</td>\n",
       "      <td>1</td>\n",
       "      <td>2.6</td>\n",
       "      <td>2</td>\n",
       "      <td>2.0</td>\n",
       "      <td>1</td>\n",
       "      <td>1</td>\n",
       "      <td>0</td>\n",
       "      <td>0</td>\n",
       "      <td>0</td>\n",
       "      <td>0</td>\n",
       "      <td>0</td>\n",
       "      <td>1</td>\n",
       "    </tr>\n",
       "    <tr>\n",
       "      <th>3</th>\n",
       "      <td>37</td>\n",
       "      <td>1</td>\n",
       "      <td>130</td>\n",
       "      <td>250</td>\n",
       "      <td>0</td>\n",
       "      <td>0</td>\n",
       "      <td>187</td>\n",
       "      <td>0</td>\n",
       "      <td>3.5</td>\n",
       "      <td>3</td>\n",
       "      <td>0.0</td>\n",
       "      <td>0</td>\n",
       "      <td>0</td>\n",
       "      <td>1</td>\n",
       "      <td>0</td>\n",
       "      <td>0</td>\n",
       "      <td>0</td>\n",
       "      <td>1</td>\n",
       "      <td>0</td>\n",
       "    </tr>\n",
       "    <tr>\n",
       "      <th>4</th>\n",
       "      <td>41</td>\n",
       "      <td>0</td>\n",
       "      <td>130</td>\n",
       "      <td>204</td>\n",
       "      <td>0</td>\n",
       "      <td>2</td>\n",
       "      <td>172</td>\n",
       "      <td>0</td>\n",
       "      <td>1.4</td>\n",
       "      <td>1</td>\n",
       "      <td>0.0</td>\n",
       "      <td>0</td>\n",
       "      <td>0</td>\n",
       "      <td>0</td>\n",
       "      <td>1</td>\n",
       "      <td>0</td>\n",
       "      <td>0</td>\n",
       "      <td>1</td>\n",
       "      <td>0</td>\n",
       "    </tr>\n",
       "  </tbody>\n",
       "</table>\n",
       "</div>"
      ],
      "text/plain": [
       "   Age  Sex  RestBP  Chol  Fbs  RestECG  MaxHR  ExAng  Oldpeak  Slope   Ca  \\\n",
       "0   63    1     145   233    1        2    150      0      2.3      3  0.0   \n",
       "1   67    1     160   286    0        2    108      1      1.5      2  3.0   \n",
       "2   67    1     120   229    0        2    129      1      2.6      2  2.0   \n",
       "3   37    1     130   250    0        0    187      0      3.5      3  0.0   \n",
       "4   41    0     130   204    0        2    172      0      1.4      1  0.0   \n",
       "\n",
       "   AHD  ChestPain_asymptomatic  ChestPain_nonanginal  ChestPain_nontypical  \\\n",
       "0    0                       0                     0                     0   \n",
       "1    1                       1                     0                     0   \n",
       "2    1                       1                     0                     0   \n",
       "3    0                       0                     1                     0   \n",
       "4    0                       0                     0                     1   \n",
       "\n",
       "   ChestPain_typical  Thal_fixed  Thal_normal  Thal_reversable  \n",
       "0                  1           1            0                0  \n",
       "1                  0           0            1                0  \n",
       "2                  0           0            0                1  \n",
       "3                  0           0            1                0  \n",
       "4                  0           0            1                0  "
      ]
     },
     "execution_count": 11,
     "metadata": {},
     "output_type": "execute_result"
    }
   ],
   "source": [
    "# 'AHD'은 replace() 를 사용하여 'Yes':1, 'No':0 으로 변경\n",
    "#df.replace({'AHD':{'Yes':1, 'No':0}}, inplace=True)\n",
    "df['AHD'] = df['AHD'].replace({'Yes':1, 'No':0}).astype(int)    #...코드작성\n",
    "\n",
    "# 'ChestPain','Thal'은 판다스의 get_dummies() 사용하여 변경\n",
    "df_data = pd.get_dummies(data=df, columns=['ChestPain', 'Thal'], dtype='int')         #...코드작성\n",
    "\n",
    "df_data.head()"
   ]
  },
  {
   "cell_type": "markdown",
   "metadata": {
    "id": "f9aGqw6Jy56L"
   },
   "source": [
    "### **Step 3 : 기계학습 구현 준비하기**"
   ]
  },
  {
   "cell_type": "markdown",
   "metadata": {
    "id": "cRS3ESmQ2oCX"
   },
   "source": [
    "1) 특성(입력값) 및 타깃(레이블) 항목 지정하기\n",
    "\n",
    "- ‘AHD’ 이외 모든 항목을 특성(입력) 항목으로, AHD’를 타깃(클래스 레이블) 항목으로 지정한다.\n",
    "\n"
   ]
  },
  {
   "cell_type": "code",
   "execution_count": 12,
   "metadata": {
    "id": "UwidgSspvHPR"
   },
   "outputs": [],
   "source": [
    "X = df_data.drop(['AHD'], axis=1)         #...코드작성\n",
    "y = df_data['AHD']      #...코드작성"
   ]
  },
  {
   "cell_type": "code",
   "execution_count": 13,
   "metadata": {
    "colab": {
     "base_uri": "https://localhost:8080/",
     "height": 270
    },
    "executionInfo": {
     "elapsed": 27,
     "status": "ok",
     "timestamp": 1667050428195,
     "user": {
      "displayName": "강희숙",
      "userId": "05520711596090317319"
     },
     "user_tz": -540
    },
    "id": "sAA5UsFZPDAf",
    "outputId": "88fa6ab3-89d9-446c-d5f1-a8eb8abc338f"
   },
   "outputs": [
    {
     "data": {
      "text/html": [
       "<div>\n",
       "<style scoped>\n",
       "    .dataframe tbody tr th:only-of-type {\n",
       "        vertical-align: middle;\n",
       "    }\n",
       "\n",
       "    .dataframe tbody tr th {\n",
       "        vertical-align: top;\n",
       "    }\n",
       "\n",
       "    .dataframe thead th {\n",
       "        text-align: right;\n",
       "    }\n",
       "</style>\n",
       "<table border=\"1\" class=\"dataframe\">\n",
       "  <thead>\n",
       "    <tr style=\"text-align: right;\">\n",
       "      <th></th>\n",
       "      <th>Age</th>\n",
       "      <th>Sex</th>\n",
       "      <th>RestBP</th>\n",
       "      <th>Chol</th>\n",
       "      <th>Fbs</th>\n",
       "      <th>RestECG</th>\n",
       "      <th>MaxHR</th>\n",
       "      <th>ExAng</th>\n",
       "      <th>Oldpeak</th>\n",
       "      <th>Slope</th>\n",
       "      <th>Ca</th>\n",
       "      <th>ChestPain_asymptomatic</th>\n",
       "      <th>ChestPain_nonanginal</th>\n",
       "      <th>ChestPain_nontypical</th>\n",
       "      <th>ChestPain_typical</th>\n",
       "      <th>Thal_fixed</th>\n",
       "      <th>Thal_normal</th>\n",
       "      <th>Thal_reversable</th>\n",
       "    </tr>\n",
       "  </thead>\n",
       "  <tbody>\n",
       "    <tr>\n",
       "      <th>0</th>\n",
       "      <td>63</td>\n",
       "      <td>1</td>\n",
       "      <td>145</td>\n",
       "      <td>233</td>\n",
       "      <td>1</td>\n",
       "      <td>2</td>\n",
       "      <td>150</td>\n",
       "      <td>0</td>\n",
       "      <td>2.3</td>\n",
       "      <td>3</td>\n",
       "      <td>0.0</td>\n",
       "      <td>0</td>\n",
       "      <td>0</td>\n",
       "      <td>0</td>\n",
       "      <td>1</td>\n",
       "      <td>1</td>\n",
       "      <td>0</td>\n",
       "      <td>0</td>\n",
       "    </tr>\n",
       "    <tr>\n",
       "      <th>1</th>\n",
       "      <td>67</td>\n",
       "      <td>1</td>\n",
       "      <td>160</td>\n",
       "      <td>286</td>\n",
       "      <td>0</td>\n",
       "      <td>2</td>\n",
       "      <td>108</td>\n",
       "      <td>1</td>\n",
       "      <td>1.5</td>\n",
       "      <td>2</td>\n",
       "      <td>3.0</td>\n",
       "      <td>1</td>\n",
       "      <td>0</td>\n",
       "      <td>0</td>\n",
       "      <td>0</td>\n",
       "      <td>0</td>\n",
       "      <td>1</td>\n",
       "      <td>0</td>\n",
       "    </tr>\n",
       "    <tr>\n",
       "      <th>2</th>\n",
       "      <td>67</td>\n",
       "      <td>1</td>\n",
       "      <td>120</td>\n",
       "      <td>229</td>\n",
       "      <td>0</td>\n",
       "      <td>2</td>\n",
       "      <td>129</td>\n",
       "      <td>1</td>\n",
       "      <td>2.6</td>\n",
       "      <td>2</td>\n",
       "      <td>2.0</td>\n",
       "      <td>1</td>\n",
       "      <td>0</td>\n",
       "      <td>0</td>\n",
       "      <td>0</td>\n",
       "      <td>0</td>\n",
       "      <td>0</td>\n",
       "      <td>1</td>\n",
       "    </tr>\n",
       "    <tr>\n",
       "      <th>3</th>\n",
       "      <td>37</td>\n",
       "      <td>1</td>\n",
       "      <td>130</td>\n",
       "      <td>250</td>\n",
       "      <td>0</td>\n",
       "      <td>0</td>\n",
       "      <td>187</td>\n",
       "      <td>0</td>\n",
       "      <td>3.5</td>\n",
       "      <td>3</td>\n",
       "      <td>0.0</td>\n",
       "      <td>0</td>\n",
       "      <td>1</td>\n",
       "      <td>0</td>\n",
       "      <td>0</td>\n",
       "      <td>0</td>\n",
       "      <td>1</td>\n",
       "      <td>0</td>\n",
       "    </tr>\n",
       "    <tr>\n",
       "      <th>4</th>\n",
       "      <td>41</td>\n",
       "      <td>0</td>\n",
       "      <td>130</td>\n",
       "      <td>204</td>\n",
       "      <td>0</td>\n",
       "      <td>2</td>\n",
       "      <td>172</td>\n",
       "      <td>0</td>\n",
       "      <td>1.4</td>\n",
       "      <td>1</td>\n",
       "      <td>0.0</td>\n",
       "      <td>0</td>\n",
       "      <td>0</td>\n",
       "      <td>1</td>\n",
       "      <td>0</td>\n",
       "      <td>0</td>\n",
       "      <td>1</td>\n",
       "      <td>0</td>\n",
       "    </tr>\n",
       "  </tbody>\n",
       "</table>\n",
       "</div>"
      ],
      "text/plain": [
       "   Age  Sex  RestBP  Chol  Fbs  RestECG  MaxHR  ExAng  Oldpeak  Slope   Ca  \\\n",
       "0   63    1     145   233    1        2    150      0      2.3      3  0.0   \n",
       "1   67    1     160   286    0        2    108      1      1.5      2  3.0   \n",
       "2   67    1     120   229    0        2    129      1      2.6      2  2.0   \n",
       "3   37    1     130   250    0        0    187      0      3.5      3  0.0   \n",
       "4   41    0     130   204    0        2    172      0      1.4      1  0.0   \n",
       "\n",
       "   ChestPain_asymptomatic  ChestPain_nonanginal  ChestPain_nontypical  \\\n",
       "0                       0                     0                     0   \n",
       "1                       1                     0                     0   \n",
       "2                       1                     0                     0   \n",
       "3                       0                     1                     0   \n",
       "4                       0                     0                     1   \n",
       "\n",
       "   ChestPain_typical  Thal_fixed  Thal_normal  Thal_reversable  \n",
       "0                  1           1            0                0  \n",
       "1                  0           0            1                0  \n",
       "2                  0           0            0                1  \n",
       "3                  0           0            1                0  \n",
       "4                  0           0            1                0  "
      ]
     },
     "execution_count": 13,
     "metadata": {},
     "output_type": "execute_result"
    }
   ],
   "source": [
    "X.head()"
   ]
  },
  {
   "cell_type": "code",
   "execution_count": 14,
   "metadata": {
    "colab": {
     "base_uri": "https://localhost:8080/"
    },
    "executionInfo": {
     "elapsed": 24,
     "status": "ok",
     "timestamp": 1667050428195,
     "user": {
      "displayName": "강희숙",
      "userId": "05520711596090317319"
     },
     "user_tz": -540
    },
    "id": "8hap_UCQmLMS",
    "outputId": "073ceab1-d4b6-4aae-9768-4cfd2f5e58c7"
   },
   "outputs": [
    {
     "name": "stdout",
     "output_type": "stream",
     "text": [
      "<class 'pandas.core.frame.DataFrame'>\n",
      "Index: 297 entries, 0 to 301\n",
      "Data columns (total 18 columns):\n",
      " #   Column                  Non-Null Count  Dtype  \n",
      "---  ------                  --------------  -----  \n",
      " 0   Age                     297 non-null    int64  \n",
      " 1   Sex                     297 non-null    int64  \n",
      " 2   RestBP                  297 non-null    int64  \n",
      " 3   Chol                    297 non-null    int64  \n",
      " 4   Fbs                     297 non-null    int64  \n",
      " 5   RestECG                 297 non-null    int64  \n",
      " 6   MaxHR                   297 non-null    int64  \n",
      " 7   ExAng                   297 non-null    int64  \n",
      " 8   Oldpeak                 297 non-null    float64\n",
      " 9   Slope                   297 non-null    int64  \n",
      " 10  Ca                      297 non-null    float64\n",
      " 11  ChestPain_asymptomatic  297 non-null    int32  \n",
      " 12  ChestPain_nonanginal    297 non-null    int32  \n",
      " 13  ChestPain_nontypical    297 non-null    int32  \n",
      " 14  ChestPain_typical       297 non-null    int32  \n",
      " 15  Thal_fixed              297 non-null    int32  \n",
      " 16  Thal_normal             297 non-null    int32  \n",
      " 17  Thal_reversable         297 non-null    int32  \n",
      "dtypes: float64(2), int32(7), int64(9)\n",
      "memory usage: 36.0 KB\n"
     ]
    }
   ],
   "source": [
    "X.info()"
   ]
  },
  {
   "cell_type": "code",
   "execution_count": 15,
   "metadata": {
    "colab": {
     "base_uri": "https://localhost:8080/"
    },
    "executionInfo": {
     "elapsed": 21,
     "status": "ok",
     "timestamp": 1667050428196,
     "user": {
      "displayName": "강희숙",
      "userId": "05520711596090317319"
     },
     "user_tz": -540
    },
    "id": "wkEnLPPCPE8w",
    "outputId": "d5562be4-b785-4800-9477-5a27e70c2d2d"
   },
   "outputs": [
    {
     "data": {
      "text/plain": [
       "0    0\n",
       "1    1\n",
       "2    1\n",
       "3    0\n",
       "4    0\n",
       "Name: AHD, dtype: int32"
      ]
     },
     "execution_count": 15,
     "metadata": {},
     "output_type": "execute_result"
    }
   ],
   "source": [
    "y.head()"
   ]
  },
  {
   "cell_type": "markdown",
   "metadata": {
    "id": "3z6lS8244XGH"
   },
   "source": [
    "2) 학습/테스트 데이터 분리하기\n",
    "- train_test_split() 사용 - test_size = 0.2, random_state = 42"
   ]
  },
  {
   "cell_type": "code",
   "execution_count": 16,
   "metadata": {
    "id": "PW68ZbQrvHPU"
   },
   "outputs": [],
   "source": [
    "X_train, X_test, y_train, y_test = train_test_split(X, y, test_size=0.2, random_state=42)        #...코드작성"
   ]
  },
  {
   "cell_type": "code",
   "execution_count": 17,
   "metadata": {
    "colab": {
     "base_uri": "https://localhost:8080/"
    },
    "executionInfo": {
     "elapsed": 19,
     "status": "ok",
     "timestamp": 1667050428197,
     "user": {
      "displayName": "강희숙",
      "userId": "05520711596090317319"
     },
     "user_tz": -540
    },
    "id": "shXt5pvA4nji",
    "outputId": "3819b531-81a0-419e-dc76-0aa2746e9e12"
   },
   "outputs": [
    {
     "name": "stdout",
     "output_type": "stream",
     "text": [
      "(237, 18)\n",
      "(60, 18)\n",
      "(237,)\n",
      "(60,)\n"
     ]
    }
   ],
   "source": [
    "print(X_train.shape)\n",
    "print(X_test.shape)\n",
    "print(y_train.shape)\n",
    "print(y_test.shape)"
   ]
  },
  {
   "cell_type": "markdown",
   "metadata": {
    "id": "IcyocE1UP90Y"
   },
   "source": [
    "3) 데이터 정규화하기"
   ]
  },
  {
   "cell_type": "code",
   "execution_count": 18,
   "metadata": {
    "id": "Z50YsSYqQARA"
   },
   "outputs": [],
   "source": [
    "from sklearn.preprocessing import MinMaxScaler\n",
    "\n",
    "scaler = MinMaxScaler()         #...코드작성\n",
    "X_train_scaled =  scaler.fit_transform(X_train)        #...코드작성\n",
    "X_test_scaled =  scaler.transform(X_test)         #...코드작성"
   ]
  },
  {
   "cell_type": "code",
   "execution_count": 19,
   "metadata": {},
   "outputs": [
    {
     "data": {
      "text/plain": [
       "array([[0.20833333, 0.        , 0.41509434, 0.21461187, 0.        ,\n",
       "        0.        , 0.61832061, 0.        , 0.        , 0.5       ,\n",
       "        0.        , 0.        , 1.        , 0.        , 0.        ,\n",
       "        0.        , 1.        , 0.        ],\n",
       "       [0.64583333, 0.        , 0.52830189, 0.26027397, 0.        ,\n",
       "        0.        , 0.76335878, 0.        , 0.16071429, 0.        ,\n",
       "        0.        , 0.        , 0.        , 0.        , 1.        ,\n",
       "        0.        , 1.        , 0.        ]])"
      ]
     },
     "execution_count": 19,
     "metadata": {},
     "output_type": "execute_result"
    }
   ],
   "source": [
    "X_train_scaled[0:2]"
   ]
  },
  {
   "cell_type": "markdown",
   "metadata": {
    "id": "9F03zt7AXV1t"
   },
   "source": [
    "\n",
    "## <font color=green>**[ 기계학습 신경망모델 구현하기 ]**\n",
    "- https://playground.tensorflow.org/#activation=tanh&batchSize=10&dataset=circle&regDataset=reg-plane&learningRate=0.03&regularizationRate=0&noise=0&networkShape=4,2&seed=0.78717&showTestData=false&discretize=false&percTrainData=50&x=true&y=true&xTimesY=false&xSquared=false&ySquared=false&cosX=false&sinX=false&cosY=false&sinY=false&collectStats=false&problem=classification&initZero=false&hideText=false\n",
    "- 요구사항   \n",
    "    - Dataset: XOR\n",
    "    - Features: x, y only (단순한 직선 관계)\n",
    "    - Network: 은닉층 1개, 노드 2개 => 은닉층 추가 : 은닉층2개, 노드 각각 4개개\n",
    "    - Activation: Tanh\n",
    "    - Learning rate: 0.03"
   ]
  },
  {
   "cell_type": "markdown",
   "metadata": {
    "id": "mupfk6Bw09ad"
   },
   "source": [
    "### **Step 1 : 라이브러리 가져오기**\n",
    "- https://www.tensorflow.org/tutorials?hl=ko\n",
    "> 텐서플로우 딥러닝 프레임워크에서 케라스-텐서플로우 2.0 인 딥러닝 API를 사용하여 사용하여 DNN(Deep Neural Network, 심층신경망) 으로 학습하기"
   ]
  },
  {
   "cell_type": "code",
   "execution_count": 20,
   "metadata": {
    "colab": {
     "base_uri": "https://localhost:8080/",
     "height": 36
    },
    "executionInfo": {
     "elapsed": 1934,
     "status": "ok",
     "timestamp": 1667050430115,
     "user": {
      "displayName": "강희숙",
      "userId": "05520711596090317319"
     },
     "user_tz": -540
    },
    "id": "UVlzMDN-jqjx",
    "outputId": "bbc95bef-a032-4440-e1a9-d7a2acbef97a"
   },
   "outputs": [
    {
     "data": {
      "text/plain": [
       "'2.10.0'"
      ]
     },
     "execution_count": 20,
     "metadata": {},
     "output_type": "execute_result"
    }
   ],
   "source": [
    "import tensorflow as tf\n",
    "tf.__version__"
   ]
  },
  {
   "cell_type": "code",
   "execution_count": 21,
   "metadata": {},
   "outputs": [
    {
     "name": "stdout",
     "output_type": "stream",
     "text": [
      "[PhysicalDevice(name='/physical_device:GPU:0', device_type='GPU')]\n"
     ]
    }
   ],
   "source": [
    "print(tf.config.list_physical_devices('GPU'))"
   ]
  },
  {
   "cell_type": "code",
   "execution_count": 22,
   "metadata": {
    "id": "pV_TU-RpWmj3"
   },
   "outputs": [],
   "source": [
    "import matplotlib.pyplot as plt\n",
    "from sklearn.metrics import classification_report"
   ]
  },
  {
   "cell_type": "markdown",
   "metadata": {
    "id": "ks8EbUAL45LS"
   },
   "source": [
    "### **Step 2 : 모델 구성하기**  \n",
    "![hidden Layer](https://github.com/gzone2000/TEMP_TEST/raw/master/hidden_layer1.PNG)\n",
    "+ [출처] https://subscription.packtpub.com/book/data/9781788995207/1/ch01lvl1sec03/deep-learning-intuition\n",
    "\n",
    "\n",
    "1) 이진분류 DNN 모델 구성하기\n",
    "- Sequential() 사용"
   ]
  },
  {
   "cell_type": "code",
   "execution_count": 23,
   "metadata": {},
   "outputs": [
    {
     "data": {
      "text/plain": [
       "(237, 18)"
      ]
     },
     "execution_count": 23,
     "metadata": {},
     "output_type": "execute_result"
    }
   ],
   "source": [
    "X_train_scaled.shape"
   ]
  },
  {
   "cell_type": "code",
   "execution_count": 24,
   "metadata": {
    "id": "Qyal0kUPvHPU"
   },
   "outputs": [],
   "source": [
    "# 은닉층1 : 노드 16, 은닉층2 : 노드 128 개인 이진분류 모델 구성하시오\n",
    "model_dnn = tf.keras.Sequential([\n",
    "    tf.keras.layers.Input(shape=(18,)),\n",
    "    tf.keras.layers.Dense(16, activation='relu'),\n",
    "    tf.keras.layers.Dense(32, activation='relu'),\n",
    "    tf.keras.layers.Dense(1, activation='sigmoid')\n",
    "    ])"
   ]
  },
  {
   "cell_type": "markdown",
   "metadata": {
    "id": "mBJaxfEJW68X"
   },
   "source": [
    "#### Sequential() 출력 층 구성하기\n",
    "- 이진 분류 모델 : activation='sigmoid' , node 수 : 1\n",
    "- 다중 분류 모델 : activation='softmax' , node 수 : 2 이상\n",
    "- 회귀 모델 : activation = 'linear' => 지정하지 않아도 됨, node 수 : 1"
   ]
  },
  {
   "cell_type": "code",
   "execution_count": null,
   "metadata": {
    "id": "3ZYyL_4cQyG_"
   },
   "outputs": [],
   "source": [
    "# 다음과 같이 모델을 구성할 경우 'Import \"tensorflow.keras.models\" could not be resolved' 프롬프트가 나타나지만 코드 실행에는 영향을 주지는 않음\n",
    "# 다음과 같이 모델 구성해도 가능함\n",
    "\n",
    "# from tensorflow.keras.models import Sequential\n",
    "# from tensorflow.keras.layers import Dense\n",
    "\n",
    "# model_dnn = Sequential()\n",
    "# model_dnn.add(Dense(16, activation='relu', input_shape=(18,)))\n",
    "# model_dnn.add(Dense(128, activation='relu'))\n",
    "# model_dnn.add(Dense(1, activation='sigmoid'))"
   ]
  },
  {
   "cell_type": "markdown",
   "metadata": {
    "id": "uPNcEgeGQ6uO"
   },
   "source": [
    "2) 모델 확인하기\n",
    "> output_param # = dot(W, input) + b"
   ]
  },
  {
   "cell_type": "code",
   "execution_count": 25,
   "metadata": {
    "colab": {
     "base_uri": "https://localhost:8080/"
    },
    "executionInfo": {
     "elapsed": 837,
     "status": "ok",
     "timestamp": 1667050468262,
     "user": {
      "displayName": "강희숙",
      "userId": "05520711596090317319"
     },
     "user_tz": -540
    },
    "id": "G82pX_tQRAl3",
    "outputId": "af408fe9-c166-4fee-c9f3-268a03e610ca"
   },
   "outputs": [
    {
     "name": "stdout",
     "output_type": "stream",
     "text": [
      "Model: \"sequential\"\n",
      "_________________________________________________________________\n",
      " Layer (type)                Output Shape              Param #   \n",
      "=================================================================\n",
      " dense (Dense)               (None, 16)                304       \n",
      "                                                                 \n",
      " dense_1 (Dense)             (None, 32)                544       \n",
      "                                                                 \n",
      " dense_2 (Dense)             (None, 1)                 33        \n",
      "                                                                 \n",
      "=================================================================\n",
      "Total params: 881\n",
      "Trainable params: 881\n",
      "Non-trainable params: 0\n",
      "_________________________________________________________________\n"
     ]
    }
   ],
   "source": [
    "model_dnn.summary()"
   ]
  },
  {
   "cell_type": "markdown",
   "metadata": {
    "id": "5vxbNCLRSyy5"
   },
   "source": [
    "### **Step 3 : 모델 컴파일하기**  \n",
    "- loss 함수\n",
    "    - - 이진 분류 모델 : 'binary_crossentropy'\n",
    "    - 다중 분류 모델 (Y값을 One-Hot-Encoding 한경우) <br>\n",
    "    model.compile(optimizer='adam', loss='categorical_crossentropy', metrics=['accuracy'])\n",
    "\n",
    "    - 다중 분류 모델  (Y값을 One-Hot-Encoding 하지 않은 경우) <br>\n",
    "    model.compile(optimizer='adam', loss='sparse_categorical_crossentropy', metrics=['accuracy'])\n",
    "\n",
    "    - 회귀 모델    \n",
    "    model.compile(optimizer='adam', loss='mse')\n",
    "\n",
    "- optimizer\n",
    "    - https://velog.io/@chang0517/Optimizer-%EC%A2%85%EB%A5%98-%EB%B0%8F-%EC%A0%95%EB%A6%AC"
   ]
  },
  {
   "cell_type": "code",
   "execution_count": 26,
   "metadata": {
    "id": "OIncBY8FS6io"
   },
   "outputs": [],
   "source": [
    "# optimizer : 'RMSprop', loss : 'binary_crossentropy' , metrics : 'accuracy' 모델 컴파일하기\n",
    "\n",
    "model_dnn.compile(optimizer='RMSprop', loss='binary_crossentropy', metrics=['accuracy'])         #...코드작성"
   ]
  },
  {
   "cell_type": "markdown",
   "metadata": {
    "id": "7150laImgEzY"
   },
   "source": [
    "### **Step 4 : 모델 학습하기**  \n",
    "> 훈련 데이터(X_train, y_train)로 선언한 Sequential 모델(model_dnn)을 이용하여 학습(fit)하고 학습 과정을 histroy 에 저장하기\n",
    "- X, y : X_train, y_train\n",
    "- validation_data=(X_test, y_test)\n",
    "- epochs : 20번\n",
    "- batch_size : 16  (batch_size = 32  # 기본값)"
   ]
  },
  {
   "cell_type": "code",
   "execution_count": 27,
   "metadata": {
    "colab": {
     "base_uri": "https://localhost:8080/"
    },
    "executionInfo": {
     "elapsed": 1358,
     "status": "ok",
     "timestamp": 1667050469609,
     "user": {
      "displayName": "강희숙",
      "userId": "05520711596090317319"
     },
     "user_tz": -540
    },
    "id": "OCA7hMh_49U2",
    "outputId": "73be97c7-d462-454d-bb70-f181336b0efe"
   },
   "outputs": [
    {
     "name": "stdout",
     "output_type": "stream",
     "text": [
      "Epoch 1/20\n",
      "15/15 [==============================] - 1s 12ms/step - loss: 0.6811 - accuracy: 0.5738 - val_loss: 0.6584 - val_accuracy: 0.7500\n",
      "Epoch 2/20\n",
      "15/15 [==============================] - 0s 5ms/step - loss: 0.6417 - accuracy: 0.7468 - val_loss: 0.6103 - val_accuracy: 0.8333\n",
      "Epoch 3/20\n",
      "15/15 [==============================] - 0s 5ms/step - loss: 0.6039 - accuracy: 0.8059 - val_loss: 0.5615 - val_accuracy: 0.8667\n",
      "Epoch 4/20\n",
      "15/15 [==============================] - 0s 5ms/step - loss: 0.5652 - accuracy: 0.8059 - val_loss: 0.5105 - val_accuracy: 0.8667\n",
      "Epoch 5/20\n",
      "15/15 [==============================] - 0s 5ms/step - loss: 0.5295 - accuracy: 0.8397 - val_loss: 0.4675 - val_accuracy: 0.8667\n",
      "Epoch 6/20\n",
      "15/15 [==============================] - 0s 5ms/step - loss: 0.5014 - accuracy: 0.8354 - val_loss: 0.4314 - val_accuracy: 0.8667\n",
      "Epoch 7/20\n",
      "15/15 [==============================] - 0s 5ms/step - loss: 0.4775 - accuracy: 0.8270 - val_loss: 0.3995 - val_accuracy: 0.8667\n",
      "Epoch 8/20\n",
      "15/15 [==============================] - 0s 5ms/step - loss: 0.4592 - accuracy: 0.8312 - val_loss: 0.3746 - val_accuracy: 0.8667\n",
      "Epoch 9/20\n",
      "15/15 [==============================] - 0s 5ms/step - loss: 0.4470 - accuracy: 0.8228 - val_loss: 0.3567 - val_accuracy: 0.8833\n",
      "Epoch 10/20\n",
      "15/15 [==============================] - 0s 5ms/step - loss: 0.4346 - accuracy: 0.8228 - val_loss: 0.3417 - val_accuracy: 0.8667\n",
      "Epoch 11/20\n",
      "15/15 [==============================] - 0s 5ms/step - loss: 0.4259 - accuracy: 0.8270 - val_loss: 0.3288 - val_accuracy: 0.8833\n",
      "Epoch 12/20\n",
      "15/15 [==============================] - 0s 4ms/step - loss: 0.4198 - accuracy: 0.8228 - val_loss: 0.3195 - val_accuracy: 0.9000\n",
      "Epoch 13/20\n",
      "15/15 [==============================] - 0s 4ms/step - loss: 0.4126 - accuracy: 0.8270 - val_loss: 0.3129 - val_accuracy: 0.9000\n",
      "Epoch 14/20\n",
      "15/15 [==============================] - 0s 4ms/step - loss: 0.4070 - accuracy: 0.8228 - val_loss: 0.3069 - val_accuracy: 0.9000\n",
      "Epoch 15/20\n",
      "15/15 [==============================] - 0s 4ms/step - loss: 0.4030 - accuracy: 0.8228 - val_loss: 0.3027 - val_accuracy: 0.9000\n",
      "Epoch 16/20\n",
      "15/15 [==============================] - 0s 5ms/step - loss: 0.3977 - accuracy: 0.8270 - val_loss: 0.2983 - val_accuracy: 0.9000\n",
      "Epoch 17/20\n",
      "15/15 [==============================] - 0s 4ms/step - loss: 0.3915 - accuracy: 0.8312 - val_loss: 0.2974 - val_accuracy: 0.8833\n",
      "Epoch 18/20\n",
      "15/15 [==============================] - 0s 4ms/step - loss: 0.3895 - accuracy: 0.8312 - val_loss: 0.2930 - val_accuracy: 0.9000\n",
      "Epoch 19/20\n",
      "15/15 [==============================] - 0s 4ms/step - loss: 0.3847 - accuracy: 0.8354 - val_loss: 0.2893 - val_accuracy: 0.9000\n",
      "Epoch 20/20\n",
      "15/15 [==============================] - 0s 5ms/step - loss: 0.3798 - accuracy: 0.8270 - val_loss: 0.2867 - val_accuracy: 0.9000\n"
     ]
    }
   ],
   "source": [
    "history = model_dnn.fit(X_train_scaled, y_train, validation_data=(X_test_scaled, y_test), epochs=20, batch_size=16)        #...코드작성"
   ]
  },
  {
   "cell_type": "markdown",
   "metadata": {
    "id": "kguhCUaAd0ec"
   },
   "source": [
    "### **Step 5 : 모델 예측 및 평가하기**"
   ]
  },
  {
   "cell_type": "markdown",
   "metadata": {
    "id": "7M1N69SJ5U-o"
   },
   "source": [
    "\n",
    "#### 1) 모델 예측하기\n",
    "- 학습된 모델을 사용하여 테스트 데이터(X_test)에 대한 예측값을 y_pred에 저장한다."
   ]
  },
  {
   "cell_type": "code",
   "execution_count": 30,
   "metadata": {
    "colab": {
     "base_uri": "https://localhost:8080/"
    },
    "executionInfo": {
     "elapsed": 10,
     "status": "ok",
     "timestamp": 1667050469610,
     "user": {
      "displayName": "강희숙",
      "userId": "05520711596090317319"
     },
     "user_tz": -540
    },
    "id": "BziD_6Fk5Cf7",
    "outputId": "fd3cab15-1c3c-4371-ebc3-cf9c22894986"
   },
   "outputs": [
    {
     "name": "stdout",
     "output_type": "stream",
     "text": [
      "2/2 [==============================] - 0s 7ms/step\n"
     ]
    },
    {
     "data": {
      "text/plain": [
       "array([[0],\n",
       "       [0],\n",
       "       [0],\n",
       "       [1],\n",
       "       [0],\n",
       "       [0],\n",
       "       [0],\n",
       "       [0],\n",
       "       [1],\n",
       "       [0],\n",
       "       [0],\n",
       "       [0],\n",
       "       [0],\n",
       "       [0],\n",
       "       [0],\n",
       "       [0],\n",
       "       [0],\n",
       "       [1],\n",
       "       [0],\n",
       "       [0],\n",
       "       [1],\n",
       "       [1],\n",
       "       [1],\n",
       "       [0],\n",
       "       [1],\n",
       "       [0],\n",
       "       [1],\n",
       "       [1],\n",
       "       [0],\n",
       "       [0],\n",
       "       [0],\n",
       "       [0],\n",
       "       [1],\n",
       "       [0],\n",
       "       [0],\n",
       "       [0],\n",
       "       [1],\n",
       "       [0],\n",
       "       [1],\n",
       "       [1],\n",
       "       [0],\n",
       "       [1],\n",
       "       [1],\n",
       "       [0],\n",
       "       [0],\n",
       "       [1],\n",
       "       [0],\n",
       "       [1],\n",
       "       [0],\n",
       "       [0],\n",
       "       [0],\n",
       "       [1],\n",
       "       [0],\n",
       "       [0],\n",
       "       [1],\n",
       "       [1],\n",
       "       [0],\n",
       "       [0],\n",
       "       [1],\n",
       "       [1]])"
      ]
     },
     "execution_count": 30,
     "metadata": {},
     "output_type": "execute_result"
    }
   ],
   "source": [
    "y_pred = (model_dnn.predict(X_test_scaled) > 0.5).astype(\"int32\")         #...코드작성\n",
    "y_pred"
   ]
  },
  {
   "cell_type": "markdown",
   "metadata": {
    "id": "Whr2936TV2fl"
   },
   "source": [
    "- 테스트 데이터세트의 실젯값인 y_test와 모델이 예측한 y_pred를 출력해본다."
   ]
  },
  {
   "cell_type": "code",
   "execution_count": 31,
   "metadata": {
    "colab": {
     "base_uri": "https://localhost:8080/",
     "height": 1000
    },
    "executionInfo": {
     "elapsed": 8,
     "status": "ok",
     "timestamp": 1667050469611,
     "user": {
      "displayName": "강희숙",
      "userId": "05520711596090317319"
     },
     "user_tz": -540
    },
    "id": "Tx2TB6FN1vDD",
    "outputId": "ff8a979a-7059-4968-ae78-42ca77756db4"
   },
   "outputs": [
    {
     "data": {
      "text/html": [
       "<div>\n",
       "<style scoped>\n",
       "    .dataframe tbody tr th:only-of-type {\n",
       "        vertical-align: middle;\n",
       "    }\n",
       "\n",
       "    .dataframe tbody tr th {\n",
       "        vertical-align: top;\n",
       "    }\n",
       "\n",
       "    .dataframe thead th {\n",
       "        text-align: right;\n",
       "    }\n",
       "</style>\n",
       "<table border=\"1\" class=\"dataframe\">\n",
       "  <thead>\n",
       "    <tr style=\"text-align: right;\">\n",
       "      <th></th>\n",
       "      <th>Actual</th>\n",
       "      <th>Predicted</th>\n",
       "    </tr>\n",
       "  </thead>\n",
       "  <tbody>\n",
       "    <tr>\n",
       "      <th>169</th>\n",
       "      <td>0</td>\n",
       "      <td>0</td>\n",
       "    </tr>\n",
       "    <tr>\n",
       "      <th>214</th>\n",
       "      <td>1</td>\n",
       "      <td>0</td>\n",
       "    </tr>\n",
       "    <tr>\n",
       "      <th>63</th>\n",
       "      <td>0</td>\n",
       "      <td>0</td>\n",
       "    </tr>\n",
       "    <tr>\n",
       "      <th>155</th>\n",
       "      <td>1</td>\n",
       "      <td>1</td>\n",
       "    </tr>\n",
       "    <tr>\n",
       "      <th>5</th>\n",
       "      <td>0</td>\n",
       "      <td>0</td>\n",
       "    </tr>\n",
       "    <tr>\n",
       "      <th>77</th>\n",
       "      <td>0</td>\n",
       "      <td>0</td>\n",
       "    </tr>\n",
       "    <tr>\n",
       "      <th>185</th>\n",
       "      <td>0</td>\n",
       "      <td>0</td>\n",
       "    </tr>\n",
       "    <tr>\n",
       "      <th>159</th>\n",
       "      <td>0</td>\n",
       "      <td>0</td>\n",
       "    </tr>\n",
       "    <tr>\n",
       "      <th>9</th>\n",
       "      <td>1</td>\n",
       "      <td>1</td>\n",
       "    </tr>\n",
       "    <tr>\n",
       "      <th>140</th>\n",
       "      <td>0</td>\n",
       "      <td>0</td>\n",
       "    </tr>\n",
       "    <tr>\n",
       "      <th>290</th>\n",
       "      <td>1</td>\n",
       "      <td>0</td>\n",
       "    </tr>\n",
       "    <tr>\n",
       "      <th>78</th>\n",
       "      <td>0</td>\n",
       "      <td>0</td>\n",
       "    </tr>\n",
       "    <tr>\n",
       "      <th>93</th>\n",
       "      <td>0</td>\n",
       "      <td>0</td>\n",
       "    </tr>\n",
       "    <tr>\n",
       "      <th>102</th>\n",
       "      <td>0</td>\n",
       "      <td>0</td>\n",
       "    </tr>\n",
       "    <tr>\n",
       "      <th>42</th>\n",
       "      <td>0</td>\n",
       "      <td>0</td>\n",
       "    </tr>\n",
       "    <tr>\n",
       "      <th>225</th>\n",
       "      <td>0</td>\n",
       "      <td>0</td>\n",
       "    </tr>\n",
       "    <tr>\n",
       "      <th>288</th>\n",
       "      <td>0</td>\n",
       "      <td>0</td>\n",
       "    </tr>\n",
       "    <tr>\n",
       "      <th>33</th>\n",
       "      <td>0</td>\n",
       "      <td>1</td>\n",
       "    </tr>\n",
       "    <tr>\n",
       "      <th>267</th>\n",
       "      <td>1</td>\n",
       "      <td>0</td>\n",
       "    </tr>\n",
       "    <tr>\n",
       "      <th>149</th>\n",
       "      <td>0</td>\n",
       "      <td>0</td>\n",
       "    </tr>\n",
       "    <tr>\n",
       "      <th>248</th>\n",
       "      <td>1</td>\n",
       "      <td>1</td>\n",
       "    </tr>\n",
       "    <tr>\n",
       "      <th>45</th>\n",
       "      <td>1</td>\n",
       "      <td>1</td>\n",
       "    </tr>\n",
       "    <tr>\n",
       "      <th>60</th>\n",
       "      <td>1</td>\n",
       "      <td>1</td>\n",
       "    </tr>\n",
       "    <tr>\n",
       "      <th>46</th>\n",
       "      <td>0</td>\n",
       "      <td>0</td>\n",
       "    </tr>\n",
       "    <tr>\n",
       "      <th>282</th>\n",
       "      <td>1</td>\n",
       "      <td>1</td>\n",
       "    </tr>\n",
       "    <tr>\n",
       "      <th>240</th>\n",
       "      <td>0</td>\n",
       "      <td>0</td>\n",
       "    </tr>\n",
       "    <tr>\n",
       "      <th>177</th>\n",
       "      <td>1</td>\n",
       "      <td>1</td>\n",
       "    </tr>\n",
       "    <tr>\n",
       "      <th>237</th>\n",
       "      <td>1</td>\n",
       "      <td>1</td>\n",
       "    </tr>\n",
       "    <tr>\n",
       "      <th>17</th>\n",
       "      <td>0</td>\n",
       "      <td>0</td>\n",
       "    </tr>\n",
       "    <tr>\n",
       "      <th>283</th>\n",
       "      <td>0</td>\n",
       "      <td>0</td>\n",
       "    </tr>\n",
       "    <tr>\n",
       "      <th>112</th>\n",
       "      <td>0</td>\n",
       "      <td>0</td>\n",
       "    </tr>\n",
       "    <tr>\n",
       "      <th>222</th>\n",
       "      <td>0</td>\n",
       "      <td>0</td>\n",
       "    </tr>\n",
       "    <tr>\n",
       "      <th>24</th>\n",
       "      <td>1</td>\n",
       "      <td>1</td>\n",
       "    </tr>\n",
       "    <tr>\n",
       "      <th>82</th>\n",
       "      <td>0</td>\n",
       "      <td>0</td>\n",
       "    </tr>\n",
       "    <tr>\n",
       "      <th>7</th>\n",
       "      <td>0</td>\n",
       "      <td>0</td>\n",
       "    </tr>\n",
       "    <tr>\n",
       "      <th>75</th>\n",
       "      <td>0</td>\n",
       "      <td>0</td>\n",
       "    </tr>\n",
       "    <tr>\n",
       "      <th>109</th>\n",
       "      <td>1</td>\n",
       "      <td>1</td>\n",
       "    </tr>\n",
       "    <tr>\n",
       "      <th>84</th>\n",
       "      <td>0</td>\n",
       "      <td>0</td>\n",
       "    </tr>\n",
       "    <tr>\n",
       "      <th>91</th>\n",
       "      <td>1</td>\n",
       "      <td>1</td>\n",
       "    </tr>\n",
       "    <tr>\n",
       "      <th>73</th>\n",
       "      <td>1</td>\n",
       "      <td>1</td>\n",
       "    </tr>\n",
       "    <tr>\n",
       "      <th>117</th>\n",
       "      <td>0</td>\n",
       "      <td>0</td>\n",
       "    </tr>\n",
       "    <tr>\n",
       "      <th>127</th>\n",
       "      <td>1</td>\n",
       "      <td>1</td>\n",
       "    </tr>\n",
       "    <tr>\n",
       "      <th>236</th>\n",
       "      <td>1</td>\n",
       "      <td>1</td>\n",
       "    </tr>\n",
       "    <tr>\n",
       "      <th>59</th>\n",
       "      <td>0</td>\n",
       "      <td>0</td>\n",
       "    </tr>\n",
       "    <tr>\n",
       "      <th>198</th>\n",
       "      <td>0</td>\n",
       "      <td>0</td>\n",
       "    </tr>\n",
       "    <tr>\n",
       "      <th>211</th>\n",
       "      <td>1</td>\n",
       "      <td>1</td>\n",
       "    </tr>\n",
       "    <tr>\n",
       "      <th>98</th>\n",
       "      <td>0</td>\n",
       "      <td>0</td>\n",
       "    </tr>\n",
       "    <tr>\n",
       "      <th>187</th>\n",
       "      <td>1</td>\n",
       "      <td>1</td>\n",
       "    </tr>\n",
       "    <tr>\n",
       "      <th>178</th>\n",
       "      <td>0</td>\n",
       "      <td>0</td>\n",
       "    </tr>\n",
       "    <tr>\n",
       "      <th>125</th>\n",
       "      <td>0</td>\n",
       "      <td>0</td>\n",
       "    </tr>\n",
       "    <tr>\n",
       "      <th>94</th>\n",
       "      <td>0</td>\n",
       "      <td>0</td>\n",
       "    </tr>\n",
       "    <tr>\n",
       "      <th>299</th>\n",
       "      <td>1</td>\n",
       "      <td>1</td>\n",
       "    </tr>\n",
       "    <tr>\n",
       "      <th>184</th>\n",
       "      <td>1</td>\n",
       "      <td>0</td>\n",
       "    </tr>\n",
       "    <tr>\n",
       "      <th>279</th>\n",
       "      <td>0</td>\n",
       "      <td>0</td>\n",
       "    </tr>\n",
       "    <tr>\n",
       "      <th>195</th>\n",
       "      <td>1</td>\n",
       "      <td>1</td>\n",
       "    </tr>\n",
       "    <tr>\n",
       "      <th>297</th>\n",
       "      <td>1</td>\n",
       "      <td>1</td>\n",
       "    </tr>\n",
       "    <tr>\n",
       "      <th>25</th>\n",
       "      <td>0</td>\n",
       "      <td>0</td>\n",
       "    </tr>\n",
       "    <tr>\n",
       "      <th>227</th>\n",
       "      <td>0</td>\n",
       "      <td>0</td>\n",
       "    </tr>\n",
       "    <tr>\n",
       "      <th>6</th>\n",
       "      <td>1</td>\n",
       "      <td>1</td>\n",
       "    </tr>\n",
       "    <tr>\n",
       "      <th>183</th>\n",
       "      <td>0</td>\n",
       "      <td>1</td>\n",
       "    </tr>\n",
       "  </tbody>\n",
       "</table>\n",
       "</div>"
      ],
      "text/plain": [
       "     Actual  Predicted\n",
       "169       0          0\n",
       "214       1          0\n",
       "63        0          0\n",
       "155       1          1\n",
       "5         0          0\n",
       "77        0          0\n",
       "185       0          0\n",
       "159       0          0\n",
       "9         1          1\n",
       "140       0          0\n",
       "290       1          0\n",
       "78        0          0\n",
       "93        0          0\n",
       "102       0          0\n",
       "42        0          0\n",
       "225       0          0\n",
       "288       0          0\n",
       "33        0          1\n",
       "267       1          0\n",
       "149       0          0\n",
       "248       1          1\n",
       "45        1          1\n",
       "60        1          1\n",
       "46        0          0\n",
       "282       1          1\n",
       "240       0          0\n",
       "177       1          1\n",
       "237       1          1\n",
       "17        0          0\n",
       "283       0          0\n",
       "112       0          0\n",
       "222       0          0\n",
       "24        1          1\n",
       "82        0          0\n",
       "7         0          0\n",
       "75        0          0\n",
       "109       1          1\n",
       "84        0          0\n",
       "91        1          1\n",
       "73        1          1\n",
       "117       0          0\n",
       "127       1          1\n",
       "236       1          1\n",
       "59        0          0\n",
       "198       0          0\n",
       "211       1          1\n",
       "98        0          0\n",
       "187       1          1\n",
       "178       0          0\n",
       "125       0          0\n",
       "94        0          0\n",
       "299       1          1\n",
       "184       1          0\n",
       "279       0          0\n",
       "195       1          1\n",
       "297       1          1\n",
       "25        0          0\n",
       "227       0          0\n",
       "6         1          1\n",
       "183       0          1"
      ]
     },
     "execution_count": 31,
     "metadata": {},
     "output_type": "execute_result"
    }
   ],
   "source": [
    "df_result = pd.DataFrame(columns=['Actual', 'Predicted'])\n",
    "df_result['Actual'] = y_test\n",
    "df_result['Predicted'] = y_pred\n",
    "df_result"
   ]
  },
  {
   "cell_type": "markdown",
   "metadata": {
    "id": "RtZO0qno5qcY"
   },
   "source": [
    "#### 2) 분류 모델 성능 평가하기\n",
    "- 테스트 데이터세트(X_test,y_test)로 모델의 성능을 평가(evaluate( ))한다."
   ]
  },
  {
   "cell_type": "code",
   "execution_count": 32,
   "metadata": {
    "colab": {
     "base_uri": "https://localhost:8080/"
    },
    "executionInfo": {
     "elapsed": 503,
     "status": "ok",
     "timestamp": 1667050470107,
     "user": {
      "displayName": "강희숙",
      "userId": "05520711596090317319"
     },
     "user_tz": -540
    },
    "id": "7dbZDY-jnZMI",
    "outputId": "af90b6c6-4edc-4708-c12d-8c5ec537bc39"
   },
   "outputs": [
    {
     "name": "stdout",
     "output_type": "stream",
     "text": [
      "2/2 [==============================] - 0s 6ms/step - loss: 0.2867 - accuracy: 0.9000\n",
      "\n",
      "Test accuracy: 0.8999999761581421\n"
     ]
    }
   ],
   "source": [
    "test_loss, test_acc = model_dnn.evaluate(X_test_scaled, y_test) #코드작성\n",
    "print('\\nTest accuracy:', test_acc)"
   ]
  },
  {
   "cell_type": "markdown",
   "metadata": {
    "id": "Qr5VjVnzWJln"
   },
   "source": [
    "- 분류 평가 리포트를 출력(classification_report() 사용)하여 다양한 분류 평가 지표를 확인해본다."
   ]
  },
  {
   "cell_type": "code",
   "execution_count": 33,
   "metadata": {
    "colab": {
     "base_uri": "https://localhost:8080/"
    },
    "executionInfo": {
     "elapsed": 14,
     "status": "ok",
     "timestamp": 1667050470108,
     "user": {
      "displayName": "강희숙",
      "userId": "05520711596090317319"
     },
     "user_tz": -540
    },
    "id": "GW-cw3t0jNb7",
    "outputId": "3426c19a-c5af-4356-f5e4-b3980b5af4b7"
   },
   "outputs": [
    {
     "name": "stdout",
     "output_type": "stream",
     "text": [
      "              precision    recall  f1-score   support\n",
      "\n",
      "           0       0.89      0.94      0.92        36\n",
      "           1       0.91      0.83      0.87        24\n",
      "\n",
      "    accuracy                           0.90        60\n",
      "   macro avg       0.90      0.89      0.89        60\n",
      "weighted avg       0.90      0.90      0.90        60\n",
      "\n"
     ]
    }
   ],
   "source": [
    "print(classification_report(y_test, y_pred))  #...코드작성"
   ]
  },
  {
   "cell_type": "markdown",
   "metadata": {
    "id": "HEZfBsIzXR1O"
   },
   "source": [
    "- 학습 과정을 그래프로 나타내어 학습 횟수가 증가할수록 모델의 성능이 어떻게 변화하\n",
    "는지 그 과정을 도식화한다."
   ]
  },
  {
   "cell_type": "code",
   "execution_count": 34,
   "metadata": {
    "colab": {
     "base_uri": "https://localhost:8080/",
     "height": 458
    },
    "executionInfo": {
     "elapsed": 607,
     "status": "ok",
     "timestamp": 1667050470705,
     "user": {
      "displayName": "강희숙",
      "userId": "05520711596090317319"
     },
     "user_tz": -540
    },
    "id": "PEmMMpgSJHkc",
    "outputId": "c3531fc4-f9d0-45f9-84d2-b368f914766c"
   },
   "outputs": [
    {
     "data": {
      "image/png": "[encoded data removed]",
      "text/plain": [
       "<Figure size 1500x700 with 2 Axes>"
      ]
     },
     "metadata": {},
     "output_type": "display_data"
    }
   ],
   "source": [
    "fig , ax = plt.subplots(1,2)\n",
    "train_acc = history.history['accuracy']\n",
    "train_loss = history.history['loss']\n",
    "val_acc = history.history['val_accuracy']\n",
    "val_loss = history.history['val_loss']\n",
    "fig.set_size_inches(15,7)\n",
    "\n",
    "epochs = range(1, len(train_acc) + 1)\n",
    "\n",
    "ax[0].plot(epochs , train_acc , 'go-' , label = 'Training Accuracy')\n",
    "ax[0].plot(epochs , val_acc , 'ro-' , label = 'Validation Accuracy')\n",
    "ax[0].set_title('Training & Validation Accuracy')\n",
    "ax[0].legend()\n",
    "ax[0].set_xlabel(\"Epochs\")\n",
    "ax[0].set_ylabel(\"Accuracy\")\n",
    "\n",
    "ax[1].plot(epochs , train_loss , 'g-o' , label = 'Training Loss')\n",
    "ax[1].plot(epochs , val_loss , 'r-o' , label = 'Validation Loss')\n",
    "ax[1].set_title('Testing Accuracy & Loss')\n",
    "ax[1].legend()\n",
    "ax[1].set_xlabel(\"Epochs\")\n",
    "ax[1].set_ylabel(\"Training & Validation Loss\")\n",
    "plt.show()"
   ]
  }
 ],
 "metadata": {
  "accelerator": "GPU",
  "colab": {
   "provenance": [
    {
     "file_id": "1YK-YaoehzDqbJBw2z_u5idALiFXWKvbh",
     "timestamp": 1711868263428
    }
   ]
  },
  "kernelspec": {
   "display_name": "pshgpu",
   "language": "python",
   "name": "python3"
  },
  "language_info": {
   "codemirror_mode": {
    "name": "ipython",
    "version": 3
   },
   "file_extension": ".py",
   "mimetype": "text/x-python",
   "name": "python",
   "nbconvert_exporter": "python",
   "pygments_lexer": "ipython3",
   "version": "3.10.16"
  }
 },
 "nbformat": 4,
 "nbformat_minor": 4
}
