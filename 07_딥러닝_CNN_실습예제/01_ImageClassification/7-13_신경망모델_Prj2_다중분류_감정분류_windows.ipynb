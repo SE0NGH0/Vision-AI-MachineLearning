{
 "cells": [
  {
   "cell_type": "markdown",
   "metadata": {
    "id": "-08Dm6Y21hh3"
   },
   "source": [
    "# **감정 분류 (Emotion Classification)**"
   ]
  },
  {
   "cell_type": "markdown",
   "metadata": {
    "id": "LWOLC0OXgmJP"
   },
   "source": [
    "# **[keras의 이미지 증강 방식 사용]**"
   ]
  },
  {
   "cell_type": "markdown",
   "metadata": {
    "id": "lZJOLAbgIqgh"
   },
   "source": [
    "## 1.Datasets 로드하고 확인하기"
   ]
  },
  {
   "cell_type": "markdown",
   "metadata": {
    "id": "oT30RIk3J7kQ"
   },
   "source": [
    "- You can download FER(Face Emotions Recognition) Datasets from https://www.kaggle.com/datasets/msambare/fer2013"
   ]
  },
  {
   "cell_type": "markdown",
   "metadata": {
    "id": "lQtu205OSwT6"
   },
   "source": [
    "### 1-1. 데이터셋 다운로드하기"
   ]
  },
  {
   "cell_type": "markdown",
   "metadata": {
    "id": "a5oK8fhfd5es"
   },
   "source": [
    "#### 방법1) 구글 드라이브에 데이터셋 압축파일로 업로드 후 공유링크에서 다운로드하기"
   ]
  },
  {
   "cell_type": "code",
   "execution_count": 1,
   "metadata": {
    "colab": {
     "base_uri": "https://localhost:8080/"
    },
    "executionInfo": {
     "elapsed": 5581,
     "status": "ok",
     "timestamp": 1736491462323,
     "user": {
      "displayName": "강희숙",
      "userId": "05520711596090317319"
     },
     "user_tz": -540
    },
    "id": "QWKq1xA_d7M9",
    "outputId": "816dc39c-cd7a-4983-8f49-18e3c5d1cd1f"
   },
   "outputs": [
    {
     "name": "stdout",
     "output_type": "stream",
     "text": [
      "Downloading...\n",
      "From (original): https://drive.google.com/uc?id=1sWqjrh1hDlB6m9K9AmyXRuab4tenPjXP\n",
      "From (redirected): https://drive.google.com/uc?id=1sWqjrh1hDlB6m9K9AmyXRuab4tenPjXP&confirm=t&uuid=54833934-94df-469b-8fe2-273489ef4d28\n",
      "To: /content/fer2013.zip\n",
      "100% 63.3M/63.3M [00:00<00:00, 79.2MB/s]\n"
     ]
    }
   ],
   "source": [
    "# 데이터 다운로드하기 - 'fer2013.zip'\n",
    "!gdown 1sWqjrh1hDlB6m9K9AmyXRuab4tenPjXP  "
   ]
  },
  {
   "cell_type": "code",
   "execution_count": 2,
   "metadata": {
    "executionInfo": {
     "elapsed": 3424,
     "status": "ok",
     "timestamp": 1736491491213,
     "user": {
      "displayName": "강희숙",
      "userId": "05520711596090317319"
     },
     "user_tz": -540
    },
    "id": "yR0LUYAAd8fU"
   },
   "outputs": [],
   "source": [
    "# 다운 받은 압축파일 압축해제하기 : fer2013 디렉토리 하위에 압축 풀기\n",
    "\n",
    "# linux 환경에서 압축 풀기\n",
    "# !unzip  -qq 'fer2013.zip' -d ./fer2013\n",
    "\n",
    "# Windows 환경에서 압축 풀기 ( 디렉토리 지정하여 압축 풀기 )\n",
    "#!tar -xf fer2013.zip\n",
    "\n",
    "import zipfile\n",
    "zip_object = zipfile.ZipFile(file='fer2013.zip', mode='r')\n",
    "zip_object.extractall('./fer2013')\n",
    "zip_object.close()"
   ]
  },
  {
   "cell_type": "markdown",
   "metadata": {
    "id": "vx5kbqWLSUxj"
   },
   "source": [
    "#### 방법2 ) Kaggele 사이트에서 직접 다운로드하기"
   ]
  },
  {
   "cell_type": "markdown",
   "metadata": {
    "id": "BxTNtoWSTIkM"
   },
   "source": [
    "- https://www.kaggle.com/datasets/msambare/fer2013 의 'Download' 버튼 클릭 후 DOWNLOAD VIA : Kaggle CLI 에서 다운로드를 위한 명령 복사"
   ]
  },
  {
   "cell_type": "code",
   "execution_count": null,
   "metadata": {
    "colab": {
     "base_uri": "https://localhost:8080/"
    },
    "executionInfo": {
     "elapsed": 7667,
     "status": "ok",
     "timestamp": 1735727553056,
     "user": {
      "displayName": "강희숙",
      "userId": "05520711596090317319"
     },
     "user_tz": -540
    },
    "id": "N-j4S6FEP8n8",
    "outputId": "dd9984b2-2763-4de5-e657-c1182709104e"
   },
   "outputs": [
    {
     "name": "stdout",
     "output_type": "stream",
     "text": [
      "Dataset URL: https://www.kaggle.com/datasets/msambare/fer2013\n",
      "License(s): DbCL-1.0\n",
      "Downloading fer2013.zip to /content\n",
      " 99% 60.0M/60.3M [00:04<00:00, 16.4MB/s]\n",
      "100% 60.3M/60.3M [00:04<00:00, 14.6MB/s]\n"
     ]
    }
   ],
   "source": [
    "# 데이터셋 다운로드 kaggle의 api command 사용하여 다운로드하기\n",
    "! kaggle datasets download -d msambare/fer2013"
   ]
  },
  {
   "cell_type": "code",
   "execution_count": null,
   "metadata": {
    "id": "X3StcUNLUXo9"
   },
   "outputs": [],
   "source": [
    "# 압축풀기\n",
    "!unzip  -qq 'fer2013.zip' -d ./fer2013"
   ]
  },
  {
   "cell_type": "markdown",
   "metadata": {
    "id": "6b-yZMr2nFKQ"
   },
   "source": [
    "### 1-2. 다운로드한 데이터 확인하기"
   ]
  },
  {
   "cell_type": "code",
   "execution_count": 1,
   "metadata": {
    "colab": {
     "base_uri": "https://localhost:8080/",
     "height": 65
    },
    "executionInfo": {
     "elapsed": 3852,
     "status": "ok",
     "timestamp": 1736491551469,
     "user": {
      "displayName": "강희숙",
      "userId": "05520711596090317319"
     },
     "user_tz": -540
    },
    "id": "iRc7t0lRJy5P",
    "outputId": "1742866b-752f-40bc-a771-0d9403e6ad63"
   },
   "outputs": [
    {
     "data": {
      "image/jpeg": "[encoded data removed]",
      "image/png": "[encoded data removed]",
      "text/plain": [
       "<PIL.Image.Image image mode=RGB size=48x48>"
      ]
     },
     "execution_count": 1,
     "metadata": {},
     "output_type": "execute_result"
    }
   ],
   "source": [
    "import tensorflow as tf\n",
    "import numpy as np\n",
    "\n",
    "tf.keras.preprocessing.image.load_img('./fer2013/train/angry/Training_10118481.jpg')"
   ]
  },
  {
   "cell_type": "code",
   "execution_count": 2,
   "metadata": {
    "colab": {
     "base_uri": "https://localhost:8080/",
     "height": 65
    },
    "id": "-3kIG15NKHSh",
    "outputId": "4194cc9e-8c24-4c26-c899-2853309baef9"
   },
   "outputs": [
    {
     "data": {
      "image/jpeg": "[encoded data removed]",
      "image/png": "[encoded data removed]",
      "text/plain": [
       "<PIL.Image.Image image mode=RGB size=48x48>"
      ]
     },
     "execution_count": 2,
     "metadata": {},
     "output_type": "execute_result"
    }
   ],
   "source": [
    "tf.keras.preprocessing.image.load_img('./fer2013/train/surprise/Training_10013223.jpg')"
   ]
  },
  {
   "cell_type": "code",
   "execution_count": 3,
   "metadata": {
    "colab": {
     "base_uri": "https://localhost:8080/"
    },
    "executionInfo": {
     "elapsed": 343,
     "status": "ok",
     "timestamp": 1736491565368,
     "user": {
      "displayName": "강희숙",
      "userId": "05520711596090317319"
     },
     "user_tz": -540
    },
    "id": "soXh8w25MNAS",
    "outputId": "0af351bb-30e8-411c-d2da-3ed25850098a"
   },
   "outputs": [
    {
     "data": {
      "text/plain": [
       "(48, 48, 3)"
      ]
     },
     "execution_count": 3,
     "metadata": {},
     "output_type": "execute_result"
    }
   ],
   "source": [
    "img = tf.keras.preprocessing.image.load_img('./fer2013/train/neutral/Training_10002154.jpg')\n",
    "np.array(img).shape"
   ]
  },
  {
   "cell_type": "code",
   "execution_count": 4,
   "metadata": {
    "colab": {
     "base_uri": "https://localhost:8080/"
    },
    "executionInfo": {
     "elapsed": 294,
     "status": "ok",
     "timestamp": 1736491569042,
     "user": {
      "displayName": "강희숙",
      "userId": "05520711596090317319"
     },
     "user_tz": -540
    },
    "id": "6dBzvxRcot3H",
    "outputId": "a77d02d1-54c4-48d1-89bc-9a05cf7a12f3"
   },
   "outputs": [
    {
     "data": {
      "text/plain": [
       "(48, 48)"
      ]
     },
     "execution_count": 4,
     "metadata": {},
     "output_type": "execute_result"
    }
   ],
   "source": [
    "np.array(img).shape[1], np.array(img).shape[0]"
   ]
  },
  {
   "cell_type": "markdown",
   "metadata": {
    "id": "M3xS72MI6C8q"
   },
   "source": [
    "## 2.학습/테스트 데이터셋 생성하기"
   ]
  },
  {
   "cell_type": "code",
   "execution_count": 5,
   "metadata": {
    "executionInfo": {
     "elapsed": 269,
     "status": "ok",
     "timestamp": 1736491642766,
     "user": {
      "displayName": "강희숙",
      "userId": "05520711596090317319"
     },
     "user_tz": -540
    },
    "id": "HpYm2s_fKa0d"
   },
   "outputs": [],
   "source": [
    "from tensorflow.keras.preprocessing.image import ImageDataGenerator\n",
    "\n",
    "train_generator = ImageDataGenerator(rotation_range=10,  # 이미지를 무작위로 회전시킬 최대 각도\n",
    "                                     zoom_range=0.2,  # 이미지를 무작위로 확대/축소할 범위를 지정,1 - 0.2 = 0.8배에서 1 + 0.2 = 1.2배 사이의 무작위 스케일로 이미지를 확대 또는 축소\n",
    "                                     horizontal_flip=True,  # 이미지를 수평 방향(좌우)으로 무작위로 뒤집기\n",
    "                                     rescale=1/255)  # 이미지의 픽셀 값을 0에서 255의 범위에서 0에서 1의 범위로 정규화"
   ]
  },
  {
   "cell_type": "markdown",
   "metadata": {
    "id": "Y4sy-DeEMjoA"
   },
   "source": [
    "- `ImageDataGenerator()`는 실시간 데이터 증대를 통해 텐서 이미지 데이터 배치를 생성합니다. (참고: https://www.tensorflow.org/api_docs/python/tf/keras/preprocessing/image/ImageDataGenerator)\n",
    "  - `rotation_range`, `zoom_range`, `horizontal_flip`은 데이터 증대를 위한 매개변수입니다.\n",
    "  - `rescale`은 정규화를 위한 매개변수입니다.\n"
   ]
  },
  {
   "cell_type": "code",
   "execution_count": 6,
   "metadata": {
    "colab": {
     "base_uri": "https://localhost:8080/"
    },
    "executionInfo": {
     "elapsed": 664,
     "status": "ok",
     "timestamp": 1736491740242,
     "user": {
      "displayName": "강희숙",
      "userId": "05520711596090317319"
     },
     "user_tz": -540
    },
    "id": "51seddH-PX4j",
    "outputId": "1e0ca69f-7b95-4eea-b2de-ad3593326f3f"
   },
   "outputs": [
    {
     "name": "stdout",
     "output_type": "stream",
     "text": [
      "Found 28709 images belonging to 7 classes.\n"
     ]
    }
   ],
   "source": [
    "train_dataset = train_generator.flow_from_directory(directory='./fer2013/train',\n",
    "                                                    target_size=(48, 48),  # 로드된 이미지의 크기를 조정할 대상의 크기, defaults to (256, 256)\n",
    "                                                    class_mode='categorical', # one-hot 인코딩된 레이블을 반환, 다중 클래스 분류 문제 적합\n",
    "                                                    batch_size=16,  # 한 번에 네트워크로 전달될 이미지의 수 (default: 32)\n",
    "                                                    shuffle=True,  # 에포크마다 데이터를 섞을지 여부를 결정 (default: True) If set to False, sorts the data in alphanumeric order\n",
    "                                                    seed=10)"
   ]
  },
  {
   "cell_type": "markdown",
   "metadata": {
    "id": "eyYm1qzSPaiP"
   },
   "source": [
    "-  ImageDataGenerator를 활용하여 디렉토리로부터 훈련 데이터를 로드하고, 데이터 증강을 적용한 데이터셋을 생성하는 과정 설정\n",
    "- flow_from_directory 메서드는 지정된 디렉토리 구조 내의 이미지 파일들을 읽어서, 데이터 증강을 적용한 후 훈련 데이터로 사용할 수 있는 배치(batch) 형태로 제공"
   ]
  },
  {
   "cell_type": "code",
   "execution_count": 7,
   "metadata": {
    "colab": {
     "base_uri": "https://localhost:8080/"
    },
    "executionInfo": {
     "elapsed": 290,
     "status": "ok",
     "timestamp": 1736491762856,
     "user": {
      "displayName": "강희숙",
      "userId": "05520711596090317319"
     },
     "user_tz": -540
    },
    "id": "M_iAdGr3U65U",
    "outputId": "462de9a1-4f33-486b-ad1c-4a29bbcddc90"
   },
   "outputs": [
    {
     "data": {
      "text/plain": [
       "['__class__',\n",
       " '__delattr__',\n",
       " '__dict__',\n",
       " '__dir__',\n",
       " '__doc__',\n",
       " '__eq__',\n",
       " '__format__',\n",
       " '__ge__',\n",
       " '__getattribute__',\n",
       " '__getitem__',\n",
       " '__gt__',\n",
       " '__hash__',\n",
       " '__init__',\n",
       " '__init_subclass__',\n",
       " '__iter__',\n",
       " '__le__',\n",
       " '__len__',\n",
       " '__lt__',\n",
       " '__module__',\n",
       " '__ne__',\n",
       " '__new__',\n",
       " '__next__',\n",
       " '__reduce__',\n",
       " '__reduce_ex__',\n",
       " '__repr__',\n",
       " '__setattr__',\n",
       " '__sizeof__',\n",
       " '__str__',\n",
       " '__subclasshook__',\n",
       " '__weakref__',\n",
       " '_filepaths',\n",
       " '_flow_index',\n",
       " '_get_batches_of_transformed_samples',\n",
       " '_keras_api_names',\n",
       " '_keras_api_names_v1',\n",
       " '_set_index_array',\n",
       " 'allowed_class_modes',\n",
       " 'batch_index',\n",
       " 'batch_size',\n",
       " 'class_indices',\n",
       " 'class_mode',\n",
       " 'classes',\n",
       " 'color_mode',\n",
       " 'data_format',\n",
       " 'directory',\n",
       " 'dtype',\n",
       " 'filenames',\n",
       " 'filepaths',\n",
       " 'image_data_generator',\n",
       " 'image_shape',\n",
       " 'index_array',\n",
       " 'index_generator',\n",
       " 'interpolation',\n",
       " 'keep_aspect_ratio',\n",
       " 'labels',\n",
       " 'lock',\n",
       " 'n',\n",
       " 'next',\n",
       " 'num_classes',\n",
       " 'on_epoch_end',\n",
       " 'reset',\n",
       " 'sample_weight',\n",
       " 'samples',\n",
       " 'save_format',\n",
       " 'save_prefix',\n",
       " 'save_to_dir',\n",
       " 'seed',\n",
       " 'set_processing_attrs',\n",
       " 'shuffle',\n",
       " 'split',\n",
       " 'subset',\n",
       " 'target_size',\n",
       " 'total_batches_seen',\n",
       " 'white_list_formats']"
      ]
     },
     "execution_count": 7,
     "metadata": {},
     "output_type": "execute_result"
    }
   ],
   "source": [
    "dir(train_dataset)"
   ]
  },
  {
   "cell_type": "code",
   "execution_count": 8,
   "metadata": {
    "colab": {
     "base_uri": "https://localhost:8080/"
    },
    "executionInfo": {
     "elapsed": 266,
     "status": "ok",
     "timestamp": 1736491781383,
     "user": {
      "displayName": "강희숙",
      "userId": "05520711596090317319"
     },
     "user_tz": -540
    },
    "id": "0ugMHSUnLxyG",
    "outputId": "122d3417-3e59-4c2d-ad49-f4cc4980afd0"
   },
   "outputs": [
    {
     "data": {
      "text/plain": [
       "array([0, 0, 0, ..., 6, 6, 6])"
      ]
     },
     "execution_count": 8,
     "metadata": {},
     "output_type": "execute_result"
    }
   ],
   "source": [
    "train_dataset.classes"
   ]
  },
  {
   "cell_type": "code",
   "execution_count": 9,
   "metadata": {
    "colab": {
     "base_uri": "https://localhost:8080/"
    },
    "id": "HZA4CwFmL1eC",
    "outputId": "d765ca37-d385-4d37-9fa9-6861c1f25e83"
   },
   "outputs": [
    {
     "data": {
      "text/plain": [
       "{'angry': 0,\n",
       " 'disgust': 1,\n",
       " 'fear': 2,\n",
       " 'happy': 3,\n",
       " 'neutral': 4,\n",
       " 'sad': 5,\n",
       " 'surprise': 6}"
      ]
     },
     "execution_count": 9,
     "metadata": {},
     "output_type": "execute_result"
    }
   ],
   "source": [
    "train_dataset.class_indices"
   ]
  },
  {
   "cell_type": "code",
   "execution_count": 10,
   "metadata": {
    "colab": {
     "base_uri": "https://localhost:8080/"
    },
    "executionInfo": {
     "elapsed": 257,
     "status": "ok",
     "timestamp": 1736491812239,
     "user": {
      "displayName": "강희숙",
      "userId": "05520711596090317319"
     },
     "user_tz": -540
    },
    "id": "qJ8fGD-e8yQZ",
    "outputId": "1e6fa89b-3105-4c2e-cfab-81701d6bf24a"
   },
   "outputs": [
    {
     "data": {
      "text/plain": [
       "(array([0, 1, 2, 3, 4, 5, 6]),\n",
       " array([3995,  436, 4097, 7215, 4965, 4830, 3171], dtype=int64))"
      ]
     },
     "execution_count": 10,
     "metadata": {},
     "output_type": "execute_result"
    }
   ],
   "source": [
    "np.unique(train_dataset.classes, return_counts=True)"
   ]
  },
  {
   "cell_type": "markdown",
   "metadata": {
    "id": "aEWqpmeRXUiz"
   },
   "source": [
    "- Disgust에 해당하는 436개의 이미지는 상대적으로 작습니다."
   ]
  },
  {
   "cell_type": "code",
   "execution_count": 11,
   "metadata": {
    "colab": {
     "base_uri": "https://localhost:8080/"
    },
    "executionInfo": {
     "elapsed": 304,
     "status": "ok",
     "timestamp": 1736491847985,
     "user": {
      "displayName": "강희숙",
      "userId": "05520711596090317319"
     },
     "user_tz": -540
    },
    "id": "-jIsmMsML8as",
    "outputId": "bdc0212b-355e-4f49-c95e-067eb5361a7f"
   },
   "outputs": [
    {
     "name": "stdout",
     "output_type": "stream",
     "text": [
      "Found 7178 images belonging to 7 classes.\n"
     ]
    }
   ],
   "source": [
    "test_generator = ImageDataGenerator(rescale=1/255)\n",
    "\n",
    "test_dataset = test_generator.flow_from_directory(directory='./fer2013/test',\n",
    "                                                  target_size=(48, 48),\n",
    "                                                  class_mode='categorical',\n",
    "                                                  batch_size=1,\n",
    "                                                  shuffle=False,\n",
    "                                                  seed=10)"
   ]
  },
  {
   "cell_type": "markdown",
   "metadata": {
    "id": "nWq2zt0iXjTD"
   },
   "source": [
    "- 테스트 과정에서 데이터의 원본 상태를 유지하면서 모델 평가의 일관성과 신뢰성을 보장하기위해 증강 적용하지 않\n",
    "- `batch_size=1`인 이유는 하나씩 테스트해 볼 예정이기 때문입니다."
   ]
  },
  {
   "cell_type": "markdown",
   "metadata": {
    "id": "a1qc_T8HXrK3"
   },
   "source": [
    "## 3.모델 구성하기 (Convolutional Neural Network,CNN)"
   ]
  },
  {
   "cell_type": "markdown",
   "metadata": {
    "id": "qSHmrVYOSeDf"
   },
   "source": [
    "다음 모델 구성을 보고 코드를 작성하세요\n",
    "```\n",
    "Model: \"sequential\"\n",
    "_________________________________________________________________\n",
    " Layer (type)                Output Shape              Param #   \n",
    "=================================================================\n",
    " conv2d (Conv2D)             (None, 48, 48, 32)        896       \n",
    "                                                                 \n",
    " batch_normalization (Batch  (None, 48, 48, 32)        128       \n",
    " Normalization)                                                  \n",
    "                                                                 \n",
    " conv2d_1 (Conv2D)           (None, 48, 48, 32)        9248      \n",
    "                                                                 \n",
    " batch_normalization_1 (Bat  (None, 48, 48, 32)        128       \n",
    " chNormalization)                                                \n",
    "                                                                 \n",
    " max_pooling2d (MaxPooling2  (None, 24, 24, 32)        0         \n",
    " D)                                                              \n",
    "                                                                 \n",
    " dropout (Dropout)           (None, 24, 24, 32)        0         \n",
    "                                                                 \n",
    " conv2d_2 (Conv2D)           (None, 24, 24, 64)        18496     \n",
    "                                                                 \n",
    " batch_normalization_2 (Bat  (None, 24, 24, 64)        256       \n",
    " chNormalization)                                                \n",
    "                                                                 \n",
    " conv2d_3 (Conv2D)           (None, 24, 24, 64)        36928     \n",
    "                                                                 \n",
    " batch_normalization_3 (Bat  (None, 24, 24, 64)        256       \n",
    " chNormalization)                                                \n",
    "                                                                 \n",
    " max_pooling2d_1 (MaxPoolin  (None, 12, 12, 64)        0         \n",
    " g2D)                                                            \n",
    "                                                                 \n",
    " dropout_1 (Dropout)         (None, 12, 12, 64)        0         \n",
    "                                                                 \n",
    " flatten (Flatten)           (None, 9216)              0         \n",
    "                                                                \n",
    " dense (Dense)               (None, 128)               1179776   \n",
    "                                                                 \n",
    " batch_normalization_4 (Bat  (None, 128)               512       \n",
    " chNormalization)                                                \n",
    "                                                                 \n",
    " dropout_2 (Dropout)         (None, 128)               0         \n",
    "                                                                 \n",
    " dense_1 (Dense)             (None, 64)                8256      \n",
    "                                                                 \n",
    " batch_normalization_5 (Bat  (None, 64)                256       \n",
    " chNormalization)                                                \n",
    "                                                                 \n",
    " dropout_3 (Dropout)         (None, 64)                0         \n",
    "                                                                 \n",
    " dense_2 (Dense)             (None, 7)                 455       \n",
    " ```                                                                "
   ]
  },
  {
   "cell_type": "code",
   "execution_count": 12,
   "metadata": {
    "executionInfo": {
     "elapsed": 280,
     "status": "ok",
     "timestamp": 1736492292860,
     "user": {
      "displayName": "강희숙",
      "userId": "05520711596090317319"
     },
     "user_tz": -540
    },
    "id": "LrCXFXCDGEY3"
   },
   "outputs": [],
   "source": [
    "from tensorflow.keras.models import Sequential\n",
    "from tensorflow.keras.layers import Input, Dense, Dropout, Conv2D, MaxPooling2D, Flatten, BatchNormalization\n",
    "\n",
    "num_classes = 7                        # len(train_dataset.class_indices)\n",
    "num_detectors = 32\n",
    "width, height = 48, 48                 #  np.array(img).shape[1], np.array(img).shape[0]\n",
    "\n",
    "model = Sequential()\n",
    "\n",
    "model.add(Input(shape=(width, height, 3)))   # ... 코드입력\n",
    "model.add(Conv2D(filters=num_detectors, kernel_size=3, activation='relu', padding='same'))\n",
    "model.add(BatchNormalization())\n",
    "model.add(Conv2D(filters=num_detectors, kernel_size=3, activation='relu', padding='same'))\n",
    "model.add(BatchNormalization())\n",
    "model.add(MaxPooling2D(pool_size=(2, 2)))\n",
    "model.add(Dropout(0.2))\n",
    "\n",
    "model.add(Conv2D(filters=num_detectors*2, kernel_size=3, activation='relu', padding='same'))\n",
    "model.add(BatchNormalization())\n",
    "model.add(Conv2D(filters=num_detectors*2, kernel_size=3, activation='relu', padding='same'))\n",
    "model.add(BatchNormalization())\n",
    "model.add(MaxPooling2D(pool_size=(2, 2)))\n",
    "model.add(Dropout(0.2))\n",
    "\n",
    "model.add(Flatten())\n",
    "\n",
    "model.add(Dense(2*2*num_detectors, activation='relu'))\n",
    "model.add(BatchNormalization())\n",
    "model.add(Dropout(0.2))\n",
    "\n",
    "model.add(Dense(2*num_detectors, activation='relu'))\n",
    "model.add(BatchNormalization())\n",
    "model.add(Dropout(0.2))\n",
    "\n",
    "model.add(Dense(num_classes, activation='softmax'))"
   ]
  },
  {
   "cell_type": "code",
   "execution_count": 13,
   "metadata": {
    "colab": {
     "base_uri": "https://localhost:8080/"
    },
    "executionInfo": {
     "elapsed": 670,
     "status": "ok",
     "timestamp": 1715089278721,
     "user": {
      "displayName": "강희숙",
      "userId": "05520711596090317319"
     },
     "user_tz": -540
    },
    "id": "UtSvACvkZsiP",
    "outputId": "57eb13a1-13bb-4898-c901-a70c6c0d47ac"
   },
   "outputs": [
    {
     "name": "stdout",
     "output_type": "stream",
     "text": [
      "Model: \"sequential\"\n",
      "_________________________________________________________________\n",
      " Layer (type)                Output Shape              Param #   \n",
      "=================================================================\n",
      " conv2d (Conv2D)             (None, 48, 48, 32)        896       \n",
      "                                                                 \n",
      " batch_normalization (BatchN  (None, 48, 48, 32)       128       \n",
      " ormalization)                                                   \n",
      "                                                                 \n",
      " conv2d_1 (Conv2D)           (None, 48, 48, 32)        9248      \n",
      "                                                                 \n",
      " batch_normalization_1 (Batc  (None, 48, 48, 32)       128       \n",
      " hNormalization)                                                 \n",
      "                                                                 \n",
      " max_pooling2d (MaxPooling2D  (None, 24, 24, 32)       0         \n",
      " )                                                               \n",
      "                                                                 \n",
      " dropout (Dropout)           (None, 24, 24, 32)        0         \n",
      "                                                                 \n",
      " conv2d_2 (Conv2D)           (None, 24, 24, 64)        18496     \n",
      "                                                                 \n",
      " batch_normalization_2 (Batc  (None, 24, 24, 64)       256       \n",
      " hNormalization)                                                 \n",
      "                                                                 \n",
      " conv2d_3 (Conv2D)           (None, 24, 24, 64)        36928     \n",
      "                                                                 \n",
      " batch_normalization_3 (Batc  (None, 24, 24, 64)       256       \n",
      " hNormalization)                                                 \n",
      "                                                                 \n",
      " max_pooling2d_1 (MaxPooling  (None, 12, 12, 64)       0         \n",
      " 2D)                                                             \n",
      "                                                                 \n",
      " dropout_1 (Dropout)         (None, 12, 12, 64)        0         \n",
      "                                                                 \n",
      " flatten (Flatten)           (None, 9216)              0         \n",
      "                                                                 \n",
      " dense (Dense)               (None, 128)               1179776   \n",
      "                                                                 \n",
      " batch_normalization_4 (Batc  (None, 128)              512       \n",
      " hNormalization)                                                 \n",
      "                                                                 \n",
      " dropout_2 (Dropout)         (None, 128)               0         \n",
      "                                                                 \n",
      " dense_1 (Dense)             (None, 64)                8256      \n",
      "                                                                 \n",
      " batch_normalization_5 (Batc  (None, 64)               256       \n",
      " hNormalization)                                                 \n",
      "                                                                 \n",
      " dropout_3 (Dropout)         (None, 64)                0         \n",
      "                                                                 \n",
      " dense_2 (Dense)             (None, 7)                 455       \n",
      "                                                                 \n",
      "=================================================================\n",
      "Total params: 1,255,591\n",
      "Trainable params: 1,254,823\n",
      "Non-trainable params: 768\n",
      "_________________________________________________________________\n",
      "None\n"
     ]
    }
   ],
   "source": [
    "print(model.summary())"
   ]
  },
  {
   "cell_type": "code",
   "execution_count": 14,
   "metadata": {
    "executionInfo": {
     "elapsed": 278,
     "status": "ok",
     "timestamp": 1736492396709,
     "user": {
      "displayName": "강희숙",
      "userId": "05520711596090317319"
     },
     "user_tz": -540
    },
    "id": "6CVCt5auMGsp"
   },
   "outputs": [],
   "source": [
    "# 모델 컴파일하기 : optimizer - 'Adam'\n",
    "model.compile(optimizer = 'adam',\n",
    "              loss = 'categorical_crossentropy',\n",
    "              metrics=['accuracy'])    # ... 코드입력"
   ]
  },
  {
   "cell_type": "markdown",
   "metadata": {
    "id": "1ONCGR-4aHoh"
   },
   "source": [
    "## 4.모델 학습하기"
   ]
  },
  {
   "cell_type": "code",
   "execution_count": 15,
   "metadata": {
    "colab": {
     "base_uri": "https://localhost:8080/"
    },
    "executionInfo": {
     "elapsed": 1122372,
     "status": "ok",
     "timestamp": 1736493553203,
     "user": {
      "displayName": "강희숙",
      "userId": "05520711596090317319"
     },
     "user_tz": -540
    },
    "id": "sNyHRvrrjEIf",
    "outputId": "6071805f-feb1-436c-a680-6c13438eb425"
   },
   "outputs": [
    {
     "name": "stdout",
     "output_type": "stream",
     "text": [
      "Epoch 1/20\n",
      "1795/1795 [==============================] - 31s 17ms/step - loss: 1.8249 - accuracy: 0.2964\n",
      "Epoch 2/20\n",
      "1795/1795 [==============================] - 20s 11ms/step - loss: 1.5394 - accuracy: 0.4001\n",
      "Epoch 3/20\n",
      "1795/1795 [==============================] - 20s 11ms/step - loss: 1.4286 - accuracy: 0.4475\n",
      "Epoch 4/20\n",
      "1795/1795 [==============================] - 20s 11ms/step - loss: 1.3767 - accuracy: 0.4697\n",
      "Epoch 5/20\n",
      "1795/1795 [==============================] - 20s 11ms/step - loss: 1.3363 - accuracy: 0.4916\n",
      "Epoch 6/20\n",
      "1795/1795 [==============================] - 20s 11ms/step - loss: 1.3149 - accuracy: 0.5022\n",
      "Epoch 7/20\n",
      "1795/1795 [==============================] - 20s 11ms/step - loss: 1.2768 - accuracy: 0.5163\n",
      "Epoch 8/20\n",
      "1795/1795 [==============================] - 20s 11ms/step - loss: 1.2586 - accuracy: 0.5211\n",
      "Epoch 9/20\n",
      "1795/1795 [==============================] - 20s 11ms/step - loss: 1.2457 - accuracy: 0.5264\n",
      "Epoch 10/20\n",
      "1795/1795 [==============================] - 20s 11ms/step - loss: 1.2343 - accuracy: 0.5327\n",
      "Epoch 11/20\n",
      "1795/1795 [==============================] - 20s 11ms/step - loss: 1.2126 - accuracy: 0.5439\n",
      "Epoch 12/20\n",
      "1795/1795 [==============================] - 20s 11ms/step - loss: 1.2024 - accuracy: 0.5482\n",
      "Epoch 13/20\n",
      "1795/1795 [==============================] - 20s 11ms/step - loss: 1.1871 - accuracy: 0.5478\n",
      "Epoch 14/20\n",
      "1795/1795 [==============================] - 21s 11ms/step - loss: 1.1707 - accuracy: 0.5606\n",
      "Epoch 15/20\n",
      "1795/1795 [==============================] - 20s 11ms/step - loss: 1.1607 - accuracy: 0.5657\n",
      "Epoch 16/20\n",
      "1795/1795 [==============================] - 20s 11ms/step - loss: 1.1516 - accuracy: 0.5680\n",
      "Epoch 17/20\n",
      "1795/1795 [==============================] - 20s 11ms/step - loss: 1.1448 - accuracy: 0.5722\n",
      "Epoch 18/20\n",
      "1795/1795 [==============================] - 20s 11ms/step - loss: 1.1280 - accuracy: 0.5786\n",
      "Epoch 19/20\n",
      "1795/1795 [==============================] - 20s 11ms/step - loss: 1.1304 - accuracy: 0.5758\n",
      "Epoch 20/20\n",
      "1795/1795 [==============================] - 20s 11ms/step - loss: 1.1158 - accuracy: 0.5814\n"
     ]
    },
    {
     "data": {
      "text/plain": [
       "<keras.callbacks.History at 0x29f11ca5660>"
      ]
     },
     "execution_count": 15,
     "metadata": {},
     "output_type": "execute_result"
    }
   ],
   "source": [
    "epochs = 20\n",
    "model.fit(train_dataset, epochs=epochs)    # ... 코드입력"
   ]
  },
  {
   "cell_type": "markdown",
   "metadata": {
    "id": "56jAfuOX6Mer"
   },
   "source": [
    "## 5.모델 평가 및 예측하기"
   ]
  },
  {
   "cell_type": "code",
   "execution_count": 16,
   "metadata": {
    "colab": {
     "base_uri": "https://localhost:8080/"
    },
    "id": "Prc4UOYOyV6C",
    "outputId": "41f737f1-9aa0-44c1-f5d4-b1488944c1f9"
   },
   "outputs": [
    {
     "name": "stdout",
     "output_type": "stream",
     "text": [
      "7178/7178 [==============================] - 17s 2ms/step - loss: 1.0325 - accuracy: 0.6126\n",
      "accuracy : 0.61, loss : 1.03\n"
     ]
    }
   ],
   "source": [
    "score = model.evaluate(test_dataset)    # ... 코드입력\n",
    "print(f'accuracy : {round(score[1],2)}, loss : {round(score[0],2)}')"
   ]
  },
  {
   "cell_type": "code",
   "execution_count": 17,
   "metadata": {
    "colab": {
     "base_uri": "https://localhost:8080/"
    },
    "id": "LhCYTLWd833-",
    "outputId": "c80995fc-1966-489f-ac0d-aed657bdb528"
   },
   "outputs": [
    {
     "name": "stdout",
     "output_type": "stream",
     "text": [
      "7178/7178 [==============================] - 11s 1ms/step\n"
     ]
    },
    {
     "data": {
      "text/plain": [
       "array([[7.46145070e-01, 3.02362405e-02, 1.30234674e-01, ...,\n",
       "        1.35327792e-02, 5.43590486e-02, 6.20777300e-03],\n",
       "       [2.67974257e-01, 2.20273226e-03, 3.97185534e-01, ...,\n",
       "        1.50195986e-01, 1.42878845e-01, 2.68728472e-02],\n",
       "       [1.15136854e-01, 5.46461809e-03, 1.91350922e-01, ...,\n",
       "        2.99015883e-02, 5.54334164e-01, 1.56779401e-02],\n",
       "       ...,\n",
       "       [7.97298795e-04, 1.91410745e-05, 7.74790812e-03, ...,\n",
       "        1.05981459e-03, 3.60823702e-04, 9.89850521e-01],\n",
       "       [5.31394146e-02, 2.25725234e-03, 4.73059975e-02, ...,\n",
       "        2.41177417e-02, 1.65947303e-02, 8.42820704e-01],\n",
       "       [2.15401780e-03, 4.04624916e-05, 1.66621152e-02, ...,\n",
       "        8.46418901e-04, 4.76557645e-04, 9.75498259e-01]], dtype=float32)"
      ]
     },
     "execution_count": 17,
     "metadata": {},
     "output_type": "execute_result"
    }
   ],
   "source": [
    "preds = model.predict(test_dataset)    # ... 코드입력\n",
    "preds"
   ]
  },
  {
   "cell_type": "code",
   "execution_count": 18,
   "metadata": {
    "colab": {
     "base_uri": "https://localhost:8080/"
    },
    "id": "HCPioxWB89ON",
    "outputId": "c7e1128c-279c-4cb8-cfa8-bb8536e3159e"
   },
   "outputs": [
    {
     "data": {
      "text/plain": [
       "array([0, 2, 5, ..., 6, 6, 6], dtype=int64)"
      ]
     },
     "execution_count": 18,
     "metadata": {},
     "output_type": "execute_result"
    }
   ],
   "source": [
    "preds = np.argmax(preds, axis=1)    # ... 코드입력\n",
    "preds"
   ]
  },
  {
   "cell_type": "code",
   "execution_count": 19,
   "metadata": {
    "colab": {
     "base_uri": "https://localhost:8080/"
    },
    "id": "E5G91E-r8_px",
    "outputId": "722e62d3-1cb8-4581-e168-055e2081310b"
   },
   "outputs": [
    {
     "data": {
      "text/plain": [
       "array([0, 0, 0, ..., 6, 6, 6])"
      ]
     },
     "execution_count": 19,
     "metadata": {},
     "output_type": "execute_result"
    }
   ],
   "source": [
    "test_dataset.classes"
   ]
  },
  {
   "cell_type": "code",
   "execution_count": 20,
   "metadata": {
    "colab": {
     "base_uri": "https://localhost:8080/",
     "height": 423
    },
    "id": "3bp8iiA7sX5e",
    "outputId": "4c588e09-89a1-4119-ac2e-2dd9553f9728"
   },
   "outputs": [
    {
     "data": {
      "text/html": [
       "<div>\n",
       "<style scoped>\n",
       "    .dataframe tbody tr th:only-of-type {\n",
       "        vertical-align: middle;\n",
       "    }\n",
       "\n",
       "    .dataframe tbody tr th {\n",
       "        vertical-align: top;\n",
       "    }\n",
       "\n",
       "    .dataframe thead th {\n",
       "        text-align: right;\n",
       "    }\n",
       "</style>\n",
       "<table border=\"1\" class=\"dataframe\">\n",
       "  <thead>\n",
       "    <tr style=\"text-align: right;\">\n",
       "      <th></th>\n",
       "      <th>Actual</th>\n",
       "      <th>Predicted</th>\n",
       "    </tr>\n",
       "  </thead>\n",
       "  <tbody>\n",
       "    <tr>\n",
       "      <th>0</th>\n",
       "      <td>0</td>\n",
       "      <td>0</td>\n",
       "    </tr>\n",
       "    <tr>\n",
       "      <th>1</th>\n",
       "      <td>0</td>\n",
       "      <td>2</td>\n",
       "    </tr>\n",
       "    <tr>\n",
       "      <th>2</th>\n",
       "      <td>0</td>\n",
       "      <td>5</td>\n",
       "    </tr>\n",
       "    <tr>\n",
       "      <th>3</th>\n",
       "      <td>0</td>\n",
       "      <td>0</td>\n",
       "    </tr>\n",
       "    <tr>\n",
       "      <th>4</th>\n",
       "      <td>0</td>\n",
       "      <td>0</td>\n",
       "    </tr>\n",
       "    <tr>\n",
       "      <th>...</th>\n",
       "      <td>...</td>\n",
       "      <td>...</td>\n",
       "    </tr>\n",
       "    <tr>\n",
       "      <th>7173</th>\n",
       "      <td>6</td>\n",
       "      <td>6</td>\n",
       "    </tr>\n",
       "    <tr>\n",
       "      <th>7174</th>\n",
       "      <td>6</td>\n",
       "      <td>6</td>\n",
       "    </tr>\n",
       "    <tr>\n",
       "      <th>7175</th>\n",
       "      <td>6</td>\n",
       "      <td>6</td>\n",
       "    </tr>\n",
       "    <tr>\n",
       "      <th>7176</th>\n",
       "      <td>6</td>\n",
       "      <td>6</td>\n",
       "    </tr>\n",
       "    <tr>\n",
       "      <th>7177</th>\n",
       "      <td>6</td>\n",
       "      <td>6</td>\n",
       "    </tr>\n",
       "  </tbody>\n",
       "</table>\n",
       "<p>7178 rows × 2 columns</p>\n",
       "</div>"
      ],
      "text/plain": [
       "      Actual  Predicted\n",
       "0          0          0\n",
       "1          0          2\n",
       "2          0          5\n",
       "3          0          0\n",
       "4          0          0\n",
       "...      ...        ...\n",
       "7173       6          6\n",
       "7174       6          6\n",
       "7175       6          6\n",
       "7176       6          6\n",
       "7177       6          6\n",
       "\n",
       "[7178 rows x 2 columns]"
      ]
     },
     "execution_count": 20,
     "metadata": {},
     "output_type": "execute_result"
    }
   ],
   "source": [
    "import pandas as pd\n",
    "\n",
    "df_result = pd.DataFrame(columns=['Actual', 'Predicted'])\n",
    "df_result['Actual'] = test_dataset.classes\n",
    "df_result['Predicted'] = preds\n",
    "df_result"
   ]
  },
  {
   "cell_type": "code",
   "execution_count": 21,
   "metadata": {
    "colab": {
     "base_uri": "https://localhost:8080/"
    },
    "id": "7Fv-c29d9CQu",
    "outputId": "c76ff530-74e3-427c-aff4-3b2a1f54164b"
   },
   "outputs": [
    {
     "data": {
      "text/plain": [
       "0.6125661744218446"
      ]
     },
     "execution_count": 21,
     "metadata": {},
     "output_type": "execute_result"
    }
   ],
   "source": [
    "from sklearn.metrics import accuracy_score\n",
    "\n",
    "accuracy_score(test_dataset.classes, preds)"
   ]
  },
  {
   "cell_type": "code",
   "execution_count": 22,
   "metadata": {
    "colab": {
     "base_uri": "https://localhost:8080/"
    },
    "id": "2aOkAkkH9ESw",
    "outputId": "f9c8bf4a-404c-461b-bc34-4efba7b308c4"
   },
   "outputs": [
    {
     "data": {
      "text/plain": [
       "{'angry': 0,\n",
       " 'disgust': 1,\n",
       " 'fear': 2,\n",
       " 'happy': 3,\n",
       " 'neutral': 4,\n",
       " 'sad': 5,\n",
       " 'surprise': 6}"
      ]
     },
     "execution_count": 22,
     "metadata": {},
     "output_type": "execute_result"
    }
   ],
   "source": [
    "test_dataset.class_indices"
   ]
  },
  {
   "cell_type": "code",
   "execution_count": 23,
   "metadata": {
    "colab": {
     "base_uri": "https://localhost:8080/",
     "height": 1000
    },
    "id": "1xO2vr4m1jhn",
    "outputId": "04160d6b-42c6-4188-cbdf-a02fb59a063b"
   },
   "outputs": [
    {
     "data": {
      "image/png": "[encoded data removed]",
      "text/plain": [
       "<Figure size 500x300 with 1 Axes>"
      ]
     },
     "metadata": {},
     "output_type": "display_data"
    },
    {
     "data": {
      "image/png": "[encoded data removed]",
      "text/plain": [
       "<Figure size 500x300 with 1 Axes>"
      ]
     },
     "metadata": {},
     "output_type": "display_data"
    },
    {
     "data": {
      "image/png": "[encoded data removed]",
      "text/plain": [
       "<Figure size 500x300 with 1 Axes>"
      ]
     },
     "metadata": {},
     "output_type": "display_data"
    },
    {
     "data": {
      "image/png": "[encoded data removed]",
      "text/plain": [
       "<Figure size 500x300 with 1 Axes>"
      ]
     },
     "metadata": {},
     "output_type": "display_data"
    },
    {
     "data": {
      "image/png": "[encoded data removed]",
      "text/plain": [
       "<Figure size 500x300 with 1 Axes>"
      ]
     },
     "metadata": {},
     "output_type": "display_data"
    }
   ],
   "source": [
    "# 시각화할 이미지 개수\n",
    "import matplotlib.pyplot as plt\n",
    "num_images = 5\n",
    "samples_to_display = np.random.choice(len(test_dataset), num_images, replace=False)\n",
    "\n",
    "# 테스트 데이터 중 일부 이미지 시각화\n",
    "for i, idx in enumerate(samples_to_display):\n",
    "    img, label = test_dataset[idx]  # 이미지와 레이블을 가져옵니다\n",
    "    img = img[0]  # 배치 차원 제거\n",
    "    true_label = test_dataset.classes[idx]\n",
    "    pred_label = preds[idx]\n",
    "    plt.figure(figsize=(5, 3))\n",
    "    plt.imshow(img)\n",
    "    plt.title(f\"True: {true_label}, Pred: {pred_label}\")\n",
    "    plt.axis('off')\n",
    "    plt.show()"
   ]
  },
  {
   "cell_type": "code",
   "execution_count": 24,
   "metadata": {
    "colab": {
     "base_uri": "https://localhost:8080/",
     "height": 1000
    },
    "id": "7OqyO6Gz1AFR",
    "outputId": "0ba33215-0a2d-4c6f-db37-42a410f1d73e"
   },
   "outputs": [
    {
     "data": {
      "image/png": "[encoded data removed]",
      "text/plain": [
       "<Figure size 500x300 with 1 Axes>"
      ]
     },
     "metadata": {},
     "output_type": "display_data"
    },
    {
     "data": {
      "image/png": "[encoded data removed]",
      "text/plain": [
       "<Figure size 500x300 with 1 Axes>"
      ]
     },
     "metadata": {},
     "output_type": "display_data"
    },
    {
     "data": {
      "image/png": "[encoded data removed]",
      "text/plain": [
       "<Figure size 500x300 with 1 Axes>"
      ]
     },
     "metadata": {},
     "output_type": "display_data"
    },
    {
     "data": {
      "image/png": "[encoded data removed]",
      "text/plain": [
       "<Figure size 500x300 with 1 Axes>"
      ]
     },
     "metadata": {},
     "output_type": "display_data"
    },
    {
     "data": {
      "image/png": "[encoded data removed]",
      "text/plain": [
       "<Figure size 500x300 with 1 Axes>"
      ]
     },
     "metadata": {},
     "output_type": "display_data"
    }
   ],
   "source": [
    "# 시각화할 이미지 개수\n",
    "num_images = 5\n",
    "#samples_to_display = np.random.choice(len(test_dataset), num_images, replace=False)\n",
    "samples_to_display = np.random.choice(test_dataset.n, num_images, replace=False)\n",
    "\n",
    "# # 테스트 데이터 중 일부 이미지 시각화\n",
    "# for i, idx in enumerate(samples_to_display):\n",
    "#     img = test_dataset[idx].squeeze()  # 차원 축소\n",
    "#     true_label = y_test_classes[idx]\n",
    "#     pred_label = preds_classes[idx]\n",
    "#     plt.figure(figsize=(5, 3))\n",
    "#     plt.imshow(img, cmap='gray')\n",
    "#     plt.title(f\"True: {test_dataset.class_indices[true_label]}, Pred: {test_dataset.class_indices[pred_label]}\")\n",
    "#     plt.axis('off')\n",
    "#     plt.show()\n",
    "\n",
    "# 테스트 데이터 중 일부 이미지 시각화\n",
    "for i, idx in enumerate(samples_to_display):\n",
    "    # 데이터셋에서 이미지를 추출하려면, idx를 배치 인덱스와 위치 인덱스로 변환해야 합니다.\n",
    "    batch_index = idx // test_dataset.batch_size\n",
    "    img_index = idx % test_dataset.batch_size\n",
    "    # 데이터 제너레이터에서 배치를 로드합니다.\n",
    "    img_batch, label_batch = test_dataset[batch_index]\n",
    "    img = img_batch[img_index].squeeze()  # 차원 축소\n",
    "    true_label = np.argmax(label_batch[img_index])\n",
    "    pred_label = preds[idx]\n",
    "\n",
    "    plt.figure(figsize=(5, 3))\n",
    "    plt.imshow(img, cmap='gray')\n",
    "    # 클래스 인덱스를 클래스 이름으로 변환하여 표시합니다.\n",
    "    plt.title(f\"True: {list(test_dataset.class_indices.keys())[true_label]}, Pred: {list(test_dataset.class_indices.keys())[pred_label]}\")\n",
    "    plt.axis('off')\n",
    "    plt.show()"
   ]
  },
  {
   "cell_type": "markdown",
   "metadata": {
    "id": "ASbKQb-TflfV"
   },
   "source": [
    "## 6.모델 저장하고 로드하기"
   ]
  },
  {
   "cell_type": "markdown",
   "metadata": {
    "id": "OA53oZWBc1L_"
   },
   "source": [
    "- 모델/가중치를 저장하고 로드하려면 아래 코드의 주석 처리를 취소하고 사용하 세요."
   ]
  },
  {
   "cell_type": "code",
   "execution_count": 25,
   "metadata": {
    "colab": {
     "base_uri": "https://localhost:8080/"
    },
    "id": "a9_C7ONNfrYv",
    "outputId": "a7d721f4-fd52-41e1-a2a0-377beecbf6b9"
   },
   "outputs": [],
   "source": [
    "from keras.models import save_model\n",
    "\n",
    "# 모델 전체를 'model.h5' 파일로 저장\n",
    "save_model(model, 'model.h5')\n",
    "\n",
    "# 모델의 구조를 JSON 문자열로 반환-모델을 구성하는 각 레이어의 구성과 설정이 포함\n",
    "with open('trained_model.json', 'w') as trained_model_json:\n",
    "    trained_model_json.write(model.to_json())\n",
    "\n",
    "# 모델 구조 로드하기\n",
    "with open('trained_model.json', 'r') as trained_model_json:\n",
    "    trained_model_json = trained_model_json.read()\n",
    "\n",
    "# 모델 가중치 저장하기\n",
    "save_model(model, './weights_emotions.hdf5')\n",
    "\n",
    "# Load the trained model & weights\n",
    "model = tf.keras.models.model_from_json(trained_model_json)\n",
    "model.load_weights('./weights_emotions.hdf5')"
   ]
  },
  {
   "cell_type": "markdown",
   "metadata": {
    "id": "YGthWpWkghdG"
   },
   "source": [
    "## 7.실제 이미지로 분류하기 - 사전 학습된 모델 사용"
   ]
  },
  {
   "cell_type": "code",
   "execution_count": 18,
   "metadata": {
    "colab": {
     "base_uri": "https://localhost:8080/"
    },
    "executionInfo": {
     "elapsed": 4220,
     "status": "ok",
     "timestamp": 1736493558152,
     "user": {
      "displayName": "강희숙",
      "userId": "05520711596090317319"
     },
     "user_tz": -540
    },
    "id": "NmXQv2oecK3D",
    "outputId": "a105c246-b660-4d51-8ac5-9fa65c14f251"
   },
   "outputs": [
    {
     "name": "stdout",
     "output_type": "stream",
     "text": [
      "Downloading...\n",
      "From: https://drive.google.com/uc?id=1YT-S4qnWprl2Nd6GdDsfI5S-Fot9jEXl\n",
      "To: /content/happy_face.jpg\n",
      "\r  0% 0.00/138k [00:00<?, ?B/s]\r100% 138k/138k [00:00<00:00, 4.49MB/s]\n"
     ]
    }
   ],
   "source": [
    "# 테스트할 이미지 파일 다운로드하기\n",
    "!gdown 1YT-S4qnWprl2Nd6GdDsfI5S-Fot9jEXl"
   ]
  },
  {
   "cell_type": "code",
   "execution_count": 26,
   "metadata": {
    "colab": {
     "base_uri": "https://localhost:8080/",
     "height": 1000
    },
    "id": "-Ki1UZgHeqUe",
    "outputId": "aae22b13-7c08-4380-99c4-ddc46f44b135"
   },
   "outputs": [
    {
     "ename": "error",
     "evalue": "OpenCV(4.11.0) D:\\a\\opencv-python\\opencv-python\\opencv\\modules\\imgproc\\src\\color.cpp:199: error: (-215:Assertion failed) !_src.empty() in function 'cv::cvtColor'\n",
     "output_type": "error",
     "traceback": [
      "\u001b[1;31m---------------------------------------------------------------------------\u001b[0m",
      "\u001b[1;31merror\u001b[0m                                     Traceback (most recent call last)",
      "Cell \u001b[1;32mIn[26], line 9\u001b[0m\n\u001b[0;32m      3\u001b[0m \u001b[38;5;66;03m#from google.colab.patches import cv2_imshow # colab에서 이미지를 출력하기 위한 함수\u001b[39;00m\n\u001b[0;32m      4\u001b[0m \u001b[38;5;66;03m# cv2_imshow()는 colab에서 이미지를 출력하기 위한 함수\u001b[39;00m\n\u001b[0;32m      5\u001b[0m \u001b[38;5;66;03m#cv2_imshow(image)\u001b[39;00m\n\u001b[0;32m      7\u001b[0m img \u001b[38;5;241m=\u001b[39m cv2\u001b[38;5;241m.\u001b[39mimread(\u001b[38;5;124m'\u001b[39m\u001b[38;5;124mhappy_face.jpg\u001b[39m\u001b[38;5;124m'\u001b[39m)\n\u001b[1;32m----> 9\u001b[0m img \u001b[38;5;241m=\u001b[39m \u001b[43mcv2\u001b[49m\u001b[38;5;241;43m.\u001b[39;49m\u001b[43mcvtColor\u001b[49m\u001b[43m(\u001b[49m\u001b[43mimg\u001b[49m\u001b[43m,\u001b[49m\u001b[43m \u001b[49m\u001b[43mcv2\u001b[49m\u001b[38;5;241;43m.\u001b[39;49m\u001b[43mCOLOR_BGR2RGB\u001b[49m\u001b[43m)\u001b[49m  \u001b[38;5;66;03m# OpenCV는 BGR 형식으로 이미지를 읽기 때문에 RGB로 변환\u001b[39;00m\n\u001b[0;32m     11\u001b[0m plt\u001b[38;5;241m.\u001b[39mimshow(img)\n\u001b[0;32m     12\u001b[0m plt\u001b[38;5;241m.\u001b[39mshow()\n",
      "\u001b[1;31merror\u001b[0m: OpenCV(4.11.0) D:\\a\\opencv-python\\opencv-python\\opencv\\modules\\imgproc\\src\\color.cpp:199: error: (-215:Assertion failed) !_src.empty() in function 'cv::cvtColor'\n"
     ]
    }
   ],
   "source": [
    "import cv2\n",
    "import matplotlib.pyplot as plt\n",
    "#from google.colab.patches import cv2_imshow # colab에서 이미지를 출력하기 위한 함수\n",
    "# cv2_imshow()는 colab에서 이미지를 출력하기 위한 함수\n",
    "#cv2_imshow(image)\n",
    "\n",
    "img = cv2.imread('happy_face.jpg')\n",
    "\n",
    "img = cv2.cvtColor(img, cv2.COLOR_BGR2RGB)  # OpenCV는 BGR 형식으로 이미지를 읽기 때문에 RGB로 변환\n",
    "\n",
    "plt.imshow(img)\n",
    "plt.show()"
   ]
  },
  {
   "cell_type": "markdown",
   "metadata": {
    "id": "EiU-8r76dQBd"
   },
   "source": [
    "### **`mmod_human_face_detector.dat`** : Dlib 라이브러리에서 사용되는, 얼굴 인식을 위한 딥러닝 모델 파일\n",
    "- Dlib은 컴퓨터 비전과 머신 러닝을 위한 C++ 라이브러리이며, Python 바인딩을 통해 Python에서도 사용할 수 있습니다.\n",
    "- `mmod_human_face_detector.dat` 파일은 특히 Dlib의 최대 마진 객체 감지(Max-Margin Object Detection, MMOD) 알고리즘을 사용한 인간 얼굴 감지 모델을 포함하고 있습니다.\n",
    "- https://github.com/justadudewhohacks/face-recognition.js-models/blob/master/models/mmod_human_face_detector.dat\n",
    "\n",
    "- MMOD는 딥러닝 기반의 객체 감지 알고리즘 중 하나로, 각 객체에 대해 손실 함수를 최소화하는 방식으로 동작합니다. 이 알고리즘은 특히 작은 데이터 세트에서도 높은 성능을 낼 수 있도록 설계되었으며, 객체 감지 모델을 학습시킬 때 사용됩니다. MMOD는 객체 감지 문제를 학습 문제로 변환하여, 특정 객체(여기서는 인간의 얼굴)를 이미지에서 정확하게 찾아내도록 합니다.\n",
    "\n",
    "`mmod_human_face_detector.dat` 파일은 Dlib 라이브러리를 사용하여 얼굴 감지 기능을 구현할 때 필요한 사전 학습된 모델이며, 특정 어플리케이션에 적용하여 얼굴 감지 기능을 신속하게 구현할 수 있도록 해줍니다."
   ]
  },
  {
   "cell_type": "code",
   "execution_count": null,
   "metadata": {
    "colab": {
     "base_uri": "https://localhost:8080/"
    },
    "id": "goZtIjPTnxhE",
    "outputId": "42c10538-5b53-4d9d-8a3d-8067db3a9a19"
   },
   "outputs": [
    {
     "name": "stdout",
     "output_type": "stream",
     "text": [
      "Downloading...\n",
      "From: https://drive.google.com/uc?id=1nRnLt6Y2p85sudWohdGYPsLWHa6vryF9\n",
      "To: /content/mmod_human_face_detector.dat\n",
      "\r  0% 0.00/730k [00:00<?, ?B/s]\r100% 730k/730k [00:00<00:00, 135MB/s]\n"
     ]
    }
   ],
   "source": [
    "# 사전 훈련된 모델 다운로드하기 - mmod_human_face_detector.dat\n",
    "!gdown 1nRnLt6Y2p85sudWohdGYPsLWHa6vryF9"
   ]
  },
  {
   "cell_type": "code",
   "execution_count": null,
   "metadata": {
    "colab": {
     "base_uri": "https://localhost:8080/"
    },
    "id": "UgHqttutfg01",
    "outputId": "eb1651b6-996d-4a9e-cfa6-28f85d9dcb00"
   },
   "outputs": [
    {
     "data": {
      "text/plain": [
       "mmod_rectangles[[(426, 491) (849, 913)]]"
      ]
     },
     "execution_count": 36,
     "metadata": {},
     "output_type": "execute_result"
    }
   ],
   "source": [
    "!pip install dlib\n",
    "\n",
    "import dlib\n",
    "face_detector = dlib.cnn_face_detection_model_v1('mmod_human_face_detector.dat')\n",
    "\n",
    "face_detection = face_detector(img, 1)\n",
    "face_detection"
   ]
  },
  {
   "cell_type": "code",
   "execution_count": null,
   "metadata": {
    "colab": {
     "base_uri": "https://localhost:8080/",
     "height": 439
    },
    "id": "YzekPTgjfqOW",
    "outputId": "079a53ce-ef71-47c2-e8c7-c3f56536edba"
   },
   "outputs": [
    {
     "data": {
      "image/png": "[encoded data removed]",
      "text/plain": [
       "<PIL.Image.Image image mode=RGB size=423x422>"
      ]
     },
     "metadata": {},
     "output_type": "display_data"
    }
   ],
   "source": [
    "left, top, right, bottom = face_detection[0].rect.left(), face_detection[0].rect.top(), face_detection[0].rect.right(), face_detection[0].rect.bottom()\n",
    "\n",
    "roi = img[top:bottom, left:right]\n",
    "\n",
    "plt.imshow(roi)"
   ]
  },
  {
   "cell_type": "code",
   "execution_count": null,
   "metadata": {
    "colab": {
     "base_uri": "https://localhost:8080/"
    },
    "id": "KWTJ7b_4gDcj",
    "outputId": "937959d0-1755-4906-ab1c-c1cd3aa4c6ac"
   },
   "outputs": [
    {
     "data": {
      "text/plain": [
       "(422, 423, 3)"
      ]
     },
     "execution_count": 38,
     "metadata": {},
     "output_type": "execute_result"
    }
   ],
   "source": [
    "roi.shape"
   ]
  },
  {
   "cell_type": "code",
   "execution_count": null,
   "metadata": {
    "colab": {
     "base_uri": "https://localhost:8080/"
    },
    "id": "Doby7tlEgGb9",
    "outputId": "9ed6d333-6a5d-4897-f9ed-f2b9095bf967"
   },
   "outputs": [
    {
     "data": {
      "text/plain": [
       "(48, 48, 3)"
      ]
     },
     "execution_count": 39,
     "metadata": {},
     "output_type": "execute_result"
    }
   ],
   "source": [
    "# Resize image - 학습데이터와 사이즈 맞추기\n",
    "roi = cv2.resize(roi, (48, 48))\n",
    "\n",
    "roi.shape"
   ]
  },
  {
   "cell_type": "code",
   "execution_count": null,
   "metadata": {
    "id": "marZK2cYgWSS"
   },
   "outputs": [],
   "source": [
    "# Normalize\n",
    "roi = roi / 255"
   ]
  },
  {
   "cell_type": "code",
   "execution_count": null,
   "metadata": {
    "colab": {
     "base_uri": "https://localhost:8080/"
    },
    "id": "mZ6zvttdgfYs",
    "outputId": "05acde46-1da0-4546-b7fc-dfb895944d56"
   },
   "outputs": [
    {
     "data": {
      "text/plain": [
       "(1, 48, 48, 3)"
      ]
     },
     "execution_count": 41,
     "metadata": {},
     "output_type": "execute_result"
    }
   ],
   "source": [
    "import numpy as np\n",
    "# CNN 모델은 4차원 배열로 변환하여 모델에 입력해야하므로 차원 변경\n",
    "roi = np.expand_dims(roi, axis=0)   # axis=0은 배열의 가장 앞에 차원을 추가\n",
    "roi.shape"
   ]
  },
  {
   "cell_type": "code",
   "execution_count": null,
   "metadata": {
    "colab": {
     "base_uri": "https://localhost:8080/"
    },
    "id": "9PpMv1MJgwLN",
    "outputId": "f25b12b4-20c6-4275-e25c-da1365e27685"
   },
   "outputs": [
    {
     "name": "stdout",
     "output_type": "stream",
     "text": [
      "1/1 [==============================] - 0s 220ms/step\n"
     ]
    },
    {
     "data": {
      "text/plain": [
       "array([[4.0667625e-03, 2.8914484e-04, 4.9230363e-03, 9.4906229e-01,\n",
       "        2.0446055e-02, 8.5001951e-03, 1.2712465e-02]], dtype=float32)"
      ]
     },
     "execution_count": 42,
     "metadata": {},
     "output_type": "execute_result"
    }
   ],
   "source": [
    "# from tensorflow.keras.models import load_model\n",
    "# # Load the saved model\n",
    "# model = load_model('model.h5')\n",
    "\n",
    "pred_probability = model.predict(roi)\n",
    "pred_probability"
   ]
  },
  {
   "cell_type": "code",
   "execution_count": null,
   "metadata": {
    "colab": {
     "base_uri": "https://localhost:8080/"
    },
    "id": "wTrt3HNSg2rq",
    "outputId": "455d6701-ebcc-49cf-8242-08c96315a60d"
   },
   "outputs": [
    {
     "data": {
      "text/plain": [
       "3"
      ]
     },
     "execution_count": 43,
     "metadata": {},
     "output_type": "execute_result"
    }
   ],
   "source": [
    "pred = np.argmax(pred_probability)\n",
    "pred"
   ]
  },
  {
   "cell_type": "markdown",
   "metadata": {
    "id": "R9BTILm6IExH"
   },
   "source": [
    "# **[이미지 증강방식 사용 안하는 방식]**"
   ]
  },
  {
   "cell_type": "code",
   "execution_count": null,
   "metadata": {
    "id": "U4QfCWWNIO4l"
   },
   "outputs": [],
   "source": [
    "import os\n",
    "import cv2\n",
    "import numpy as np\n",
    "from sklearn.model_selection import train_test_split\n",
    "from tensorflow.keras.utils import to_categorical\n",
    "from matplotlib import pyplot as plt\n",
    "\n",
    "# 1.데이터셋 준비하기\n",
    "# 데이터셋 디렉토리 경로 설정\n",
    "dataset_directory = './fer2013'\n",
    "\n",
    "# 클래스 이름 및 데이터 로딩\n",
    "class_names = ['angry', 'disgust', 'fear', 'happy', 'neutral', 'sad', 'surprise']\n",
    "image_data = []\n",
    "labels = []\n",
    "\n",
    "for class_name in class_names:\n",
    "    class_folder = os.path.join(dataset_directory, 'train', class_name)\n",
    "    for image_name in os.listdir(class_folder):\n",
    "        image_path = os.path.join(class_folder, image_name)\n",
    "        image = cv2.imread(image_path)  # 그레이스케일로 읽기\n",
    "        image = cv2.resize(image, (48, 48))  # 이미지 크기 조정\n",
    "        image_data.append(image)\n",
    "        labels.append(class_names.index(class_name))\n",
    "\n",
    "# 데이터를 NumPy 배열로 변환 및 레이블 One-Hot 인코딩\n",
    "image_data = np.array(image_data)\n",
    "image_data = np.expand_dims(image_data, axis=-1)  # Conv2D에 맞게 차원 확장\n",
    "labels = to_categorical(labels, num_classes=len(class_names))\n"
   ]
  },
  {
   "cell_type": "code",
   "execution_count": null,
   "metadata": {
    "colab": {
     "base_uri": "https://localhost:8080/"
    },
    "id": "xLehJ5DLIVKT",
    "outputId": "a2bd9f6f-e261-407f-89ff-a9f0a7338464"
   },
   "outputs": [
    {
     "name": "stdout",
     "output_type": "stream",
     "text": [
      "Epoch 1/10\n",
      "898/898 [==============================] - 20s 15ms/step - loss: 1.7606 - accuracy: 0.3331\n",
      "Epoch 2/10\n",
      "898/898 [==============================] - 13s 15ms/step - loss: 1.3747 - accuracy: 0.4740\n",
      "Epoch 3/10\n",
      "898/898 [==============================] - 17s 19ms/step - loss: 1.2561 - accuracy: 0.5203\n",
      "Epoch 4/10\n",
      "898/898 [==============================] - 14s 16ms/step - loss: 1.1868 - accuracy: 0.5517\n",
      "Epoch 5/10\n",
      "898/898 [==============================] - 13s 15ms/step - loss: 1.1244 - accuracy: 0.5782\n",
      "Epoch 6/10\n",
      "898/898 [==============================] - 13s 15ms/step - loss: 1.0765 - accuracy: 0.5964\n",
      "Epoch 7/10\n",
      "898/898 [==============================] - 16s 17ms/step - loss: 1.0346 - accuracy: 0.6143\n",
      "Epoch 8/10\n",
      "898/898 [==============================] - 17s 19ms/step - loss: 0.9746 - accuracy: 0.6347\n",
      "Epoch 9/10\n",
      "898/898 [==============================] - 18s 20ms/step - loss: 0.9472 - accuracy: 0.6499\n",
      "Epoch 10/10\n",
      "898/898 [==============================] - 14s 16ms/step - loss: 0.8731 - accuracy: 0.6767\n"
     ]
    },
    {
     "data": {
      "text/plain": [
       "<keras.src.callbacks.History at 0x7894389df280>"
      ]
     },
     "execution_count": 59,
     "metadata": {},
     "output_type": "execute_result"
    }
   ],
   "source": [
    "#모델 구성 및 컴파일 (이전과 동일)\n",
    "from tensorflow.keras.models import Sequential\n",
    "from tensorflow.keras.layers import Dense, Dropout, Conv2D, MaxPooling2D, Flatten, BatchNormalization\n",
    "\n",
    "num_classes = 7\n",
    "num_detectors = 32\n",
    "width, height = 48, 48\n",
    "\n",
    "model2 = Sequential()\n",
    "\n",
    "model2.add(Conv2D(filters=num_detectors, kernel_size=3, activation='relu', padding='same', input_shape=(width, height, 3)))\n",
    "model2.add(BatchNormalization())\n",
    "model2.add(Conv2D(filters=num_detectors, kernel_size=3, activation='relu', padding='same'))\n",
    "model2.add(BatchNormalization())\n",
    "model2.add(MaxPooling2D(pool_size=(2, 2)))\n",
    "model2.add(Dropout(0.2))\n",
    "\n",
    "model2.add(Conv2D(2*num_detectors, 3, activation='relu', padding='same'))\n",
    "model2.add(BatchNormalization())\n",
    "model2.add(Conv2D(2*num_detectors, 3, activation='relu', padding='same'))\n",
    "model2.add(BatchNormalization())\n",
    "model2.add(MaxPooling2D(pool_size=(2, 2)))\n",
    "model2.add(Dropout(0.2))\n",
    "\n",
    "model2.add(Conv2D(2*2*num_detectors, 3, activation='relu', padding='same'))\n",
    "model2.add(BatchNormalization())\n",
    "model2.add(Conv2D(2*2*num_detectors, 3, activation='relu', padding='same'))\n",
    "model2.add(BatchNormalization())\n",
    "model2.add(MaxPooling2D(pool_size=(2, 2)))\n",
    "model2.add(Dropout(0.2))\n",
    "\n",
    "model2.add(Flatten())\n",
    "\n",
    "model2.add(Dense(2*2*num_detectors, activation='relu'))\n",
    "model2.add(BatchNormalization())\n",
    "model2.add(Dropout(0.2))\n",
    "\n",
    "model2.add(Dense(2*num_detectors, activation='relu'))\n",
    "model2.add(BatchNormalization())\n",
    "model2.add(Dropout(0.2))\n",
    "\n",
    "model2.add(Dense(num_classes, activation='softmax'))\n",
    "\n",
    "model2.compile(optimizer='Adam', loss='categorical_crossentropy', metrics=['accuracy'])\n",
    "\n",
    "#모델 학습\n",
    "epochs = 10\n",
    "model2.fit(image_data, labels, epochs=epochs)"
   ]
  },
  {
   "cell_type": "code",
   "execution_count": null,
   "metadata": {
    "id": "XByOZLR83eiB"
   },
   "outputs": [],
   "source": [
    "# 클래스 이름 및 데이터 로딩\n",
    "class_names = ['angry', 'disgust', 'fear', 'happy', 'neutral', 'sad', 'surprise']\n",
    "test_image_data = []\n",
    "test_labels = []\n",
    "\n",
    "for class_name in class_names:\n",
    "    class_folder = os.path.join(dataset_directory, 'test', class_name)\n",
    "    for image_name in os.listdir(class_folder):\n",
    "        image_path = os.path.join(class_folder, image_name)\n",
    "        image = cv2.imread(image_path)  # 그레이스케일로 읽기\n",
    "        image = cv2.resize(image, (48, 48))  # 이미지 크기 조정\n",
    "        test_image_data.append(image)\n",
    "        test_labels.append(class_names.index(class_name))\n",
    "\n",
    "# 데이터를 NumPy 배열로 변환 및 레이블 One-Hot 인코딩\n",
    "test_image_data = np.array(test_image_data)\n",
    "test_image_data = np.expand_dims(test_image_data, axis=-1)  # Conv2D에 맞게 차원 확장\n",
    "test_labels = to_categorical(test_labels, num_classes=len(class_names))"
   ]
  },
  {
   "cell_type": "code",
   "execution_count": null,
   "metadata": {
    "colab": {
     "base_uri": "https://localhost:8080/",
     "height": 1000
    },
    "id": "OSp6L7KQ1vUJ",
    "outputId": "7a6cca8d-c94c-4c6e-dbb9-48676f1a8503"
   },
   "outputs": [
    {
     "name": "stdout",
     "output_type": "stream",
     "text": [
      "225/225 [==============================] - 2s 8ms/step - loss: 1.0666 - accuracy: 0.6140\n",
      "Test Loss: 1.0666348934173584, Test Accuracy: 0.6139593124389648\n",
      "225/225 [==============================] - 1s 4ms/step\n"
     ]
    },
    {
     "data": {
      "image/png": "[encoded data removed]",
      "text/plain": [
       "<Figure size 500x300 with 1 Axes>"
      ]
     },
     "metadata": {},
     "output_type": "display_data"
    },
    {
     "data": {
      "image/png": "[encoded data removed]",
      "text/plain": [
       "<Figure size 500x300 with 1 Axes>"
      ]
     },
     "metadata": {},
     "output_type": "display_data"
    },
    {
     "data": {
      "image/png": "[encoded data removed]",
      "text/plain": [
       "<Figure size 500x300 with 1 Axes>"
      ]
     },
     "metadata": {},
     "output_type": "display_data"
    },
    {
     "data": {
      "image/png": "[encoded data removed]",
      "text/plain": [
       "<Figure size 500x300 with 1 Axes>"
      ]
     },
     "metadata": {},
     "output_type": "display_data"
    },
    {
     "data": {
      "image/png": "[encoded data removed]",
      "text/plain": [
       "<Figure size 500x300 with 1 Axes>"
      ]
     },
     "metadata": {},
     "output_type": "display_data"
    }
   ],
   "source": [
    "#모델 평가\n",
    "eval_result = model.evaluate(test_image_data, test_labels)\n",
    "print(\"Test Loss: {}, Test Accuracy: {}\".format(*eval_result))\n",
    "\n",
    "#테스트 데이터 예측 및 시각화\n",
    "preds = model.predict(test_image_data)\n",
    "preds_classes = np.argmax(preds, axis=1)\n",
    "y_test_classes = np.argmax(test_labels, axis=1)\n",
    "\n",
    "# 시각화할 이미지 개수\n",
    "num_images = 5\n",
    "samples_to_display = np.random.choice(test_image_data.shape[0], num_images, replace=False)\n",
    "\n",
    "# 테스트 데이터 중 일부 이미지 시각화\n",
    "for i, idx in enumerate(samples_to_display):\n",
    "    img = test_image_data[idx].squeeze()  # 차원 축소\n",
    "    true_label = y_test_classes[idx]\n",
    "    pred_label = preds_classes[idx]\n",
    "    plt.figure(figsize=(5, 3))\n",
    "    plt.imshow(img, cmap='gray')\n",
    "    plt.title(f\"True: {class_names[true_label]}, Pred: {class_names[pred_label]}\")\n",
    "    plt.axis('off')\n",
    "    plt.show()\n"
   ]
  }
 ],
 "metadata": {
  "accelerator": "GPU",
  "colab": {
   "gpuType": "T4",
   "provenance": []
  },
  "kernelspec": {
   "display_name": "pshgpu",
   "language": "python",
   "name": "python3"
  },
  "language_info": {
   "codemirror_mode": {
    "name": "ipython",
    "version": 3
   },
   "file_extension": ".py",
   "mimetype": "text/x-python",
   "name": "python",
   "nbconvert_exporter": "python",
   "pygments_lexer": "ipython3",
   "version": "3.10.16"
  }
 },
 "nbformat": 4,
 "nbformat_minor": 0
}
