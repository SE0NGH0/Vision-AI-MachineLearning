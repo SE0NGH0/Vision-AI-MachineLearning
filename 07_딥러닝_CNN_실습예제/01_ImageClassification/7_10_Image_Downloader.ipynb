{
  "cells": [
    {
      "cell_type": "markdown",
      "id": "AUyMxkTDQcrM",
      "metadata": {
        "id": "AUyMxkTDQcrM"
      },
      "source": [
        "# 1.관련 모듈 설치"
      ]
    },
    {
      "cell_type": "code",
      "execution_count": 1,
      "id": "b6d1339b",
      "metadata": {
        "colab": {
          "base_uri": "https://localhost:8080/"
        },
        "id": "b6d1339b",
        "outputId": "a0f7eec8-b1aa-4f84-d295-b4b1489f1717"
      },
      "outputs": [
        {
          "name": "stdout",
          "output_type": "stream",
          "text": [
            "Collecting bing_image_downloader\n",
            "  Downloading bing_image_downloader-1.1.2-py3-none-any.whl.metadata (2.8 kB)\n",
            "Downloading bing_image_downloader-1.1.2-py3-none-any.whl (5.9 kB)\n",
            "Installing collected packages: bing_image_downloader\n",
            "Successfully installed bing_image_downloader-1.1.2\n"
          ]
        }
      ],
      "source": [
        "# Bing Image Downloader 패키기 설치하기\n",
        "!pip install bing_image_downloader"
      ]
    },
    {
      "cell_type": "markdown",
      "id": "uHnOCv9vQgWS",
      "metadata": {
        "id": "uHnOCv9vQgWS"
      },
      "source": [
        "# 2.관련 모듈 import"
      ]
    },
    {
      "cell_type": "code",
      "execution_count": 2,
      "id": "-g7Qp87aQiZ7",
      "metadata": {
        "id": "-g7Qp87aQiZ7"
      },
      "outputs": [],
      "source": [
        "# 다운로드할 이미지 키워드와 개수 지정하여 다운로드하기\n",
        "from bing_image_downloader import downloader\n",
        "import os"
      ]
    },
    {
      "cell_type": "markdown",
      "id": "TXxYaWx5QkJI",
      "metadata": {
        "id": "TXxYaWx5QkJI"
      },
      "source": [
        "# 3.이미지 데이터 수집"
      ]
    },
    {
      "cell_type": "code",
      "execution_count": 3,
      "id": "8921a8b6",
      "metadata": {
        "colab": {
          "base_uri": "https://localhost:8080/"
        },
        "id": "8921a8b6",
        "outputId": "98ad880f-6926-4703-8560-2d34f4eb230b"
      },
      "outputs": [
        {
          "name": "stdout",
          "output_type": "stream",
          "text": [
            "[%] Downloading Images to c:\\Users\\intel09\\Documents\\07_딥러닝_CNN_실습예제\\07_딥러닝_CNN_실습예제\\01_ImageClassification\\노란바나나\n",
            "\n",
            "\n",
            "[!!]Indexing page: 1\n",
            "\n",
            "[%] Indexed 5 Images on Page 1.\n",
            "\n",
            "===============================================\n",
            "\n",
            "[%] Downloading Image #1 from https://png.pngtree.com/png-clipart/20220726/original/pngtree-banana-yellow-fruit-banana-skewers-png-image_8413319.png\n",
            "[%] File Downloaded !\n",
            "\n",
            "[%] Downloading Image #2 from https://pixnio.com/free-images/2018/12/08/2018-12-08-16-01-13-1200x900.jpg\n",
            "[%] File Downloaded !\n",
            "\n",
            "[%] Downloading Image #3 from https://pixnio.com/free-images/2018/12/08/2018-12-08-16-00-55-1200x800.jpg\n",
            "[%] File Downloaded !\n",
            "\n",
            "[%] Downloading Image #4 from https://i.ytimg.com/vi/5dIHIas4nMw/maxres2.jpg?sqp=-oaymwEoCIAKENAF8quKqQMcGADwAQH4AbYIgAKAD4oCDAgAEAEYNCBlKD0wDw==&amp;rs=AOn4CLCmPtLBA9tidkBNWAF6ljs97FXUtA\n",
            "[%] File Downloaded !\n",
            "\n",
            "[%] Downloading Image #5 from https://i.ytimg.com/vi/lA_JYUapn68/maxresdefault.jpg?sqp=-oaymwEoCIAKENAF8quKqQMcGADwAQH4AbYIgALGCooCDAgAEAEYciBeKCgwDw==&amp;rs=AOn4CLAwV7taPVWmGU4tifBeL3zthFU3Tg\n",
            "[%] File Downloaded !\n",
            "\n",
            "\n",
            "\n",
            "[%] Done. Downloaded 5 images.\n"
          ]
        }
      ],
      "source": [
        "keywords = input(\"검색할 이미지 키워드를 입력하세요 (예: 노란바나나) => \")\n",
        "limit = int(input(\"다운로드할 이미지의 개수를 입력하세요 =>  \"))\n",
        "\n",
        "# 현재 디렉토리의 절대 경로 가져오기\n",
        "current_directory = os.path.abspath('.')\n",
        "\n",
        "# 다운로드 정보 기록\n",
        "record = {\n",
        "    \"keywords\": keywords,\n",
        "    \"limit\": limit\n",
        "}\n",
        "\n",
        "# 이미지 다운로드 실행\n",
        "downloader.download(\n",
        "    record['keywords'],\n",
        "    limit=record['limit'],\n",
        "    output_dir=current_directory,  # 현재 디렉토리를 다운로드 경로로 설정\n",
        "    adult_filter_off=True,\n",
        "    force_replace=False,\n",
        "    timeout=60\n",
        ")"
      ]
    },
    {
      "cell_type": "markdown",
      "id": "45044d0e",
      "metadata": {
        "id": "45044d0e"
      },
      "source": [
        "## < 연습문제>\n",
        "- 여러개의 이미지를 다운로드 하는 코드를 작성해 보세요\n",
        "    - 입력 : 몇세트를 다운로드할지, 검색이미지 키워드, 다운로드할 이미지 개수\n",
        "    - 다운로드 : 현재 디렉토리 > data 폴더 > 검색키워드 폴더 하위에 다운로드"
      ]
    },
    {
      "cell_type": "code",
      "execution_count": 4,
      "id": "be362b93",
      "metadata": {
        "id": "be362b93",
        "outputId": "5329f8be-6345-4aed-c8b7-fa297b54dbb7"
      },
      "outputs": [
        {
          "name": "stdout",
          "output_type": "stream",
          "text": [
            "[1/3] '고양이' 이미지 5장 다운로드를 시작합니다 → 폴더: 고양이_1\n",
            "[%] Downloading Images to c:\\Users\\intel09\\Documents\\07_딥러닝_CNN_실습예제\\07_딥러닝_CNN_실습예제\\01_ImageClassification\\고양이_1\\고양이\n",
            "\n",
            "\n",
            "[!!]Indexing page: 1\n",
            "\n",
            "[%] Indexed 5 Images on Page 1.\n",
            "\n",
            "===============================================\n",
            "\n",
            "[%] Downloading Image #1 from https://images-cdn.newspic.kr/thumb3/2024/04/13/846bd84e-893e-4aa3-abc1-8e8a4789058a.jpg\n",
            "[%] File Downloaded !\n",
            "\n",
            "[%] Downloading Image #2 from https://cdn.cashfeed.co.kr/post/6255447/thumbnail/74e3d989f4.jpeg\n",
            "[%] File Downloaded !\n",
            "\n",
            "[%] Downloading Image #3 from https://i.ytimg.com/vi/rJUgc0O9e0c/maxresdefault.jpg\n",
            "[%] File Downloaded !\n",
            "\n",
            "[%] Downloading Image #4 from https://i.ytimg.com/vi/qCq-V6qDqu4/maxresdefault.jpg\n",
            "[%] File Downloaded !\n",
            "\n",
            "[%] Downloading Image #5 from https://i.ytimg.com/vi/luHcXIdfsQU/maxresdefault.jpg\n",
            "[%] File Downloaded !\n",
            "\n",
            "\n",
            "\n",
            "[%] Done. Downloaded 5 images.\n",
            "  → 완료: 고양이_1 폴더에 5장 저장\n",
            "\n",
            "[2/3] '강아지' 이미지 5장 다운로드를 시작합니다 → 폴더: 강아지_2\n",
            "[%] Downloading Images to c:\\Users\\intel09\\Documents\\07_딥러닝_CNN_실습예제\\07_딥러닝_CNN_실습예제\\01_ImageClassification\\강아지_2\\강아지\n",
            "\n",
            "\n",
            "[!!]Indexing page: 1\n",
            "\n",
            "[%] Indexed 20 Images on Page 1.\n",
            "\n",
            "===============================================\n",
            "\n",
            "[%] Downloading Image #1 from http://image.ytn.co.kr/general/jpg/2017/1018/201710181100063682_d.jpg\n",
            "[%] File Downloaded !\n",
            "\n",
            "[%] Downloading Image #2 from https://images-cdn.newspic.kr/thumb3/2023/12/28/92149db1-b2c9-41df-b7a3-1db9486f39c2.jpg\n",
            "[%] File Downloaded !\n",
            "\n",
            "[%] Downloading Image #3 from http://wallpapercave.com/wp/4y90DXj.jpg\n",
            "[%] File Downloaded !\n",
            "\n",
            "[%] Downloading Image #4 from https://i.ytimg.com/vi/v2u5P4ks5xM/maxresdefault.jpg\n",
            "[%] File Downloaded !\n",
            "\n",
            "[%] Downloading Image #5 from https://1funny.com/wp-content/uploads/2010/10/cute-puppy.jpg\n",
            "[%] File Downloaded !\n",
            "\n",
            "\n",
            "\n",
            "[%] Done. Downloaded 5 images.\n",
            "  → 완료: 강아지_2 폴더에 5장 저장\n",
            "\n",
            "[3/3] '상어' 이미지 5장 다운로드를 시작합니다 → 폴더: 상어_3\n",
            "[%] Downloading Images to c:\\Users\\intel09\\Documents\\07_딥러닝_CNN_실습예제\\07_딥러닝_CNN_실습예제\\01_ImageClassification\\상어_3\\상어\n",
            "\n",
            "\n",
            "[!!]Indexing page: 1\n",
            "\n",
            "[%] Indexed 5 Images on Page 1.\n",
            "\n",
            "===============================================\n",
            "\n",
            "[%] Downloading Image #1 from https://lh3.googleusercontent.com/XT6YYqiaqI4AsHSiBqTFfHkDXy_kuTgq7CCC_Gdk7rDxPPBpyMUtp-2Es6XlgB1dE9WL22SHTuRbDof2VQ\n",
            "[%] File Downloaded !\n",
            "\n",
            "[%] Downloading Image #2 from https://i.ytimg.com/vi/CR3p5yHNlRk/maxresdefault.jpg\n",
            "[%] File Downloaded !\n",
            "\n",
            "[%] Downloading Image #3 from https://i.ytimg.com/vi/9Gu-gO4WqhE/maxresdefault.jpg\n",
            "[%] File Downloaded !\n",
            "\n",
            "[%] Downloading Image #4 from https://i.ytimg.com/vi/c9WpeyrfweY/maxresdefault.jpg\n",
            "[%] File Downloaded !\n",
            "\n",
            "[%] Downloading Image #5 from http://animal.memozee.com/ArchOLD-2/1105972918-m.jpg\n",
            "[%] File Downloaded !\n",
            "\n",
            "\n",
            "\n",
            "[%] Done. Downloaded 5 images.\n",
            "  → 완료: 상어_3 폴더에 5장 저장\n",
            "\n"
          ]
        }
      ],
      "source": [
        "# code here\n",
        "# 몇 세트를 다운로드할지 묻기\n",
        "sets = int(input(\"몇 개의 이미지 세트를 다운로드 할까요? => \"))\n",
        "\n",
        "for i in range(1, sets + 1):\n",
        "    # 각 세트별 키워드와 개수 입력\n",
        "    keywords = input(\"검색할 이미지 키워드를 입력하세요 (예: 노란 바나나) => \")\n",
        "    limit    = int(input(\"다운로드할 이미지의 개수를 입력하세요 => \"))\n",
        "\n",
        "    # 세트 번호를 붙인 폴더명 (예: 토끼_1, 고양이_2, …)\n",
        "    save_folder = f\"{keywords}_{i}\"\n",
        "\n",
        "    print(f\"[{i}/{sets}] '{keywords}' 이미지 {limit}장 다운로드를 시작합니다 → 폴더: {save_folder}\")\n",
        "    downloader.download(\n",
        "        keywords,          # 검색어\n",
        "        limit=limit,       # 다운로드할 이미지 장수\n",
        "        output_dir=save_folder,  # 저장할 최상위 폴더\n",
        "        adult_filter_off=True,   # 성인 필터 해제\n",
        "        force_replace=False,     # 폴더가 있으면 덮어쓰지 않음\n",
        "        timeout=60               # 타임아웃(초)\n",
        "    )\n",
        "    print(f\"  → 완료: {save_folder} 폴더에 {limit}장 저장\\n\")"
      ]
    }
  ],
  "metadata": {
    "colab": {
      "provenance": []
    },
    "kernelspec": {
      "display_name": "pshgpu",
      "language": "python",
      "name": "python3"
    },
    "language_info": {
      "codemirror_mode": {
        "name": "ipython",
        "version": 3
      },
      "file_extension": ".py",
      "mimetype": "text/x-python",
      "name": "python",
      "nbconvert_exporter": "python",
      "pygments_lexer": "ipython3",
      "version": "3.10.16"
    }
  },
  "nbformat": 4,
  "nbformat_minor": 5
}
