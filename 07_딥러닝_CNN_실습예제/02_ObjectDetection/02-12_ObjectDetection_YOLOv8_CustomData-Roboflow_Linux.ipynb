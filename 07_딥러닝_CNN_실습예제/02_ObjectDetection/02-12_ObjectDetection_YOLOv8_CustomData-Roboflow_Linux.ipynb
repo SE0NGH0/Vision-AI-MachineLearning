{
 "cells": [
  {
   "cell_type": "markdown",
   "metadata": {
    "id": "vA7qOmKF3M03"
   },
   "source": [
    "## **Custom Dataset로 Yolov8 재학습하여 객체 감지 예측하기**\n",
    "\n",
    "**< 진행 절차 >**\n",
    "1. Data 준비하기 : Custom Dataset Dataset으로 Yolov8 재학습(Fine Tuning)하는 경우에는 Image / Annotation 으로 이루어진 Dataset 준비\n",
    "    - Roboflow에서 제공하는 Training Dataset을 이용하거나 Labeling Tool 을 이용하여 개발자가 직접 Labeling 시킨 Image / Annotation으로 이루어진 Training Dataset을 구축해야함\n",
    "    - Custom Dataset 구축시 이미지 데이터와 정답데이터는 확장자를 제외한 파일 이름은 동일해야함\n",
    "    - Yolov8에서 annotation 파일 즉 정답 파일의 확장자는 반드시 .txt 여야 함         \n",
    "\n",
    "- 1) Roboflow 에서 Aquarium Dataset (custom data) 다운로드\n",
    "    - Colab 으로 데이터셋 업로드 : Roboflow(https://public.roboflow.com/)에서 제공하는 Dataset 로드하기\n",
    "- 2) yaml 파일 설정** (데이터셋 위치 알려주는 config file)\n",
    "    - 2-1) roboflow 에서 제공되는 data.yaml 파일 확인\n",
    "    - 2-2) custom data에 대한 yaml 파일 만들기\n",
    "    Yolov8으로 Custom Data를 학습하기 위해서는 YAML 파일이 반드시 필요. YAML 파일에는 다음 정보를 포함해야함\n",
    "        - 이미지와 정답이 저장되어 있는 디렉토리 정보\n",
    "        - 인식하고 싶은 클래스 종류와 대응대는 각각의 이름\n",
    "        - 형식 : 클래스번호 | x의 center 좌표|y의 center좌표| 너비 |높이  \n",
    "            - 전체 이미지의 width 와 height 값으로 나눈 비율값임\n",
    "\n",
    "2. ultralytics 패키지 설치하기\n",
    "```python\n",
    "    pip install ultralytics\n",
    "```\n",
    "3. 모델 객체 선언하고 학습하기\n",
    "```python\n",
    "    from ultralytics import YOLO\n",
    "    model = YOLO('yolov8n.pt')  #  model = YOLO('yolov8n-seg.pt')\n",
    "    model.train(data='mydata.yaml', epochs=10)\n",
    "```\n",
    "4. 객체 검출하기\n",
    "```python\n",
    "results = model.predict(source='/content/test/')\n",
    "```\n",
    "5. 결과 확인하기\n",
    "6. 결과 다운로드하기\n",
    "7. 학습된 모델 내보내기\n",
    "8. 웹캠에서 모델 사용하여 객체 검출하기"
   ]
  },
  {
   "cell_type": "markdown",
   "metadata": {
    "id": "jy2kdA9zRfWq"
   },
   "source": [
    "## **1. 데이터 준비하기(Custom Data 구축)**\n",
    "- Roboflow에서 제공하는 Training Dataset을 이용\n",
    "\n",
    "### 1) Roboflow 에서 Aquarium Dataset (custom data) 다운로드\n",
    "- Public Dataset : https://public.roboflow.com/object-detection/aquarium/2\n",
    "- Download Dataset > Export - Select Format : Yolov8, show download code 선택 후  continue 버튼 클릭 > Your Download Code - Raw URL 탭에서 주조 복사하기"
   ]
  },
  {
   "cell_type": "code",
   "execution_count": null,
   "metadata": {
    "colab": {
     "base_uri": "https://localhost:8080/"
    },
    "executionInfo": {
     "elapsed": 2733,
     "status": "ok",
     "timestamp": 1723612744262,
     "user": {
      "displayName": "강희숙",
      "userId": "05520711596090317319"
     },
     "user_tz": -540
    },
    "id": "ts3XxoBRaGxa",
    "outputId": "1e8b6335-a802-4336-e3ef-eea4f85051cd"
   },
   "outputs": [
    {
     "name": "stdout",
     "output_type": "stream",
     "text": [
      "Download complete: Aquarium_Data.zip\n"
     ]
    }
   ],
   "source": [
    "# Roboflow 에서 직접 다운로드\n",
    "# Linux에서 실행하는 경우 wget을 사용하여 다운로드합니다.\n",
    "# !wget -O Aquarium_Data.zip  https://public.roboflow.com/ds/7o8nkc5tC0?key=TflNDoBe5H\n",
    "\n",
    "# Windows에서 실행하는 경우 request 라이브러리를 사용하여 다운로드합니다.\n",
    "import requests\n",
    "\n",
    "url = \"https://public.roboflow.com/ds/7o8nkc5tC0?key=TflNDoBe5H\"\n",
    "output_path = \"Aquarium_Data.zip\"\n",
    "\n",
    "response = requests.get(url)\n",
    "with open(output_path, 'wb') as f:\n",
    "    f.write(response.content)\n",
    "\n",
    "print(\"Download complete:\", output_path)\n",
    "                "
   ]
  },
  {
   "cell_type": "markdown",
   "metadata": {
    "id": "Cl0qVp8_3XzI"
   },
   "source": [
    "- 압축파일 해제하기"
   ]
  },
  {
   "cell_type": "code",
   "execution_count": 6,
   "metadata": {
    "id": "CnJg5zyZaT-t"
   },
   "outputs": [],
   "source": [
    "import zipfile\n",
    "\n",
    "with zipfile.ZipFile('./Aquarium_Data.zip') as target_file:\n",
    "    target_file.extractall('./Aquarium_Data/')"
   ]
  },
  {
   "cell_type": "markdown",
   "metadata": {
    "id": "C4l2FIiJE1s7"
   },
   "source": [
    "## **2) yaml 파일 설정** (데이터셋 위치 알려주는 config file)\n",
    "- YAML : 데이터 표현 양식의 한 종류\n",
    "- 기본적으로 들여쓰기(indent)를 원칙으로하며 데이터는 Map(key-value)형식으로 작성\n",
    "\n",
    "### 2-1) roboflow 에서 제공되는 data.yaml 파일 확인"
   ]
  },
  {
   "cell_type": "code",
   "execution_count": null,
   "metadata": {
    "colab": {
     "base_uri": "https://localhost:8080/"
    },
    "executionInfo": {
     "elapsed": 475,
     "status": "ok",
     "timestamp": 1715223137913,
     "user": {
      "displayName": "강희숙",
      "userId": "05520711596090317319"
     },
     "user_tz": -540
    },
    "id": "Wmum2kbAj-h3",
    "outputId": "c848c58c-9ff0-4cb6-cef8-b2ca869edf43"
   },
   "outputs": [
    {
     "name": "stdout",
     "output_type": "stream",
     "text": [
      "train: ../train/images\n",
      "val: ../valid/images\n",
      "test: ../test/images\n",
      "\n",
      "nc: 7\n",
      "names: ['fish', 'jellyfish', 'penguin', 'puffin', 'shark', 'starfish', 'stingray']\n",
      "\n",
      "roboflow:\n",
      "  workspace: brad-dwyer\n",
      "  project: aquarium-combined\n",
      "  version: 2\n",
      "  license: CC BY 4.0\n",
      "  url: https://universe.roboflow.com/brad-dwyer/aquarium-combined/dataset/2\n"
     ]
    }
   ],
   "source": [
    "# Linux에서 실행하는 경우 \n",
    "#!cat ./Aquarium_Data/data.yaml\n",
    "\n",
    "# Windows에서 실행하는 경우\n",
    "with open('./Aquarium_Data/data.yaml', 'r') as f:\n",
    "    print(f.read())\n"
   ]
  },
  {
   "cell_type": "markdown",
   "metadata": {
    "id": "VWufTcd6cwcX"
   },
   "source": [
    "### 2-2) custom data에 대한 yaml 파일 만들기"
   ]
  },
  {
   "cell_type": "code",
   "execution_count": 13,
   "metadata": {
    "colab": {
     "base_uri": "https://localhost:8080/"
    },
    "executionInfo": {
     "elapsed": 7522,
     "status": "ok",
     "timestamp": 1715223213546,
     "user": {
      "displayName": "강희숙",
      "userId": "05520711596090317319"
     },
     "user_tz": -540
    },
    "id": "cYuCZ43kcmAz",
    "outputId": "c0cca55a-22ef-4509-f045-096704b0ea47"
   },
   "outputs": [
    {
     "name": "stdout",
     "output_type": "stream",
     "text": [
      "Requirement already satisfied: PyYAML in c:\\users\\khs\\anaconda3\\envs\\torch-gpu\\lib\\site-packages (6.0.2)\n"
     ]
    }
   ],
   "source": [
    "# 파이썬에서 YAML 파일을 사용하기 위해 PyYAML 라이브러리 설치\n",
    "!pip install PyYAML"
   ]
  },
  {
   "cell_type": "code",
   "execution_count": null,
   "metadata": {
    "colab": {
     "base_uri": "https://localhost:8080/",
     "height": 214
    },
    "executionInfo": {
     "elapsed": 346,
     "status": "ok",
     "timestamp": 1715223283357,
     "user": {
      "displayName": "강희숙",
      "userId": "05520711596090317319"
     },
     "user_tz": -540
    },
    "id": "-d8jGue1cvpG",
    "outputId": "6c56b8d0-9d5b-4bf6-95e0-5656b8f7cdd7"
   },
   "outputs": [],
   "source": [
    "# yaml 파일을 학습이 가능하도록 경로 설정.\n",
    "# key-value 데이터인 dict 데이터타입으로 data['train'], data['val'], data['nc'], data['names'] 에 넣어주는데,\n",
    "# 가장 중요한 부분은 데이터 경로 설정임.\n",
    "\n",
    "import yaml\n",
    "# 디렉토리 정보, 클래스 이름(names), 클래스 수(nc) 지정하기\n",
    "data = { 'train' : './Aquarium_Data/train/images/',\n",
    "         'val'   : '... ',         # ... 코드 입력\n",
    "         'test'  : './Aquarium_Data/test/images',\n",
    "         'names' : ...     ,    # ... 코드 입력\n",
    "         'nc' : ... }  # ... 코드 입력\n",
    "\n",
    "# 데이터 경로와 클래스 정보를 저장하고 있는 딕셔너리 객체 data를 YOLOv8 학습에 필요한 새로운 이름으로 저장\n",
    "with open('./Aquarium_Data/Aquarium_Data.yaml', 'w') as f:\n",
    "  yaml.dump(data, f)\n",
    "\n",
    "# Aquarium_Data.yaml 읽어서 화면에 출력\n",
    "with open('./Aquarium_Data/Aquarium_Data.yaml', 'r') as f:\n",
    "  aquarium_yaml = yaml.safe_load(f)\n",
    "  display(aquarium_yaml)"
   ]
  },
  {
   "cell_type": "code",
   "execution_count": null,
   "metadata": {
    "colab": {
     "base_uri": "https://localhost:8080/"
    },
    "executionInfo": {
     "elapsed": 360,
     "status": "ok",
     "timestamp": 1715223350250,
     "user": {
      "displayName": "강희숙",
      "userId": "05520711596090317319"
     },
     "user_tz": -540
    },
    "id": "f2zjrFqUdkzi",
    "outputId": "ce265efa-a3cf-4cbc-c22e-c9c49a77d1f4"
   },
   "outputs": [
    {
     "name": "stdout",
     "output_type": "stream",
     "text": [
      "names:\n",
      "- fish\n",
      "- jellyfish\n",
      "- penguin\n",
      "- puffin\n",
      "- shark\n",
      "- starfish\n",
      "- stingray\n",
      "nc: 7\n",
      "test: /content/Aquarium_Data/test/images\n",
      "train: /content/Aquarium_Data/train/images/\n",
      "val: /content/Aquarium_Data/valid/images/\n"
     ]
    }
   ],
   "source": [
    "!cat /content/Aquarium_Data/Aquarium_Data.yaml"
   ]
  },
  {
   "cell_type": "markdown",
   "metadata": {
    "id": "whvUm98aEm5_"
   },
   "source": [
    "## **2. yolov8 사용을 위한 패키지 설치 및 가져오기**\n",
    "- https://github.com/ultralytics/ultralytics"
   ]
  },
  {
   "cell_type": "code",
   "execution_count": null,
   "metadata": {
    "colab": {
     "base_uri": "https://localhost:8080/"
    },
    "executionInfo": {
     "elapsed": 74759,
     "status": "ok",
     "timestamp": 1715223534760,
     "user": {
      "displayName": "강희숙",
      "userId": "05520711596090317319"
     },
     "user_tz": -540
    },
    "id": "8p1603VijJ_x",
    "outputId": "c12c3e5a-5ae0-49e1-9072-e1512ea10cd0"
   },
   "outputs": [
    {
     "name": "stdout",
     "output_type": "stream",
     "text": [
      "\u001b[?25l     \u001b[90m━━━━━━━━━━━━━━━━━━━━━━━━━━━━━━━━━━━━━━━━\u001b[0m \u001b[32m0.0/756.5 kB\u001b[0m \u001b[31m?\u001b[0m eta \u001b[36m-:--:--\u001b[0m\r\u001b[2K     \u001b[91m━━━━━━━━━━\u001b[0m\u001b[90m╺\u001b[0m\u001b[90m━━━━━━━━━━━━━━━━━━━━━━━━━━━━━\u001b[0m \u001b[32m194.6/756.5 kB\u001b[0m \u001b[31m5.6 MB/s\u001b[0m eta \u001b[36m0:00:01\u001b[0m\r\u001b[2K     \u001b[90m━━━━━━━━━━━━━━━━━━━━━━━━━━━━━━━━━━━━━━━━\u001b[0m \u001b[32m756.5/756.5 kB\u001b[0m \u001b[31m13.9 MB/s\u001b[0m eta \u001b[36m0:00:00\u001b[0m\n",
      "\u001b[?25h"
     ]
    }
   ],
   "source": [
    "# 패키지 설치하기\n",
    "# !pip install -q ultralytics"
   ]
  },
  {
   "cell_type": "code",
   "execution_count": null,
   "metadata": {
    "colab": {
     "base_uri": "https://localhost:8080/"
    },
    "executionInfo": {
     "elapsed": 5302,
     "status": "ok",
     "timestamp": 1715223549773,
     "user": {
      "displayName": "강희숙",
      "userId": "05520711596090317319"
     },
     "user_tz": -540
    },
    "id": "WnS0XLAcj1aO",
    "outputId": "fb998d82-00de-4024-d3a7-d5ccd6dacf59"
   },
   "outputs": [
    {
     "name": "stdout",
     "output_type": "stream",
     "text": [
      "Ultralytics YOLOv8.2.11 🚀 Python-3.10.12 torch-2.2.1+cu121 CPU (Intel Xeon 2.20GHz)\n",
      "Setup complete ✅ (2 CPUs, 12.7 GB RAM, 29.9/107.7 GB disk)\n"
     ]
    }
   ],
   "source": [
    "# 패키지 버전 확인하기\n",
    "import ultralytics\n",
    "\n",
    "ultralytics.checks()"
   ]
  },
  {
   "cell_type": "code",
   "execution_count": null,
   "metadata": {
    "colab": {
     "base_uri": "https://localhost:8080/"
    },
    "executionInfo": {
     "elapsed": 3,
     "status": "ok",
     "timestamp": 1715161624678,
     "user": {
      "displayName": "강희숙",
      "userId": "05520711596090317319"
     },
     "user_tz": -540
    },
    "id": "GgMdC7qnmMeW",
    "outputId": "aeff3578-14d1-4687-cf0c-74ef4ba34ef9"
   },
   "outputs": [
    {
     "name": "stdout",
     "output_type": "stream",
     "text": [
      "2.2.1+cu121\n",
      "Using device: cuda\n"
     ]
    }
   ],
   "source": [
    "import torch\n",
    "torch.cuda.get_device_name(0)\n",
    "torch.cuda.is_available()\n",
    "print(torch.__version__)\n",
    "\n",
    "# GPU가 사용 가능한지 확인하고, 사용 가능하면 CUDA를 사용하도록 설정\n",
    "device = torch.device(\"cuda\" if torch.cuda.is_available() else \"cpu\")\n",
    "print(f\"Using device: {device}\")"
   ]
  },
  {
   "cell_type": "markdown",
   "metadata": {
    "id": "u-U7UBFWFhlc"
   },
   "source": [
    "## **3.모델 객체 선언하고 학습하기**\n",
    "\n",
    "### 1) 모델 객체 선언하기"
   ]
  },
  {
   "cell_type": "code",
   "execution_count": null,
   "metadata": {
    "colab": {
     "base_uri": "https://localhost:8080/"
    },
    "executionInfo": {
     "elapsed": 642,
     "status": "ok",
     "timestamp": 1713195014902,
     "user": {
      "displayName": "강희숙",
      "userId": "05520711596090317319"
     },
     "user_tz": -540
    },
    "id": "Das7YGgqmSUL",
    "outputId": "d634e3e4-6b9f-4564-bee3-851f37326645"
   },
   "outputs": [
    {
     "name": "stdout",
     "output_type": "stream",
     "text": [
      "Downloading https://github.com/ultralytics/assets/releases/download/v8.1.0/yolov8n.pt to 'yolov8n.pt'...\n"
     ]
    },
    {
     "name": "stderr",
     "output_type": "stream",
     "text": [
      "100%|██████████| 6.23M/6.23M [00:00<00:00, 72.4MB/s]\n"
     ]
    }
   ],
   "source": [
    "# YOLO 라이브러리 가져오기\n",
    "...    # ... code here\n",
    "\n",
    "# 'yolov8n-seg.pt' 모델 선언하기 - 사전학습된 YOLOv8n detection model 로드하기\n",
    "model = ...    # ... code here"
   ]
  },
  {
   "cell_type": "code",
   "execution_count": null,
   "metadata": {
    "colab": {
     "base_uri": "https://localhost:8080/"
    },
    "executionInfo": {
     "elapsed": 326,
     "status": "ok",
     "timestamp": 1713195046002,
     "user": {
      "displayName": "강희숙",
      "userId": "05520711596090317319"
     },
     "user_tz": -540
    },
    "id": "7X_3dSOFPQi3",
    "outputId": "a48d4a94-d0d5-4e0a-a824-e8994e2128ae"
   },
   "outputs": [
    {
     "name": "stdout",
     "output_type": "stream",
     "text": [
      "<class 'dict'> 80\n",
      "{0: 'person', 1: 'bicycle', 2: 'car', 3: 'motorcycle', 4: 'airplane', 5: 'bus', 6: 'train', 7: 'truck', 8: 'boat', 9: 'traffic light', 10: 'fire hydrant', 11: 'stop sign', 12: 'parking meter', 13: 'bench', 14: 'bird', 15: 'cat', 16: 'dog', 17: 'horse', 18: 'sheep', 19: 'cow', 20: 'elephant', 21: 'bear', 22: 'zebra', 23: 'giraffe', 24: 'backpack', 25: 'umbrella', 26: 'handbag', 27: 'tie', 28: 'suitcase', 29: 'frisbee', 30: 'skis', 31: 'snowboard', 32: 'sports ball', 33: 'kite', 34: 'baseball bat', 35: 'baseball glove', 36: 'skateboard', 37: 'surfboard', 38: 'tennis racket', 39: 'bottle', 40: 'wine glass', 41: 'cup', 42: 'fork', 43: 'knife', 44: 'spoon', 45: 'bowl', 46: 'banana', 47: 'apple', 48: 'sandwich', 49: 'orange', 50: 'broccoli', 51: 'carrot', 52: 'hot dog', 53: 'pizza', 54: 'donut', 55: 'cake', 56: 'chair', 57: 'couch', 58: 'potted plant', 59: 'bed', 60: 'dining table', 61: 'toilet', 62: 'tv', 63: 'laptop', 64: 'mouse', 65: 'remote', 66: 'keyboard', 67: 'cell phone', 68: 'microwave', 69: 'oven', 70: 'toaster', 71: 'sink', 72: 'refrigerator', 73: 'book', 74: 'clock', 75: 'vase', 76: 'scissors', 77: 'teddy bear', 78: 'hair drier', 79: 'toothbrush'}\n"
     ]
    }
   ],
   "source": [
    "# Yolov8은 MS COCO 데이터 사전학습되어있어 MS COCO Dataset에 정의된 클래스 개수오 ㅏ종류 확인할 수 있음(0~79)\n",
    "print(type(model.names), len(model.names))\n",
    "\n",
    "print(model.names)"
   ]
  },
  {
   "cell_type": "markdown",
   "metadata": {
    "id": "Ux1yjJYu88Ro"
   },
   "source": [
    "### 2) 모델 학습하기 (자신의 만든 yaml파일 지정)\n",
    "- **`data`**: 데이터셋 설정 파일의 경로 지정- YAML 형식의 파일로, 훈련, 검증, 테스트 데이터 경로 및 클래스 수 정의\n",
    "- **`epochs`**: 훈련에 사용할 총 에포크 수 지정\n",
    "- **`patience`**: 모델 학습 중 개선이 없을 때 학습을 중단하기 전에 기다리는 에포크 수 지정\n",
    "- **`batch`**: 각 훈련 스텝에서 처리할 이미지의 수를 지정\n",
    "- **`imgsz`**: 입력 이미지의 해상도 정의(일반적으로 416, 512, 640과 같은 값이 사용)\n",
    "- **`optimizer`**: 사용할 최적화 알고리즘사 지정(일반적으로 `SGD`, `Adam`, `AdamW`와 같은 옵션을 사용)\n",
    "- **`lr0`**: 초기 학습률 지정\n",
    "- **`momentum`**: 모멘텀 지정\n",
    "- **`weight_decay`**: 가중치 감소(정규화)를 적용하는 값중 지정\n",
    "- **`warmup_epochs`**: 초기 학습률을 높이기 위해 사용할 웜업 에포크 수 지정\n",
    "- **`save`**: 훈련된 모델을 저장할지 여부 결정\n",
    "- **`project` 및 `name`**: 모델 가중치 및 훈련 로그를 저장할 프로젝트 폴더와 하위 폴더 이름을 지정"
   ]
  },
  {
   "cell_type": "code",
   "execution_count": null,
   "metadata": {
    "colab": {
     "base_uri": "https://localhost:8080/"
    },
    "executionInfo": {
     "elapsed": 469978,
     "status": "ok",
     "timestamp": 1713195523606,
     "user": {
      "displayName": "강희숙",
      "userId": "05520711596090317319"
     },
     "user_tz": -540
    },
    "id": "eeF3uPiAYyBD",
    "outputId": "61dba8d9-8ca1-435f-e8b9-717ce7da2226"
   },
   "outputs": [
    {
     "name": "stdout",
     "output_type": "stream",
     "text": [
      "Ultralytics YOLOv8.1.47 🚀 Python-3.10.12 torch-2.2.1+cu121 CUDA:0 (Tesla T4, 15102MiB)\n",
      "\u001b[34m\u001b[1mengine/trainer: \u001b[0mtask=detect, mode=train, model=yolov8n.pt, data=/content/Aquarium_Data/Aquarium_Data.yaml, epochs=50, time=None, patience=30, batch=32, imgsz=416, save=True, save_period=-1, cache=False, device=None, workers=8, project=None, name=train, exist_ok=False, pretrained=True, optimizer=auto, verbose=True, seed=0, deterministic=True, single_cls=False, rect=False, cos_lr=False, close_mosaic=10, resume=False, amp=True, fraction=1.0, profile=False, freeze=None, multi_scale=False, overlap_mask=True, mask_ratio=4, dropout=0.0, val=True, split=val, save_json=False, save_hybrid=False, conf=None, iou=0.7, max_det=300, half=False, dnn=False, plots=True, source=None, vid_stride=1, stream_buffer=False, visualize=False, augment=False, agnostic_nms=False, classes=None, retina_masks=False, embed=None, show=False, save_frames=False, save_txt=False, save_conf=False, save_crop=False, show_labels=True, show_conf=True, show_boxes=True, line_width=None, format=torchscript, keras=False, optimize=False, int8=False, dynamic=False, simplify=False, opset=None, workspace=4, nms=False, lr0=0.01, lrf=0.01, momentum=0.937, weight_decay=0.0005, warmup_epochs=3.0, warmup_momentum=0.8, warmup_bias_lr=0.1, box=7.5, cls=0.5, dfl=1.5, pose=12.0, kobj=1.0, label_smoothing=0.0, nbs=64, hsv_h=0.015, hsv_s=0.7, hsv_v=0.4, degrees=0.0, translate=0.1, scale=0.5, shear=0.0, perspective=0.0, flipud=0.0, fliplr=0.5, bgr=0.0, mosaic=1.0, mixup=0.0, copy_paste=0.0, auto_augment=randaugment, erasing=0.4, crop_fraction=1.0, cfg=None, tracker=botsort.yaml, save_dir=runs/detect/train\n",
      "Downloading https://ultralytics.com/assets/Arial.ttf to '/root/.config/Ultralytics/Arial.ttf'...\n"
     ]
    },
    {
     "name": "stderr",
     "output_type": "stream",
     "text": [
      "100%|██████████| 755k/755k [00:00<00:00, 16.1MB/s]\n"
     ]
    },
    {
     "name": "stdout",
     "output_type": "stream",
     "text": [
      "Overriding model.yaml nc=80 with nc=7\n",
      "\n",
      "                   from  n    params  module                                       arguments                     \n",
      "  0                  -1  1       464  ultralytics.nn.modules.conv.Conv             [3, 16, 3, 2]                 \n",
      "  1                  -1  1      4672  ultralytics.nn.modules.conv.Conv             [16, 32, 3, 2]                \n",
      "  2                  -1  1      7360  ultralytics.nn.modules.block.C2f             [32, 32, 1, True]             \n",
      "  3                  -1  1     18560  ultralytics.nn.modules.conv.Conv             [32, 64, 3, 2]                \n",
      "  4                  -1  2     49664  ultralytics.nn.modules.block.C2f             [64, 64, 2, True]             \n",
      "  5                  -1  1     73984  ultralytics.nn.modules.conv.Conv             [64, 128, 3, 2]               \n",
      "  6                  -1  2    197632  ultralytics.nn.modules.block.C2f             [128, 128, 2, True]           \n",
      "  7                  -1  1    295424  ultralytics.nn.modules.conv.Conv             [128, 256, 3, 2]              \n",
      "  8                  -1  1    460288  ultralytics.nn.modules.block.C2f             [256, 256, 1, True]           \n",
      "  9                  -1  1    164608  ultralytics.nn.modules.block.SPPF            [256, 256, 5]                 \n",
      " 10                  -1  1         0  torch.nn.modules.upsampling.Upsample         [None, 2, 'nearest']          \n",
      " 11             [-1, 6]  1         0  ultralytics.nn.modules.conv.Concat           [1]                           \n",
      " 12                  -1  1    148224  ultralytics.nn.modules.block.C2f             [384, 128, 1]                 \n",
      " 13                  -1  1         0  torch.nn.modules.upsampling.Upsample         [None, 2, 'nearest']          \n",
      " 14             [-1, 4]  1         0  ultralytics.nn.modules.conv.Concat           [1]                           \n",
      " 15                  -1  1     37248  ultralytics.nn.modules.block.C2f             [192, 64, 1]                  \n",
      " 16                  -1  1     36992  ultralytics.nn.modules.conv.Conv             [64, 64, 3, 2]                \n",
      " 17            [-1, 12]  1         0  ultralytics.nn.modules.conv.Concat           [1]                           \n",
      " 18                  -1  1    123648  ultralytics.nn.modules.block.C2f             [192, 128, 1]                 \n",
      " 19                  -1  1    147712  ultralytics.nn.modules.conv.Conv             [128, 128, 3, 2]              \n",
      " 20             [-1, 9]  1         0  ultralytics.nn.modules.conv.Concat           [1]                           \n",
      " 21                  -1  1    493056  ultralytics.nn.modules.block.C2f             [384, 256, 1]                 \n",
      " 22        [15, 18, 21]  1    752677  ultralytics.nn.modules.head.Detect           [7, [64, 128, 256]]           \n",
      "Model summary: 225 layers, 3012213 parameters, 3012197 gradients, 8.2 GFLOPs\n",
      "\n",
      "Transferred 319/355 items from pretrained weights\n",
      "\u001b[34m\u001b[1mTensorBoard: \u001b[0mStart with 'tensorboard --logdir runs/detect/train', view at http://localhost:6006/\n",
      "Freezing layer 'model.22.dfl.conv.weight'\n",
      "\u001b[34m\u001b[1mAMP: \u001b[0mrunning Automatic Mixed Precision (AMP) checks with YOLOv8n...\n",
      "\u001b[34m\u001b[1mAMP: \u001b[0mchecks passed ✅\n"
     ]
    },
    {
     "name": "stderr",
     "output_type": "stream",
     "text": [
      "\u001b[34m\u001b[1mtrain: \u001b[0mScanning /content/Aquarium_Data/train/labels... 448 images, 1 backgrounds, 0 corrupt: 100%|██████████| 448/448 [00:00<00:00, 459.12it/s]"
     ]
    },
    {
     "name": "stdout",
     "output_type": "stream",
     "text": [
      "\u001b[34m\u001b[1mtrain: \u001b[0mNew cache created: /content/Aquarium_Data/train/labels.cache\n"
     ]
    },
    {
     "name": "stderr",
     "output_type": "stream",
     "text": [
      "\n"
     ]
    },
    {
     "name": "stdout",
     "output_type": "stream",
     "text": [
      "\u001b[34m\u001b[1malbumentations: \u001b[0mBlur(p=0.01, blur_limit=(3, 7)), MedianBlur(p=0.01, blur_limit=(3, 7)), ToGray(p=0.01), CLAHE(p=0.01, clip_limit=(1, 4.0), tile_grid_size=(8, 8))\n"
     ]
    },
    {
     "name": "stderr",
     "output_type": "stream",
     "text": [
      "/usr/lib/python3.10/multiprocessing/popen_fork.py:66: RuntimeWarning: os.fork() was called. os.fork() is incompatible with multithreaded code, and JAX is multithreaded, so this will likely lead to a deadlock.\n",
      "  self.pid = os.fork()\n",
      "\u001b[34m\u001b[1mval: \u001b[0mScanning /content/Aquarium_Data/valid/labels... 127 images, 0 backgrounds, 0 corrupt: 100%|██████████| 127/127 [00:00<00:00, 431.94it/s]\n"
     ]
    },
    {
     "name": "stdout",
     "output_type": "stream",
     "text": [
      "\u001b[34m\u001b[1mval: \u001b[0mNew cache created: /content/Aquarium_Data/valid/labels.cache\n",
      "Plotting labels to runs/detect/train/labels.jpg... \n",
      "\u001b[34m\u001b[1moptimizer:\u001b[0m 'optimizer=auto' found, ignoring 'lr0=0.01' and 'momentum=0.937' and determining best 'optimizer', 'lr0' and 'momentum' automatically... \n",
      "\u001b[34m\u001b[1moptimizer:\u001b[0m AdamW(lr=0.000909, momentum=0.9) with parameter groups 57 weight(decay=0.0), 64 weight(decay=0.0005), 63 bias(decay=0.0)\n",
      "\u001b[34m\u001b[1mTensorBoard: \u001b[0mmodel graph visualization added ✅\n",
      "Image sizes 416 train, 416 val\n",
      "Using 2 dataloader workers\n",
      "Logging results to \u001b[1mruns/detect/train\u001b[0m\n",
      "Starting training for 50 epochs...\n",
      "\n",
      "      Epoch    GPU_mem   box_loss   cls_loss   dfl_loss  Instances       Size\n"
     ]
    },
    {
     "name": "stderr",
     "output_type": "stream",
     "text": [
      "       1/50      2.21G      1.724      4.267      1.331        449        416: 100%|██████████| 14/14 [00:11<00:00,  1.21it/s]\n",
      "                 Class     Images  Instances      Box(P          R      mAP50  mAP50-95): 100%|██████████| 2/2 [00:04<00:00,  2.25s/it]"
     ]
    },
    {
     "name": "stdout",
     "output_type": "stream",
     "text": [
      "                   all        127        909    0.00273      0.168     0.0294      0.014\n"
     ]
    },
    {
     "name": "stderr",
     "output_type": "stream",
     "text": [
      "\n"
     ]
    },
    {
     "name": "stdout",
     "output_type": "stream",
     "text": [
      "\n",
      "      Epoch    GPU_mem   box_loss   cls_loss   dfl_loss  Instances       Size\n"
     ]
    },
    {
     "name": "stderr",
     "output_type": "stream",
     "text": [
      "       2/50      2.07G      1.728      3.367      1.219        222        416: 100%|██████████| 14/14 [00:05<00:00,  2.60it/s]\n",
      "                 Class     Images  Instances      Box(P          R      mAP50  mAP50-95): 100%|██████████| 2/2 [00:01<00:00,  1.39it/s]"
     ]
    },
    {
     "name": "stdout",
     "output_type": "stream",
     "text": [
      "                   all        127        909    0.00983      0.356      0.118     0.0634\n"
     ]
    },
    {
     "name": "stderr",
     "output_type": "stream",
     "text": [
      "\n"
     ]
    },
    {
     "name": "stdout",
     "output_type": "stream",
     "text": [
      "\n",
      "      Epoch    GPU_mem   box_loss   cls_loss   dfl_loss  Instances       Size\n"
     ]
    },
    {
     "name": "stderr",
     "output_type": "stream",
     "text": [
      "       3/50       2.1G      1.737      2.458      1.212        443        416: 100%|██████████| 14/14 [00:06<00:00,  2.15it/s]\n",
      "                 Class     Images  Instances      Box(P          R      mAP50  mAP50-95): 100%|██████████| 2/2 [00:01<00:00,  1.25it/s]"
     ]
    },
    {
     "name": "stdout",
     "output_type": "stream",
     "text": [
      "                   all        127        909      0.313      0.109       0.18     0.0927\n"
     ]
    },
    {
     "name": "stderr",
     "output_type": "stream",
     "text": [
      "\n"
     ]
    },
    {
     "name": "stdout",
     "output_type": "stream",
     "text": [
      "\n",
      "      Epoch    GPU_mem   box_loss   cls_loss   dfl_loss  Instances       Size\n"
     ]
    },
    {
     "name": "stderr",
     "output_type": "stream",
     "text": [
      "       4/50      2.07G      1.687      2.211      1.218        436        416: 100%|██████████| 14/14 [00:05<00:00,  2.71it/s]\n",
      "                 Class     Images  Instances      Box(P          R      mAP50  mAP50-95): 100%|██████████| 2/2 [00:02<00:00,  1.18s/it]"
     ]
    },
    {
     "name": "stdout",
     "output_type": "stream",
     "text": [
      "                   all        127        909      0.612       0.11      0.264      0.141\n"
     ]
    },
    {
     "name": "stderr",
     "output_type": "stream",
     "text": [
      "\n"
     ]
    },
    {
     "name": "stdout",
     "output_type": "stream",
     "text": [
      "\n",
      "      Epoch    GPU_mem   box_loss   cls_loss   dfl_loss  Instances       Size\n"
     ]
    },
    {
     "name": "stderr",
     "output_type": "stream",
     "text": [
      "       5/50      2.04G      1.656      1.952      1.186        435        416: 100%|██████████| 14/14 [00:05<00:00,  2.71it/s]\n",
      "                 Class     Images  Instances      Box(P          R      mAP50  mAP50-95): 100%|██████████| 2/2 [00:01<00:00,  1.29it/s]"
     ]
    },
    {
     "name": "stdout",
     "output_type": "stream",
     "text": [
      "                   all        127        909      0.537      0.187      0.366      0.187\n"
     ]
    },
    {
     "name": "stderr",
     "output_type": "stream",
     "text": [
      "\n"
     ]
    },
    {
     "name": "stdout",
     "output_type": "stream",
     "text": [
      "\n",
      "      Epoch    GPU_mem   box_loss   cls_loss   dfl_loss  Instances       Size\n"
     ]
    },
    {
     "name": "stderr",
     "output_type": "stream",
     "text": [
      "       6/50      2.02G      1.632      1.789       1.18        421        416: 100%|██████████| 14/14 [00:06<00:00,  2.33it/s]\n",
      "                 Class     Images  Instances      Box(P          R      mAP50  mAP50-95): 100%|██████████| 2/2 [00:01<00:00,  1.23it/s]"
     ]
    },
    {
     "name": "stdout",
     "output_type": "stream",
     "text": [
      "                   all        127        909      0.549      0.143      0.307      0.168\n"
     ]
    },
    {
     "name": "stderr",
     "output_type": "stream",
     "text": [
      "\n"
     ]
    },
    {
     "name": "stdout",
     "output_type": "stream",
     "text": [
      "\n",
      "      Epoch    GPU_mem   box_loss   cls_loss   dfl_loss  Instances       Size\n"
     ]
    },
    {
     "name": "stderr",
     "output_type": "stream",
     "text": [
      "       7/50      2.21G      1.604      1.699      1.192        471        416: 100%|██████████| 14/14 [00:05<00:00,  2.68it/s]\n",
      "                 Class     Images  Instances      Box(P          R      mAP50  mAP50-95): 100%|██████████| 2/2 [00:02<00:00,  1.02s/it]"
     ]
    },
    {
     "name": "stdout",
     "output_type": "stream",
     "text": [
      "                   all        127        909      0.649      0.297      0.383      0.206\n"
     ]
    },
    {
     "name": "stderr",
     "output_type": "stream",
     "text": [
      "\n"
     ]
    },
    {
     "name": "stdout",
     "output_type": "stream",
     "text": [
      "\n",
      "      Epoch    GPU_mem   box_loss   cls_loss   dfl_loss  Instances       Size\n"
     ]
    },
    {
     "name": "stderr",
     "output_type": "stream",
     "text": [
      "       8/50      2.11G      1.648      1.658      1.175        328        416: 100%|██████████| 14/14 [00:05<00:00,  2.79it/s]\n",
      "                 Class     Images  Instances      Box(P          R      mAP50  mAP50-95): 100%|██████████| 2/2 [00:01<00:00,  1.18it/s]"
     ]
    },
    {
     "name": "stdout",
     "output_type": "stream",
     "text": [
      "                   all        127        909      0.508      0.411      0.394      0.197\n"
     ]
    },
    {
     "name": "stderr",
     "output_type": "stream",
     "text": [
      "\n"
     ]
    },
    {
     "name": "stdout",
     "output_type": "stream",
     "text": [
      "\n",
      "      Epoch    GPU_mem   box_loss   cls_loss   dfl_loss  Instances       Size\n"
     ]
    },
    {
     "name": "stderr",
     "output_type": "stream",
     "text": [
      "       9/50      2.07G      1.595      1.586      1.169        336        416: 100%|██████████| 14/14 [00:06<00:00,  2.21it/s]\n",
      "                 Class     Images  Instances      Box(P          R      mAP50  mAP50-95): 100%|██████████| 2/2 [00:01<00:00,  1.25it/s]"
     ]
    },
    {
     "name": "stdout",
     "output_type": "stream",
     "text": [
      "                   all        127        909       0.48      0.404      0.371      0.191\n"
     ]
    },
    {
     "name": "stderr",
     "output_type": "stream",
     "text": [
      "\n"
     ]
    },
    {
     "name": "stdout",
     "output_type": "stream",
     "text": [
      "\n",
      "      Epoch    GPU_mem   box_loss   cls_loss   dfl_loss  Instances       Size\n"
     ]
    },
    {
     "name": "stderr",
     "output_type": "stream",
     "text": [
      "      10/50      2.02G       1.56      1.532      1.165        368        416: 100%|██████████| 14/14 [00:04<00:00,  2.88it/s]\n",
      "                 Class     Images  Instances      Box(P          R      mAP50  mAP50-95): 100%|██████████| 2/2 [00:01<00:00,  1.43it/s]"
     ]
    },
    {
     "name": "stdout",
     "output_type": "stream",
     "text": [
      "                   all        127        909      0.518      0.433      0.412      0.206\n"
     ]
    },
    {
     "name": "stderr",
     "output_type": "stream",
     "text": [
      "\n"
     ]
    },
    {
     "name": "stdout",
     "output_type": "stream",
     "text": [
      "\n",
      "      Epoch    GPU_mem   box_loss   cls_loss   dfl_loss  Instances       Size\n"
     ]
    },
    {
     "name": "stderr",
     "output_type": "stream",
     "text": [
      "      11/50      2.04G      1.524      1.499      1.155        409        416: 100%|██████████| 14/14 [00:05<00:00,  2.51it/s]\n",
      "                 Class     Images  Instances      Box(P          R      mAP50  mAP50-95): 100%|██████████| 2/2 [00:01<00:00,  1.15it/s]"
     ]
    },
    {
     "name": "stdout",
     "output_type": "stream",
     "text": [
      "                   all        127        909      0.559      0.465      0.474      0.249\n"
     ]
    },
    {
     "name": "stderr",
     "output_type": "stream",
     "text": [
      "\n"
     ]
    },
    {
     "name": "stdout",
     "output_type": "stream",
     "text": [
      "\n",
      "      Epoch    GPU_mem   box_loss   cls_loss   dfl_loss  Instances       Size\n"
     ]
    },
    {
     "name": "stderr",
     "output_type": "stream",
     "text": [
      "      12/50      2.11G      1.521      1.433      1.139        543        416: 100%|██████████| 14/14 [00:06<00:00,  2.33it/s]\n",
      "                 Class     Images  Instances      Box(P          R      mAP50  mAP50-95): 100%|██████████| 2/2 [00:01<00:00,  1.25it/s]"
     ]
    },
    {
     "name": "stdout",
     "output_type": "stream",
     "text": [
      "                   all        127        909       0.59      0.448      0.483      0.251\n"
     ]
    },
    {
     "name": "stderr",
     "output_type": "stream",
     "text": [
      "\n"
     ]
    },
    {
     "name": "stdout",
     "output_type": "stream",
     "text": [
      "\n",
      "      Epoch    GPU_mem   box_loss   cls_loss   dfl_loss  Instances       Size\n"
     ]
    },
    {
     "name": "stderr",
     "output_type": "stream",
     "text": [
      "      13/50      2.17G      1.564      1.427      1.153        517        416: 100%|██████████| 14/14 [00:05<00:00,  2.70it/s]\n",
      "                 Class     Images  Instances      Box(P          R      mAP50  mAP50-95): 100%|██████████| 2/2 [00:01<00:00,  1.35it/s]"
     ]
    },
    {
     "name": "stdout",
     "output_type": "stream",
     "text": [
      "                   all        127        909      0.579      0.508      0.516      0.266\n"
     ]
    },
    {
     "name": "stderr",
     "output_type": "stream",
     "text": [
      "\n"
     ]
    },
    {
     "name": "stdout",
     "output_type": "stream",
     "text": [
      "\n",
      "      Epoch    GPU_mem   box_loss   cls_loss   dfl_loss  Instances       Size\n"
     ]
    },
    {
     "name": "stderr",
     "output_type": "stream",
     "text": [
      "      14/50      2.27G      1.526       1.41       1.14        383        416: 100%|██████████| 14/14 [00:06<00:00,  2.23it/s]\n",
      "                 Class     Images  Instances      Box(P          R      mAP50  mAP50-95): 100%|██████████| 2/2 [00:01<00:00,  1.31it/s]"
     ]
    },
    {
     "name": "stdout",
     "output_type": "stream",
     "text": [
      "                   all        127        909      0.648      0.458      0.529      0.272\n"
     ]
    },
    {
     "name": "stderr",
     "output_type": "stream",
     "text": [
      "\n"
     ]
    },
    {
     "name": "stdout",
     "output_type": "stream",
     "text": [
      "\n",
      "      Epoch    GPU_mem   box_loss   cls_loss   dfl_loss  Instances       Size\n"
     ]
    },
    {
     "name": "stderr",
     "output_type": "stream",
     "text": [
      "      15/50      2.18G      1.544      1.371      1.142        511        416: 100%|██████████| 14/14 [00:05<00:00,  2.39it/s]\n",
      "                 Class     Images  Instances      Box(P          R      mAP50  mAP50-95): 100%|██████████| 2/2 [00:01<00:00,  1.04it/s]"
     ]
    },
    {
     "name": "stdout",
     "output_type": "stream",
     "text": [
      "                   all        127        909      0.611      0.525      0.547      0.289\n"
     ]
    },
    {
     "name": "stderr",
     "output_type": "stream",
     "text": [
      "\n"
     ]
    },
    {
     "name": "stdout",
     "output_type": "stream",
     "text": [
      "\n",
      "      Epoch    GPU_mem   box_loss   cls_loss   dfl_loss  Instances       Size\n"
     ]
    },
    {
     "name": "stderr",
     "output_type": "stream",
     "text": [
      "      16/50      2.05G      1.507      1.299      1.133        351        416: 100%|██████████| 14/14 [00:05<00:00,  2.77it/s]\n",
      "                 Class     Images  Instances      Box(P          R      mAP50  mAP50-95): 100%|██████████| 2/2 [00:01<00:00,  1.24it/s]"
     ]
    },
    {
     "name": "stdout",
     "output_type": "stream",
     "text": [
      "                   all        127        909      0.694      0.548      0.595      0.325\n"
     ]
    },
    {
     "name": "stderr",
     "output_type": "stream",
     "text": [
      "\n"
     ]
    },
    {
     "name": "stdout",
     "output_type": "stream",
     "text": [
      "\n",
      "      Epoch    GPU_mem   box_loss   cls_loss   dfl_loss  Instances       Size\n"
     ]
    },
    {
     "name": "stderr",
     "output_type": "stream",
     "text": [
      "      17/50      2.05G      1.487      1.264       1.11        370        416: 100%|██████████| 14/14 [00:06<00:00,  2.21it/s]\n",
      "                 Class     Images  Instances      Box(P          R      mAP50  mAP50-95): 100%|██████████| 2/2 [00:01<00:00,  1.45it/s]"
     ]
    },
    {
     "name": "stdout",
     "output_type": "stream",
     "text": [
      "                   all        127        909      0.597      0.512      0.545      0.299\n"
     ]
    },
    {
     "name": "stderr",
     "output_type": "stream",
     "text": [
      "\n"
     ]
    },
    {
     "name": "stdout",
     "output_type": "stream",
     "text": [
      "\n",
      "      Epoch    GPU_mem   box_loss   cls_loss   dfl_loss  Instances       Size\n"
     ]
    },
    {
     "name": "stderr",
     "output_type": "stream",
     "text": [
      "      18/50      2.05G      1.467      1.255      1.127        455        416: 100%|██████████| 14/14 [00:05<00:00,  2.34it/s]\n",
      "                 Class     Images  Instances      Box(P          R      mAP50  mAP50-95): 100%|██████████| 2/2 [00:01<00:00,  1.02it/s]"
     ]
    },
    {
     "name": "stdout",
     "output_type": "stream",
     "text": [
      "                   all        127        909       0.66      0.566      0.594      0.317\n"
     ]
    },
    {
     "name": "stderr",
     "output_type": "stream",
     "text": [
      "\n"
     ]
    },
    {
     "name": "stdout",
     "output_type": "stream",
     "text": [
      "\n",
      "      Epoch    GPU_mem   box_loss   cls_loss   dfl_loss  Instances       Size\n"
     ]
    },
    {
     "name": "stderr",
     "output_type": "stream",
     "text": [
      "      19/50      2.15G      1.439      1.204      1.103        394        416: 100%|██████████| 14/14 [00:05<00:00,  2.76it/s]\n",
      "                 Class     Images  Instances      Box(P          R      mAP50  mAP50-95): 100%|██████████| 2/2 [00:01<00:00,  1.22it/s]"
     ]
    },
    {
     "name": "stdout",
     "output_type": "stream",
     "text": [
      "                   all        127        909      0.606      0.562      0.571       0.31\n"
     ]
    },
    {
     "name": "stderr",
     "output_type": "stream",
     "text": [
      "\n"
     ]
    },
    {
     "name": "stdout",
     "output_type": "stream",
     "text": [
      "\n",
      "      Epoch    GPU_mem   box_loss   cls_loss   dfl_loss  Instances       Size\n"
     ]
    },
    {
     "name": "stderr",
     "output_type": "stream",
     "text": [
      "      20/50      2.06G      1.419      1.217      1.109        336        416: 100%|██████████| 14/14 [00:06<00:00,  2.19it/s]\n",
      "                 Class     Images  Instances      Box(P          R      mAP50  mAP50-95): 100%|██████████| 2/2 [00:01<00:00,  1.27it/s]"
     ]
    },
    {
     "name": "stdout",
     "output_type": "stream",
     "text": [
      "                   all        127        909       0.62      0.599        0.6      0.332\n"
     ]
    },
    {
     "name": "stderr",
     "output_type": "stream",
     "text": [
      "\n"
     ]
    },
    {
     "name": "stdout",
     "output_type": "stream",
     "text": [
      "\n",
      "      Epoch    GPU_mem   box_loss   cls_loss   dfl_loss  Instances       Size\n"
     ]
    },
    {
     "name": "stderr",
     "output_type": "stream",
     "text": [
      "      21/50      2.07G      1.397      1.184      1.098        391        416: 100%|██████████| 14/14 [00:05<00:00,  2.58it/s]\n",
      "                 Class     Images  Instances      Box(P          R      mAP50  mAP50-95): 100%|██████████| 2/2 [00:02<00:00,  1.12s/it]"
     ]
    },
    {
     "name": "stdout",
     "output_type": "stream",
     "text": [
      "                   all        127        909      0.677      0.544      0.593      0.336\n"
     ]
    },
    {
     "name": "stderr",
     "output_type": "stream",
     "text": [
      "\n"
     ]
    },
    {
     "name": "stdout",
     "output_type": "stream",
     "text": [
      "\n",
      "      Epoch    GPU_mem   box_loss   cls_loss   dfl_loss  Instances       Size\n"
     ]
    },
    {
     "name": "stderr",
     "output_type": "stream",
     "text": [
      "      22/50      2.15G      1.438      1.157       1.11        393        416: 100%|██████████| 14/14 [00:05<00:00,  2.64it/s]\n",
      "                 Class     Images  Instances      Box(P          R      mAP50  mAP50-95): 100%|██████████| 2/2 [00:01<00:00,  1.30it/s]"
     ]
    },
    {
     "name": "stdout",
     "output_type": "stream",
     "text": [
      "                   all        127        909      0.742       0.53      0.615      0.351\n"
     ]
    },
    {
     "name": "stderr",
     "output_type": "stream",
     "text": [
      "\n"
     ]
    },
    {
     "name": "stdout",
     "output_type": "stream",
     "text": [
      "\n",
      "      Epoch    GPU_mem   box_loss   cls_loss   dfl_loss  Instances       Size\n"
     ]
    },
    {
     "name": "stderr",
     "output_type": "stream",
     "text": [
      "      23/50      2.28G      1.432      1.183      1.101        387        416: 100%|██████████| 14/14 [00:06<00:00,  2.26it/s]\n",
      "                 Class     Images  Instances      Box(P          R      mAP50  mAP50-95): 100%|██████████| 2/2 [00:01<00:00,  1.30it/s]"
     ]
    },
    {
     "name": "stdout",
     "output_type": "stream",
     "text": [
      "                   all        127        909      0.761      0.555      0.649      0.358\n"
     ]
    },
    {
     "name": "stderr",
     "output_type": "stream",
     "text": [
      "\n"
     ]
    },
    {
     "name": "stdout",
     "output_type": "stream",
     "text": [
      "\n",
      "      Epoch    GPU_mem   box_loss   cls_loss   dfl_loss  Instances       Size\n"
     ]
    },
    {
     "name": "stderr",
     "output_type": "stream",
     "text": [
      "      24/50      1.95G      1.395       1.15      1.105        352        416: 100%|██████████| 14/14 [00:05<00:00,  2.64it/s]\n",
      "                 Class     Images  Instances      Box(P          R      mAP50  mAP50-95): 100%|██████████| 2/2 [00:02<00:00,  1.23s/it]"
     ]
    },
    {
     "name": "stdout",
     "output_type": "stream",
     "text": [
      "                   all        127        909      0.732       0.59      0.656      0.368\n"
     ]
    },
    {
     "name": "stderr",
     "output_type": "stream",
     "text": [
      "\n"
     ]
    },
    {
     "name": "stdout",
     "output_type": "stream",
     "text": [
      "\n",
      "      Epoch    GPU_mem   box_loss   cls_loss   dfl_loss  Instances       Size\n"
     ]
    },
    {
     "name": "stderr",
     "output_type": "stream",
     "text": [
      "      25/50       2.1G      1.442      1.172      1.096        443        416: 100%|██████████| 14/14 [00:05<00:00,  2.61it/s]\n",
      "                 Class     Images  Instances      Box(P          R      mAP50  mAP50-95): 100%|██████████| 2/2 [00:01<00:00,  1.30it/s]"
     ]
    },
    {
     "name": "stdout",
     "output_type": "stream",
     "text": [
      "                   all        127        909      0.699      0.573      0.632      0.338\n"
     ]
    },
    {
     "name": "stderr",
     "output_type": "stream",
     "text": [
      "\n"
     ]
    },
    {
     "name": "stdout",
     "output_type": "stream",
     "text": [
      "\n",
      "      Epoch    GPU_mem   box_loss   cls_loss   dfl_loss  Instances       Size\n"
     ]
    },
    {
     "name": "stderr",
     "output_type": "stream",
     "text": [
      "      26/50      2.19G      1.424      1.152      1.109        436        416: 100%|██████████| 14/14 [00:06<00:00,  2.16it/s]\n",
      "                 Class     Images  Instances      Box(P          R      mAP50  mAP50-95): 100%|██████████| 2/2 [00:01<00:00,  1.37it/s]"
     ]
    },
    {
     "name": "stdout",
     "output_type": "stream",
     "text": [
      "                   all        127        909      0.697      0.594      0.653      0.356\n"
     ]
    },
    {
     "name": "stderr",
     "output_type": "stream",
     "text": [
      "\n"
     ]
    },
    {
     "name": "stdout",
     "output_type": "stream",
     "text": [
      "\n",
      "      Epoch    GPU_mem   box_loss   cls_loss   dfl_loss  Instances       Size\n"
     ]
    },
    {
     "name": "stderr",
     "output_type": "stream",
     "text": [
      "      27/50      2.13G      1.374      1.138      1.085        293        416: 100%|██████████| 14/14 [00:05<00:00,  2.79it/s]\n",
      "                 Class     Images  Instances      Box(P          R      mAP50  mAP50-95): 100%|██████████| 2/2 [00:02<00:00,  1.14s/it]"
     ]
    },
    {
     "name": "stdout",
     "output_type": "stream",
     "text": [
      "                   all        127        909       0.68      0.645      0.679      0.377\n"
     ]
    },
    {
     "name": "stderr",
     "output_type": "stream",
     "text": [
      "\n"
     ]
    },
    {
     "name": "stdout",
     "output_type": "stream",
     "text": [
      "\n",
      "      Epoch    GPU_mem   box_loss   cls_loss   dfl_loss  Instances       Size\n"
     ]
    },
    {
     "name": "stderr",
     "output_type": "stream",
     "text": [
      "      28/50      2.22G      1.374      1.089       1.08        523        416: 100%|██████████| 14/14 [00:05<00:00,  2.51it/s]\n",
      "                 Class     Images  Instances      Box(P          R      mAP50  mAP50-95): 100%|██████████| 2/2 [00:01<00:00,  1.47it/s]"
     ]
    },
    {
     "name": "stdout",
     "output_type": "stream",
     "text": [
      "                   all        127        909      0.749      0.615      0.671      0.368\n"
     ]
    },
    {
     "name": "stderr",
     "output_type": "stream",
     "text": [
      "\n"
     ]
    },
    {
     "name": "stdout",
     "output_type": "stream",
     "text": [
      "\n",
      "      Epoch    GPU_mem   box_loss   cls_loss   dfl_loss  Instances       Size\n"
     ]
    },
    {
     "name": "stderr",
     "output_type": "stream",
     "text": [
      "      29/50      2.25G      1.361      1.086      1.077        385        416: 100%|██████████| 14/14 [00:06<00:00,  2.15it/s]\n",
      "                 Class     Images  Instances      Box(P          R      mAP50  mAP50-95): 100%|██████████| 2/2 [00:01<00:00,  1.30it/s]"
     ]
    },
    {
     "name": "stdout",
     "output_type": "stream",
     "text": [
      "                   all        127        909      0.739      0.608      0.671      0.375\n"
     ]
    },
    {
     "name": "stderr",
     "output_type": "stream",
     "text": [
      "\n"
     ]
    },
    {
     "name": "stdout",
     "output_type": "stream",
     "text": [
      "\n",
      "      Epoch    GPU_mem   box_loss   cls_loss   dfl_loss  Instances       Size\n"
     ]
    },
    {
     "name": "stderr",
     "output_type": "stream",
     "text": [
      "      30/50      2.02G      1.345      1.051      1.069        440        416: 100%|██████████| 14/14 [00:05<00:00,  2.67it/s]\n",
      "                 Class     Images  Instances      Box(P          R      mAP50  mAP50-95): 100%|██████████| 2/2 [00:01<00:00,  1.00it/s]"
     ]
    },
    {
     "name": "stdout",
     "output_type": "stream",
     "text": [
      "                   all        127        909      0.718       0.62      0.676       0.38\n"
     ]
    },
    {
     "name": "stderr",
     "output_type": "stream",
     "text": [
      "\n"
     ]
    },
    {
     "name": "stdout",
     "output_type": "stream",
     "text": [
      "\n",
      "      Epoch    GPU_mem   box_loss   cls_loss   dfl_loss  Instances       Size\n"
     ]
    },
    {
     "name": "stderr",
     "output_type": "stream",
     "text": [
      "      31/50      2.22G      1.368       1.06      1.068        326        416: 100%|██████████| 14/14 [00:05<00:00,  2.72it/s]\n",
      "                 Class     Images  Instances      Box(P          R      mAP50  mAP50-95): 100%|██████████| 2/2 [00:01<00:00,  1.26it/s]"
     ]
    },
    {
     "name": "stdout",
     "output_type": "stream",
     "text": [
      "                   all        127        909      0.711      0.617      0.679      0.383\n"
     ]
    },
    {
     "name": "stderr",
     "output_type": "stream",
     "text": [
      "\n"
     ]
    },
    {
     "name": "stdout",
     "output_type": "stream",
     "text": [
      "\n",
      "      Epoch    GPU_mem   box_loss   cls_loss   dfl_loss  Instances       Size\n"
     ]
    },
    {
     "name": "stderr",
     "output_type": "stream",
     "text": [
      "      32/50      2.27G      1.376      1.025      1.063        450        416: 100%|██████████| 14/14 [00:06<00:00,  2.17it/s]\n",
      "                 Class     Images  Instances      Box(P          R      mAP50  mAP50-95): 100%|██████████| 2/2 [00:01<00:00,  1.33it/s]"
     ]
    },
    {
     "name": "stdout",
     "output_type": "stream",
     "text": [
      "                   all        127        909      0.741      0.586      0.665      0.377\n"
     ]
    },
    {
     "name": "stderr",
     "output_type": "stream",
     "text": [
      "\n"
     ]
    },
    {
     "name": "stdout",
     "output_type": "stream",
     "text": [
      "\n",
      "      Epoch    GPU_mem   box_loss   cls_loss   dfl_loss  Instances       Size\n"
     ]
    },
    {
     "name": "stderr",
     "output_type": "stream",
     "text": [
      "      33/50      2.08G      1.322      1.002      1.066        353        416: 100%|██████████| 14/14 [00:05<00:00,  2.57it/s]\n",
      "                 Class     Images  Instances      Box(P          R      mAP50  mAP50-95): 100%|██████████| 2/2 [00:01<00:00,  1.11it/s]"
     ]
    },
    {
     "name": "stdout",
     "output_type": "stream",
     "text": [
      "                   all        127        909      0.719      0.606      0.666      0.377\n"
     ]
    },
    {
     "name": "stderr",
     "output_type": "stream",
     "text": [
      "\n"
     ]
    },
    {
     "name": "stdout",
     "output_type": "stream",
     "text": [
      "\n",
      "      Epoch    GPU_mem   box_loss   cls_loss   dfl_loss  Instances       Size\n"
     ]
    },
    {
     "name": "stderr",
     "output_type": "stream",
     "text": [
      "      34/50      2.37G      1.341      1.002      1.061        526        416: 100%|██████████| 14/14 [00:05<00:00,  2.57it/s]\n",
      "                 Class     Images  Instances      Box(P          R      mAP50  mAP50-95): 100%|██████████| 2/2 [00:01<00:00,  1.38it/s]"
     ]
    },
    {
     "name": "stdout",
     "output_type": "stream",
     "text": [
      "                   all        127        909      0.693      0.607      0.658      0.373\n"
     ]
    },
    {
     "name": "stderr",
     "output_type": "stream",
     "text": [
      "\n"
     ]
    },
    {
     "name": "stdout",
     "output_type": "stream",
     "text": [
      "\n",
      "      Epoch    GPU_mem   box_loss   cls_loss   dfl_loss  Instances       Size\n"
     ]
    },
    {
     "name": "stderr",
     "output_type": "stream",
     "text": [
      "      35/50       2.1G      1.342      0.994       1.06        395        416: 100%|██████████| 14/14 [00:06<00:00,  2.17it/s]\n",
      "                 Class     Images  Instances      Box(P          R      mAP50  mAP50-95): 100%|██████████| 2/2 [00:01<00:00,  1.46it/s]"
     ]
    },
    {
     "name": "stdout",
     "output_type": "stream",
     "text": [
      "                   all        127        909      0.732      0.634      0.683      0.385\n"
     ]
    },
    {
     "name": "stderr",
     "output_type": "stream",
     "text": [
      "\n"
     ]
    },
    {
     "name": "stdout",
     "output_type": "stream",
     "text": [
      "\n",
      "      Epoch    GPU_mem   box_loss   cls_loss   dfl_loss  Instances       Size\n"
     ]
    },
    {
     "name": "stderr",
     "output_type": "stream",
     "text": [
      "      36/50       2.1G       1.34      1.004      1.064        411        416: 100%|██████████| 14/14 [00:05<00:00,  2.68it/s]\n",
      "                 Class     Images  Instances      Box(P          R      mAP50  mAP50-95): 100%|██████████| 2/2 [00:01<00:00,  1.05it/s]"
     ]
    },
    {
     "name": "stdout",
     "output_type": "stream",
     "text": [
      "                   all        127        909      0.724      0.671        0.7      0.396\n"
     ]
    },
    {
     "name": "stderr",
     "output_type": "stream",
     "text": [
      "\n"
     ]
    },
    {
     "name": "stdout",
     "output_type": "stream",
     "text": [
      "\n",
      "      Epoch    GPU_mem   box_loss   cls_loss   dfl_loss  Instances       Size\n"
     ]
    },
    {
     "name": "stderr",
     "output_type": "stream",
     "text": [
      "      37/50      2.18G      1.323     0.9758      1.057        362        416: 100%|██████████| 14/14 [00:05<00:00,  2.59it/s]\n",
      "                 Class     Images  Instances      Box(P          R      mAP50  mAP50-95): 100%|██████████| 2/2 [00:01<00:00,  1.30it/s]"
     ]
    },
    {
     "name": "stdout",
     "output_type": "stream",
     "text": [
      "                   all        127        909       0.78       0.62      0.701       0.39\n"
     ]
    },
    {
     "name": "stderr",
     "output_type": "stream",
     "text": [
      "\n"
     ]
    },
    {
     "name": "stdout",
     "output_type": "stream",
     "text": [
      "\n",
      "      Epoch    GPU_mem   box_loss   cls_loss   dfl_loss  Instances       Size\n"
     ]
    },
    {
     "name": "stderr",
     "output_type": "stream",
     "text": [
      "      38/50      2.12G      1.269     0.9707      1.049        275        416: 100%|██████████| 14/14 [00:06<00:00,  2.24it/s]\n",
      "                 Class     Images  Instances      Box(P          R      mAP50  mAP50-95): 100%|██████████| 2/2 [00:01<00:00,  1.34it/s]"
     ]
    },
    {
     "name": "stdout",
     "output_type": "stream",
     "text": [
      "                   all        127        909      0.805      0.606      0.694      0.389\n"
     ]
    },
    {
     "name": "stderr",
     "output_type": "stream",
     "text": [
      "\n"
     ]
    },
    {
     "name": "stdout",
     "output_type": "stream",
     "text": [
      "\n",
      "      Epoch    GPU_mem   box_loss   cls_loss   dfl_loss  Instances       Size\n"
     ]
    },
    {
     "name": "stderr",
     "output_type": "stream",
     "text": [
      "      39/50      2.09G      1.273     0.9634      1.031        408        416: 100%|██████████| 14/14 [00:05<00:00,  2.64it/s]\n",
      "                 Class     Images  Instances      Box(P          R      mAP50  mAP50-95): 100%|██████████| 2/2 [00:01<00:00,  1.34it/s]"
     ]
    },
    {
     "name": "stdout",
     "output_type": "stream",
     "text": [
      "                   all        127        909      0.762      0.626      0.701      0.392\n"
     ]
    },
    {
     "name": "stderr",
     "output_type": "stream",
     "text": [
      "\n"
     ]
    },
    {
     "name": "stdout",
     "output_type": "stream",
     "text": [
      "\n",
      "      Epoch    GPU_mem   box_loss   cls_loss   dfl_loss  Instances       Size\n"
     ]
    },
    {
     "name": "stderr",
     "output_type": "stream",
     "text": [
      "      40/50      2.06G      1.292      0.952      1.025        428        416: 100%|██████████| 14/14 [00:05<00:00,  2.45it/s]\n",
      "                 Class     Images  Instances      Box(P          R      mAP50  mAP50-95): 100%|██████████| 2/2 [00:01<00:00,  1.34it/s]"
     ]
    },
    {
     "name": "stdout",
     "output_type": "stream",
     "text": [
      "                   all        127        909      0.744       0.64      0.697      0.394\n"
     ]
    },
    {
     "name": "stderr",
     "output_type": "stream",
     "text": [
      "\n"
     ]
    },
    {
     "name": "stdout",
     "output_type": "stream",
     "text": [
      "Closing dataloader mosaic\n",
      "\u001b[34m\u001b[1malbumentations: \u001b[0mBlur(p=0.01, blur_limit=(3, 7)), MedianBlur(p=0.01, blur_limit=(3, 7)), ToGray(p=0.01), CLAHE(p=0.01, clip_limit=(1, 4.0), tile_grid_size=(8, 8))\n"
     ]
    },
    {
     "name": "stderr",
     "output_type": "stream",
     "text": [
      "/usr/lib/python3.10/multiprocessing/popen_fork.py:66: RuntimeWarning: os.fork() was called. os.fork() is incompatible with multithreaded code, and JAX is multithreaded, so this will likely lead to a deadlock.\n",
      "  self.pid = os.fork()\n"
     ]
    },
    {
     "name": "stdout",
     "output_type": "stream",
     "text": [
      "\n",
      "      Epoch    GPU_mem   box_loss   cls_loss   dfl_loss  Instances       Size\n"
     ]
    },
    {
     "name": "stderr",
     "output_type": "stream",
     "text": [
      "      41/50      2.16G      1.231     0.9906      1.007        232        416: 100%|██████████| 14/14 [00:10<00:00,  1.35it/s]\n",
      "                 Class     Images  Instances      Box(P          R      mAP50  mAP50-95): 100%|██████████| 2/2 [00:01<00:00,  1.31it/s]"
     ]
    },
    {
     "name": "stdout",
     "output_type": "stream",
     "text": [
      "                   all        127        909      0.715      0.646      0.692      0.399\n"
     ]
    },
    {
     "name": "stderr",
     "output_type": "stream",
     "text": [
      "\n"
     ]
    },
    {
     "name": "stdout",
     "output_type": "stream",
     "text": [
      "\n",
      "      Epoch    GPU_mem   box_loss   cls_loss   dfl_loss  Instances       Size\n"
     ]
    },
    {
     "name": "stderr",
     "output_type": "stream",
     "text": [
      "      42/50      1.99G      1.227     0.9303      1.008        222        416: 100%|██████████| 14/14 [00:06<00:00,  2.31it/s]\n",
      "                 Class     Images  Instances      Box(P          R      mAP50  mAP50-95): 100%|██████████| 2/2 [00:01<00:00,  1.29it/s]"
     ]
    },
    {
     "name": "stdout",
     "output_type": "stream",
     "text": [
      "                   all        127        909      0.776      0.597      0.689      0.398\n"
     ]
    },
    {
     "name": "stderr",
     "output_type": "stream",
     "text": [
      "\n"
     ]
    },
    {
     "name": "stdout",
     "output_type": "stream",
     "text": [
      "\n",
      "      Epoch    GPU_mem   box_loss   cls_loss   dfl_loss  Instances       Size\n"
     ]
    },
    {
     "name": "stderr",
     "output_type": "stream",
     "text": [
      "      43/50      1.99G      1.188      0.889      1.006        234        416: 100%|██████████| 14/14 [00:05<00:00,  2.65it/s]\n",
      "                 Class     Images  Instances      Box(P          R      mAP50  mAP50-95): 100%|██████████| 2/2 [00:01<00:00,  1.66it/s]"
     ]
    },
    {
     "name": "stdout",
     "output_type": "stream",
     "text": [
      "                   all        127        909      0.761       0.62      0.694      0.399\n"
     ]
    },
    {
     "name": "stderr",
     "output_type": "stream",
     "text": [
      "\n"
     ]
    },
    {
     "name": "stdout",
     "output_type": "stream",
     "text": [
      "\n",
      "      Epoch    GPU_mem   box_loss   cls_loss   dfl_loss  Instances       Size\n"
     ]
    },
    {
     "name": "stderr",
     "output_type": "stream",
     "text": [
      "      44/50      2.02G      1.171     0.8664     0.9916        265        416: 100%|██████████| 14/14 [00:05<00:00,  2.39it/s]\n",
      "                 Class     Images  Instances      Box(P          R      mAP50  mAP50-95): 100%|██████████| 2/2 [00:01<00:00,  1.29it/s]"
     ]
    },
    {
     "name": "stdout",
     "output_type": "stream",
     "text": [
      "                   all        127        909      0.752      0.643      0.704      0.399\n"
     ]
    },
    {
     "name": "stderr",
     "output_type": "stream",
     "text": [
      "\n"
     ]
    },
    {
     "name": "stdout",
     "output_type": "stream",
     "text": [
      "\n",
      "      Epoch    GPU_mem   box_loss   cls_loss   dfl_loss  Instances       Size\n"
     ]
    },
    {
     "name": "stderr",
     "output_type": "stream",
     "text": [
      "      45/50      2.05G      1.203     0.8641      1.003        171        416: 100%|██████████| 14/14 [00:04<00:00,  3.02it/s]\n",
      "                 Class     Images  Instances      Box(P          R      mAP50  mAP50-95): 100%|██████████| 2/2 [00:02<00:00,  1.31s/it]"
     ]
    },
    {
     "name": "stdout",
     "output_type": "stream",
     "text": [
      "                   all        127        909       0.75      0.647        0.7      0.402\n"
     ]
    },
    {
     "name": "stderr",
     "output_type": "stream",
     "text": [
      "\n"
     ]
    },
    {
     "name": "stdout",
     "output_type": "stream",
     "text": [
      "\n",
      "      Epoch    GPU_mem   box_loss   cls_loss   dfl_loss  Instances       Size\n"
     ]
    },
    {
     "name": "stderr",
     "output_type": "stream",
     "text": [
      "      46/50       2.1G       1.18       0.85     0.9864        220        416: 100%|██████████| 14/14 [00:04<00:00,  2.92it/s]\n",
      "                 Class     Images  Instances      Box(P          R      mAP50  mAP50-95): 100%|██████████| 2/2 [00:01<00:00,  1.47it/s]"
     ]
    },
    {
     "name": "stdout",
     "output_type": "stream",
     "text": [
      "                   all        127        909      0.756      0.654      0.707      0.411\n"
     ]
    },
    {
     "name": "stderr",
     "output_type": "stream",
     "text": [
      "\n"
     ]
    },
    {
     "name": "stdout",
     "output_type": "stream",
     "text": [
      "\n",
      "      Epoch    GPU_mem   box_loss   cls_loss   dfl_loss  Instances       Size\n"
     ]
    },
    {
     "name": "stderr",
     "output_type": "stream",
     "text": [
      "      47/50      2.11G      1.178     0.8467      1.003        235        416: 100%|██████████| 14/14 [00:05<00:00,  2.36it/s]\n",
      "                 Class     Images  Instances      Box(P          R      mAP50  mAP50-95): 100%|██████████| 2/2 [00:01<00:00,  1.29it/s]"
     ]
    },
    {
     "name": "stdout",
     "output_type": "stream",
     "text": [
      "                   all        127        909      0.783      0.638      0.709      0.404\n"
     ]
    },
    {
     "name": "stderr",
     "output_type": "stream",
     "text": [
      "\n"
     ]
    },
    {
     "name": "stdout",
     "output_type": "stream",
     "text": [
      "\n",
      "      Epoch    GPU_mem   box_loss   cls_loss   dfl_loss  Instances       Size\n"
     ]
    },
    {
     "name": "stderr",
     "output_type": "stream",
     "text": [
      "      48/50      2.06G      1.166     0.8466     0.9988        240        416: 100%|██████████| 14/14 [00:05<00:00,  2.74it/s]\n",
      "                 Class     Images  Instances      Box(P          R      mAP50  mAP50-95): 100%|██████████| 2/2 [00:01<00:00,  1.47it/s]"
     ]
    },
    {
     "name": "stdout",
     "output_type": "stream",
     "text": [
      "                   all        127        909      0.774      0.637      0.705      0.403\n"
     ]
    },
    {
     "name": "stderr",
     "output_type": "stream",
     "text": [
      "\n"
     ]
    },
    {
     "name": "stdout",
     "output_type": "stream",
     "text": [
      "\n",
      "      Epoch    GPU_mem   box_loss   cls_loss   dfl_loss  Instances       Size\n"
     ]
    },
    {
     "name": "stderr",
     "output_type": "stream",
     "text": [
      "      49/50      1.96G      1.158     0.8211     0.9842        252        416: 100%|██████████| 14/14 [00:05<00:00,  2.45it/s]\n",
      "                 Class     Images  Instances      Box(P          R      mAP50  mAP50-95): 100%|██████████| 2/2 [00:01<00:00,  1.40it/s]"
     ]
    },
    {
     "name": "stdout",
     "output_type": "stream",
     "text": [
      "                   all        127        909      0.763      0.669      0.707      0.403\n"
     ]
    },
    {
     "name": "stderr",
     "output_type": "stream",
     "text": [
      "\n"
     ]
    },
    {
     "name": "stdout",
     "output_type": "stream",
     "text": [
      "\n",
      "      Epoch    GPU_mem   box_loss   cls_loss   dfl_loss  Instances       Size\n"
     ]
    },
    {
     "name": "stderr",
     "output_type": "stream",
     "text": [
      "      50/50      2.12G      1.155     0.8211     0.9853        274        416: 100%|██████████| 14/14 [00:05<00:00,  2.74it/s]\n",
      "                 Class     Images  Instances      Box(P          R      mAP50  mAP50-95): 100%|██████████| 2/2 [00:01<00:00,  1.02it/s]"
     ]
    },
    {
     "name": "stdout",
     "output_type": "stream",
     "text": [
      "                   all        127        909      0.762      0.669      0.703      0.402\n"
     ]
    },
    {
     "name": "stderr",
     "output_type": "stream",
     "text": [
      "\n"
     ]
    },
    {
     "name": "stdout",
     "output_type": "stream",
     "text": [
      "\n",
      "50 epochs completed in 0.121 hours.\n",
      "Optimizer stripped from runs/detect/train/weights/last.pt, 6.2MB\n",
      "Optimizer stripped from runs/detect/train/weights/best.pt, 6.2MB\n",
      "\n",
      "Validating runs/detect/train/weights/best.pt...\n",
      "Ultralytics YOLOv8.1.47 🚀 Python-3.10.12 torch-2.2.1+cu121 CUDA:0 (Tesla T4, 15102MiB)\n",
      "Model summary (fused): 168 layers, 3007013 parameters, 0 gradients, 8.1 GFLOPs\n"
     ]
    },
    {
     "name": "stderr",
     "output_type": "stream",
     "text": [
      "                 Class     Images  Instances      Box(P          R      mAP50  mAP50-95): 100%|██████████| 2/2 [00:02<00:00,  1.09s/it]\n"
     ]
    },
    {
     "name": "stdout",
     "output_type": "stream",
     "text": [
      "                   all        127        909      0.756      0.656      0.707       0.41\n",
      "                  fish        127        459      0.836      0.634      0.754      0.393\n",
      "             jellyfish        127        155      0.852      0.871      0.907      0.496\n",
      "               penguin        127        104      0.616      0.615      0.634       0.29\n",
      "                puffin        127         74      0.621      0.446      0.495      0.238\n",
      "                 shark        127         57      0.662      0.632      0.641      0.401\n",
      "              starfish        127         27      0.904      0.667      0.769      0.555\n",
      "              stingray        127         33        0.8      0.727      0.746      0.495\n",
      "Speed: 0.1ms preprocess, 1.2ms inference, 0.0ms loss, 2.3ms postprocess per image\n",
      "Results saved to \u001b[1mruns/detect/train\u001b[0m\n"
     ]
    },
    {
     "data": {
      "text/plain": [
       "ultralytics.utils.metrics.DetMetrics object with attributes:\n",
       "\n",
       "ap_class_index: array([0, 1, 2, 3, 4, 5, 6])\n",
       "box: ultralytics.utils.metrics.Metric object\n",
       "confusion_matrix: <ultralytics.utils.metrics.ConfusionMatrix object at 0x7f4ae1515630>\n",
       "curves: ['Precision-Recall(B)', 'F1-Confidence(B)', 'Precision-Confidence(B)', 'Recall-Confidence(B)']\n",
       "curves_results: [[array([          0,    0.001001,    0.002002,    0.003003,    0.004004,    0.005005,    0.006006,    0.007007,    0.008008,    0.009009,     0.01001,    0.011011,    0.012012,    0.013013,    0.014014,    0.015015,    0.016016,    0.017017,    0.018018,    0.019019,     0.02002,    0.021021,    0.022022,    0.023023,\n",
       "          0.024024,    0.025025,    0.026026,    0.027027,    0.028028,    0.029029,     0.03003,    0.031031,    0.032032,    0.033033,    0.034034,    0.035035,    0.036036,    0.037037,    0.038038,    0.039039,     0.04004,    0.041041,    0.042042,    0.043043,    0.044044,    0.045045,    0.046046,    0.047047,\n",
       "          0.048048,    0.049049,     0.05005,    0.051051,    0.052052,    0.053053,    0.054054,    0.055055,    0.056056,    0.057057,    0.058058,    0.059059,     0.06006,    0.061061,    0.062062,    0.063063,    0.064064,    0.065065,    0.066066,    0.067067,    0.068068,    0.069069,     0.07007,    0.071071,\n",
       "          0.072072,    0.073073,    0.074074,    0.075075,    0.076076,    0.077077,    0.078078,    0.079079,     0.08008,    0.081081,    0.082082,    0.083083,    0.084084,    0.085085,    0.086086,    0.087087,    0.088088,    0.089089,     0.09009,    0.091091,    0.092092,    0.093093,    0.094094,    0.095095,\n",
       "          0.096096,    0.097097,    0.098098,    0.099099,      0.1001,      0.1011,      0.1021,      0.1031,      0.1041,     0.10511,     0.10611,     0.10711,     0.10811,     0.10911,     0.11011,     0.11111,     0.11211,     0.11311,     0.11411,     0.11512,     0.11612,     0.11712,     0.11812,     0.11912,\n",
       "           0.12012,     0.12112,     0.12212,     0.12312,     0.12412,     0.12513,     0.12613,     0.12713,     0.12813,     0.12913,     0.13013,     0.13113,     0.13213,     0.13313,     0.13413,     0.13514,     0.13614,     0.13714,     0.13814,     0.13914,     0.14014,     0.14114,     0.14214,     0.14314,\n",
       "           0.14414,     0.14515,     0.14615,     0.14715,     0.14815,     0.14915,     0.15015,     0.15115,     0.15215,     0.15315,     0.15415,     0.15516,     0.15616,     0.15716,     0.15816,     0.15916,     0.16016,     0.16116,     0.16216,     0.16316,     0.16416,     0.16517,     0.16617,     0.16717,\n",
       "           0.16817,     0.16917,     0.17017,     0.17117,     0.17217,     0.17317,     0.17417,     0.17518,     0.17618,     0.17718,     0.17818,     0.17918,     0.18018,     0.18118,     0.18218,     0.18318,     0.18418,     0.18519,     0.18619,     0.18719,     0.18819,     0.18919,     0.19019,     0.19119,\n",
       "           0.19219,     0.19319,     0.19419,      0.1952,      0.1962,      0.1972,      0.1982,      0.1992,      0.2002,      0.2012,      0.2022,      0.2032,      0.2042,     0.20521,     0.20621,     0.20721,     0.20821,     0.20921,     0.21021,     0.21121,     0.21221,     0.21321,     0.21421,     0.21522,\n",
       "           0.21622,     0.21722,     0.21822,     0.21922,     0.22022,     0.22122,     0.22222,     0.22322,     0.22422,     0.22523,     0.22623,     0.22723,     0.22823,     0.22923,     0.23023,     0.23123,     0.23223,     0.23323,     0.23423,     0.23524,     0.23624,     0.23724,     0.23824,     0.23924,\n",
       "           0.24024,     0.24124,     0.24224,     0.24324,     0.24424,     0.24525,     0.24625,     0.24725,     0.24825,     0.24925,     0.25025,     0.25125,     0.25225,     0.25325,     0.25425,     0.25526,     0.25626,     0.25726,     0.25826,     0.25926,     0.26026,     0.26126,     0.26226,     0.26326,\n",
       "           0.26426,     0.26527,     0.26627,     0.26727,     0.26827,     0.26927,     0.27027,     0.27127,     0.27227,     0.27327,     0.27427,     0.27528,     0.27628,     0.27728,     0.27828,     0.27928,     0.28028,     0.28128,     0.28228,     0.28328,     0.28428,     0.28529,     0.28629,     0.28729,\n",
       "           0.28829,     0.28929,     0.29029,     0.29129,     0.29229,     0.29329,     0.29429,      0.2953,      0.2963,      0.2973,      0.2983,      0.2993,      0.3003,      0.3013,      0.3023,      0.3033,      0.3043,     0.30531,     0.30631,     0.30731,     0.30831,     0.30931,     0.31031,     0.31131,\n",
       "           0.31231,     0.31331,     0.31431,     0.31532,     0.31632,     0.31732,     0.31832,     0.31932,     0.32032,     0.32132,     0.32232,     0.32332,     0.32432,     0.32533,     0.32633,     0.32733,     0.32833,     0.32933,     0.33033,     0.33133,     0.33233,     0.33333,     0.33433,     0.33534,\n",
       "           0.33634,     0.33734,     0.33834,     0.33934,     0.34034,     0.34134,     0.34234,     0.34334,     0.34434,     0.34535,     0.34635,     0.34735,     0.34835,     0.34935,     0.35035,     0.35135,     0.35235,     0.35335,     0.35435,     0.35536,     0.35636,     0.35736,     0.35836,     0.35936,\n",
       "           0.36036,     0.36136,     0.36236,     0.36336,     0.36436,     0.36537,     0.36637,     0.36737,     0.36837,     0.36937,     0.37037,     0.37137,     0.37237,     0.37337,     0.37437,     0.37538,     0.37638,     0.37738,     0.37838,     0.37938,     0.38038,     0.38138,     0.38238,     0.38338,\n",
       "           0.38438,     0.38539,     0.38639,     0.38739,     0.38839,     0.38939,     0.39039,     0.39139,     0.39239,     0.39339,     0.39439,      0.3954,      0.3964,      0.3974,      0.3984,      0.3994,      0.4004,      0.4014,      0.4024,      0.4034,      0.4044,     0.40541,     0.40641,     0.40741,\n",
       "           0.40841,     0.40941,     0.41041,     0.41141,     0.41241,     0.41341,     0.41441,     0.41542,     0.41642,     0.41742,     0.41842,     0.41942,     0.42042,     0.42142,     0.42242,     0.42342,     0.42442,     0.42543,     0.42643,     0.42743,     0.42843,     0.42943,     0.43043,     0.43143,\n",
       "           0.43243,     0.43343,     0.43443,     0.43544,     0.43644,     0.43744,     0.43844,     0.43944,     0.44044,     0.44144,     0.44244,     0.44344,     0.44444,     0.44545,     0.44645,     0.44745,     0.44845,     0.44945,     0.45045,     0.45145,     0.45245,     0.45345,     0.45445,     0.45546,\n",
       "           0.45646,     0.45746,     0.45846,     0.45946,     0.46046,     0.46146,     0.46246,     0.46346,     0.46446,     0.46547,     0.46647,     0.46747,     0.46847,     0.46947,     0.47047,     0.47147,     0.47247,     0.47347,     0.47447,     0.47548,     0.47648,     0.47748,     0.47848,     0.47948,\n",
       "           0.48048,     0.48148,     0.48248,     0.48348,     0.48448,     0.48549,     0.48649,     0.48749,     0.48849,     0.48949,     0.49049,     0.49149,     0.49249,     0.49349,     0.49449,      0.4955,      0.4965,      0.4975,      0.4985,      0.4995,      0.5005,      0.5015,      0.5025,      0.5035,\n",
       "            0.5045,     0.50551,     0.50651,     0.50751,     0.50851,     0.50951,     0.51051,     0.51151,     0.51251,     0.51351,     0.51451,     0.51552,     0.51652,     0.51752,     0.51852,     0.51952,     0.52052,     0.52152,     0.52252,     0.52352,     0.52452,     0.52553,     0.52653,     0.52753,\n",
       "           0.52853,     0.52953,     0.53053,     0.53153,     0.53253,     0.53353,     0.53453,     0.53554,     0.53654,     0.53754,     0.53854,     0.53954,     0.54054,     0.54154,     0.54254,     0.54354,     0.54454,     0.54555,     0.54655,     0.54755,     0.54855,     0.54955,     0.55055,     0.55155,\n",
       "           0.55255,     0.55355,     0.55455,     0.55556,     0.55656,     0.55756,     0.55856,     0.55956,     0.56056,     0.56156,     0.56256,     0.56356,     0.56456,     0.56557,     0.56657,     0.56757,     0.56857,     0.56957,     0.57057,     0.57157,     0.57257,     0.57357,     0.57457,     0.57558,\n",
       "           0.57658,     0.57758,     0.57858,     0.57958,     0.58058,     0.58158,     0.58258,     0.58358,     0.58458,     0.58559,     0.58659,     0.58759,     0.58859,     0.58959,     0.59059,     0.59159,     0.59259,     0.59359,     0.59459,      0.5956,      0.5966,      0.5976,      0.5986,      0.5996,\n",
       "            0.6006,      0.6016,      0.6026,      0.6036,      0.6046,     0.60561,     0.60661,     0.60761,     0.60861,     0.60961,     0.61061,     0.61161,     0.61261,     0.61361,     0.61461,     0.61562,     0.61662,     0.61762,     0.61862,     0.61962,     0.62062,     0.62162,     0.62262,     0.62362,\n",
       "           0.62462,     0.62563,     0.62663,     0.62763,     0.62863,     0.62963,     0.63063,     0.63163,     0.63263,     0.63363,     0.63463,     0.63564,     0.63664,     0.63764,     0.63864,     0.63964,     0.64064,     0.64164,     0.64264,     0.64364,     0.64464,     0.64565,     0.64665,     0.64765,\n",
       "           0.64865,     0.64965,     0.65065,     0.65165,     0.65265,     0.65365,     0.65465,     0.65566,     0.65666,     0.65766,     0.65866,     0.65966,     0.66066,     0.66166,     0.66266,     0.66366,     0.66466,     0.66567,     0.66667,     0.66767,     0.66867,     0.66967,     0.67067,     0.67167,\n",
       "           0.67267,     0.67367,     0.67467,     0.67568,     0.67668,     0.67768,     0.67868,     0.67968,     0.68068,     0.68168,     0.68268,     0.68368,     0.68468,     0.68569,     0.68669,     0.68769,     0.68869,     0.68969,     0.69069,     0.69169,     0.69269,     0.69369,     0.69469,      0.6957,\n",
       "            0.6967,      0.6977,      0.6987,      0.6997,      0.7007,      0.7017,      0.7027,      0.7037,      0.7047,     0.70571,     0.70671,     0.70771,     0.70871,     0.70971,     0.71071,     0.71171,     0.71271,     0.71371,     0.71471,     0.71572,     0.71672,     0.71772,     0.71872,     0.71972,\n",
       "           0.72072,     0.72172,     0.72272,     0.72372,     0.72472,     0.72573,     0.72673,     0.72773,     0.72873,     0.72973,     0.73073,     0.73173,     0.73273,     0.73373,     0.73473,     0.73574,     0.73674,     0.73774,     0.73874,     0.73974,     0.74074,     0.74174,     0.74274,     0.74374,\n",
       "           0.74474,     0.74575,     0.74675,     0.74775,     0.74875,     0.74975,     0.75075,     0.75175,     0.75275,     0.75375,     0.75475,     0.75576,     0.75676,     0.75776,     0.75876,     0.75976,     0.76076,     0.76176,     0.76276,     0.76376,     0.76476,     0.76577,     0.76677,     0.76777,\n",
       "           0.76877,     0.76977,     0.77077,     0.77177,     0.77277,     0.77377,     0.77477,     0.77578,     0.77678,     0.77778,     0.77878,     0.77978,     0.78078,     0.78178,     0.78278,     0.78378,     0.78478,     0.78579,     0.78679,     0.78779,     0.78879,     0.78979,     0.79079,     0.79179,\n",
       "           0.79279,     0.79379,     0.79479,      0.7958,      0.7968,      0.7978,      0.7988,      0.7998,      0.8008,      0.8018,      0.8028,      0.8038,      0.8048,     0.80581,     0.80681,     0.80781,     0.80881,     0.80981,     0.81081,     0.81181,     0.81281,     0.81381,     0.81481,     0.81582,\n",
       "           0.81682,     0.81782,     0.81882,     0.81982,     0.82082,     0.82182,     0.82282,     0.82382,     0.82482,     0.82583,     0.82683,     0.82783,     0.82883,     0.82983,     0.83083,     0.83183,     0.83283,     0.83383,     0.83483,     0.83584,     0.83684,     0.83784,     0.83884,     0.83984,\n",
       "           0.84084,     0.84184,     0.84284,     0.84384,     0.84484,     0.84585,     0.84685,     0.84785,     0.84885,     0.84985,     0.85085,     0.85185,     0.85285,     0.85385,     0.85485,     0.85586,     0.85686,     0.85786,     0.85886,     0.85986,     0.86086,     0.86186,     0.86286,     0.86386,\n",
       "           0.86486,     0.86587,     0.86687,     0.86787,     0.86887,     0.86987,     0.87087,     0.87187,     0.87287,     0.87387,     0.87487,     0.87588,     0.87688,     0.87788,     0.87888,     0.87988,     0.88088,     0.88188,     0.88288,     0.88388,     0.88488,     0.88589,     0.88689,     0.88789,\n",
       "           0.88889,     0.88989,     0.89089,     0.89189,     0.89289,     0.89389,     0.89489,      0.8959,      0.8969,      0.8979,      0.8989,      0.8999,      0.9009,      0.9019,      0.9029,      0.9039,      0.9049,     0.90591,     0.90691,     0.90791,     0.90891,     0.90991,     0.91091,     0.91191,\n",
       "           0.91291,     0.91391,     0.91491,     0.91592,     0.91692,     0.91792,     0.91892,     0.91992,     0.92092,     0.92192,     0.92292,     0.92392,     0.92492,     0.92593,     0.92693,     0.92793,     0.92893,     0.92993,     0.93093,     0.93193,     0.93293,     0.93393,     0.93493,     0.93594,\n",
       "           0.93694,     0.93794,     0.93894,     0.93994,     0.94094,     0.94194,     0.94294,     0.94394,     0.94494,     0.94595,     0.94695,     0.94795,     0.94895,     0.94995,     0.95095,     0.95195,     0.95295,     0.95395,     0.95495,     0.95596,     0.95696,     0.95796,     0.95896,     0.95996,\n",
       "           0.96096,     0.96196,     0.96296,     0.96396,     0.96496,     0.96597,     0.96697,     0.96797,     0.96897,     0.96997,     0.97097,     0.97197,     0.97297,     0.97397,     0.97497,     0.97598,     0.97698,     0.97798,     0.97898,     0.97998,     0.98098,     0.98198,     0.98298,     0.98398,\n",
       "           0.98498,     0.98599,     0.98699,     0.98799,     0.98899,     0.98999,     0.99099,     0.99199,     0.99299,     0.99399,     0.99499,       0.996,       0.997,       0.998,       0.999,           1]), array([[          1,           1,           1, ...,     0.00156,  0.00077998,           0],\n",
       "       [          1,           1,           1, ...,   0.0060543,   0.0030271,           0],\n",
       "       [          1,           1,           1, ...,  0.00074404,  0.00037202,           0],\n",
       "       ...,\n",
       "       [          1,           1,           1, ...,   0.0008626,   0.0004313,           0],\n",
       "       [          1,           1,           1, ...,  0.00039194,  0.00019597,           0],\n",
       "       [          1,           1,           1, ...,   0.0012363,  0.00061816,           0]]), 'Recall', 'Precision'], [array([          0,    0.001001,    0.002002,    0.003003,    0.004004,    0.005005,    0.006006,    0.007007,    0.008008,    0.009009,     0.01001,    0.011011,    0.012012,    0.013013,    0.014014,    0.015015,    0.016016,    0.017017,    0.018018,    0.019019,     0.02002,    0.021021,    0.022022,    0.023023,\n",
       "          0.024024,    0.025025,    0.026026,    0.027027,    0.028028,    0.029029,     0.03003,    0.031031,    0.032032,    0.033033,    0.034034,    0.035035,    0.036036,    0.037037,    0.038038,    0.039039,     0.04004,    0.041041,    0.042042,    0.043043,    0.044044,    0.045045,    0.046046,    0.047047,\n",
       "          0.048048,    0.049049,     0.05005,    0.051051,    0.052052,    0.053053,    0.054054,    0.055055,    0.056056,    0.057057,    0.058058,    0.059059,     0.06006,    0.061061,    0.062062,    0.063063,    0.064064,    0.065065,    0.066066,    0.067067,    0.068068,    0.069069,     0.07007,    0.071071,\n",
       "          0.072072,    0.073073,    0.074074,    0.075075,    0.076076,    0.077077,    0.078078,    0.079079,     0.08008,    0.081081,    0.082082,    0.083083,    0.084084,    0.085085,    0.086086,    0.087087,    0.088088,    0.089089,     0.09009,    0.091091,    0.092092,    0.093093,    0.094094,    0.095095,\n",
       "          0.096096,    0.097097,    0.098098,    0.099099,      0.1001,      0.1011,      0.1021,      0.1031,      0.1041,     0.10511,     0.10611,     0.10711,     0.10811,     0.10911,     0.11011,     0.11111,     0.11211,     0.11311,     0.11411,     0.11512,     0.11612,     0.11712,     0.11812,     0.11912,\n",
       "           0.12012,     0.12112,     0.12212,     0.12312,     0.12412,     0.12513,     0.12613,     0.12713,     0.12813,     0.12913,     0.13013,     0.13113,     0.13213,     0.13313,     0.13413,     0.13514,     0.13614,     0.13714,     0.13814,     0.13914,     0.14014,     0.14114,     0.14214,     0.14314,\n",
       "           0.14414,     0.14515,     0.14615,     0.14715,     0.14815,     0.14915,     0.15015,     0.15115,     0.15215,     0.15315,     0.15415,     0.15516,     0.15616,     0.15716,     0.15816,     0.15916,     0.16016,     0.16116,     0.16216,     0.16316,     0.16416,     0.16517,     0.16617,     0.16717,\n",
       "           0.16817,     0.16917,     0.17017,     0.17117,     0.17217,     0.17317,     0.17417,     0.17518,     0.17618,     0.17718,     0.17818,     0.17918,     0.18018,     0.18118,     0.18218,     0.18318,     0.18418,     0.18519,     0.18619,     0.18719,     0.18819,     0.18919,     0.19019,     0.19119,\n",
       "           0.19219,     0.19319,     0.19419,      0.1952,      0.1962,      0.1972,      0.1982,      0.1992,      0.2002,      0.2012,      0.2022,      0.2032,      0.2042,     0.20521,     0.20621,     0.20721,     0.20821,     0.20921,     0.21021,     0.21121,     0.21221,     0.21321,     0.21421,     0.21522,\n",
       "           0.21622,     0.21722,     0.21822,     0.21922,     0.22022,     0.22122,     0.22222,     0.22322,     0.22422,     0.22523,     0.22623,     0.22723,     0.22823,     0.22923,     0.23023,     0.23123,     0.23223,     0.23323,     0.23423,     0.23524,     0.23624,     0.23724,     0.23824,     0.23924,\n",
       "           0.24024,     0.24124,     0.24224,     0.24324,     0.24424,     0.24525,     0.24625,     0.24725,     0.24825,     0.24925,     0.25025,     0.25125,     0.25225,     0.25325,     0.25425,     0.25526,     0.25626,     0.25726,     0.25826,     0.25926,     0.26026,     0.26126,     0.26226,     0.26326,\n",
       "           0.26426,     0.26527,     0.26627,     0.26727,     0.26827,     0.26927,     0.27027,     0.27127,     0.27227,     0.27327,     0.27427,     0.27528,     0.27628,     0.27728,     0.27828,     0.27928,     0.28028,     0.28128,     0.28228,     0.28328,     0.28428,     0.28529,     0.28629,     0.28729,\n",
       "           0.28829,     0.28929,     0.29029,     0.29129,     0.29229,     0.29329,     0.29429,      0.2953,      0.2963,      0.2973,      0.2983,      0.2993,      0.3003,      0.3013,      0.3023,      0.3033,      0.3043,     0.30531,     0.30631,     0.30731,     0.30831,     0.30931,     0.31031,     0.31131,\n",
       "           0.31231,     0.31331,     0.31431,     0.31532,     0.31632,     0.31732,     0.31832,     0.31932,     0.32032,     0.32132,     0.32232,     0.32332,     0.32432,     0.32533,     0.32633,     0.32733,     0.32833,     0.32933,     0.33033,     0.33133,     0.33233,     0.33333,     0.33433,     0.33534,\n",
       "           0.33634,     0.33734,     0.33834,     0.33934,     0.34034,     0.34134,     0.34234,     0.34334,     0.34434,     0.34535,     0.34635,     0.34735,     0.34835,     0.34935,     0.35035,     0.35135,     0.35235,     0.35335,     0.35435,     0.35536,     0.35636,     0.35736,     0.35836,     0.35936,\n",
       "           0.36036,     0.36136,     0.36236,     0.36336,     0.36436,     0.36537,     0.36637,     0.36737,     0.36837,     0.36937,     0.37037,     0.37137,     0.37237,     0.37337,     0.37437,     0.37538,     0.37638,     0.37738,     0.37838,     0.37938,     0.38038,     0.38138,     0.38238,     0.38338,\n",
       "           0.38438,     0.38539,     0.38639,     0.38739,     0.38839,     0.38939,     0.39039,     0.39139,     0.39239,     0.39339,     0.39439,      0.3954,      0.3964,      0.3974,      0.3984,      0.3994,      0.4004,      0.4014,      0.4024,      0.4034,      0.4044,     0.40541,     0.40641,     0.40741,\n",
       "           0.40841,     0.40941,     0.41041,     0.41141,     0.41241,     0.41341,     0.41441,     0.41542,     0.41642,     0.41742,     0.41842,     0.41942,     0.42042,     0.42142,     0.42242,     0.42342,     0.42442,     0.42543,     0.42643,     0.42743,     0.42843,     0.42943,     0.43043,     0.43143,\n",
       "           0.43243,     0.43343,     0.43443,     0.43544,     0.43644,     0.43744,     0.43844,     0.43944,     0.44044,     0.44144,     0.44244,     0.44344,     0.44444,     0.44545,     0.44645,     0.44745,     0.44845,     0.44945,     0.45045,     0.45145,     0.45245,     0.45345,     0.45445,     0.45546,\n",
       "           0.45646,     0.45746,     0.45846,     0.45946,     0.46046,     0.46146,     0.46246,     0.46346,     0.46446,     0.46547,     0.46647,     0.46747,     0.46847,     0.46947,     0.47047,     0.47147,     0.47247,     0.47347,     0.47447,     0.47548,     0.47648,     0.47748,     0.47848,     0.47948,\n",
       "           0.48048,     0.48148,     0.48248,     0.48348,     0.48448,     0.48549,     0.48649,     0.48749,     0.48849,     0.48949,     0.49049,     0.49149,     0.49249,     0.49349,     0.49449,      0.4955,      0.4965,      0.4975,      0.4985,      0.4995,      0.5005,      0.5015,      0.5025,      0.5035,\n",
       "            0.5045,     0.50551,     0.50651,     0.50751,     0.50851,     0.50951,     0.51051,     0.51151,     0.51251,     0.51351,     0.51451,     0.51552,     0.51652,     0.51752,     0.51852,     0.51952,     0.52052,     0.52152,     0.52252,     0.52352,     0.52452,     0.52553,     0.52653,     0.52753,\n",
       "           0.52853,     0.52953,     0.53053,     0.53153,     0.53253,     0.53353,     0.53453,     0.53554,     0.53654,     0.53754,     0.53854,     0.53954,     0.54054,     0.54154,     0.54254,     0.54354,     0.54454,     0.54555,     0.54655,     0.54755,     0.54855,     0.54955,     0.55055,     0.55155,\n",
       "           0.55255,     0.55355,     0.55455,     0.55556,     0.55656,     0.55756,     0.55856,     0.55956,     0.56056,     0.56156,     0.56256,     0.56356,     0.56456,     0.56557,     0.56657,     0.56757,     0.56857,     0.56957,     0.57057,     0.57157,     0.57257,     0.57357,     0.57457,     0.57558,\n",
       "           0.57658,     0.57758,     0.57858,     0.57958,     0.58058,     0.58158,     0.58258,     0.58358,     0.58458,     0.58559,     0.58659,     0.58759,     0.58859,     0.58959,     0.59059,     0.59159,     0.59259,     0.59359,     0.59459,      0.5956,      0.5966,      0.5976,      0.5986,      0.5996,\n",
       "            0.6006,      0.6016,      0.6026,      0.6036,      0.6046,     0.60561,     0.60661,     0.60761,     0.60861,     0.60961,     0.61061,     0.61161,     0.61261,     0.61361,     0.61461,     0.61562,     0.61662,     0.61762,     0.61862,     0.61962,     0.62062,     0.62162,     0.62262,     0.62362,\n",
       "           0.62462,     0.62563,     0.62663,     0.62763,     0.62863,     0.62963,     0.63063,     0.63163,     0.63263,     0.63363,     0.63463,     0.63564,     0.63664,     0.63764,     0.63864,     0.63964,     0.64064,     0.64164,     0.64264,     0.64364,     0.64464,     0.64565,     0.64665,     0.64765,\n",
       "           0.64865,     0.64965,     0.65065,     0.65165,     0.65265,     0.65365,     0.65465,     0.65566,     0.65666,     0.65766,     0.65866,     0.65966,     0.66066,     0.66166,     0.66266,     0.66366,     0.66466,     0.66567,     0.66667,     0.66767,     0.66867,     0.66967,     0.67067,     0.67167,\n",
       "           0.67267,     0.67367,     0.67467,     0.67568,     0.67668,     0.67768,     0.67868,     0.67968,     0.68068,     0.68168,     0.68268,     0.68368,     0.68468,     0.68569,     0.68669,     0.68769,     0.68869,     0.68969,     0.69069,     0.69169,     0.69269,     0.69369,     0.69469,      0.6957,\n",
       "            0.6967,      0.6977,      0.6987,      0.6997,      0.7007,      0.7017,      0.7027,      0.7037,      0.7047,     0.70571,     0.70671,     0.70771,     0.70871,     0.70971,     0.71071,     0.71171,     0.71271,     0.71371,     0.71471,     0.71572,     0.71672,     0.71772,     0.71872,     0.71972,\n",
       "           0.72072,     0.72172,     0.72272,     0.72372,     0.72472,     0.72573,     0.72673,     0.72773,     0.72873,     0.72973,     0.73073,     0.73173,     0.73273,     0.73373,     0.73473,     0.73574,     0.73674,     0.73774,     0.73874,     0.73974,     0.74074,     0.74174,     0.74274,     0.74374,\n",
       "           0.74474,     0.74575,     0.74675,     0.74775,     0.74875,     0.74975,     0.75075,     0.75175,     0.75275,     0.75375,     0.75475,     0.75576,     0.75676,     0.75776,     0.75876,     0.75976,     0.76076,     0.76176,     0.76276,     0.76376,     0.76476,     0.76577,     0.76677,     0.76777,\n",
       "           0.76877,     0.76977,     0.77077,     0.77177,     0.77277,     0.77377,     0.77477,     0.77578,     0.77678,     0.77778,     0.77878,     0.77978,     0.78078,     0.78178,     0.78278,     0.78378,     0.78478,     0.78579,     0.78679,     0.78779,     0.78879,     0.78979,     0.79079,     0.79179,\n",
       "           0.79279,     0.79379,     0.79479,      0.7958,      0.7968,      0.7978,      0.7988,      0.7998,      0.8008,      0.8018,      0.8028,      0.8038,      0.8048,     0.80581,     0.80681,     0.80781,     0.80881,     0.80981,     0.81081,     0.81181,     0.81281,     0.81381,     0.81481,     0.81582,\n",
       "           0.81682,     0.81782,     0.81882,     0.81982,     0.82082,     0.82182,     0.82282,     0.82382,     0.82482,     0.82583,     0.82683,     0.82783,     0.82883,     0.82983,     0.83083,     0.83183,     0.83283,     0.83383,     0.83483,     0.83584,     0.83684,     0.83784,     0.83884,     0.83984,\n",
       "           0.84084,     0.84184,     0.84284,     0.84384,     0.84484,     0.84585,     0.84685,     0.84785,     0.84885,     0.84985,     0.85085,     0.85185,     0.85285,     0.85385,     0.85485,     0.85586,     0.85686,     0.85786,     0.85886,     0.85986,     0.86086,     0.86186,     0.86286,     0.86386,\n",
       "           0.86486,     0.86587,     0.86687,     0.86787,     0.86887,     0.86987,     0.87087,     0.87187,     0.87287,     0.87387,     0.87487,     0.87588,     0.87688,     0.87788,     0.87888,     0.87988,     0.88088,     0.88188,     0.88288,     0.88388,     0.88488,     0.88589,     0.88689,     0.88789,\n",
       "           0.88889,     0.88989,     0.89089,     0.89189,     0.89289,     0.89389,     0.89489,      0.8959,      0.8969,      0.8979,      0.8989,      0.8999,      0.9009,      0.9019,      0.9029,      0.9039,      0.9049,     0.90591,     0.90691,     0.90791,     0.90891,     0.90991,     0.91091,     0.91191,\n",
       "           0.91291,     0.91391,     0.91491,     0.91592,     0.91692,     0.91792,     0.91892,     0.91992,     0.92092,     0.92192,     0.92292,     0.92392,     0.92492,     0.92593,     0.92693,     0.92793,     0.92893,     0.92993,     0.93093,     0.93193,     0.93293,     0.93393,     0.93493,     0.93594,\n",
       "           0.93694,     0.93794,     0.93894,     0.93994,     0.94094,     0.94194,     0.94294,     0.94394,     0.94494,     0.94595,     0.94695,     0.94795,     0.94895,     0.94995,     0.95095,     0.95195,     0.95295,     0.95395,     0.95495,     0.95596,     0.95696,     0.95796,     0.95896,     0.95996,\n",
       "           0.96096,     0.96196,     0.96296,     0.96396,     0.96496,     0.96597,     0.96697,     0.96797,     0.96897,     0.96997,     0.97097,     0.97197,     0.97297,     0.97397,     0.97497,     0.97598,     0.97698,     0.97798,     0.97898,     0.97998,     0.98098,     0.98198,     0.98298,     0.98398,\n",
       "           0.98498,     0.98599,     0.98699,     0.98799,     0.98899,     0.98999,     0.99099,     0.99199,     0.99299,     0.99399,     0.99499,       0.996,       0.997,       0.998,       0.999,           1]), array([[   0.071875,    0.071875,     0.10979, ...,           0,           0,           0],\n",
       "       [   0.075074,    0.075074,     0.13953, ...,           0,           0,           0],\n",
       "       [   0.055459,    0.055459,    0.090688, ...,           0,           0,           0],\n",
       "       ...,\n",
       "       [    0.02977,     0.02977,    0.065323, ...,           0,           0,           0],\n",
       "       [   0.056098,    0.056098,       0.122, ...,           0,           0,           0],\n",
       "       [   0.036718,    0.036718,    0.071581, ...,           0,           0,           0]]), 'Confidence', 'F1'], [array([          0,    0.001001,    0.002002,    0.003003,    0.004004,    0.005005,    0.006006,    0.007007,    0.008008,    0.009009,     0.01001,    0.011011,    0.012012,    0.013013,    0.014014,    0.015015,    0.016016,    0.017017,    0.018018,    0.019019,     0.02002,    0.021021,    0.022022,    0.023023,\n",
       "          0.024024,    0.025025,    0.026026,    0.027027,    0.028028,    0.029029,     0.03003,    0.031031,    0.032032,    0.033033,    0.034034,    0.035035,    0.036036,    0.037037,    0.038038,    0.039039,     0.04004,    0.041041,    0.042042,    0.043043,    0.044044,    0.045045,    0.046046,    0.047047,\n",
       "          0.048048,    0.049049,     0.05005,    0.051051,    0.052052,    0.053053,    0.054054,    0.055055,    0.056056,    0.057057,    0.058058,    0.059059,     0.06006,    0.061061,    0.062062,    0.063063,    0.064064,    0.065065,    0.066066,    0.067067,    0.068068,    0.069069,     0.07007,    0.071071,\n",
       "          0.072072,    0.073073,    0.074074,    0.075075,    0.076076,    0.077077,    0.078078,    0.079079,     0.08008,    0.081081,    0.082082,    0.083083,    0.084084,    0.085085,    0.086086,    0.087087,    0.088088,    0.089089,     0.09009,    0.091091,    0.092092,    0.093093,    0.094094,    0.095095,\n",
       "          0.096096,    0.097097,    0.098098,    0.099099,      0.1001,      0.1011,      0.1021,      0.1031,      0.1041,     0.10511,     0.10611,     0.10711,     0.10811,     0.10911,     0.11011,     0.11111,     0.11211,     0.11311,     0.11411,     0.11512,     0.11612,     0.11712,     0.11812,     0.11912,\n",
       "           0.12012,     0.12112,     0.12212,     0.12312,     0.12412,     0.12513,     0.12613,     0.12713,     0.12813,     0.12913,     0.13013,     0.13113,     0.13213,     0.13313,     0.13413,     0.13514,     0.13614,     0.13714,     0.13814,     0.13914,     0.14014,     0.14114,     0.14214,     0.14314,\n",
       "           0.14414,     0.14515,     0.14615,     0.14715,     0.14815,     0.14915,     0.15015,     0.15115,     0.15215,     0.15315,     0.15415,     0.15516,     0.15616,     0.15716,     0.15816,     0.15916,     0.16016,     0.16116,     0.16216,     0.16316,     0.16416,     0.16517,     0.16617,     0.16717,\n",
       "           0.16817,     0.16917,     0.17017,     0.17117,     0.17217,     0.17317,     0.17417,     0.17518,     0.17618,     0.17718,     0.17818,     0.17918,     0.18018,     0.18118,     0.18218,     0.18318,     0.18418,     0.18519,     0.18619,     0.18719,     0.18819,     0.18919,     0.19019,     0.19119,\n",
       "           0.19219,     0.19319,     0.19419,      0.1952,      0.1962,      0.1972,      0.1982,      0.1992,      0.2002,      0.2012,      0.2022,      0.2032,      0.2042,     0.20521,     0.20621,     0.20721,     0.20821,     0.20921,     0.21021,     0.21121,     0.21221,     0.21321,     0.21421,     0.21522,\n",
       "           0.21622,     0.21722,     0.21822,     0.21922,     0.22022,     0.22122,     0.22222,     0.22322,     0.22422,     0.22523,     0.22623,     0.22723,     0.22823,     0.22923,     0.23023,     0.23123,     0.23223,     0.23323,     0.23423,     0.23524,     0.23624,     0.23724,     0.23824,     0.23924,\n",
       "           0.24024,     0.24124,     0.24224,     0.24324,     0.24424,     0.24525,     0.24625,     0.24725,     0.24825,     0.24925,     0.25025,     0.25125,     0.25225,     0.25325,     0.25425,     0.25526,     0.25626,     0.25726,     0.25826,     0.25926,     0.26026,     0.26126,     0.26226,     0.26326,\n",
       "           0.26426,     0.26527,     0.26627,     0.26727,     0.26827,     0.26927,     0.27027,     0.27127,     0.27227,     0.27327,     0.27427,     0.27528,     0.27628,     0.27728,     0.27828,     0.27928,     0.28028,     0.28128,     0.28228,     0.28328,     0.28428,     0.28529,     0.28629,     0.28729,\n",
       "           0.28829,     0.28929,     0.29029,     0.29129,     0.29229,     0.29329,     0.29429,      0.2953,      0.2963,      0.2973,      0.2983,      0.2993,      0.3003,      0.3013,      0.3023,      0.3033,      0.3043,     0.30531,     0.30631,     0.30731,     0.30831,     0.30931,     0.31031,     0.31131,\n",
       "           0.31231,     0.31331,     0.31431,     0.31532,     0.31632,     0.31732,     0.31832,     0.31932,     0.32032,     0.32132,     0.32232,     0.32332,     0.32432,     0.32533,     0.32633,     0.32733,     0.32833,     0.32933,     0.33033,     0.33133,     0.33233,     0.33333,     0.33433,     0.33534,\n",
       "           0.33634,     0.33734,     0.33834,     0.33934,     0.34034,     0.34134,     0.34234,     0.34334,     0.34434,     0.34535,     0.34635,     0.34735,     0.34835,     0.34935,     0.35035,     0.35135,     0.35235,     0.35335,     0.35435,     0.35536,     0.35636,     0.35736,     0.35836,     0.35936,\n",
       "           0.36036,     0.36136,     0.36236,     0.36336,     0.36436,     0.36537,     0.36637,     0.36737,     0.36837,     0.36937,     0.37037,     0.37137,     0.37237,     0.37337,     0.37437,     0.37538,     0.37638,     0.37738,     0.37838,     0.37938,     0.38038,     0.38138,     0.38238,     0.38338,\n",
       "           0.38438,     0.38539,     0.38639,     0.38739,     0.38839,     0.38939,     0.39039,     0.39139,     0.39239,     0.39339,     0.39439,      0.3954,      0.3964,      0.3974,      0.3984,      0.3994,      0.4004,      0.4014,      0.4024,      0.4034,      0.4044,     0.40541,     0.40641,     0.40741,\n",
       "           0.40841,     0.40941,     0.41041,     0.41141,     0.41241,     0.41341,     0.41441,     0.41542,     0.41642,     0.41742,     0.41842,     0.41942,     0.42042,     0.42142,     0.42242,     0.42342,     0.42442,     0.42543,     0.42643,     0.42743,     0.42843,     0.42943,     0.43043,     0.43143,\n",
       "           0.43243,     0.43343,     0.43443,     0.43544,     0.43644,     0.43744,     0.43844,     0.43944,     0.44044,     0.44144,     0.44244,     0.44344,     0.44444,     0.44545,     0.44645,     0.44745,     0.44845,     0.44945,     0.45045,     0.45145,     0.45245,     0.45345,     0.45445,     0.45546,\n",
       "           0.45646,     0.45746,     0.45846,     0.45946,     0.46046,     0.46146,     0.46246,     0.46346,     0.46446,     0.46547,     0.46647,     0.46747,     0.46847,     0.46947,     0.47047,     0.47147,     0.47247,     0.47347,     0.47447,     0.47548,     0.47648,     0.47748,     0.47848,     0.47948,\n",
       "           0.48048,     0.48148,     0.48248,     0.48348,     0.48448,     0.48549,     0.48649,     0.48749,     0.48849,     0.48949,     0.49049,     0.49149,     0.49249,     0.49349,     0.49449,      0.4955,      0.4965,      0.4975,      0.4985,      0.4995,      0.5005,      0.5015,      0.5025,      0.5035,\n",
       "            0.5045,     0.50551,     0.50651,     0.50751,     0.50851,     0.50951,     0.51051,     0.51151,     0.51251,     0.51351,     0.51451,     0.51552,     0.51652,     0.51752,     0.51852,     0.51952,     0.52052,     0.52152,     0.52252,     0.52352,     0.52452,     0.52553,     0.52653,     0.52753,\n",
       "           0.52853,     0.52953,     0.53053,     0.53153,     0.53253,     0.53353,     0.53453,     0.53554,     0.53654,     0.53754,     0.53854,     0.53954,     0.54054,     0.54154,     0.54254,     0.54354,     0.54454,     0.54555,     0.54655,     0.54755,     0.54855,     0.54955,     0.55055,     0.55155,\n",
       "           0.55255,     0.55355,     0.55455,     0.55556,     0.55656,     0.55756,     0.55856,     0.55956,     0.56056,     0.56156,     0.56256,     0.56356,     0.56456,     0.56557,     0.56657,     0.56757,     0.56857,     0.56957,     0.57057,     0.57157,     0.57257,     0.57357,     0.57457,     0.57558,\n",
       "           0.57658,     0.57758,     0.57858,     0.57958,     0.58058,     0.58158,     0.58258,     0.58358,     0.58458,     0.58559,     0.58659,     0.58759,     0.58859,     0.58959,     0.59059,     0.59159,     0.59259,     0.59359,     0.59459,      0.5956,      0.5966,      0.5976,      0.5986,      0.5996,\n",
       "            0.6006,      0.6016,      0.6026,      0.6036,      0.6046,     0.60561,     0.60661,     0.60761,     0.60861,     0.60961,     0.61061,     0.61161,     0.61261,     0.61361,     0.61461,     0.61562,     0.61662,     0.61762,     0.61862,     0.61962,     0.62062,     0.62162,     0.62262,     0.62362,\n",
       "           0.62462,     0.62563,     0.62663,     0.62763,     0.62863,     0.62963,     0.63063,     0.63163,     0.63263,     0.63363,     0.63463,     0.63564,     0.63664,     0.63764,     0.63864,     0.63964,     0.64064,     0.64164,     0.64264,     0.64364,     0.64464,     0.64565,     0.64665,     0.64765,\n",
       "           0.64865,     0.64965,     0.65065,     0.65165,     0.65265,     0.65365,     0.65465,     0.65566,     0.65666,     0.65766,     0.65866,     0.65966,     0.66066,     0.66166,     0.66266,     0.66366,     0.66466,     0.66567,     0.66667,     0.66767,     0.66867,     0.66967,     0.67067,     0.67167,\n",
       "           0.67267,     0.67367,     0.67467,     0.67568,     0.67668,     0.67768,     0.67868,     0.67968,     0.68068,     0.68168,     0.68268,     0.68368,     0.68468,     0.68569,     0.68669,     0.68769,     0.68869,     0.68969,     0.69069,     0.69169,     0.69269,     0.69369,     0.69469,      0.6957,\n",
       "            0.6967,      0.6977,      0.6987,      0.6997,      0.7007,      0.7017,      0.7027,      0.7037,      0.7047,     0.70571,     0.70671,     0.70771,     0.70871,     0.70971,     0.71071,     0.71171,     0.71271,     0.71371,     0.71471,     0.71572,     0.71672,     0.71772,     0.71872,     0.71972,\n",
       "           0.72072,     0.72172,     0.72272,     0.72372,     0.72472,     0.72573,     0.72673,     0.72773,     0.72873,     0.72973,     0.73073,     0.73173,     0.73273,     0.73373,     0.73473,     0.73574,     0.73674,     0.73774,     0.73874,     0.73974,     0.74074,     0.74174,     0.74274,     0.74374,\n",
       "           0.74474,     0.74575,     0.74675,     0.74775,     0.74875,     0.74975,     0.75075,     0.75175,     0.75275,     0.75375,     0.75475,     0.75576,     0.75676,     0.75776,     0.75876,     0.75976,     0.76076,     0.76176,     0.76276,     0.76376,     0.76476,     0.76577,     0.76677,     0.76777,\n",
       "           0.76877,     0.76977,     0.77077,     0.77177,     0.77277,     0.77377,     0.77477,     0.77578,     0.77678,     0.77778,     0.77878,     0.77978,     0.78078,     0.78178,     0.78278,     0.78378,     0.78478,     0.78579,     0.78679,     0.78779,     0.78879,     0.78979,     0.79079,     0.79179,\n",
       "           0.79279,     0.79379,     0.79479,      0.7958,      0.7968,      0.7978,      0.7988,      0.7998,      0.8008,      0.8018,      0.8028,      0.8038,      0.8048,     0.80581,     0.80681,     0.80781,     0.80881,     0.80981,     0.81081,     0.81181,     0.81281,     0.81381,     0.81481,     0.81582,\n",
       "           0.81682,     0.81782,     0.81882,     0.81982,     0.82082,     0.82182,     0.82282,     0.82382,     0.82482,     0.82583,     0.82683,     0.82783,     0.82883,     0.82983,     0.83083,     0.83183,     0.83283,     0.83383,     0.83483,     0.83584,     0.83684,     0.83784,     0.83884,     0.83984,\n",
       "           0.84084,     0.84184,     0.84284,     0.84384,     0.84484,     0.84585,     0.84685,     0.84785,     0.84885,     0.84985,     0.85085,     0.85185,     0.85285,     0.85385,     0.85485,     0.85586,     0.85686,     0.85786,     0.85886,     0.85986,     0.86086,     0.86186,     0.86286,     0.86386,\n",
       "           0.86486,     0.86587,     0.86687,     0.86787,     0.86887,     0.86987,     0.87087,     0.87187,     0.87287,     0.87387,     0.87487,     0.87588,     0.87688,     0.87788,     0.87888,     0.87988,     0.88088,     0.88188,     0.88288,     0.88388,     0.88488,     0.88589,     0.88689,     0.88789,\n",
       "           0.88889,     0.88989,     0.89089,     0.89189,     0.89289,     0.89389,     0.89489,      0.8959,      0.8969,      0.8979,      0.8989,      0.8999,      0.9009,      0.9019,      0.9029,      0.9039,      0.9049,     0.90591,     0.90691,     0.90791,     0.90891,     0.90991,     0.91091,     0.91191,\n",
       "           0.91291,     0.91391,     0.91491,     0.91592,     0.91692,     0.91792,     0.91892,     0.91992,     0.92092,     0.92192,     0.92292,     0.92392,     0.92492,     0.92593,     0.92693,     0.92793,     0.92893,     0.92993,     0.93093,     0.93193,     0.93293,     0.93393,     0.93493,     0.93594,\n",
       "           0.93694,     0.93794,     0.93894,     0.93994,     0.94094,     0.94194,     0.94294,     0.94394,     0.94494,     0.94595,     0.94695,     0.94795,     0.94895,     0.94995,     0.95095,     0.95195,     0.95295,     0.95395,     0.95495,     0.95596,     0.95696,     0.95796,     0.95896,     0.95996,\n",
       "           0.96096,     0.96196,     0.96296,     0.96396,     0.96496,     0.96597,     0.96697,     0.96797,     0.96897,     0.96997,     0.97097,     0.97197,     0.97297,     0.97397,     0.97497,     0.97598,     0.97698,     0.97798,     0.97898,     0.97998,     0.98098,     0.98198,     0.98298,     0.98398,\n",
       "           0.98498,     0.98599,     0.98699,     0.98799,     0.98899,     0.98999,     0.99099,     0.99199,     0.99299,     0.99399,     0.99499,       0.996,       0.997,       0.998,       0.999,           1]), array([[   0.037347,    0.037347,    0.058278, ...,           1,           1,           1],\n",
       "       [   0.039021,    0.039021,     0.07507, ...,           1,           1,           1],\n",
       "       [   0.028588,    0.028588,    0.047712, ...,           1,           1,           1],\n",
       "       ...,\n",
       "       [   0.015118,    0.015118,    0.033874, ...,           1,           1,           1],\n",
       "       [   0.029004,    0.029004,    0.065706, ...,           1,           1,           1],\n",
       "       [   0.018713,    0.018713,    0.037162, ...,           1,           1,           1]]), 'Confidence', 'Precision'], [array([          0,    0.001001,    0.002002,    0.003003,    0.004004,    0.005005,    0.006006,    0.007007,    0.008008,    0.009009,     0.01001,    0.011011,    0.012012,    0.013013,    0.014014,    0.015015,    0.016016,    0.017017,    0.018018,    0.019019,     0.02002,    0.021021,    0.022022,    0.023023,\n",
       "          0.024024,    0.025025,    0.026026,    0.027027,    0.028028,    0.029029,     0.03003,    0.031031,    0.032032,    0.033033,    0.034034,    0.035035,    0.036036,    0.037037,    0.038038,    0.039039,     0.04004,    0.041041,    0.042042,    0.043043,    0.044044,    0.045045,    0.046046,    0.047047,\n",
       "          0.048048,    0.049049,     0.05005,    0.051051,    0.052052,    0.053053,    0.054054,    0.055055,    0.056056,    0.057057,    0.058058,    0.059059,     0.06006,    0.061061,    0.062062,    0.063063,    0.064064,    0.065065,    0.066066,    0.067067,    0.068068,    0.069069,     0.07007,    0.071071,\n",
       "          0.072072,    0.073073,    0.074074,    0.075075,    0.076076,    0.077077,    0.078078,    0.079079,     0.08008,    0.081081,    0.082082,    0.083083,    0.084084,    0.085085,    0.086086,    0.087087,    0.088088,    0.089089,     0.09009,    0.091091,    0.092092,    0.093093,    0.094094,    0.095095,\n",
       "          0.096096,    0.097097,    0.098098,    0.099099,      0.1001,      0.1011,      0.1021,      0.1031,      0.1041,     0.10511,     0.10611,     0.10711,     0.10811,     0.10911,     0.11011,     0.11111,     0.11211,     0.11311,     0.11411,     0.11512,     0.11612,     0.11712,     0.11812,     0.11912,\n",
       "           0.12012,     0.12112,     0.12212,     0.12312,     0.12412,     0.12513,     0.12613,     0.12713,     0.12813,     0.12913,     0.13013,     0.13113,     0.13213,     0.13313,     0.13413,     0.13514,     0.13614,     0.13714,     0.13814,     0.13914,     0.14014,     0.14114,     0.14214,     0.14314,\n",
       "           0.14414,     0.14515,     0.14615,     0.14715,     0.14815,     0.14915,     0.15015,     0.15115,     0.15215,     0.15315,     0.15415,     0.15516,     0.15616,     0.15716,     0.15816,     0.15916,     0.16016,     0.16116,     0.16216,     0.16316,     0.16416,     0.16517,     0.16617,     0.16717,\n",
       "           0.16817,     0.16917,     0.17017,     0.17117,     0.17217,     0.17317,     0.17417,     0.17518,     0.17618,     0.17718,     0.17818,     0.17918,     0.18018,     0.18118,     0.18218,     0.18318,     0.18418,     0.18519,     0.18619,     0.18719,     0.18819,     0.18919,     0.19019,     0.19119,\n",
       "           0.19219,     0.19319,     0.19419,      0.1952,      0.1962,      0.1972,      0.1982,      0.1992,      0.2002,      0.2012,      0.2022,      0.2032,      0.2042,     0.20521,     0.20621,     0.20721,     0.20821,     0.20921,     0.21021,     0.21121,     0.21221,     0.21321,     0.21421,     0.21522,\n",
       "           0.21622,     0.21722,     0.21822,     0.21922,     0.22022,     0.22122,     0.22222,     0.22322,     0.22422,     0.22523,     0.22623,     0.22723,     0.22823,     0.22923,     0.23023,     0.23123,     0.23223,     0.23323,     0.23423,     0.23524,     0.23624,     0.23724,     0.23824,     0.23924,\n",
       "           0.24024,     0.24124,     0.24224,     0.24324,     0.24424,     0.24525,     0.24625,     0.24725,     0.24825,     0.24925,     0.25025,     0.25125,     0.25225,     0.25325,     0.25425,     0.25526,     0.25626,     0.25726,     0.25826,     0.25926,     0.26026,     0.26126,     0.26226,     0.26326,\n",
       "           0.26426,     0.26527,     0.26627,     0.26727,     0.26827,     0.26927,     0.27027,     0.27127,     0.27227,     0.27327,     0.27427,     0.27528,     0.27628,     0.27728,     0.27828,     0.27928,     0.28028,     0.28128,     0.28228,     0.28328,     0.28428,     0.28529,     0.28629,     0.28729,\n",
       "           0.28829,     0.28929,     0.29029,     0.29129,     0.29229,     0.29329,     0.29429,      0.2953,      0.2963,      0.2973,      0.2983,      0.2993,      0.3003,      0.3013,      0.3023,      0.3033,      0.3043,     0.30531,     0.30631,     0.30731,     0.30831,     0.30931,     0.31031,     0.31131,\n",
       "           0.31231,     0.31331,     0.31431,     0.31532,     0.31632,     0.31732,     0.31832,     0.31932,     0.32032,     0.32132,     0.32232,     0.32332,     0.32432,     0.32533,     0.32633,     0.32733,     0.32833,     0.32933,     0.33033,     0.33133,     0.33233,     0.33333,     0.33433,     0.33534,\n",
       "           0.33634,     0.33734,     0.33834,     0.33934,     0.34034,     0.34134,     0.34234,     0.34334,     0.34434,     0.34535,     0.34635,     0.34735,     0.34835,     0.34935,     0.35035,     0.35135,     0.35235,     0.35335,     0.35435,     0.35536,     0.35636,     0.35736,     0.35836,     0.35936,\n",
       "           0.36036,     0.36136,     0.36236,     0.36336,     0.36436,     0.36537,     0.36637,     0.36737,     0.36837,     0.36937,     0.37037,     0.37137,     0.37237,     0.37337,     0.37437,     0.37538,     0.37638,     0.37738,     0.37838,     0.37938,     0.38038,     0.38138,     0.38238,     0.38338,\n",
       "           0.38438,     0.38539,     0.38639,     0.38739,     0.38839,     0.38939,     0.39039,     0.39139,     0.39239,     0.39339,     0.39439,      0.3954,      0.3964,      0.3974,      0.3984,      0.3994,      0.4004,      0.4014,      0.4024,      0.4034,      0.4044,     0.40541,     0.40641,     0.40741,\n",
       "           0.40841,     0.40941,     0.41041,     0.41141,     0.41241,     0.41341,     0.41441,     0.41542,     0.41642,     0.41742,     0.41842,     0.41942,     0.42042,     0.42142,     0.42242,     0.42342,     0.42442,     0.42543,     0.42643,     0.42743,     0.42843,     0.42943,     0.43043,     0.43143,\n",
       "           0.43243,     0.43343,     0.43443,     0.43544,     0.43644,     0.43744,     0.43844,     0.43944,     0.44044,     0.44144,     0.44244,     0.44344,     0.44444,     0.44545,     0.44645,     0.44745,     0.44845,     0.44945,     0.45045,     0.45145,     0.45245,     0.45345,     0.45445,     0.45546,\n",
       "           0.45646,     0.45746,     0.45846,     0.45946,     0.46046,     0.46146,     0.46246,     0.46346,     0.46446,     0.46547,     0.46647,     0.46747,     0.46847,     0.46947,     0.47047,     0.47147,     0.47247,     0.47347,     0.47447,     0.47548,     0.47648,     0.47748,     0.47848,     0.47948,\n",
       "           0.48048,     0.48148,     0.48248,     0.48348,     0.48448,     0.48549,     0.48649,     0.48749,     0.48849,     0.48949,     0.49049,     0.49149,     0.49249,     0.49349,     0.49449,      0.4955,      0.4965,      0.4975,      0.4985,      0.4995,      0.5005,      0.5015,      0.5025,      0.5035,\n",
       "            0.5045,     0.50551,     0.50651,     0.50751,     0.50851,     0.50951,     0.51051,     0.51151,     0.51251,     0.51351,     0.51451,     0.51552,     0.51652,     0.51752,     0.51852,     0.51952,     0.52052,     0.52152,     0.52252,     0.52352,     0.52452,     0.52553,     0.52653,     0.52753,\n",
       "           0.52853,     0.52953,     0.53053,     0.53153,     0.53253,     0.53353,     0.53453,     0.53554,     0.53654,     0.53754,     0.53854,     0.53954,     0.54054,     0.54154,     0.54254,     0.54354,     0.54454,     0.54555,     0.54655,     0.54755,     0.54855,     0.54955,     0.55055,     0.55155,\n",
       "           0.55255,     0.55355,     0.55455,     0.55556,     0.55656,     0.55756,     0.55856,     0.55956,     0.56056,     0.56156,     0.56256,     0.56356,     0.56456,     0.56557,     0.56657,     0.56757,     0.56857,     0.56957,     0.57057,     0.57157,     0.57257,     0.57357,     0.57457,     0.57558,\n",
       "           0.57658,     0.57758,     0.57858,     0.57958,     0.58058,     0.58158,     0.58258,     0.58358,     0.58458,     0.58559,     0.58659,     0.58759,     0.58859,     0.58959,     0.59059,     0.59159,     0.59259,     0.59359,     0.59459,      0.5956,      0.5966,      0.5976,      0.5986,      0.5996,\n",
       "            0.6006,      0.6016,      0.6026,      0.6036,      0.6046,     0.60561,     0.60661,     0.60761,     0.60861,     0.60961,     0.61061,     0.61161,     0.61261,     0.61361,     0.61461,     0.61562,     0.61662,     0.61762,     0.61862,     0.61962,     0.62062,     0.62162,     0.62262,     0.62362,\n",
       "           0.62462,     0.62563,     0.62663,     0.62763,     0.62863,     0.62963,     0.63063,     0.63163,     0.63263,     0.63363,     0.63463,     0.63564,     0.63664,     0.63764,     0.63864,     0.63964,     0.64064,     0.64164,     0.64264,     0.64364,     0.64464,     0.64565,     0.64665,     0.64765,\n",
       "           0.64865,     0.64965,     0.65065,     0.65165,     0.65265,     0.65365,     0.65465,     0.65566,     0.65666,     0.65766,     0.65866,     0.65966,     0.66066,     0.66166,     0.66266,     0.66366,     0.66466,     0.66567,     0.66667,     0.66767,     0.66867,     0.66967,     0.67067,     0.67167,\n",
       "           0.67267,     0.67367,     0.67467,     0.67568,     0.67668,     0.67768,     0.67868,     0.67968,     0.68068,     0.68168,     0.68268,     0.68368,     0.68468,     0.68569,     0.68669,     0.68769,     0.68869,     0.68969,     0.69069,     0.69169,     0.69269,     0.69369,     0.69469,      0.6957,\n",
       "            0.6967,      0.6977,      0.6987,      0.6997,      0.7007,      0.7017,      0.7027,      0.7037,      0.7047,     0.70571,     0.70671,     0.70771,     0.70871,     0.70971,     0.71071,     0.71171,     0.71271,     0.71371,     0.71471,     0.71572,     0.71672,     0.71772,     0.71872,     0.71972,\n",
       "           0.72072,     0.72172,     0.72272,     0.72372,     0.72472,     0.72573,     0.72673,     0.72773,     0.72873,     0.72973,     0.73073,     0.73173,     0.73273,     0.73373,     0.73473,     0.73574,     0.73674,     0.73774,     0.73874,     0.73974,     0.74074,     0.74174,     0.74274,     0.74374,\n",
       "           0.74474,     0.74575,     0.74675,     0.74775,     0.74875,     0.74975,     0.75075,     0.75175,     0.75275,     0.75375,     0.75475,     0.75576,     0.75676,     0.75776,     0.75876,     0.75976,     0.76076,     0.76176,     0.76276,     0.76376,     0.76476,     0.76577,     0.76677,     0.76777,\n",
       "           0.76877,     0.76977,     0.77077,     0.77177,     0.77277,     0.77377,     0.77477,     0.77578,     0.77678,     0.77778,     0.77878,     0.77978,     0.78078,     0.78178,     0.78278,     0.78378,     0.78478,     0.78579,     0.78679,     0.78779,     0.78879,     0.78979,     0.79079,     0.79179,\n",
       "           0.79279,     0.79379,     0.79479,      0.7958,      0.7968,      0.7978,      0.7988,      0.7998,      0.8008,      0.8018,      0.8028,      0.8038,      0.8048,     0.80581,     0.80681,     0.80781,     0.80881,     0.80981,     0.81081,     0.81181,     0.81281,     0.81381,     0.81481,     0.81582,\n",
       "           0.81682,     0.81782,     0.81882,     0.81982,     0.82082,     0.82182,     0.82282,     0.82382,     0.82482,     0.82583,     0.82683,     0.82783,     0.82883,     0.82983,     0.83083,     0.83183,     0.83283,     0.83383,     0.83483,     0.83584,     0.83684,     0.83784,     0.83884,     0.83984,\n",
       "           0.84084,     0.84184,     0.84284,     0.84384,     0.84484,     0.84585,     0.84685,     0.84785,     0.84885,     0.84985,     0.85085,     0.85185,     0.85285,     0.85385,     0.85485,     0.85586,     0.85686,     0.85786,     0.85886,     0.85986,     0.86086,     0.86186,     0.86286,     0.86386,\n",
       "           0.86486,     0.86587,     0.86687,     0.86787,     0.86887,     0.86987,     0.87087,     0.87187,     0.87287,     0.87387,     0.87487,     0.87588,     0.87688,     0.87788,     0.87888,     0.87988,     0.88088,     0.88188,     0.88288,     0.88388,     0.88488,     0.88589,     0.88689,     0.88789,\n",
       "           0.88889,     0.88989,     0.89089,     0.89189,     0.89289,     0.89389,     0.89489,      0.8959,      0.8969,      0.8979,      0.8989,      0.8999,      0.9009,      0.9019,      0.9029,      0.9039,      0.9049,     0.90591,     0.90691,     0.90791,     0.90891,     0.90991,     0.91091,     0.91191,\n",
       "           0.91291,     0.91391,     0.91491,     0.91592,     0.91692,     0.91792,     0.91892,     0.91992,     0.92092,     0.92192,     0.92292,     0.92392,     0.92492,     0.92593,     0.92693,     0.92793,     0.92893,     0.92993,     0.93093,     0.93193,     0.93293,     0.93393,     0.93493,     0.93594,\n",
       "           0.93694,     0.93794,     0.93894,     0.93994,     0.94094,     0.94194,     0.94294,     0.94394,     0.94494,     0.94595,     0.94695,     0.94795,     0.94895,     0.94995,     0.95095,     0.95195,     0.95295,     0.95395,     0.95495,     0.95596,     0.95696,     0.95796,     0.95896,     0.95996,\n",
       "           0.96096,     0.96196,     0.96296,     0.96396,     0.96496,     0.96597,     0.96697,     0.96797,     0.96897,     0.96997,     0.97097,     0.97197,     0.97297,     0.97397,     0.97497,     0.97598,     0.97698,     0.97798,     0.97898,     0.97998,     0.98098,     0.98198,     0.98298,     0.98398,\n",
       "           0.98498,     0.98599,     0.98699,     0.98799,     0.98899,     0.98999,     0.99099,     0.99199,     0.99299,     0.99399,     0.99499,       0.996,       0.997,       0.998,       0.999,           1]), array([[    0.95207,     0.95207,     0.94553, ...,           0,           0,           0],\n",
       "       [     0.9871,      0.9871,      0.9871, ...,           0,           0,           0],\n",
       "       [    0.92308,     0.92308,     0.91346, ...,           0,           0,           0],\n",
       "       ...,\n",
       "       [    0.96491,     0.96491,     0.91228, ...,           0,           0,           0],\n",
       "       [    0.85185,     0.85185,     0.85185, ...,           0,           0,           0],\n",
       "       [     0.9697,      0.9697,      0.9697, ...,           0,           0,           0]]), 'Confidence', 'Recall']]\n",
       "fitness: 0.43946680997537596\n",
       "keys: ['metrics/precision(B)', 'metrics/recall(B)', 'metrics/mAP50(B)', 'metrics/mAP50-95(B)']\n",
       "maps: array([    0.39321,     0.49631,      0.2901,     0.23758,      0.4012,     0.55492,     0.49521])\n",
       "names: {0: 'fish', 1: 'jellyfish', 2: 'penguin', 3: 'puffin', 4: 'shark', 5: 'starfish', 6: 'stingray'}\n",
       "plot: True\n",
       "results_dict: {'metrics/precision(B)': 0.7557510070225641, 'metrics/recall(B)': 0.6558343467075544, 'metrics/mAP50(B)': 0.7065656718245245, 'metrics/mAP50-95(B)': 0.4097891586588039, 'fitness': 0.43946680997537596}\n",
       "save_dir: PosixPath('runs/detect/train')\n",
       "speed: {'preprocess': 0.08345588924377922, 'inference': 1.1940471769317866, 'loss': 0.0002271547092227485, 'postprocess': 2.335403847882128}\n",
       "task: 'detect'"
      ]
     },
     "execution_count": 11,
     "metadata": {},
     "output_type": "execute_result"
    }
   ],
   "source": [
    "# 모델 학습하기 : model_train() -data : 자신의 만든 yaml파일 지정, epochs=10, patience=30, batch=32, imgsz=416 )\n",
    "\n",
    "... # ... code here"
   ]
  },
  {
   "cell_type": "code",
   "execution_count": null,
   "metadata": {
    "colab": {
     "base_uri": "https://localhost:8080/"
    },
    "executionInfo": {
     "elapsed": 318,
     "status": "ok",
     "timestamp": 1713104316677,
     "user": {
      "displayName": "강희숙",
      "userId": "05520711596090317319"
     },
     "user_tz": -540
    },
    "id": "rU4hUb6aRMu5",
    "outputId": "dadbd03c-9a2b-43de-a9e1-1d47609075c4"
   },
   "outputs": [
    {
     "name": "stdout",
     "output_type": "stream",
     "text": [
      "<class 'dict'> 7\n",
      "{0: 'fish', 1: 'jellyfish', 2: 'penguin', 3: 'puffin', 4: 'shark', 5: 'starfish', 6: 'stingray'}\n"
     ]
    }
   ],
   "source": [
    "# 커스텀 데이터로 학습하였기 때문에 클래수 수의 변경됨을 확인할 수 있음\n",
    "print(type(model.names), len(model.names))\n",
    "\n",
    "print(model.names)"
   ]
  },
  {
   "cell_type": "markdown",
   "metadata": {
    "id": "-XTkv6lRnYq6"
   },
   "source": [
    "### ▲ train 과정중에 loss, accuracy 등의 graph 데이터는 runs/detect/train/ 에 있는 results.csv 와 results.png 통해서 확인가능함"
   ]
  },
  {
   "cell_type": "markdown",
   "metadata": {
    "id": "PGvvaF60Fp2U"
   },
   "source": [
    "### 3) 테스트 이미지 데이터 생성 및 확인"
   ]
  },
  {
   "cell_type": "code",
   "execution_count": null,
   "metadata": {
    "colab": {
     "base_uri": "https://localhost:8080/"
    },
    "executionInfo": {
     "elapsed": 488,
     "status": "ok",
     "timestamp": 1713104320328,
     "user": {
      "displayName": "강희숙",
      "userId": "05520711596090317319"
     },
     "user_tz": -540
    },
    "id": "QknTB5poU_3-",
    "outputId": "e5f6edaa-ae9d-4730-c9e3-5e336cfc4a1b"
   },
   "outputs": [
    {
     "name": "stdout",
     "output_type": "stream",
     "text": [
      "63\n",
      "i =  0 /content/Aquarium_Data/test/images/IMG_2289_jpeg_jpg.rf.fe2a7a149e7b11f2313f5a7b30386e85.jpg\n",
      "i =  1 /content/Aquarium_Data/test/images/IMG_2301_jpeg_jpg.rf.2c19ae5efbd1f8611b5578125f001695.jpg\n",
      "i =  2 /content/Aquarium_Data/test/images/IMG_2319_jpeg_jpg.rf.6e20bf97d17b74a8948aa48776c40454.jpg\n",
      "i =  3 /content/Aquarium_Data/test/images/IMG_2347_jpeg_jpg.rf.7c71ac4b9301eb358cd4a832844dedcb.jpg\n",
      "i =  4 /content/Aquarium_Data/test/images/IMG_2354_jpeg_jpg.rf.396e872c7fb0a95e911806986995ee7a.jpg\n",
      "i =  5 /content/Aquarium_Data/test/images/IMG_2371_jpeg_jpg.rf.54505f60b6706da151c164188c305849.jpg\n",
      "i =  6 /content/Aquarium_Data/test/images/IMG_2379_jpeg_jpg.rf.7dc3160c937072d26d4624c6c48e904d.jpg\n",
      "i =  7 /content/Aquarium_Data/test/images/IMG_2380_jpeg_jpg.rf.a23809682eb1466c1136ca0f55de8fb5.jpg\n",
      "i =  8 /content/Aquarium_Data/test/images/IMG_2387_jpeg_jpg.rf.09b38bacfab0922a3a6b66480f01b719.jpg\n",
      "i =  9 /content/Aquarium_Data/test/images/IMG_2395_jpeg_jpg.rf.9f1503ad3b7a7c7938daed057cc4e9bc.jpg\n",
      "i =  10 /content/Aquarium_Data/test/images/IMG_2423_jpeg_jpg.rf.1c0901882e71d5ebd26f036f4e22da65.jpg\n",
      "i =  11 /content/Aquarium_Data/test/images/IMG_2434_jpeg_jpg.rf.8b20d3270d4fbc497c64125273f46ecb.jpg\n",
      "i =  12 /content/Aquarium_Data/test/images/IMG_2446_jpeg_jpg.rf.06ee05e92df8e3c33073147d8f595211.jpg\n",
      "i =  13 /content/Aquarium_Data/test/images/IMG_2448_jpeg_jpg.rf.28ce79dab47ad525751d5407be09bc3d.jpg\n",
      "i =  14 /content/Aquarium_Data/test/images/IMG_2450_jpeg_jpg.rf.ff673921373de3bfc275863e3befeefe.jpg\n",
      "i =  15 /content/Aquarium_Data/test/images/IMG_2465_jpeg_jpg.rf.7e699ec1d2e373d93dac32cd02db9438.jpg\n",
      "i =  16 /content/Aquarium_Data/test/images/IMG_2466_jpeg_jpg.rf.53886abb9947ec4e47405957b30fe314.jpg\n",
      "i =  17 /content/Aquarium_Data/test/images/IMG_2468_jpeg_jpg.rf.c933cc14c99b11a90413a1490d4556db.jpg\n",
      "i =  18 /content/Aquarium_Data/test/images/IMG_2470_jpeg_jpg.rf.75b359c8baa6866bfecf07a0e4e8c33d.jpg\n",
      "i =  19 /content/Aquarium_Data/test/images/IMG_2473_jpeg_jpg.rf.6284677f9c781b0cfeec54981a17d573.jpg\n",
      "i =  20 /content/Aquarium_Data/test/images/IMG_2477_jpeg_jpg.rf.7b2692f142d53c16ad477065f1f8ae6d.jpg\n",
      "i =  21 /content/Aquarium_Data/test/images/IMG_2496_jpeg_jpg.rf.3f91e7f18502074c89fa720a11926fab.jpg\n",
      "i =  22 /content/Aquarium_Data/test/images/IMG_2499_jpeg_jpg.rf.6cbab3719b9063388b5ab3ab826d7bd3.jpg\n",
      "i =  23 /content/Aquarium_Data/test/images/IMG_2514_jpeg_jpg.rf.6ccb3859d75fc5cfe053b1c1474254b2.jpg\n",
      "i =  24 /content/Aquarium_Data/test/images/IMG_2526_jpeg_jpg.rf.003e1d1d41bcd204df731b85cea68781.jpg\n",
      "i =  25 /content/Aquarium_Data/test/images/IMG_2532_jpeg_jpg.rf.2afeb76e5d9372dbbd6fbc53d5b75675.jpg\n",
      "i =  26 /content/Aquarium_Data/test/images/IMG_2544_jpeg_jpg.rf.03f51bb9e1c57fb9cd62f8cbdca14e90.jpg\n",
      "i =  27 /content/Aquarium_Data/test/images/IMG_2547_jpeg_jpg.rf.9406b6f1a9fad2292c4abd28f712baaf.jpg\n",
      "i =  28 /content/Aquarium_Data/test/images/IMG_2570_jpeg_jpg.rf.ed40900b657a5b23d92cb2d296ad2dbc.jpg\n",
      "i =  29 /content/Aquarium_Data/test/images/IMG_2574_jpeg_jpg.rf.ca0c3ad32384309a61e92d9a8bef87b9.jpg\n",
      "i =  30 /content/Aquarium_Data/test/images/IMG_2582_jpeg_jpg.rf.14f175066ce74b470bf31fa0c7a096cd.jpg\n",
      "i =  31 /content/Aquarium_Data/test/images/IMG_2588_jpeg_jpg.rf.cb9cea8f05891cfd55a3e93f2908201f.jpg\n",
      "i =  32 /content/Aquarium_Data/test/images/IMG_2630_jpeg_jpg.rf.310f0c986a72be46b80ce31c2d00e46d.jpg\n",
      "i =  33 /content/Aquarium_Data/test/images/IMG_2632_jpeg_jpg.rf.f44037edca490b16cbf06427e28ea946.jpg\n",
      "i =  34 /content/Aquarium_Data/test/images/IMG_2651_jpeg_jpg.rf.84b3930aa80b610cc97bf1c176763940.jpg\n",
      "i =  35 /content/Aquarium_Data/test/images/IMG_3129_jpeg_jpg.rf.90c472dcdf9b6713ec767cc97560ceca.jpg\n",
      "i =  36 /content/Aquarium_Data/test/images/IMG_3134_jpeg_jpg.rf.50750ca778773042a3c46a1d3e480132.jpg\n",
      "i =  37 /content/Aquarium_Data/test/images/IMG_3136_jpeg_jpg.rf.0d8fef73d4cc5e1c35ce424444d9e44b.jpg\n",
      "i =  38 /content/Aquarium_Data/test/images/IMG_3144_jpeg_jpg.rf.f29a36360174dc83ecef93275ed8f02e.jpg\n",
      "i =  39 /content/Aquarium_Data/test/images/IMG_3154_jpeg_jpg.rf.5f429a366c02d38bc9e2217f4508c3e0.jpg\n",
      "i =  40 /content/Aquarium_Data/test/images/IMG_3164_jpeg_jpg.rf.06637eee0b72df791aa729807ca45c4d.jpg\n",
      "i =  41 /content/Aquarium_Data/test/images/IMG_3173_jpeg_jpg.rf.6f05acaa0b22d410a5df3ea3286e227d.jpg\n",
      "i =  42 /content/Aquarium_Data/test/images/IMG_3175_jpeg_jpg.rf.686c7d36e049eea974a363e99bf0bee0.jpg\n",
      "i =  43 /content/Aquarium_Data/test/images/IMG_8331_jpg.rf.ec024bdf1e9de02b020b5e6505c1c58b.jpg\n",
      "i =  44 /content/Aquarium_Data/test/images/IMG_8343_jpg.rf.2d88000497d74d72aedc118b125a0c07.jpg\n",
      "i =  45 /content/Aquarium_Data/test/images/IMG_8395_jpg.rf.3bebece033961c9f665571644a14261f.jpg\n",
      "i =  46 /content/Aquarium_Data/test/images/IMG_8396_jpg.rf.106a6ced5c649ea81f0de8ecaa4ff3b8.jpg\n",
      "i =  47 /content/Aquarium_Data/test/images/IMG_8404_jpg.rf.265b89e862a375f6b89f781ea60ed480.jpg\n",
      "i =  48 /content/Aquarium_Data/test/images/IMG_8420_jpg.rf.31f1d5f1440e48ccf1dee988b565911b.jpg\n",
      "i =  49 /content/Aquarium_Data/test/images/IMG_8452_jpg.rf.6bbff701ab93e29553b3a70137fd4e66.jpg\n",
      "i =  50 /content/Aquarium_Data/test/images/IMG_8490_jpg.rf.1836542cf054c6d303a2dd05d4194d7f.jpg\n",
      "i =  51 /content/Aquarium_Data/test/images/IMG_8497_MOV-0_jpg.rf.5c59bd1bf7d8fd7a20999d51a79a12c0.jpg\n",
      "i =  52 /content/Aquarium_Data/test/images/IMG_8497_MOV-3_jpg.rf.fd813e14681c8b41e709a500748ce46a.jpg\n",
      "i =  53 /content/Aquarium_Data/test/images/IMG_8497_MOV-5_jpg.rf.3deffb208d656b7845661c5e33dd1afb.jpg\n",
      "i =  54 /content/Aquarium_Data/test/images/IMG_8513_MOV-0_jpg.rf.2a2f77e3f73630b60aaf6ad3ca4ed130.jpg\n",
      "i =  55 /content/Aquarium_Data/test/images/IMG_8515_jpg.rf.98a9daca7c5a5bad9872bd7fb2d4f198.jpg\n",
      "i =  56 /content/Aquarium_Data/test/images/IMG_8582_MOV-0_jpg.rf.aa8304d7a5112d63c8841d96160d42cd.jpg\n",
      "i =  57 /content/Aquarium_Data/test/images/IMG_8582_MOV-3_jpg.rf.c7dde0639837077f76428d70223368a4.jpg\n",
      "i =  58 /content/Aquarium_Data/test/images/IMG_8582_MOV-5_jpg.rf.9d7a26fbf145ce39ab0831b4e6bc1f1e.jpg\n",
      "i =  59 /content/Aquarium_Data/test/images/IMG_8590_MOV-2_jpg.rf.2136fdb5dcbcd58a1dc456bb3e5bf476.jpg\n",
      "i =  60 /content/Aquarium_Data/test/images/IMG_8590_MOV-5_jpg.rf.074e6d8acdd3fcad16d866c341b43769.jpg\n",
      "i =  61 /content/Aquarium_Data/test/images/IMG_8595_MOV-0_jpg.rf.312ab0b8b9fca18134aee88044f45a06.jpg\n",
      "i =  62 /content/Aquarium_Data/test/images/IMG_8599_MOV-3_jpg.rf.412ebb16ea80e964b4464c50e757df0e.jpg\n"
     ]
    }
   ],
   "source": [
    "# 테스트 이미지\n",
    "from glob import glob\n",
    "\n",
    "test_image_list = glob('/content/Aquarium_Data/test/images/*')\n",
    "test_image_list.sort()\n",
    "\n",
    "for i in range(len(test_image_list)):\n",
    "    print('i = ',i, test_image_list[i])"
   ]
  },
  {
   "cell_type": "markdown",
   "metadata": {
    "id": "cKdlujLuFxui"
   },
   "source": [
    "## **4.객체 검출 (Inference or predict)**"
   ]
  },
  {
   "cell_type": "code",
   "execution_count": null,
   "metadata": {
    "colab": {
     "base_uri": "https://localhost:8080/"
    },
    "executionInfo": {
     "elapsed": 3335,
     "status": "ok",
     "timestamp": 1713104330279,
     "user": {
      "displayName": "강희숙",
      "userId": "05520711596090317319"
     },
     "user_tz": -540
    },
    "id": "Iy_75ZcSU_4E",
    "outputId": "8aa3a68b-d495-4898-dd05-bd05b1422bab"
   },
   "outputs": [
    {
     "name": "stdout",
     "output_type": "stream",
     "text": [
      "\n",
      "image 1/63 /content/Aquarium_Data/test/images/IMG_2289_jpeg_jpg.rf.fe2a7a149e7b11f2313f5a7b30386e85.jpg: 416x320 1 penguin, 1 puffin, 94.3ms\n",
      "image 2/63 /content/Aquarium_Data/test/images/IMG_2301_jpeg_jpg.rf.2c19ae5efbd1f8611b5578125f001695.jpg: 416x320 12 penguins, 11.6ms\n",
      "image 3/63 /content/Aquarium_Data/test/images/IMG_2319_jpeg_jpg.rf.6e20bf97d17b74a8948aa48776c40454.jpg: 416x320 6 penguins, 11.0ms\n",
      "image 4/63 /content/Aquarium_Data/test/images/IMG_2347_jpeg_jpg.rf.7c71ac4b9301eb358cd4a832844dedcb.jpg: 416x320 1 penguin, 8.9ms\n",
      "image 5/63 /content/Aquarium_Data/test/images/IMG_2354_jpeg_jpg.rf.396e872c7fb0a95e911806986995ee7a.jpg: 416x320 3 penguins, 8.6ms\n",
      "image 6/63 /content/Aquarium_Data/test/images/IMG_2371_jpeg_jpg.rf.54505f60b6706da151c164188c305849.jpg: 416x320 2 fishs, 1 shark, 9.1ms\n",
      "image 7/63 /content/Aquarium_Data/test/images/IMG_2379_jpeg_jpg.rf.7dc3160c937072d26d4624c6c48e904d.jpg: 416x320 2 fishs, 8.0ms\n",
      "image 8/63 /content/Aquarium_Data/test/images/IMG_2380_jpeg_jpg.rf.a23809682eb1466c1136ca0f55de8fb5.jpg: 416x320 6 fishs, 8.3ms\n",
      "image 9/63 /content/Aquarium_Data/test/images/IMG_2387_jpeg_jpg.rf.09b38bacfab0922a3a6b66480f01b719.jpg: 416x320 1 starfish, 8.4ms\n",
      "image 10/63 /content/Aquarium_Data/test/images/IMG_2395_jpeg_jpg.rf.9f1503ad3b7a7c7938daed057cc4e9bc.jpg: 416x320 5 fishs, 1 stingray, 9.0ms\n",
      "image 11/63 /content/Aquarium_Data/test/images/IMG_2423_jpeg_jpg.rf.1c0901882e71d5ebd26f036f4e22da65.jpg: 416x320 16 fishs, 3 sharks, 8.3ms\n",
      "image 12/63 /content/Aquarium_Data/test/images/IMG_2434_jpeg_jpg.rf.8b20d3270d4fbc497c64125273f46ecb.jpg: 416x320 3 fishs, 1 shark, 1 stingray, 8.6ms\n",
      "image 13/63 /content/Aquarium_Data/test/images/IMG_2446_jpeg_jpg.rf.06ee05e92df8e3c33073147d8f595211.jpg: 416x320 7 fishs, 2 sharks, 1 stingray, 8.8ms\n",
      "image 14/63 /content/Aquarium_Data/test/images/IMG_2448_jpeg_jpg.rf.28ce79dab47ad525751d5407be09bc3d.jpg: 416x320 7 fishs, 4 sharks, 8.8ms\n",
      "image 15/63 /content/Aquarium_Data/test/images/IMG_2450_jpeg_jpg.rf.ff673921373de3bfc275863e3befeefe.jpg: 416x320 13 fishs, 2 sharks, 9.6ms\n",
      "image 16/63 /content/Aquarium_Data/test/images/IMG_2465_jpeg_jpg.rf.7e699ec1d2e373d93dac32cd02db9438.jpg: 416x320 16 jellyfishs, 9.0ms\n",
      "image 17/63 /content/Aquarium_Data/test/images/IMG_2466_jpeg_jpg.rf.53886abb9947ec4e47405957b30fe314.jpg: 416x320 7 jellyfishs, 11.6ms\n",
      "image 18/63 /content/Aquarium_Data/test/images/IMG_2468_jpeg_jpg.rf.c933cc14c99b11a90413a1490d4556db.jpg: 416x320 10 jellyfishs, 8.7ms\n",
      "image 19/63 /content/Aquarium_Data/test/images/IMG_2470_jpeg_jpg.rf.75b359c8baa6866bfecf07a0e4e8c33d.jpg: 416x320 19 jellyfishs, 8.9ms\n",
      "image 20/63 /content/Aquarium_Data/test/images/IMG_2473_jpeg_jpg.rf.6284677f9c781b0cfeec54981a17d573.jpg: 416x320 4 jellyfishs, 9.0ms\n",
      "image 21/63 /content/Aquarium_Data/test/images/IMG_2477_jpeg_jpg.rf.7b2692f142d53c16ad477065f1f8ae6d.jpg: 416x320 6 jellyfishs, 10.0ms\n",
      "image 22/63 /content/Aquarium_Data/test/images/IMG_2496_jpeg_jpg.rf.3f91e7f18502074c89fa720a11926fab.jpg: 416x320 6 fishs, 3 sharks, 1 stingray, 8.6ms\n",
      "image 23/63 /content/Aquarium_Data/test/images/IMG_2499_jpeg_jpg.rf.6cbab3719b9063388b5ab3ab826d7bd3.jpg: 416x320 2 fishs, 1 shark, 9.1ms\n",
      "image 24/63 /content/Aquarium_Data/test/images/IMG_2514_jpeg_jpg.rf.6ccb3859d75fc5cfe053b1c1474254b2.jpg: 416x320 2 sharks, 8.3ms\n",
      "image 25/63 /content/Aquarium_Data/test/images/IMG_2526_jpeg_jpg.rf.003e1d1d41bcd204df731b85cea68781.jpg: 416x320 6 puffins, 8.4ms\n",
      "image 26/63 /content/Aquarium_Data/test/images/IMG_2532_jpeg_jpg.rf.2afeb76e5d9372dbbd6fbc53d5b75675.jpg: 416x320 2 starfishs, 10.3ms\n",
      "image 27/63 /content/Aquarium_Data/test/images/IMG_2544_jpeg_jpg.rf.03f51bb9e1c57fb9cd62f8cbdca14e90.jpg: 416x320 2 jellyfishs, 3 starfishs, 8.3ms\n",
      "image 28/63 /content/Aquarium_Data/test/images/IMG_2547_jpeg_jpg.rf.9406b6f1a9fad2292c4abd28f712baaf.jpg: 416x320 4 starfishs, 8.0ms\n",
      "image 29/63 /content/Aquarium_Data/test/images/IMG_2570_jpeg_jpg.rf.ed40900b657a5b23d92cb2d296ad2dbc.jpg: 416x320 12 fishs, 3 sharks, 8.7ms\n",
      "image 30/63 /content/Aquarium_Data/test/images/IMG_2574_jpeg_jpg.rf.ca0c3ad32384309a61e92d9a8bef87b9.jpg: 416x320 14 jellyfishs, 8.8ms\n",
      "image 31/63 /content/Aquarium_Data/test/images/IMG_2582_jpeg_jpg.rf.14f175066ce74b470bf31fa0c7a096cd.jpg: 416x320 6 fishs, 2 sharks, 2 stingrays, 10.0ms\n",
      "image 32/63 /content/Aquarium_Data/test/images/IMG_2588_jpeg_jpg.rf.cb9cea8f05891cfd55a3e93f2908201f.jpg: 416x320 3 stingrays, 8.4ms\n",
      "image 33/63 /content/Aquarium_Data/test/images/IMG_2630_jpeg_jpg.rf.310f0c986a72be46b80ce31c2d00e46d.jpg: 416x320 1 fish, 1 shark, 1 stingray, 8.6ms\n",
      "image 34/63 /content/Aquarium_Data/test/images/IMG_2632_jpeg_jpg.rf.f44037edca490b16cbf06427e28ea946.jpg: 416x320 3 fishs, 3 stingrays, 8.9ms\n",
      "image 35/63 /content/Aquarium_Data/test/images/IMG_2651_jpeg_jpg.rf.84b3930aa80b610cc97bf1c176763940.jpg: 416x320 1 stingray, 8.5ms\n",
      "image 36/63 /content/Aquarium_Data/test/images/IMG_3129_jpeg_jpg.rf.90c472dcdf9b6713ec767cc97560ceca.jpg: 416x320 1 fish, 1 starfish, 11.7ms\n",
      "image 37/63 /content/Aquarium_Data/test/images/IMG_3134_jpeg_jpg.rf.50750ca778773042a3c46a1d3e480132.jpg: 416x320 1 penguin, 8.3ms\n",
      "image 38/63 /content/Aquarium_Data/test/images/IMG_3136_jpeg_jpg.rf.0d8fef73d4cc5e1c35ce424444d9e44b.jpg: 416x320 11 puffins, 8.0ms\n",
      "image 39/63 /content/Aquarium_Data/test/images/IMG_3144_jpeg_jpg.rf.f29a36360174dc83ecef93275ed8f02e.jpg: 416x320 2 puffins, 10.5ms\n",
      "image 40/63 /content/Aquarium_Data/test/images/IMG_3154_jpeg_jpg.rf.5f429a366c02d38bc9e2217f4508c3e0.jpg: 416x320 1 puffin, 12.8ms\n",
      "image 41/63 /content/Aquarium_Data/test/images/IMG_3164_jpeg_jpg.rf.06637eee0b72df791aa729807ca45c4d.jpg: 416x320 14 penguins, 1 puffin, 8.3ms\n",
      "image 42/63 /content/Aquarium_Data/test/images/IMG_3173_jpeg_jpg.rf.6f05acaa0b22d410a5df3ea3286e227d.jpg: 320x416 10 penguins, 57.2ms\n",
      "image 43/63 /content/Aquarium_Data/test/images/IMG_3175_jpeg_jpg.rf.686c7d36e049eea974a363e99bf0bee0.jpg: 320x416 16 penguins, 8.5ms\n",
      "image 44/63 /content/Aquarium_Data/test/images/IMG_8331_jpg.rf.ec024bdf1e9de02b020b5e6505c1c58b.jpg: 320x416 2 fishs, 8.5ms\n",
      "image 45/63 /content/Aquarium_Data/test/images/IMG_8343_jpg.rf.2d88000497d74d72aedc118b125a0c07.jpg: 320x416 5 fishs, 8.0ms\n",
      "image 46/63 /content/Aquarium_Data/test/images/IMG_8395_jpg.rf.3bebece033961c9f665571644a14261f.jpg: 320x416 6 fishs, 5 sharks, 8.3ms\n",
      "image 47/63 /content/Aquarium_Data/test/images/IMG_8396_jpg.rf.106a6ced5c649ea81f0de8ecaa4ff3b8.jpg: 320x416 8 fishs, 5 sharks, 8.5ms\n",
      "image 48/63 /content/Aquarium_Data/test/images/IMG_8404_jpg.rf.265b89e862a375f6b89f781ea60ed480.jpg: 320x416 5 fishs, 1 stingray, 9.0ms\n",
      "image 49/63 /content/Aquarium_Data/test/images/IMG_8420_jpg.rf.31f1d5f1440e48ccf1dee988b565911b.jpg: 320x416 16 fishs, 1 shark, 8.4ms\n",
      "image 50/63 /content/Aquarium_Data/test/images/IMG_8452_jpg.rf.6bbff701ab93e29553b3a70137fd4e66.jpg: 320x416 16 fishs, 14.4ms\n",
      "image 51/63 /content/Aquarium_Data/test/images/IMG_8490_jpg.rf.1836542cf054c6d303a2dd05d4194d7f.jpg: 320x416 44 jellyfishs, 8.6ms\n",
      "image 52/63 /content/Aquarium_Data/test/images/IMG_8497_MOV-0_jpg.rf.5c59bd1bf7d8fd7a20999d51a79a12c0.jpg: 416x256 6 fishs, 67.5ms\n",
      "image 53/63 /content/Aquarium_Data/test/images/IMG_8497_MOV-3_jpg.rf.fd813e14681c8b41e709a500748ce46a.jpg: 416x256 3 fishs, 8.8ms\n",
      "image 54/63 /content/Aquarium_Data/test/images/IMG_8497_MOV-5_jpg.rf.3deffb208d656b7845661c5e33dd1afb.jpg: 416x256 5 fishs, 8.8ms\n",
      "image 55/63 /content/Aquarium_Data/test/images/IMG_8513_MOV-0_jpg.rf.2a2f77e3f73630b60aaf6ad3ca4ed130.jpg: 416x256 3 fishs, 8.4ms\n",
      "image 56/63 /content/Aquarium_Data/test/images/IMG_8515_jpg.rf.98a9daca7c5a5bad9872bd7fb2d4f198.jpg: 320x416 9 fishs, 10.1ms\n",
      "image 57/63 /content/Aquarium_Data/test/images/IMG_8582_MOV-0_jpg.rf.aa8304d7a5112d63c8841d96160d42cd.jpg: 416x256 5 fishs, 1 stingray, 9.5ms\n",
      "image 58/63 /content/Aquarium_Data/test/images/IMG_8582_MOV-3_jpg.rf.c7dde0639837077f76428d70223368a4.jpg: 416x256 (no detections), 8.8ms\n",
      "image 59/63 /content/Aquarium_Data/test/images/IMG_8582_MOV-5_jpg.rf.9d7a26fbf145ce39ab0831b4e6bc1f1e.jpg: 416x256 3 fishs, 1 stingray, 8.9ms\n",
      "image 60/63 /content/Aquarium_Data/test/images/IMG_8590_MOV-2_jpg.rf.2136fdb5dcbcd58a1dc456bb3e5bf476.jpg: 416x256 3 jellyfishs, 9.1ms\n",
      "image 61/63 /content/Aquarium_Data/test/images/IMG_8590_MOV-5_jpg.rf.074e6d8acdd3fcad16d866c341b43769.jpg: 416x256 1 stingray, 8.9ms\n",
      "image 62/63 /content/Aquarium_Data/test/images/IMG_8595_MOV-0_jpg.rf.312ab0b8b9fca18134aee88044f45a06.jpg: 416x256 44 jellyfishs, 8.7ms\n",
      "image 63/63 /content/Aquarium_Data/test/images/IMG_8599_MOV-3_jpg.rf.412ebb16ea80e964b4464c50e757df0e.jpg: 416x256 4 jellyfishs, 8.4ms\n",
      "Speed: 1.3ms preprocess, 12.2ms inference, 1.4ms postprocess per image at shape (1, 3, 416, 256)\n",
      "Results saved to \u001b[1mruns/detect/train2\u001b[0m\n"
     ]
    }
   ],
   "source": [
    "# 모델 예측하기 model.predict() - source 위치 지정 , save = True 지정하기\n",
    "results = ...    # ... code here"
   ]
  },
  {
   "cell_type": "markdown",
   "metadata": {
    "id": "fZBn8ChCgXql"
   },
   "source": [
    "## **5. 결과 확인하기**"
   ]
  },
  {
   "cell_type": "code",
   "execution_count": null,
   "metadata": {
    "colab": {
     "base_uri": "https://localhost:8080/"
    },
    "executionInfo": {
     "elapsed": 321,
     "status": "ok",
     "timestamp": 1713104333171,
     "user": {
      "displayName": "강희숙",
      "userId": "05520711596090317319"
     },
     "user_tz": -540
    },
    "id": "CWuCAASSfy66",
    "outputId": "b3697de9-d5a2-4b5a-d2b6-200acb7c534b"
   },
   "outputs": [
    {
     "name": "stdout",
     "output_type": "stream",
     "text": [
      "<class 'list'> 63\n"
     ]
    }
   ],
   "source": [
    "print(type(results), len(results))"
   ]
  },
  {
   "cell_type": "code",
   "execution_count": null,
   "metadata": {
    "colab": {
     "base_uri": "https://localhost:8080/"
    },
    "executionInfo": {
     "elapsed": 690,
     "status": "ok",
     "timestamp": 1713104336051,
     "user": {
      "displayName": "강희숙",
      "userId": "05520711596090317319"
     },
     "user_tz": -540
    },
    "id": "_TFeaA3CkfFX",
    "outputId": "d6138513-9dae-414e-d0cc-1c19c9004ec5"
   },
   "outputs": [
    {
     "name": "stdout",
     "output_type": "stream",
     "text": [
      "\n",
      "{class num : counts} = {2.0: 1, 3.0: 1} \n",
      "\n",
      "class num:  3 , class name: puffin       , confidence: 0.37\n",
      "class num:  2 , class name: penguin      , confidence: 0.31\n",
      "\n",
      "{class num : counts} = {2.0: 12} \n",
      "\n",
      "class num:  2 , class name: penguin      , confidence: 0.93\n",
      "class num:  2 , class name: penguin      , confidence: 0.78\n",
      "class num:  2 , class name: penguin      , confidence: 0.74\n",
      "class num:  2 , class name: penguin      , confidence: 0.73\n",
      "class num:  2 , class name: penguin      , confidence: 0.64\n",
      "class num:  2 , class name: penguin      , confidence: 0.53\n",
      "class num:  2 , class name: penguin      , confidence: 0.52\n",
      "class num:  2 , class name: penguin      , confidence: 0.50\n",
      "class num:  2 , class name: penguin      , confidence: 0.44\n",
      "class num:  2 , class name: penguin      , confidence: 0.32\n",
      "class num:  2 , class name: penguin      , confidence: 0.30\n",
      "class num:  2 , class name: penguin      , confidence: 0.29\n",
      "\n",
      "{class num : counts} = {2.0: 6} \n",
      "\n",
      "class num:  2 , class name: penguin      , confidence: 0.97\n",
      "class num:  2 , class name: penguin      , confidence: 0.85\n",
      "class num:  2 , class name: penguin      , confidence: 0.85\n",
      "class num:  2 , class name: penguin      , confidence: 0.84\n",
      "class num:  2 , class name: penguin      , confidence: 0.51\n",
      "class num:  2 , class name: penguin      , confidence: 0.30\n",
      "\n",
      "{class num : counts} = {2.0: 1} \n",
      "\n",
      "class num:  2 , class name: penguin      , confidence: 0.94\n",
      "\n",
      "{class num : counts} = {2.0: 3} \n",
      "\n",
      "class num:  2 , class name: penguin      , confidence: 0.76\n",
      "class num:  2 , class name: penguin      , confidence: 0.75\n",
      "class num:  2 , class name: penguin      , confidence: 0.37\n",
      "\n",
      "{class num : counts} = {0.0: 2, 4.0: 1} \n",
      "\n",
      "class num:  0 , class name: fish         , confidence: 0.86\n",
      "class num:  0 , class name: fish         , confidence: 0.80\n",
      "class num:  4 , class name: shark        , confidence: 0.77\n",
      "\n",
      "{class num : counts} = {0.0: 2} \n",
      "\n",
      "class num:  0 , class name: fish         , confidence: 0.92\n",
      "class num:  0 , class name: fish         , confidence: 0.46\n",
      "\n",
      "{class num : counts} = {0.0: 6} \n",
      "\n",
      "class num:  0 , class name: fish         , confidence: 0.90\n",
      "class num:  0 , class name: fish         , confidence: 0.62\n",
      "class num:  0 , class name: fish         , confidence: 0.49\n",
      "class num:  0 , class name: fish         , confidence: 0.48\n",
      "class num:  0 , class name: fish         , confidence: 0.44\n",
      "class num:  0 , class name: fish         , confidence: 0.34\n",
      "\n",
      "{class num : counts} = {5.0: 1} \n",
      "\n",
      "class num:  5 , class name: starfish     , confidence: 0.99\n",
      "\n",
      "{class num : counts} = {0.0: 5, 6.0: 1} \n",
      "\n",
      "class num:  0 , class name: fish         , confidence: 0.90\n",
      "class num:  0 , class name: fish         , confidence: 0.89\n",
      "class num:  6 , class name: stingray     , confidence: 0.87\n",
      "class num:  0 , class name: fish         , confidence: 0.70\n",
      "class num:  0 , class name: fish         , confidence: 0.59\n",
      "class num:  0 , class name: fish         , confidence: 0.26\n",
      "\n",
      "{class num : counts} = {0.0: 16, 4.0: 3} \n",
      "\n",
      "class num:  4 , class name: shark        , confidence: 0.91\n",
      "class num:  4 , class name: shark        , confidence: 0.88\n",
      "class num:  0 , class name: fish         , confidence: 0.86\n",
      "class num:  0 , class name: fish         , confidence: 0.81\n",
      "class num:  0 , class name: fish         , confidence: 0.79\n",
      "class num:  0 , class name: fish         , confidence: 0.75\n",
      "class num:  0 , class name: fish         , confidence: 0.72\n",
      "class num:  0 , class name: fish         , confidence: 0.71\n",
      "class num:  0 , class name: fish         , confidence: 0.69\n",
      "class num:  0 , class name: fish         , confidence: 0.68\n",
      "class num:  0 , class name: fish         , confidence: 0.50\n",
      "class num:  0 , class name: fish         , confidence: 0.49\n",
      "class num:  0 , class name: fish         , confidence: 0.46\n",
      "class num:  0 , class name: fish         , confidence: 0.44\n",
      "class num:  0 , class name: fish         , confidence: 0.38\n",
      "class num:  4 , class name: shark        , confidence: 0.34\n",
      "class num:  0 , class name: fish         , confidence: 0.26\n",
      "class num:  0 , class name: fish         , confidence: 0.26\n",
      "class num:  0 , class name: fish         , confidence: 0.25\n",
      "\n",
      "{class num : counts} = {0.0: 3, 4.0: 1, 6.0: 1} \n",
      "\n",
      "class num:  0 , class name: fish         , confidence: 0.94\n",
      "class num:  0 , class name: fish         , confidence: 0.84\n",
      "class num:  6 , class name: stingray     , confidence: 0.60\n",
      "class num:  4 , class name: shark        , confidence: 0.51\n",
      "class num:  0 , class name: fish         , confidence: 0.39\n",
      "\n",
      "{class num : counts} = {0.0: 7, 4.0: 2, 6.0: 1} \n",
      "\n",
      "class num:  4 , class name: shark        , confidence: 0.88\n",
      "class num:  0 , class name: fish         , confidence: 0.88\n",
      "class num:  0 , class name: fish         , confidence: 0.86\n",
      "class num:  0 , class name: fish         , confidence: 0.81\n",
      "class num:  4 , class name: shark        , confidence: 0.76\n",
      "class num:  0 , class name: fish         , confidence: 0.75\n",
      "class num:  6 , class name: stingray     , confidence: 0.52\n",
      "class num:  0 , class name: fish         , confidence: 0.47\n",
      "class num:  0 , class name: fish         , confidence: 0.41\n",
      "class num:  0 , class name: fish         , confidence: 0.40\n",
      "\n",
      "{class num : counts} = {0.0: 7, 4.0: 4} \n",
      "\n",
      "class num:  0 , class name: fish         , confidence: 0.91\n",
      "class num:  0 , class name: fish         , confidence: 0.90\n",
      "class num:  0 , class name: fish         , confidence: 0.89\n",
      "class num:  0 , class name: fish         , confidence: 0.82\n",
      "class num:  4 , class name: shark        , confidence: 0.81\n",
      "class num:  0 , class name: fish         , confidence: 0.77\n",
      "class num:  0 , class name: fish         , confidence: 0.73\n",
      "class num:  0 , class name: fish         , confidence: 0.71\n",
      "class num:  4 , class name: shark        , confidence: 0.61\n",
      "class num:  4 , class name: shark        , confidence: 0.46\n",
      "class num:  4 , class name: shark        , confidence: 0.45\n",
      "\n",
      "{class num : counts} = {0.0: 13, 4.0: 2} \n",
      "\n",
      "class num:  4 , class name: shark        , confidence: 0.96\n",
      "class num:  0 , class name: fish         , confidence: 0.93\n",
      "class num:  0 , class name: fish         , confidence: 0.89\n",
      "class num:  0 , class name: fish         , confidence: 0.89\n",
      "class num:  4 , class name: shark        , confidence: 0.87\n",
      "class num:  0 , class name: fish         , confidence: 0.83\n",
      "class num:  0 , class name: fish         , confidence: 0.80\n",
      "class num:  0 , class name: fish         , confidence: 0.79\n",
      "class num:  0 , class name: fish         , confidence: 0.79\n",
      "class num:  0 , class name: fish         , confidence: 0.72\n",
      "class num:  0 , class name: fish         , confidence: 0.68\n",
      "class num:  0 , class name: fish         , confidence: 0.66\n",
      "class num:  0 , class name: fish         , confidence: 0.66\n",
      "class num:  0 , class name: fish         , confidence: 0.64\n",
      "class num:  0 , class name: fish         , confidence: 0.30\n",
      "\n",
      "{class num : counts} = {1.0: 16} \n",
      "\n",
      "class num:  1 , class name: jellyfish    , confidence: 0.98\n",
      "class num:  1 , class name: jellyfish    , confidence: 0.94\n",
      "class num:  1 , class name: jellyfish    , confidence: 0.94\n",
      "class num:  1 , class name: jellyfish    , confidence: 0.94\n",
      "class num:  1 , class name: jellyfish    , confidence: 0.92\n",
      "class num:  1 , class name: jellyfish    , confidence: 0.91\n",
      "class num:  1 , class name: jellyfish    , confidence: 0.91\n",
      "class num:  1 , class name: jellyfish    , confidence: 0.90\n",
      "class num:  1 , class name: jellyfish    , confidence: 0.89\n",
      "class num:  1 , class name: jellyfish    , confidence: 0.88\n",
      "class num:  1 , class name: jellyfish    , confidence: 0.88\n",
      "class num:  1 , class name: jellyfish    , confidence: 0.82\n",
      "class num:  1 , class name: jellyfish    , confidence: 0.81\n",
      "class num:  1 , class name: jellyfish    , confidence: 0.72\n",
      "class num:  1 , class name: jellyfish    , confidence: 0.64\n",
      "class num:  1 , class name: jellyfish    , confidence: 0.63\n",
      "\n",
      "{class num : counts} = {1.0: 7} \n",
      "\n",
      "class num:  1 , class name: jellyfish    , confidence: 0.94\n",
      "class num:  1 , class name: jellyfish    , confidence: 0.92\n",
      "class num:  1 , class name: jellyfish    , confidence: 0.91\n",
      "class num:  1 , class name: jellyfish    , confidence: 0.85\n",
      "class num:  1 , class name: jellyfish    , confidence: 0.85\n",
      "class num:  1 , class name: jellyfish    , confidence: 0.28\n",
      "class num:  1 , class name: jellyfish    , confidence: 0.28\n",
      "\n",
      "{class num : counts} = {1.0: 10} \n",
      "\n",
      "class num:  1 , class name: jellyfish    , confidence: 0.94\n",
      "class num:  1 , class name: jellyfish    , confidence: 0.94\n",
      "class num:  1 , class name: jellyfish    , confidence: 0.94\n",
      "class num:  1 , class name: jellyfish    , confidence: 0.92\n",
      "class num:  1 , class name: jellyfish    , confidence: 0.87\n",
      "class num:  1 , class name: jellyfish    , confidence: 0.85\n",
      "class num:  1 , class name: jellyfish    , confidence: 0.78\n",
      "class num:  1 , class name: jellyfish    , confidence: 0.66\n",
      "class num:  1 , class name: jellyfish    , confidence: 0.66\n",
      "class num:  1 , class name: jellyfish    , confidence: 0.32\n",
      "\n",
      "{class num : counts} = {1.0: 19} \n",
      "\n",
      "class num:  1 , class name: jellyfish    , confidence: 0.97\n",
      "class num:  1 , class name: jellyfish    , confidence: 0.97\n",
      "class num:  1 , class name: jellyfish    , confidence: 0.94\n",
      "class num:  1 , class name: jellyfish    , confidence: 0.94\n",
      "class num:  1 , class name: jellyfish    , confidence: 0.94\n",
      "class num:  1 , class name: jellyfish    , confidence: 0.94\n",
      "class num:  1 , class name: jellyfish    , confidence: 0.93\n",
      "class num:  1 , class name: jellyfish    , confidence: 0.85\n",
      "class num:  1 , class name: jellyfish    , confidence: 0.82\n",
      "class num:  1 , class name: jellyfish    , confidence: 0.82\n",
      "class num:  1 , class name: jellyfish    , confidence: 0.82\n",
      "class num:  1 , class name: jellyfish    , confidence: 0.75\n",
      "class num:  1 , class name: jellyfish    , confidence: 0.75\n",
      "class num:  1 , class name: jellyfish    , confidence: 0.72\n",
      "class num:  1 , class name: jellyfish    , confidence: 0.71\n",
      "class num:  1 , class name: jellyfish    , confidence: 0.56\n",
      "class num:  1 , class name: jellyfish    , confidence: 0.38\n",
      "class num:  1 , class name: jellyfish    , confidence: 0.29\n",
      "class num:  1 , class name: jellyfish    , confidence: 0.27\n",
      "\n",
      "{class num : counts} = {1.0: 4} \n",
      "\n",
      "class num:  1 , class name: jellyfish    , confidence: 0.98\n",
      "class num:  1 , class name: jellyfish    , confidence: 0.97\n",
      "class num:  1 , class name: jellyfish    , confidence: 0.75\n",
      "class num:  1 , class name: jellyfish    , confidence: 0.59\n",
      "\n",
      "{class num : counts} = {1.0: 6} \n",
      "\n",
      "class num:  1 , class name: jellyfish    , confidence: 0.96\n",
      "class num:  1 , class name: jellyfish    , confidence: 0.95\n",
      "class num:  1 , class name: jellyfish    , confidence: 0.94\n",
      "class num:  1 , class name: jellyfish    , confidence: 0.91\n",
      "class num:  1 , class name: jellyfish    , confidence: 0.86\n",
      "class num:  1 , class name: jellyfish    , confidence: 0.75\n",
      "\n",
      "{class num : counts} = {0.0: 6, 4.0: 3, 6.0: 1} \n",
      "\n",
      "class num:  4 , class name: shark        , confidence: 0.96\n",
      "class num:  0 , class name: fish         , confidence: 0.85\n",
      "class num:  4 , class name: shark        , confidence: 0.85\n",
      "class num:  4 , class name: shark        , confidence: 0.59\n",
      "class num:  0 , class name: fish         , confidence: 0.59\n",
      "class num:  0 , class name: fish         , confidence: 0.43\n",
      "class num:  0 , class name: fish         , confidence: 0.39\n",
      "class num:  6 , class name: stingray     , confidence: 0.37\n",
      "class num:  0 , class name: fish         , confidence: 0.31\n",
      "class num:  0 , class name: fish         , confidence: 0.29\n",
      "\n",
      "{class num : counts} = {0.0: 2, 4.0: 1} \n",
      "\n",
      "class num:  4 , class name: shark        , confidence: 0.93\n",
      "class num:  0 , class name: fish         , confidence: 0.39\n",
      "class num:  0 , class name: fish         , confidence: 0.27\n",
      "\n",
      "{class num : counts} = {4.0: 2} \n",
      "\n",
      "class num:  4 , class name: shark        , confidence: 0.98\n",
      "class num:  4 , class name: shark        , confidence: 0.98\n",
      "\n",
      "{class num : counts} = {3.0: 6} \n",
      "\n",
      "class num:  3 , class name: puffin       , confidence: 0.74\n",
      "class num:  3 , class name: puffin       , confidence: 0.62\n",
      "class num:  3 , class name: puffin       , confidence: 0.52\n",
      "class num:  3 , class name: puffin       , confidence: 0.50\n",
      "class num:  3 , class name: puffin       , confidence: 0.44\n",
      "class num:  3 , class name: puffin       , confidence: 0.31\n",
      "\n",
      "{class num : counts} = {5.0: 2} \n",
      "\n",
      "class num:  5 , class name: starfish     , confidence: 0.99\n",
      "class num:  5 , class name: starfish     , confidence: 0.90\n",
      "\n",
      "{class num : counts} = {1.0: 2, 5.0: 3} \n",
      "\n",
      "class num:  5 , class name: starfish     , confidence: 0.97\n",
      "class num:  5 , class name: starfish     , confidence: 0.96\n",
      "class num:  5 , class name: starfish     , confidence: 0.95\n",
      "class num:  1 , class name: jellyfish    , confidence: 0.43\n",
      "class num:  1 , class name: jellyfish    , confidence: 0.30\n",
      "\n",
      "{class num : counts} = {5.0: 4} \n",
      "\n",
      "class num:  5 , class name: starfish     , confidence: 0.61\n",
      "class num:  5 , class name: starfish     , confidence: 0.60\n",
      "class num:  5 , class name: starfish     , confidence: 0.55\n",
      "class num:  5 , class name: starfish     , confidence: 0.32\n",
      "\n",
      "{class num : counts} = {0.0: 12, 4.0: 3} \n",
      "\n",
      "class num:  4 , class name: shark        , confidence: 0.97\n",
      "class num:  0 , class name: fish         , confidence: 0.85\n",
      "class num:  0 , class name: fish         , confidence: 0.81\n",
      "class num:  0 , class name: fish         , confidence: 0.81\n",
      "class num:  0 , class name: fish         , confidence: 0.80\n",
      "class num:  4 , class name: shark        , confidence: 0.80\n",
      "class num:  0 , class name: fish         , confidence: 0.76\n",
      "class num:  0 , class name: fish         , confidence: 0.68\n",
      "class num:  0 , class name: fish         , confidence: 0.67\n",
      "class num:  0 , class name: fish         , confidence: 0.59\n",
      "class num:  0 , class name: fish         , confidence: 0.57\n",
      "class num:  0 , class name: fish         , confidence: 0.45\n",
      "class num:  4 , class name: shark        , confidence: 0.34\n",
      "class num:  0 , class name: fish         , confidence: 0.34\n",
      "class num:  0 , class name: fish         , confidence: 0.26\n",
      "\n",
      "{class num : counts} = {1.0: 14} \n",
      "\n",
      "class num:  1 , class name: jellyfish    , confidence: 0.97\n",
      "class num:  1 , class name: jellyfish    , confidence: 0.95\n",
      "class num:  1 , class name: jellyfish    , confidence: 0.94\n",
      "class num:  1 , class name: jellyfish    , confidence: 0.93\n",
      "class num:  1 , class name: jellyfish    , confidence: 0.93\n",
      "class num:  1 , class name: jellyfish    , confidence: 0.91\n",
      "class num:  1 , class name: jellyfish    , confidence: 0.81\n",
      "class num:  1 , class name: jellyfish    , confidence: 0.80\n",
      "class num:  1 , class name: jellyfish    , confidence: 0.78\n",
      "class num:  1 , class name: jellyfish    , confidence: 0.44\n",
      "class num:  1 , class name: jellyfish    , confidence: 0.41\n",
      "class num:  1 , class name: jellyfish    , confidence: 0.40\n",
      "class num:  1 , class name: jellyfish    , confidence: 0.37\n",
      "class num:  1 , class name: jellyfish    , confidence: 0.30\n",
      "\n",
      "{class num : counts} = {0.0: 6, 4.0: 2, 6.0: 2} \n",
      "\n",
      "class num:  6 , class name: stingray     , confidence: 0.97\n",
      "class num:  4 , class name: shark        , confidence: 0.84\n",
      "class num:  0 , class name: fish         , confidence: 0.79\n",
      "class num:  4 , class name: shark        , confidence: 0.78\n",
      "class num:  0 , class name: fish         , confidence: 0.60\n",
      "class num:  0 , class name: fish         , confidence: 0.57\n",
      "class num:  0 , class name: fish         , confidence: 0.50\n",
      "class num:  0 , class name: fish         , confidence: 0.41\n",
      "class num:  0 , class name: fish         , confidence: 0.37\n",
      "class num:  6 , class name: stingray     , confidence: 0.27\n",
      "\n",
      "{class num : counts} = {6.0: 3} \n",
      "\n",
      "class num:  6 , class name: stingray     , confidence: 0.97\n",
      "class num:  6 , class name: stingray     , confidence: 0.93\n",
      "class num:  6 , class name: stingray     , confidence: 0.92\n",
      "\n",
      "{class num : counts} = {0.0: 1, 4.0: 1, 6.0: 1} \n",
      "\n",
      "class num:  6 , class name: stingray     , confidence: 0.81\n",
      "class num:  0 , class name: fish         , confidence: 0.40\n",
      "class num:  4 , class name: shark        , confidence: 0.31\n",
      "\n",
      "{class num : counts} = {0.0: 3, 6.0: 3} \n",
      "\n",
      "class num:  6 , class name: stingray     , confidence: 0.67\n",
      "class num:  0 , class name: fish         , confidence: 0.62\n",
      "class num:  0 , class name: fish         , confidence: 0.49\n",
      "class num:  6 , class name: stingray     , confidence: 0.48\n",
      "class num:  6 , class name: stingray     , confidence: 0.34\n",
      "class num:  0 , class name: fish         , confidence: 0.26\n",
      "\n",
      "{class num : counts} = {6.0: 1} \n",
      "\n",
      "class num:  6 , class name: stingray     , confidence: 0.86\n",
      "\n",
      "{class num : counts} = {0.0: 1, 5.0: 1} \n",
      "\n",
      "class num:  5 , class name: starfish     , confidence: 0.89\n",
      "class num:  0 , class name: fish         , confidence: 0.27\n",
      "\n",
      "{class num : counts} = {2.0: 1} \n",
      "\n",
      "class num:  2 , class name: penguin      , confidence: 0.29\n",
      "\n",
      "{class num : counts} = {3.0: 11} \n",
      "\n",
      "class num:  3 , class name: puffin       , confidence: 0.84\n",
      "class num:  3 , class name: puffin       , confidence: 0.71\n",
      "class num:  3 , class name: puffin       , confidence: 0.64\n",
      "class num:  3 , class name: puffin       , confidence: 0.56\n",
      "class num:  3 , class name: puffin       , confidence: 0.54\n",
      "class num:  3 , class name: puffin       , confidence: 0.54\n",
      "class num:  3 , class name: puffin       , confidence: 0.51\n",
      "class num:  3 , class name: puffin       , confidence: 0.47\n",
      "class num:  3 , class name: puffin       , confidence: 0.41\n",
      "class num:  3 , class name: puffin       , confidence: 0.38\n",
      "class num:  3 , class name: puffin       , confidence: 0.28\n",
      "\n",
      "{class num : counts} = {3.0: 2} \n",
      "\n",
      "class num:  3 , class name: puffin       , confidence: 0.63\n",
      "class num:  3 , class name: puffin       , confidence: 0.26\n",
      "\n",
      "{class num : counts} = {3.0: 1} \n",
      "\n",
      "class num:  3 , class name: puffin       , confidence: 0.93\n",
      "\n",
      "{class num : counts} = {2.0: 14, 3.0: 1} \n",
      "\n",
      "class num:  2 , class name: penguin      , confidence: 0.96\n",
      "class num:  2 , class name: penguin      , confidence: 0.92\n",
      "class num:  2 , class name: penguin      , confidence: 0.80\n",
      "class num:  2 , class name: penguin      , confidence: 0.78\n",
      "class num:  2 , class name: penguin      , confidence: 0.71\n",
      "class num:  2 , class name: penguin      , confidence: 0.70\n",
      "class num:  2 , class name: penguin      , confidence: 0.64\n",
      "class num:  2 , class name: penguin      , confidence: 0.54\n",
      "class num:  2 , class name: penguin      , confidence: 0.52\n",
      "class num:  2 , class name: penguin      , confidence: 0.48\n",
      "class num:  2 , class name: penguin      , confidence: 0.38\n",
      "class num:  2 , class name: penguin      , confidence: 0.35\n",
      "class num:  2 , class name: penguin      , confidence: 0.33\n",
      "class num:  3 , class name: puffin       , confidence: 0.26\n",
      "class num:  2 , class name: penguin      , confidence: 0.26\n",
      "\n",
      "{class num : counts} = {2.0: 10} \n",
      "\n",
      "class num:  2 , class name: penguin      , confidence: 0.86\n",
      "class num:  2 , class name: penguin      , confidence: 0.83\n",
      "class num:  2 , class name: penguin      , confidence: 0.81\n",
      "class num:  2 , class name: penguin      , confidence: 0.65\n",
      "class num:  2 , class name: penguin      , confidence: 0.63\n",
      "class num:  2 , class name: penguin      , confidence: 0.58\n",
      "class num:  2 , class name: penguin      , confidence: 0.56\n",
      "class num:  2 , class name: penguin      , confidence: 0.45\n",
      "class num:  2 , class name: penguin      , confidence: 0.43\n",
      "class num:  2 , class name: penguin      , confidence: 0.27\n",
      "\n",
      "{class num : counts} = {2.0: 16} \n",
      "\n",
      "class num:  2 , class name: penguin      , confidence: 0.96\n",
      "class num:  2 , class name: penguin      , confidence: 0.67\n",
      "class num:  2 , class name: penguin      , confidence: 0.63\n",
      "class num:  2 , class name: penguin      , confidence: 0.56\n",
      "class num:  2 , class name: penguin      , confidence: 0.52\n",
      "class num:  2 , class name: penguin      , confidence: 0.51\n",
      "class num:  2 , class name: penguin      , confidence: 0.50\n",
      "class num:  2 , class name: penguin      , confidence: 0.41\n",
      "class num:  2 , class name: penguin      , confidence: 0.38\n",
      "class num:  2 , class name: penguin      , confidence: 0.37\n",
      "class num:  2 , class name: penguin      , confidence: 0.35\n",
      "class num:  2 , class name: penguin      , confidence: 0.35\n",
      "class num:  2 , class name: penguin      , confidence: 0.34\n",
      "class num:  2 , class name: penguin      , confidence: 0.33\n",
      "class num:  2 , class name: penguin      , confidence: 0.32\n",
      "class num:  2 , class name: penguin      , confidence: 0.28\n",
      "\n",
      "{class num : counts} = {0.0: 2} \n",
      "\n",
      "class num:  0 , class name: fish         , confidence: 0.85\n",
      "class num:  0 , class name: fish         , confidence: 0.46\n",
      "\n",
      "{class num : counts} = {0.0: 5} \n",
      "\n",
      "class num:  0 , class name: fish         , confidence: 0.80\n",
      "class num:  0 , class name: fish         , confidence: 0.48\n",
      "class num:  0 , class name: fish         , confidence: 0.39\n",
      "class num:  0 , class name: fish         , confidence: 0.33\n",
      "class num:  0 , class name: fish         , confidence: 0.27\n",
      "\n",
      "{class num : counts} = {0.0: 6, 4.0: 5} \n",
      "\n",
      "class num:  4 , class name: shark        , confidence: 0.93\n",
      "class num:  4 , class name: shark        , confidence: 0.82\n",
      "class num:  4 , class name: shark        , confidence: 0.82\n",
      "class num:  4 , class name: shark        , confidence: 0.81\n",
      "class num:  0 , class name: fish         , confidence: 0.56\n",
      "class num:  0 , class name: fish         , confidence: 0.52\n",
      "class num:  0 , class name: fish         , confidence: 0.43\n",
      "class num:  0 , class name: fish         , confidence: 0.34\n",
      "class num:  0 , class name: fish         , confidence: 0.32\n",
      "class num:  0 , class name: fish         , confidence: 0.29\n",
      "class num:  4 , class name: shark        , confidence: 0.27\n",
      "\n",
      "{class num : counts} = {0.0: 8, 4.0: 5} \n",
      "\n",
      "class num:  4 , class name: shark        , confidence: 0.95\n",
      "class num:  4 , class name: shark        , confidence: 0.94\n",
      "class num:  4 , class name: shark        , confidence: 0.92\n",
      "class num:  4 , class name: shark        , confidence: 0.81\n",
      "class num:  4 , class name: shark        , confidence: 0.79\n",
      "class num:  0 , class name: fish         , confidence: 0.52\n",
      "class num:  0 , class name: fish         , confidence: 0.41\n",
      "class num:  0 , class name: fish         , confidence: 0.39\n",
      "class num:  0 , class name: fish         , confidence: 0.39\n",
      "class num:  0 , class name: fish         , confidence: 0.33\n",
      "class num:  0 , class name: fish         , confidence: 0.32\n",
      "class num:  0 , class name: fish         , confidence: 0.29\n",
      "class num:  0 , class name: fish         , confidence: 0.25\n",
      "\n",
      "{class num : counts} = {0.0: 5, 6.0: 1} \n",
      "\n",
      "class num:  6 , class name: stingray     , confidence: 0.98\n",
      "class num:  0 , class name: fish         , confidence: 0.82\n",
      "class num:  0 , class name: fish         , confidence: 0.50\n",
      "class num:  0 , class name: fish         , confidence: 0.48\n",
      "class num:  0 , class name: fish         , confidence: 0.36\n",
      "class num:  0 , class name: fish         , confidence: 0.36\n",
      "\n",
      "{class num : counts} = {0.0: 16, 4.0: 1} \n",
      "\n",
      "class num:  0 , class name: fish         , confidence: 0.70\n",
      "class num:  0 , class name: fish         , confidence: 0.50\n",
      "class num:  0 , class name: fish         , confidence: 0.49\n",
      "class num:  0 , class name: fish         , confidence: 0.48\n",
      "class num:  0 , class name: fish         , confidence: 0.46\n",
      "class num:  0 , class name: fish         , confidence: 0.45\n",
      "class num:  0 , class name: fish         , confidence: 0.42\n",
      "class num:  0 , class name: fish         , confidence: 0.39\n",
      "class num:  4 , class name: shark        , confidence: 0.34\n",
      "class num:  0 , class name: fish         , confidence: 0.33\n",
      "class num:  0 , class name: fish         , confidence: 0.32\n",
      "class num:  0 , class name: fish         , confidence: 0.30\n",
      "class num:  0 , class name: fish         , confidence: 0.30\n",
      "class num:  0 , class name: fish         , confidence: 0.28\n",
      "class num:  0 , class name: fish         , confidence: 0.27\n",
      "class num:  0 , class name: fish         , confidence: 0.27\n",
      "class num:  0 , class name: fish         , confidence: 0.26\n",
      "\n",
      "{class num : counts} = {0.0: 16} \n",
      "\n",
      "class num:  0 , class name: fish         , confidence: 0.87\n",
      "class num:  0 , class name: fish         , confidence: 0.70\n",
      "class num:  0 , class name: fish         , confidence: 0.63\n",
      "class num:  0 , class name: fish         , confidence: 0.56\n",
      "class num:  0 , class name: fish         , confidence: 0.51\n",
      "class num:  0 , class name: fish         , confidence: 0.50\n",
      "class num:  0 , class name: fish         , confidence: 0.46\n",
      "class num:  0 , class name: fish         , confidence: 0.42\n",
      "class num:  0 , class name: fish         , confidence: 0.38\n",
      "class num:  0 , class name: fish         , confidence: 0.37\n",
      "class num:  0 , class name: fish         , confidence: 0.36\n",
      "class num:  0 , class name: fish         , confidence: 0.35\n",
      "class num:  0 , class name: fish         , confidence: 0.32\n",
      "class num:  0 , class name: fish         , confidence: 0.31\n",
      "class num:  0 , class name: fish         , confidence: 0.30\n",
      "class num:  0 , class name: fish         , confidence: 0.27\n",
      "\n",
      "{class num : counts} = {1.0: 44} \n",
      "\n",
      "class num:  1 , class name: jellyfish    , confidence: 0.94\n",
      "class num:  1 , class name: jellyfish    , confidence: 0.93\n",
      "class num:  1 , class name: jellyfish    , confidence: 0.93\n",
      "class num:  1 , class name: jellyfish    , confidence: 0.93\n",
      "class num:  1 , class name: jellyfish    , confidence: 0.92\n",
      "class num:  1 , class name: jellyfish    , confidence: 0.92\n",
      "class num:  1 , class name: jellyfish    , confidence: 0.91\n",
      "class num:  1 , class name: jellyfish    , confidence: 0.91\n",
      "class num:  1 , class name: jellyfish    , confidence: 0.91\n",
      "class num:  1 , class name: jellyfish    , confidence: 0.90\n",
      "class num:  1 , class name: jellyfish    , confidence: 0.90\n",
      "class num:  1 , class name: jellyfish    , confidence: 0.89\n",
      "class num:  1 , class name: jellyfish    , confidence: 0.89\n",
      "class num:  1 , class name: jellyfish    , confidence: 0.87\n",
      "class num:  1 , class name: jellyfish    , confidence: 0.86\n",
      "class num:  1 , class name: jellyfish    , confidence: 0.86\n",
      "class num:  1 , class name: jellyfish    , confidence: 0.82\n",
      "class num:  1 , class name: jellyfish    , confidence: 0.82\n",
      "class num:  1 , class name: jellyfish    , confidence: 0.82\n",
      "class num:  1 , class name: jellyfish    , confidence: 0.81\n",
      "class num:  1 , class name: jellyfish    , confidence: 0.81\n",
      "class num:  1 , class name: jellyfish    , confidence: 0.80\n",
      "class num:  1 , class name: jellyfish    , confidence: 0.76\n",
      "class num:  1 , class name: jellyfish    , confidence: 0.76\n",
      "class num:  1 , class name: jellyfish    , confidence: 0.74\n",
      "class num:  1 , class name: jellyfish    , confidence: 0.72\n",
      "class num:  1 , class name: jellyfish    , confidence: 0.71\n",
      "class num:  1 , class name: jellyfish    , confidence: 0.60\n",
      "class num:  1 , class name: jellyfish    , confidence: 0.56\n",
      "class num:  1 , class name: jellyfish    , confidence: 0.51\n",
      "class num:  1 , class name: jellyfish    , confidence: 0.51\n",
      "class num:  1 , class name: jellyfish    , confidence: 0.41\n",
      "class num:  1 , class name: jellyfish    , confidence: 0.40\n",
      "class num:  1 , class name: jellyfish    , confidence: 0.38\n",
      "class num:  1 , class name: jellyfish    , confidence: 0.37\n",
      "class num:  1 , class name: jellyfish    , confidence: 0.37\n",
      "class num:  1 , class name: jellyfish    , confidence: 0.36\n",
      "class num:  1 , class name: jellyfish    , confidence: 0.34\n",
      "class num:  1 , class name: jellyfish    , confidence: 0.34\n",
      "class num:  1 , class name: jellyfish    , confidence: 0.32\n",
      "class num:  1 , class name: jellyfish    , confidence: 0.32\n",
      "class num:  1 , class name: jellyfish    , confidence: 0.28\n",
      "class num:  1 , class name: jellyfish    , confidence: 0.27\n",
      "class num:  1 , class name: jellyfish    , confidence: 0.25\n",
      "\n",
      "{class num : counts} = {0.0: 6} \n",
      "\n",
      "class num:  0 , class name: fish         , confidence: 0.83\n",
      "class num:  0 , class name: fish         , confidence: 0.78\n",
      "class num:  0 , class name: fish         , confidence: 0.74\n",
      "class num:  0 , class name: fish         , confidence: 0.58\n",
      "class num:  0 , class name: fish         , confidence: 0.57\n",
      "class num:  0 , class name: fish         , confidence: 0.48\n",
      "\n",
      "{class num : counts} = {0.0: 3} \n",
      "\n",
      "class num:  0 , class name: fish         , confidence: 0.56\n",
      "class num:  0 , class name: fish         , confidence: 0.33\n",
      "class num:  0 , class name: fish         , confidence: 0.31\n",
      "\n",
      "{class num : counts} = {0.0: 5} \n",
      "\n",
      "class num:  0 , class name: fish         , confidence: 0.83\n",
      "class num:  0 , class name: fish         , confidence: 0.74\n",
      "class num:  0 , class name: fish         , confidence: 0.64\n",
      "class num:  0 , class name: fish         , confidence: 0.42\n",
      "class num:  0 , class name: fish         , confidence: 0.34\n",
      "\n",
      "{class num : counts} = {0.0: 3} \n",
      "\n",
      "class num:  0 , class name: fish         , confidence: 0.89\n",
      "class num:  0 , class name: fish         , confidence: 0.70\n",
      "class num:  0 , class name: fish         , confidence: 0.38\n",
      "\n",
      "{class num : counts} = {0.0: 9} \n",
      "\n",
      "class num:  0 , class name: fish         , confidence: 0.73\n",
      "class num:  0 , class name: fish         , confidence: 0.61\n",
      "class num:  0 , class name: fish         , confidence: 0.58\n",
      "class num:  0 , class name: fish         , confidence: 0.57\n",
      "class num:  0 , class name: fish         , confidence: 0.57\n",
      "class num:  0 , class name: fish         , confidence: 0.49\n",
      "class num:  0 , class name: fish         , confidence: 0.27\n",
      "class num:  0 , class name: fish         , confidence: 0.26\n",
      "class num:  0 , class name: fish         , confidence: 0.25\n",
      "\n",
      "{class num : counts} = {0.0: 5, 6.0: 1} \n",
      "\n",
      "class num:  6 , class name: stingray     , confidence: 0.82\n",
      "class num:  0 , class name: fish         , confidence: 0.76\n",
      "class num:  0 , class name: fish         , confidence: 0.76\n",
      "class num:  0 , class name: fish         , confidence: 0.52\n",
      "class num:  0 , class name: fish         , confidence: 0.45\n",
      "class num:  0 , class name: fish         , confidence: 0.36\n",
      "\n",
      "{class num : counts} = {} \n",
      "\n",
      "\n",
      "{class num : counts} = {0.0: 3, 6.0: 1} \n",
      "\n",
      "class num:  6 , class name: stingray     , confidence: 0.95\n",
      "class num:  0 , class name: fish         , confidence: 0.62\n",
      "class num:  0 , class name: fish         , confidence: 0.31\n",
      "class num:  0 , class name: fish         , confidence: 0.29\n",
      "\n",
      "{class num : counts} = {1.0: 3} \n",
      "\n",
      "class num:  1 , class name: jellyfish    , confidence: 0.92\n",
      "class num:  1 , class name: jellyfish    , confidence: 0.92\n",
      "class num:  1 , class name: jellyfish    , confidence: 0.76\n",
      "\n",
      "{class num : counts} = {6.0: 1} \n",
      "\n",
      "class num:  6 , class name: stingray     , confidence: 0.97\n",
      "\n",
      "{class num : counts} = {1.0: 44} \n",
      "\n",
      "class num:  1 , class name: jellyfish    , confidence: 0.97\n",
      "class num:  1 , class name: jellyfish    , confidence: 0.97\n",
      "class num:  1 , class name: jellyfish    , confidence: 0.96\n",
      "class num:  1 , class name: jellyfish    , confidence: 0.96\n",
      "class num:  1 , class name: jellyfish    , confidence: 0.95\n",
      "class num:  1 , class name: jellyfish    , confidence: 0.94\n",
      "class num:  1 , class name: jellyfish    , confidence: 0.93\n",
      "class num:  1 , class name: jellyfish    , confidence: 0.93\n",
      "class num:  1 , class name: jellyfish    , confidence: 0.91\n",
      "class num:  1 , class name: jellyfish    , confidence: 0.91\n",
      "class num:  1 , class name: jellyfish    , confidence: 0.91\n",
      "class num:  1 , class name: jellyfish    , confidence: 0.90\n",
      "class num:  1 , class name: jellyfish    , confidence: 0.89\n",
      "class num:  1 , class name: jellyfish    , confidence: 0.89\n",
      "class num:  1 , class name: jellyfish    , confidence: 0.89\n",
      "class num:  1 , class name: jellyfish    , confidence: 0.88\n",
      "class num:  1 , class name: jellyfish    , confidence: 0.87\n",
      "class num:  1 , class name: jellyfish    , confidence: 0.86\n",
      "class num:  1 , class name: jellyfish    , confidence: 0.85\n",
      "class num:  1 , class name: jellyfish    , confidence: 0.85\n",
      "class num:  1 , class name: jellyfish    , confidence: 0.85\n",
      "class num:  1 , class name: jellyfish    , confidence: 0.82\n",
      "class num:  1 , class name: jellyfish    , confidence: 0.81\n",
      "class num:  1 , class name: jellyfish    , confidence: 0.81\n",
      "class num:  1 , class name: jellyfish    , confidence: 0.76\n",
      "class num:  1 , class name: jellyfish    , confidence: 0.74\n",
      "class num:  1 , class name: jellyfish    , confidence: 0.73\n",
      "class num:  1 , class name: jellyfish    , confidence: 0.72\n",
      "class num:  1 , class name: jellyfish    , confidence: 0.70\n",
      "class num:  1 , class name: jellyfish    , confidence: 0.65\n",
      "class num:  1 , class name: jellyfish    , confidence: 0.62\n",
      "class num:  1 , class name: jellyfish    , confidence: 0.60\n",
      "class num:  1 , class name: jellyfish    , confidence: 0.56\n",
      "class num:  1 , class name: jellyfish    , confidence: 0.54\n",
      "class num:  1 , class name: jellyfish    , confidence: 0.50\n",
      "class num:  1 , class name: jellyfish    , confidence: 0.49\n",
      "class num:  1 , class name: jellyfish    , confidence: 0.47\n",
      "class num:  1 , class name: jellyfish    , confidence: 0.41\n",
      "class num:  1 , class name: jellyfish    , confidence: 0.39\n",
      "class num:  1 , class name: jellyfish    , confidence: 0.35\n",
      "class num:  1 , class name: jellyfish    , confidence: 0.34\n",
      "class num:  1 , class name: jellyfish    , confidence: 0.34\n",
      "class num:  1 , class name: jellyfish    , confidence: 0.27\n",
      "class num:  1 , class name: jellyfish    , confidence: 0.27\n",
      "\n",
      "{class num : counts} = {1.0: 4} \n",
      "\n",
      "class num:  1 , class name: jellyfish    , confidence: 0.80\n",
      "class num:  1 , class name: jellyfish    , confidence: 0.77\n",
      "class num:  1 , class name: jellyfish    , confidence: 0.74\n",
      "class num:  1 , class name: jellyfish    , confidence: 0.61\n"
     ]
    }
   ],
   "source": [
    "import numpy as np\n",
    "\n",
    "for result in results:\n",
    "    uniq, cnt = np.unique(result.boxes.cls.cpu().numpy(), return_counts=True)  # Torch.Tensor -> numpy\n",
    "    uniq_cnt_dict = dict(zip(uniq, cnt))\n",
    "\n",
    "    print('\\n{class num : counts} =', uniq_cnt_dict,'\\n')\n",
    "\n",
    "    for i, c in enumerate(result.boxes.cls):\n",
    "        class_id = int(c)\n",
    "        class_name = result.names[class_id]\n",
    "        confidence_score = result.boxes.conf[i]  # 예측 확률\n",
    "        print(f'class num: {class_id:>2} , class name: {class_name :<13}, confidence: {confidence_score:.2f}')"
   ]
  },
  {
   "cell_type": "code",
   "execution_count": null,
   "metadata": {
    "id": "dqHEC1tU-gdR"
   },
   "outputs": [],
   "source": [
    "# 테스트 이미지 모두 예측 결과 이미지로 나타내기\n",
    "from PIL import Image\n",
    "from IPython.display import display\n",
    "import os\n",
    "\n",
    "# 이미지가 저장된 폴더 경로\n",
    "image_dir = ...    # ... code here\n",
    "\n",
    "# 폴더 내의 모든 파일을 순회\n",
    "...    # ... code here\n",
    "\n"
   ]
  },
  {
   "cell_type": "markdown",
   "metadata": {
    "id": "99Ex5nU5F55F"
   },
   "source": [
    "## **6. 결과 다운로드**"
   ]
  },
  {
   "cell_type": "code",
   "execution_count": null,
   "metadata": {
    "colab": {
     "base_uri": "https://localhost:8080/"
    },
    "executionInfo": {
     "elapsed": 333,
     "status": "ok",
     "timestamp": 1713104552118,
     "user": {
      "displayName": "강희숙",
      "userId": "05520711596090317319"
     },
     "user_tz": -540
    },
    "id": "xHOOYeLAHSb_",
    "outputId": "d15078bf-0d5d-4a62-a16b-76da790b7eab"
   },
   "outputs": [
    {
     "name": "stdout",
     "output_type": "stream",
     "text": [
      "63\n",
      "['/content/runs/detect/train2/IMG_8590_MOV-5_jpg.rf.074e6d8acdd3fcad16d866c341b43769.jpg', '/content/runs/detect/train2/IMG_2582_jpeg_jpg.rf.14f175066ce74b470bf31fa0c7a096cd.jpg', '/content/runs/detect/train2/IMG_8331_jpg.rf.ec024bdf1e9de02b020b5e6505c1c58b.jpg', '/content/runs/detect/train2/IMG_2395_jpeg_jpg.rf.9f1503ad3b7a7c7938daed057cc4e9bc.jpg', '/content/runs/detect/train2/IMG_2514_jpeg_jpg.rf.6ccb3859d75fc5cfe053b1c1474254b2.jpg', '/content/runs/detect/train2/IMG_3164_jpeg_jpg.rf.06637eee0b72df791aa729807ca45c4d.jpg', '/content/runs/detect/train2/IMG_8515_jpg.rf.98a9daca7c5a5bad9872bd7fb2d4f198.jpg', '/content/runs/detect/train2/IMG_2547_jpeg_jpg.rf.9406b6f1a9fad2292c4abd28f712baaf.jpg', '/content/runs/detect/train2/IMG_2448_jpeg_jpg.rf.28ce79dab47ad525751d5407be09bc3d.jpg', '/content/runs/detect/train2/IMG_2347_jpeg_jpg.rf.7c71ac4b9301eb358cd4a832844dedcb.jpg', '/content/runs/detect/train2/IMG_8497_MOV-5_jpg.rf.3deffb208d656b7845661c5e33dd1afb.jpg', '/content/runs/detect/train2/IMG_8396_jpg.rf.106a6ced5c649ea81f0de8ecaa4ff3b8.jpg', '/content/runs/detect/train2/IMG_8395_jpg.rf.3bebece033961c9f665571644a14261f.jpg', '/content/runs/detect/train2/IMG_8513_MOV-0_jpg.rf.2a2f77e3f73630b60aaf6ad3ca4ed130.jpg', '/content/runs/detect/train2/IMG_8490_jpg.rf.1836542cf054c6d303a2dd05d4194d7f.jpg', '/content/runs/detect/train2/IMG_2496_jpeg_jpg.rf.3f91e7f18502074c89fa720a11926fab.jpg', '/content/runs/detect/train2/IMG_3154_jpeg_jpg.rf.5f429a366c02d38bc9e2217f4508c3e0.jpg', '/content/runs/detect/train2/IMG_3134_jpeg_jpg.rf.50750ca778773042a3c46a1d3e480132.jpg', '/content/runs/detect/train2/IMG_2354_jpeg_jpg.rf.396e872c7fb0a95e911806986995ee7a.jpg', '/content/runs/detect/train2/IMG_2319_jpeg_jpg.rf.6e20bf97d17b74a8948aa48776c40454.jpg', '/content/runs/detect/train2/IMG_2470_jpeg_jpg.rf.75b359c8baa6866bfecf07a0e4e8c33d.jpg', '/content/runs/detect/train2/IMG_2532_jpeg_jpg.rf.2afeb76e5d9372dbbd6fbc53d5b75675.jpg', '/content/runs/detect/train2/IMG_2588_jpeg_jpg.rf.cb9cea8f05891cfd55a3e93f2908201f.jpg', '/content/runs/detect/train2/IMG_3144_jpeg_jpg.rf.f29a36360174dc83ecef93275ed8f02e.jpg', '/content/runs/detect/train2/IMG_2630_jpeg_jpg.rf.310f0c986a72be46b80ce31c2d00e46d.jpg', '/content/runs/detect/train2/IMG_2632_jpeg_jpg.rf.f44037edca490b16cbf06427e28ea946.jpg', '/content/runs/detect/train2/IMG_3175_jpeg_jpg.rf.686c7d36e049eea974a363e99bf0bee0.jpg', '/content/runs/detect/train2/IMG_8420_jpg.rf.31f1d5f1440e48ccf1dee988b565911b.jpg', '/content/runs/detect/train2/IMG_2477_jpeg_jpg.rf.7b2692f142d53c16ad477065f1f8ae6d.jpg', '/content/runs/detect/train2/IMG_2574_jpeg_jpg.rf.ca0c3ad32384309a61e92d9a8bef87b9.jpg', '/content/runs/detect/train2/IMG_2380_jpeg_jpg.rf.a23809682eb1466c1136ca0f55de8fb5.jpg', '/content/runs/detect/train2/IMG_2379_jpeg_jpg.rf.7dc3160c937072d26d4624c6c48e904d.jpg', '/content/runs/detect/train2/IMG_2570_jpeg_jpg.rf.ed40900b657a5b23d92cb2d296ad2dbc.jpg', '/content/runs/detect/train2/IMG_8343_jpg.rf.2d88000497d74d72aedc118b125a0c07.jpg', '/content/runs/detect/train2/IMG_2371_jpeg_jpg.rf.54505f60b6706da151c164188c305849.jpg', '/content/runs/detect/train2/IMG_2434_jpeg_jpg.rf.8b20d3270d4fbc497c64125273f46ecb.jpg', '/content/runs/detect/train2/IMG_8582_MOV-3_jpg.rf.c7dde0639837077f76428d70223368a4.jpg', '/content/runs/detect/train2/IMG_2468_jpeg_jpg.rf.c933cc14c99b11a90413a1490d4556db.jpg', '/content/runs/detect/train2/IMG_2466_jpeg_jpg.rf.53886abb9947ec4e47405957b30fe314.jpg', '/content/runs/detect/train2/IMG_3173_jpeg_jpg.rf.6f05acaa0b22d410a5df3ea3286e227d.jpg', '/content/runs/detect/train2/IMG_3136_jpeg_jpg.rf.0d8fef73d4cc5e1c35ce424444d9e44b.jpg', '/content/runs/detect/train2/IMG_3129_jpeg_jpg.rf.90c472dcdf9b6713ec767cc97560ceca.jpg', '/content/runs/detect/train2/IMG_8497_MOV-0_jpg.rf.5c59bd1bf7d8fd7a20999d51a79a12c0.jpg', '/content/runs/detect/train2/IMG_2473_jpeg_jpg.rf.6284677f9c781b0cfeec54981a17d573.jpg', '/content/runs/detect/train2/IMG_8404_jpg.rf.265b89e862a375f6b89f781ea60ed480.jpg', '/content/runs/detect/train2/IMG_8595_MOV-0_jpg.rf.312ab0b8b9fca18134aee88044f45a06.jpg', '/content/runs/detect/train2/IMG_2651_jpeg_jpg.rf.84b3930aa80b610cc97bf1c176763940.jpg', '/content/runs/detect/train2/IMG_2289_jpeg_jpg.rf.fe2a7a149e7b11f2313f5a7b30386e85.jpg', '/content/runs/detect/train2/IMG_8582_MOV-0_jpg.rf.aa8304d7a5112d63c8841d96160d42cd.jpg', '/content/runs/detect/train2/IMG_8452_jpg.rf.6bbff701ab93e29553b3a70137fd4e66.jpg', '/content/runs/detect/train2/IMG_2450_jpeg_jpg.rf.ff673921373de3bfc275863e3befeefe.jpg', '/content/runs/detect/train2/IMG_2301_jpeg_jpg.rf.2c19ae5efbd1f8611b5578125f001695.jpg', '/content/runs/detect/train2/IMG_8599_MOV-3_jpg.rf.412ebb16ea80e964b4464c50e757df0e.jpg', '/content/runs/detect/train2/IMG_2446_jpeg_jpg.rf.06ee05e92df8e3c33073147d8f595211.jpg', '/content/runs/detect/train2/IMG_2526_jpeg_jpg.rf.003e1d1d41bcd204df731b85cea68781.jpg', '/content/runs/detect/train2/IMG_8497_MOV-3_jpg.rf.fd813e14681c8b41e709a500748ce46a.jpg', '/content/runs/detect/train2/IMG_2387_jpeg_jpg.rf.09b38bacfab0922a3a6b66480f01b719.jpg', '/content/runs/detect/train2/IMG_8590_MOV-2_jpg.rf.2136fdb5dcbcd58a1dc456bb3e5bf476.jpg', '/content/runs/detect/train2/IMG_8582_MOV-5_jpg.rf.9d7a26fbf145ce39ab0831b4e6bc1f1e.jpg', '/content/runs/detect/train2/IMG_2544_jpeg_jpg.rf.03f51bb9e1c57fb9cd62f8cbdca14e90.jpg', '/content/runs/detect/train2/IMG_2465_jpeg_jpg.rf.7e699ec1d2e373d93dac32cd02db9438.jpg', '/content/runs/detect/train2/IMG_2499_jpeg_jpg.rf.6cbab3719b9063388b5ab3ab826d7bd3.jpg', '/content/runs/detect/train2/IMG_2423_jpeg_jpg.rf.1c0901882e71d5ebd26f036f4e22da65.jpg']\n"
     ]
    }
   ],
   "source": [
    "import glob\n",
    "\n",
    "detetced_image_list = glob.glob(('/content/runs/detect/train2/*'))\n",
    "detected_image_nums = len(detetced_image_list)\n",
    "\n",
    "print(detected_image_nums)\n",
    "print(detetced_image_list)"
   ]
  },
  {
   "cell_type": "code",
   "execution_count": null,
   "metadata": {
    "colab": {
     "base_uri": "https://localhost:8080/"
    },
    "executionInfo": {
     "elapsed": 373,
     "status": "ok",
     "timestamp": 1713104554453,
     "user": {
      "displayName": "강희숙",
      "userId": "05520711596090317319"
     },
     "user_tz": -540
    },
    "id": "wYFPNzfMSOyt",
    "outputId": "5ec68502-6c85-4680-f377-4781919c1cfc"
   },
   "outputs": [
    {
     "name": "stdout",
     "output_type": "stream",
     "text": [
      "detected_result dir is created !!!\n"
     ]
    }
   ],
   "source": [
    "# 다운로드를 위한 inference image 압축\n",
    "\n",
    "import zipfile\n",
    "import os\n",
    "\n",
    "if not os.path.exists('/content/detected_result/'):\n",
    "    os.mkdir('/content/detected_result/')\n",
    "    print('detected_result dir is created !!!')\n",
    "\n",
    "with zipfile.ZipFile('/content/detected_result/detected_images.zip', 'w') as detected_images:\n",
    "\n",
    "    for idx in range(detected_image_nums):\n",
    "        detected_images.write(detetced_image_list[idx])"
   ]
  },
  {
   "cell_type": "markdown",
   "metadata": {
    "id": "na1BHNDGBxHS"
   },
   "source": [
    "## **CVAT** 을 사용하여 Object Detection을 위한 사용자 데이터셋 정의하기\n",
    "- CVAT : nnotation Platform\n",
    "- https://www.cvat.ai/ : Open Data\n"
   ]
  },
  {
   "cell_type": "markdown",
   "metadata": {
    "id": "_hdrua1HSIza"
   },
   "source": [
    "## **7.학습된 모델 내보내기**"
   ]
  },
  {
   "cell_type": "code",
   "execution_count": null,
   "metadata": {
    "id": "v9qSn1gCSWxS"
   },
   "outputs": [],
   "source": [
    "# 모델을 내보내기\n",
    "model.save('trained_yolov8n.pt')\n",
    "\n",
    "# 내보낸 모델을 로드하여 사용\n",
    "model = YOLO('trained_yolov8n.pt')"
   ]
  },
  {
   "cell_type": "markdown",
   "metadata": {
    "id": "5A90pOnjSe_8"
   },
   "source": [
    "## 8. 테스트 이미지로 테스트 또는 웹캠 이용해 실시간 추론하기 - colab에서 작동안됨\n",
    "- pc로 모델을 내보내고 저장된 모델을 로드하여 비디오에서 실시간 감지"
   ]
  },
  {
   "cell_type": "code",
   "execution_count": null,
   "metadata": {
    "id": "rxn1pNdNSbIO"
   },
   "outputs": [],
   "source": [
    "# 이미지에 대한 추론 수행\n",
    "results = model('test_image.jpg')\n",
    "print(results.pandas().xyxy[0])  # 추론 결과 출력"
   ]
  },
  {
   "cell_type": "code",
   "execution_count": null,
   "metadata": {
    "id": "xiXvfIfnSlMS"
   },
   "outputs": [],
   "source": [
    "# 학습된 모델을 로드합니다.\n",
    "model = YOLO('trained_yolov8n.pt')\n",
    "\n",
    "# 웹캠 초기화\n",
    "cap = cv2.VideoCapture(0)\n",
    "\n",
    "while True:\n",
    "    ret, frame = cap.read()\n",
    "    if not ret:\n",
    "        break\n",
    "\n",
    "    # 모델을 사용하여 프레임에서 객체 감지\n",
    "    results = model(frame)\n",
    "\n",
    "    # 결과를 프레임에 그리기\n",
    "    annotated_frame = results.render()[0]\n",
    "\n",
    "    # 화면에 표시\n",
    "    cv2.imshow(\"YOLOv8 Real-Time Detection\", annotated_frame)\n",
    "    if cv2.waitKey(1) & 0xFF == ord('q'):\n",
    "        break\n",
    "\n",
    "cap.release()\n",
    "cv2.destroyAllWindows()"
   ]
  }
 ],
 "metadata": {
  "accelerator": "GPU",
  "colab": {
   "gpuType": "T4",
   "provenance": []
  },
  "kernelspec": {
   "display_name": "torch-gpu",
   "language": "python",
   "name": "python3"
  },
  "language_info": {
   "codemirror_mode": {
    "name": "ipython",
    "version": 3
   },
   "file_extension": ".py",
   "mimetype": "text/x-python",
   "name": "python",
   "nbconvert_exporter": "python",
   "pygments_lexer": "ipython3",
   "version": "3.10.16"
  }
 },
 "nbformat": 4,
 "nbformat_minor": 0
}
