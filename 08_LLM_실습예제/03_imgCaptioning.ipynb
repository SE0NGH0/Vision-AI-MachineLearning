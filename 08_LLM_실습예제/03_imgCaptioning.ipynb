{
 "cells": [
  {
   "cell_type": "code",
   "execution_count": 1,
   "metadata": {},
   "outputs": [],
   "source": [
    "import base64\n",
    "from PIL import Image\n",
    "from io import BytesIO\n",
    "from openai import OpenAI\n",
    "from dotenv import load_dotenv\n",
    "import os\n",
    "\n",
    "load_dotenv()\n",
    "api_key = os.getenv(\"OPENAI_API_KEY\")"
   ]
  },
  {
   "cell_type": "code",
   "execution_count": 2,
   "metadata": {},
   "outputs": [],
   "source": [
    "def encode_image(image):\n",
    "    buffered = BytesIO()\n",
    "    w,h = image.size\n",
    "    if w>512 or h>512:\n",
    "        scale = 512 / max(w,h)\n",
    "    else:\n",
    "        scale = 1.0\n",
    "    resize_im = image.resize((int(w*scale),int(h*scale)))\n",
    "    resize_im.save(buffered, format=\"JPEG\")\n",
    "    img_str = base64.b64encode(buffered.getvalue()).decode('utf-8')\n",
    "    return img_str"
   ]
  },
  {
   "cell_type": "code",
   "execution_count": 3,
   "metadata": {},
   "outputs": [],
   "source": [
    "# 이미지와 프롬프트를 받아서 OpenAI API에 요청을 보내는 함수\n",
    "def img_captioning(prompt, image):\n",
    "    \n",
    "    client = OpenAI(api_key=api_key)\n",
    "    response = client.chat.completions.create(\n",
    "        model='gpt-4o',\n",
    "        messages=[\n",
    "            {\n",
    "                \"role\": \"user\",\n",
    "                \"content\":[\n",
    "                    {\n",
    "                        \"type\": \"image_url\",\n",
    "                        \"image_url\": {\n",
    "                            \"url\": f\"data:image/jpeg;base64,{encode_image(image)}\"\n",
    "                        }\n",
    "                    },\n",
    "                    {\n",
    "                        \"type\": \"text\",\n",
    "                        \"text\": prompt\n",
    "                    }\n",
    "                ]\n",
    "            }\n",
    "        ]\n",
    "    )\n",
    "    return response.choices[0].message.content\n"
   ]
  },
  {
   "cell_type": "code",
   "execution_count": 4,
   "metadata": {},
   "outputs": [
    {
     "name": "stdout",
     "output_type": "stream",
     "text": [
      "파란색 유니폼을 입은 선수는 공을 가로채기 위해 슬라이딩 태클을 시도하고 있습니다.   \n",
      "이 동작은 상대 선수의 공 소유를 방해하려는 의도입니다.   \n",
      "슬라이딩 태클 이후, 파란색 유니폼 선수는 공을 소유하려고 할 것입니다.   \n",
      "상대편은 이를 피하거나 넘어지지 않으려는 시도를 할 수 있습니다.  \n",
      "게임은 이 상황의 결과에 따라 계속 진행될 것입니다.\n"
     ]
    }
   ],
   "source": [
    "prompt1 = f\"\"\"\n",
    "영상에서 무슨 일이 일어나고 있는지 설명해줘.\n",
    "빨간색 유니폼을 입은 선수들의 동작에 집중해서 각각 어떻게 움직이고 있는지 설명해줘.\n",
    "한 줄에 한문장씩 출력해줘.\n",
    "\"\"\"\n",
    "\n",
    "prompt2 = f\"\"\"\n",
    "영상에서 무슨 일이 일어나고 있는지 설명해줘.\n",
    "파란색 유니폼을 입은 선수의 동작에 집중해서 왜 저런 동작을 했고 앞으로 무슨일이 일어날지 포함해서 설명해줘.\n",
    "한 줄에 한문장씩 출력해줘.\n",
    "\"\"\"\n",
    "\n",
    "img = Image.open('images/06.jpg')\n",
    "response = img_captioning(prompt2, img)\n",
    "print(response)\n",
    "\n"
   ]
  },
  {
   "cell_type": "code",
   "execution_count": null,
   "metadata": {},
   "outputs": [],
   "source": []
  }
 ],
 "metadata": {
  "kernelspec": {
   "display_name": "llm_img",
   "language": "python",
   "name": "python3"
  },
  "language_info": {
   "codemirror_mode": {
    "name": "ipython",
    "version": 3
   },
   "file_extension": ".py",
   "mimetype": "text/x-python",
   "name": "python",
   "nbconvert_exporter": "python",
   "pygments_lexer": "ipython3",
   "version": "3.10.16"
  }
 },
 "nbformat": 4,
 "nbformat_minor": 2
}
